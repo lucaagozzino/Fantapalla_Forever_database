{
 "cells": [
  {
   "cell_type": "code",
   "execution_count": 1,
   "metadata": {},
   "outputs": [],
   "source": [
    "import numpy as np\n",
    "import pandas as pd\n",
    "from Utilities_fantapalla import main_model, names\n",
    "\n",
    "quotazioni = pd.read_csv ('Quotazioni_Fantacalcio.csv')\n",
    "\n",
    "#test 1"
   ]
  },
  {
   "cell_type": "code",
   "execution_count": 2,
   "metadata": {},
   "outputs": [
    {
     "data": {
      "text/plain": [
       "['Team 1',\n",
       " 'Team 2',\n",
       " 'Team 3',\n",
       " 'Team 4',\n",
       " 'Team 5',\n",
       " 'Team 6',\n",
       " 'Team 7',\n",
       " 'Team 8']"
      ]
     },
     "execution_count": 2,
     "metadata": {},
     "output_type": "execute_result"
    }
   ],
   "source": [
    "struttura_rosa = np.array([3, 8, 8, 6])\n",
    "#this must contain all the allowed schemes\n",
    "\n",
    "formazioni = {\n",
    "    '352': [1, 3, 5, 2],\n",
    "    '343': [1, 3, 4, 3],\n",
    "    '442': [1, 4, 4, 2],\n",
    "    '541': [1, 5, 4, 1],\n",
    "    '532': [1, 5, 3, 2],\n",
    "    '433': [1, 4, 3, 3]\n",
    "    #aggiungere tutte le altre formazioni\n",
    "}\n",
    "fasce_goal = np.array([66,  70,  84,  88,  92,  96, 100])\n",
    "fasce_modificatore = np.array([6. , 6.5, 7. , 7.5, 8. ])\n",
    "valori_modificatore = np.array([1, 3, 5, 6, 8])\n",
    "rows_to_skip=[0,1,2,3,4]\n",
    "\n",
    "N_squadre = 8\n",
    "\n",
    "[teams, team_names] = names(N_squadre)\n",
    "team_names"
   ]
  },
  {
   "cell_type": "code",
   "execution_count": 3,
   "metadata": {},
   "outputs": [
    {
     "ename": "NameError",
     "evalue": "name 'team_names' is not defined",
     "output_type": "error",
     "traceback": [
      "\u001b[0;31m---------------------------------------------------------------------------\u001b[0m",
      "\u001b[0;31mNameError\u001b[0m                                 Traceback (most recent call last)",
      "\u001b[0;32m<ipython-input-3-090f3cc3f880>\u001b[0m in \u001b[0;36m<module>\u001b[0;34m\u001b[0m\n\u001b[0;32m----> 1\u001b[0;31m \u001b[0mrose_best\u001b[0m\u001b[0;34m,\u001b[0m \u001b[0mclassifica_best\u001b[0m\u001b[0;34m,\u001b[0m \u001b[0mclassifica_q_best\u001b[0m \u001b[0;34m=\u001b[0m \u001b[0mmain_model\u001b[0m\u001b[0;34m(\u001b[0m\u001b[0;36m1\u001b[0m\u001b[0;34m,\u001b[0m \u001b[0mstruttura_rosa\u001b[0m\u001b[0;34m,\u001b[0m \u001b[0mteam_names\u001b[0m\u001b[0;34m,\u001b[0m \u001b[0mteams\u001b[0m\u001b[0;34m,\u001b[0m \u001b[0mquotazioni\u001b[0m\u001b[0;34m,\u001b[0m \u001b[0mpath\u001b[0m \u001b[0;34m=\u001b[0m \u001b[0;34m'/Voti_giornata'\u001b[0m\u001b[0;34m,\u001b[0m \u001b[0mnum_squadre\u001b[0m \u001b[0;34m=\u001b[0m \u001b[0mN_squadre\u001b[0m\u001b[0;34m)\u001b[0m\u001b[0;34m\u001b[0m\u001b[0;34m\u001b[0m\u001b[0m\n\u001b[0m",
      "\u001b[0;32m~/Desktop/Fantacalcio/Utilities_fantapalla.py\u001b[0m in \u001b[0;36mmain_model\u001b[0;34m(n_campionati, struttura_rosa, team_names, teams, quotazioni, path, num_squadre)\u001b[0m\n\u001b[1;32m    317\u001b[0m         \u001b[0mclassifica\u001b[0m\u001b[0;34m,\u001b[0m \u001b[0mrose\u001b[0m\u001b[0;34m,\u001b[0m \u001b[0mrose_id\u001b[0m\u001b[0;34m=\u001b[0m \u001b[0msimula_campionato\u001b[0m\u001b[0;34m(\u001b[0m\u001b[0mstruttura_rosa\u001b[0m\u001b[0;34m,\u001b[0m \u001b[0mteam_names\u001b[0m\u001b[0;34m,\u001b[0m \u001b[0mteams\u001b[0m\u001b[0;34m,\u001b[0m \u001b[0mquotazioni\u001b[0m\u001b[0;34m,\u001b[0m \u001b[0mpath\u001b[0m\u001b[0;34m,\u001b[0m \u001b[0mnum_squadre\u001b[0m\u001b[0;34m)\u001b[0m\u001b[0;34m\u001b[0m\u001b[0;34m\u001b[0m\u001b[0m\n\u001b[1;32m    318\u001b[0m         \u001b[0mquot_dict\u001b[0m \u001b[0;34m=\u001b[0m \u001b[0mall_quot_dict\u001b[0m\u001b[0;34m(\u001b[0m\u001b[0mstruttura_rosa\u001b[0m\u001b[0;34m,\u001b[0m \u001b[0mquotazioni\u001b[0m\u001b[0;34m,\u001b[0m \u001b[0mnum_squadre\u001b[0m\u001b[0;34m)\u001b[0m\u001b[0;34m\u001b[0m\u001b[0;34m\u001b[0m\u001b[0m\n\u001b[0;32m--> 319\u001b[0;31m         \u001b[0mclassifica_quot\u001b[0m \u001b[0;34m=\u001b[0m \u001b[0massign_quot\u001b[0m\u001b[0;34m(\u001b[0m\u001b[0mrose_id\u001b[0m\u001b[0;34m,\u001b[0m \u001b[0mquot_dict\u001b[0m\u001b[0;34m)\u001b[0m\u001b[0;34m\u001b[0m\u001b[0;34m\u001b[0m\u001b[0m\n\u001b[0m\u001b[1;32m    320\u001b[0m         \u001b[0mrange_temp\u001b[0m \u001b[0;34m=\u001b[0m \u001b[0mnp\u001b[0m\u001b[0;34m.\u001b[0m\u001b[0mfloat\u001b[0m\u001b[0;34m(\u001b[0m\u001b[0mclassifica\u001b[0m\u001b[0;34m.\u001b[0m\u001b[0mmax\u001b[0m\u001b[0;34m(\u001b[0m\u001b[0;34m)\u001b[0m \u001b[0;34m-\u001b[0m \u001b[0mclassifica\u001b[0m\u001b[0;34m.\u001b[0m\u001b[0mmin\u001b[0m\u001b[0;34m(\u001b[0m\u001b[0;34m)\u001b[0m\u001b[0;34m)\u001b[0m\u001b[0;34m\u001b[0m\u001b[0;34m\u001b[0m\u001b[0m\n\u001b[1;32m    321\u001b[0m         \u001b[0mq_range_temp\u001b[0m \u001b[0;34m=\u001b[0m \u001b[0mnp\u001b[0m\u001b[0;34m.\u001b[0m\u001b[0mfloat\u001b[0m\u001b[0;34m(\u001b[0m\u001b[0mclassifica_quot\u001b[0m\u001b[0;34m.\u001b[0m\u001b[0mmax\u001b[0m\u001b[0;34m(\u001b[0m\u001b[0;34m)\u001b[0m \u001b[0;34m-\u001b[0m \u001b[0mclassifica_quot\u001b[0m\u001b[0;34m.\u001b[0m\u001b[0mmin\u001b[0m\u001b[0;34m(\u001b[0m\u001b[0;34m)\u001b[0m\u001b[0;34m)\u001b[0m\u001b[0;34m\u001b[0m\u001b[0;34m\u001b[0m\u001b[0m\n",
      "\u001b[0;32m~/Desktop/Fantacalcio/Utilities_fantapalla.py\u001b[0m in \u001b[0;36massign_quot\u001b[0;34m(rose, quot_dict)\u001b[0m\n\u001b[1;32m    275\u001b[0m             \u001b[0;32mif\u001b[0m \u001b[0mrose\u001b[0m\u001b[0;34m[\u001b[0m\u001b[0mi\u001b[0m\u001b[0;34m,\u001b[0m\u001b[0mj\u001b[0m\u001b[0;34m]\u001b[0m \u001b[0;32min\u001b[0m \u001b[0mquot_dict\u001b[0m\u001b[0;34m:\u001b[0m\u001b[0;34m\u001b[0m\u001b[0;34m\u001b[0m\u001b[0m\n\u001b[1;32m    276\u001b[0m                 \u001b[0mquot\u001b[0m\u001b[0;34m[\u001b[0m\u001b[0mi\u001b[0m\u001b[0;34m,\u001b[0m\u001b[0mj\u001b[0m\u001b[0;34m]\u001b[0m \u001b[0;34m=\u001b[0m  \u001b[0mquot_dict\u001b[0m\u001b[0;34m[\u001b[0m\u001b[0mrose\u001b[0m\u001b[0;34m[\u001b[0m\u001b[0mi\u001b[0m\u001b[0;34m,\u001b[0m\u001b[0mj\u001b[0m\u001b[0;34m]\u001b[0m\u001b[0;34m]\u001b[0m\u001b[0;34m\u001b[0m\u001b[0;34m\u001b[0m\u001b[0m\n\u001b[0;32m--> 277\u001b[0;31m     \u001b[0mquot_tot\u001b[0m \u001b[0;34m=\u001b[0m \u001b[0mpd\u001b[0m\u001b[0;34m.\u001b[0m\u001b[0mDataFrame\u001b[0m\u001b[0;34m(\u001b[0m\u001b[0mdata\u001b[0m\u001b[0;34m=\u001b[0m\u001b[0mnp\u001b[0m\u001b[0;34m.\u001b[0m\u001b[0msum\u001b[0m\u001b[0;34m(\u001b[0m\u001b[0mquot\u001b[0m\u001b[0;34m,\u001b[0m\u001b[0maxis\u001b[0m\u001b[0;34m=\u001b[0m\u001b[0;36m0\u001b[0m\u001b[0;34m,\u001b[0m\u001b[0mkeepdims\u001b[0m\u001b[0;34m=\u001b[0m\u001b[0;32mTrue\u001b[0m\u001b[0;34m)\u001b[0m\u001b[0;34m,\u001b[0m\u001b[0mcolumns\u001b[0m\u001b[0;34m=\u001b[0m\u001b[0mteam_names\u001b[0m\u001b[0;34m)\u001b[0m\u001b[0;34m.\u001b[0m\u001b[0mT\u001b[0m\u001b[0;34m\u001b[0m\u001b[0;34m\u001b[0m\u001b[0m\n\u001b[0m\u001b[1;32m    278\u001b[0m     \u001b[0;32mreturn\u001b[0m \u001b[0mquot_tot\u001b[0m\u001b[0;34m\u001b[0m\u001b[0;34m\u001b[0m\u001b[0m\n\u001b[1;32m    279\u001b[0m \u001b[0;34m\u001b[0m\u001b[0m\n",
      "\u001b[0;31mNameError\u001b[0m: name 'team_names' is not defined"
     ]
    }
   ],
   "source": [
    "rose_best, classifica_best, classifica_q_best = main_model(1, struttura_rosa, team_names, teams, quotazioni, path = '/Voti_giornata', num_squadre = N_squadre)\n"
   ]
  },
  {
   "cell_type": "code",
   "execution_count": null,
   "metadata": {},
   "outputs": [],
   "source": [
    "rose_best"
   ]
  },
  {
   "cell_type": "code",
   "execution_count": null,
   "metadata": {},
   "outputs": [],
   "source": []
  }
 ],
 "metadata": {
  "kernelspec": {
   "display_name": "Python 3",
   "language": "python",
   "name": "python3"
  },
  "language_info": {
   "codemirror_mode": {
    "name": "ipython",
    "version": 3
   },
   "file_extension": ".py",
   "mimetype": "text/x-python",
   "name": "python",
   "nbconvert_exporter": "python",
   "pygments_lexer": "ipython3",
   "version": "3.7.6"
  }
 },
 "nbformat": 4,
 "nbformat_minor": 4
}
