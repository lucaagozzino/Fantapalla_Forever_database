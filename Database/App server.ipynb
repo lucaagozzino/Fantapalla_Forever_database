{
 "cells": [
  {
   "cell_type": "code",
   "execution_count": 67,
   "metadata": {},
   "outputs": [],
   "source": [
    "import anvil.server\n",
    "\n",
    "anvil.server.connect(\"PLPREEFX77QBTZXIMMGXT5S5-LLZOQE4RLL7KOL6G\")"
   ]
  },
  {
   "cell_type": "code",
   "execution_count": 68,
   "metadata": {},
   "outputs": [],
   "source": [
    "# Importing all the utilities\n",
    "from utilities_stats import *\n",
    "\n",
    "#Setting the total number of matchdays in the season\n",
    "tot_giornate = 35\n",
    "\n",
    "# setting useful parameters\n",
    "Teams, Logos, parameters, Results_0, goal_marks = set_par()\n",
    "giornate = current_matchday()\n",
    "\n",
    "# filling individual dataframes and conditional display\n",
    "Results = fill_dataframe_partita(Results_0, giornate, parameters, goal_marks, Teams, Print = False)\n",
    "\n",
    "# saving cumulative statistical data\n",
    "pf_med, pf_std, ps_med, ps_std, gf_med, gf_std = cumulative_data(Results, giornate, Print = False)\n",
    "\n",
    "# Building cumulative dataframe\n",
    "Total = make_Total_df(Results, giornate, goal_marks)\n",
    "Tot_per_round = partial_totals(Results, giornate, tot_giornate, goal_marks)\n",
    "#Total.head(10)"
   ]
  },
  {
   "cell_type": "code",
   "execution_count": 115,
   "metadata": {},
   "outputs": [],
   "source": [
    "import json\n",
    "from pymongo import MongoClient\n",
    "from pprint import pprint\n",
    "import pymongo\n",
    "\n",
    "\n",
    "\n",
    "with open('credential.json','r') as f:\n",
    "    cred = json.load(f)\n",
    "    \n",
    "    \n",
    "cluster = MongoClient(cred['cred'])\n",
    "# choosing database\n",
    "db = cluster[\"Game\"]\n",
    "# choosing collection\n",
    "collection = db[\"Players\"]\n",
    "collection_man = db['Managers']\n",
    "collection_tr = db['Transfers']"
   ]
  },
  {
   "cell_type": "code",
   "execution_count": 70,
   "metadata": {},
   "outputs": [],
   "source": [
    "@anvil.server.callable\n",
    "\n",
    "def test_funct(owner, squad):\n",
    "    owner = owner.lower()\n",
    "    squad = squad.lower()\n",
    "    players = []\n",
    "    roles = []\n",
    "    loan = []\n",
    "    posts = collection.find({'info.current_team.owner': owner,'info.current_team.squad': squad})\n",
    "    for player in posts:\n",
    "        players.append(player['name'])\n",
    "        roles.append(player['info']['personal_info']['FC_role'])\n",
    "        temp = ''\n",
    "        if player['info']['current_team']['on_loan']:\n",
    "            temp = 'on loan'\n",
    "        loan.append(temp)\n",
    "    return players, roles, loan"
   ]
  },
  {
   "cell_type": "code",
   "execution_count": 71,
   "metadata": {},
   "outputs": [],
   "source": [
    "#premio_plot(Results, giornate, Teams, Logos, premio = 'Porta Violata')"
   ]
  },
  {
   "cell_type": "code",
   "execution_count": 72,
   "metadata": {},
   "outputs": [],
   "source": [
    "@anvil.server.callable\n",
    "\n",
    "def man_data(owner):\n",
    "    owner = owner.lower()\n",
    "    dic = collection_man.find_one({'owner': owner})\n",
    "    dic['main_value'] = 0\n",
    "    dic['prim_value'] = 0\n",
    "    for pl in collection.find({'info.current_team.owner': owner,'info.current_team.squad': 'main'}):\n",
    "        dic['main_value'] += pl['info']['stats']['Qt_A']\n",
    "    for pl in collection.find({'info.current_team.owner': owner,'info.current_team.squad': 'primavera'}):\n",
    "        dic['prim_value'] += pl['info']['stats']['Qt_A']\n",
    "    return dic"
   ]
  },
  {
   "cell_type": "code",
   "execution_count": 97,
   "metadata": {},
   "outputs": [],
   "source": [
    "@anvil.server.callable\n",
    "def pl_names():\n",
    "    posts = collection.find({})\n",
    "    players = []\n",
    "    for post in posts:\n",
    "        players.append(post['name'])\n",
    "    return sorted(players)"
   ]
  },
  {
   "cell_type": "code",
   "execution_count": 106,
   "metadata": {},
   "outputs": [],
   "source": [
    "@anvil.server.callable\n",
    "def pl_info(name):\n",
    "    dic = collection.find_one({'name': name})\n",
    "    dic_stats = dic['info']['stats']\n",
    "    return dic, dic_stats"
   ]
  },
  {
   "cell_type": "code",
   "execution_count": 117,
   "metadata": {},
   "outputs": [
    {
     "data": {
      "text/plain": [
       "[{'_id': '20210101144439',\n",
       "  'name': 'BRUNO ALVES',\n",
       "  'operation': 'Svincolo',\n",
       "  'squad': None,\n",
       "  'date': '2021/01/01',\n",
       "  'quotation_to_date': 5,\n",
       "  'cost': 0},\n",
       " {'_id': '20210101144453',\n",
       "  'name': 'KARSDORP',\n",
       "  'operation': 'Promozione',\n",
       "  'squad': 'main',\n",
       "  'date': '2021/01/01',\n",
       "  'quotation_to_date': 9},\n",
       " {'_id': '20210101144502',\n",
       "  'name': 'ORSOLINI',\n",
       "  'operation': 'Promozione',\n",
       "  'squad': 'main',\n",
       "  'date': '2021/01/01',\n",
       "  'quotation_to_date': 17},\n",
       " {'_id': '20210101150421',\n",
       "  'name': 'RAFAEL',\n",
       "  'operation': 'Svincolo',\n",
       "  'squad': None,\n",
       "  'date': '2021/01/01',\n",
       "  'quotation_to_date': 2,\n",
       "  'cost': 0},\n",
       " {'_id': '20210101150509',\n",
       "  'name': 'RADU I.',\n",
       "  'operation': 'Promozione',\n",
       "  'squad': 'main',\n",
       "  'date': '2021/01/01',\n",
       "  'quotation_to_date': 1},\n",
       " {'_id': '20210102103927',\n",
       "  'name': 'PETAGNA',\n",
       "  'operation': 'Promozione',\n",
       "  'squad': 'main',\n",
       "  'date': '2021/01/02',\n",
       "  'quotation_to_date': 18},\n",
       " {'_id': '20210102103943',\n",
       "  'name': 'BONAVENTURA',\n",
       "  'operation': 'Svincolo',\n",
       "  'squad': None,\n",
       "  'date': '2021/01/02',\n",
       "  'quotation_to_date': 7,\n",
       "  'cost': 0},\n",
       " {'_id': '20210102103959',\n",
       "  'name': 'PESSINA',\n",
       "  'operation': 'Promozione',\n",
       "  'squad': 'main',\n",
       "  'date': '2021/01/02',\n",
       "  'quotation_to_date': 6}]"
      ]
     },
     "execution_count": 117,
     "metadata": {},
     "output_type": "execute_result"
    }
   ],
   "source": [
    "list(collection_tr.find({}))"
   ]
  },
  {
   "cell_type": "code",
   "execution_count": null,
   "metadata": {},
   "outputs": [],
   "source": []
  }
 ],
 "metadata": {
  "kernelspec": {
   "display_name": "Python 3",
   "language": "python",
   "name": "python3"
  },
  "language_info": {
   "codemirror_mode": {
    "name": "ipython",
    "version": 3
   },
   "file_extension": ".py",
   "mimetype": "text/x-python",
   "name": "python",
   "nbconvert_exporter": "python",
   "pygments_lexer": "ipython3",
   "version": "3.7.6"
  }
 },
 "nbformat": 4,
 "nbformat_minor": 4
}
