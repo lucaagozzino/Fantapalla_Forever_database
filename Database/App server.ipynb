{
 "cells": [
  {
   "cell_type": "code",
   "execution_count": 1,
   "metadata": {},
   "outputs": [
    {
     "name": "stdout",
     "output_type": "stream",
     "text": [
      "Connecting to wss://anvil.works/uplink\n",
      "Anvil websocket open\n",
      "Connected to \"Default environment (dev)\" as SERVER\n"
     ]
    }
   ],
   "source": [
    "import anvil.server\n",
    "\n",
    "anvil.server.connect(\"PLPREEFX77QBTZXIMMGXT5S5-LLZOQE4RLL7KOL6G\")"
   ]
  },
  {
   "cell_type": "code",
   "execution_count": 2,
   "metadata": {},
   "outputs": [],
   "source": [
    "# Importing all the utilities\n",
    "from utilities_stats import *\n",
    "\n",
    "from anvil import URLMedia\n",
    "import anvil.media\n",
    "\n",
    "#Setting the total number of matchdays in the season\n",
    "tot_giornate = 35\n",
    "\n",
    "# setting useful parameters\n",
    "Teams, Logos, parameters, Results_0, goal_marks = set_par()\n",
    "giornate = current_matchday()\n",
    "\n",
    "# filling individual dataframes and conditional display\n",
    "Results = fill_dataframe_partita(Results_0, giornate, parameters, goal_marks, Teams, Print = False)\n",
    "\n",
    "# saving cumulative statistical data\n",
    "pf_med, pf_std, ps_med, ps_std, gf_med, gf_std = cumulative_data(Results, giornate, Print = False)\n",
    "\n",
    "# Building cumulative dataframe\n",
    "Total = make_Total_df(Results, giornate, goal_marks)\n",
    "Tot_per_round = partial_totals(Results, giornate, tot_giornate, goal_marks)\n",
    "#Total.head(10)"
   ]
  },
  {
   "cell_type": "code",
   "execution_count": 3,
   "metadata": {},
   "outputs": [],
   "source": [
    "import json\n",
    "from pymongo import MongoClient\n",
    "from pprint import pprint\n",
    "import pymongo\n",
    "\n",
    "\n",
    "\n",
    "with open('credential.json','r') as f:\n",
    "    cred = json.load(f)\n",
    "    \n",
    "    \n",
    "cluster = MongoClient(cred['cred'])\n",
    "# choosing database\n",
    "db = cluster[\"Game\"]\n",
    "# choosing collection\n",
    "collection = db[\"Players\"]\n",
    "collection_man = db['Managers']\n",
    "collection_tr = db['Transfers']"
   ]
  },
  {
   "cell_type": "code",
   "execution_count": 4,
   "metadata": {},
   "outputs": [],
   "source": [
    "@anvil.server.callable\n",
    "\n",
    "def test_funct(owner, squad):\n",
    "    owner = owner.lower()\n",
    "    squad = squad.lower()\n",
    "    players = []\n",
    "    roles = []\n",
    "    loan = []\n",
    "    value_init = 0\n",
    "    value_now = 0\n",
    "    posts = collection.find({'info.current_team.owner': owner,'info.current_team.squad': squad})\n",
    "    for player in posts:\n",
    "        value_init += player['info']['current_team']['quotation_initial']\n",
    "        value_now += player['info']['stats']['Qt_A']\n",
    "        players.append(player['name'])\n",
    "        roles.append(player['info']['personal_info']['FC_role'])\n",
    "        temp = ''\n",
    "        if player['info']['current_team']['on_loan']:\n",
    "            temp = 'on loan'\n",
    "        loan.append(temp)\n",
    "    return players, roles, loan, value_init, value_now"
   ]
  },
  {
   "cell_type": "code",
   "execution_count": 5,
   "metadata": {},
   "outputs": [],
   "source": [
    "@anvil.server.callable\n",
    "\n",
    "def man_data(owner):\n",
    "    owner = owner.lower()\n",
    "    dic = collection_man.find_one({'owner': owner})\n",
    "    dic['main_value'] = 0\n",
    "    dic['prim_value'] = 0\n",
    "    for pl in collection.find({'info.current_team.owner': owner,'info.current_team.squad': 'main'}):\n",
    "        dic['main_value'] += pl['info']['stats']['Qt_A']\n",
    "    for pl in collection.find({'info.current_team.owner': owner,'info.current_team.squad': 'primavera'}):\n",
    "        dic['prim_value'] += pl['info']['stats']['Qt_A']\n",
    "    return dic"
   ]
  },
  {
   "cell_type": "code",
   "execution_count": 6,
   "metadata": {},
   "outputs": [],
   "source": [
    "@anvil.server.callable\n",
    "def pl_names():\n",
    "    posts = collection.find({})\n",
    "    players = []\n",
    "    for post in posts:\n",
    "        players.append(post['name'])\n",
    "    return sorted(players)"
   ]
  },
  {
   "cell_type": "code",
   "execution_count": 7,
   "metadata": {},
   "outputs": [],
   "source": [
    "@anvil.server.callable\n",
    "def pl_info(name):\n",
    "    dic = collection.find_one({'name': name})\n",
    "    dic_stats = dic['info']['stats']\n",
    "    \n",
    "    name_url = dic['name']\n",
    "    name_url = name_url.replace(' ','-')\n",
    "    name_url = name_url.replace('.','')\n",
    "    \n",
    "    card = URLMedia('https://content.fantacalcio.it/web/campioncini/card/'+name_url+'.jpg')\n",
    "    stats_link = 'https://www.fantacalcio.it/squadre/'+dic['info']['personal_info']['team_real']+'/'+name_url+'/'+str(dic['_id'])\n",
    "    \n",
    "    return dic, dic_stats, card, stats_link"
   ]
  },
  {
   "cell_type": "code",
   "execution_count": 8,
   "metadata": {},
   "outputs": [],
   "source": [
    "@anvil.server.callable\n",
    "def find_trans(name = False, operation = False, year = False, owner = False):\n",
    "    filt = {}\n",
    "    if name:\n",
    "        filt['name'] ={'$regex':''+name,'$options':'i'}\n",
    "    if operation:\n",
    "        filt['operation'] = operation\n",
    "    if year:\n",
    "        filt['date'] ={'$regex':'^'+str(year),'$options':'i'}\n",
    "    posts = []\n",
    "    for dic in collection_tr.find(filt):\n",
    "        owner = 'N/A'\n",
    "        if 'owner' in dic.keys():\n",
    "            owner = dic['owner']\n",
    "        elif 'new_owner' in dic.keys():\n",
    "            owner = dic['new_owner']\n",
    "        elif 'exch_owner' in dic.keys():\n",
    "            owner = dic['exch_owner']\n",
    "            \n",
    "        posts.append({'name': dic['name'],'operation':dic['operation'],'date':dic['date'], 'owner': owner})\n",
    "    \n",
    "    return posts"
   ]
  },
  {
   "cell_type": "code",
   "execution_count": 9,
   "metadata": {},
   "outputs": [],
   "source": [
    "@anvil.server.callable\n",
    "def find_players(name):\n",
    "    filt = {}\n",
    "    filt['name'] ={'$regex':''+name,'$options':'i'}\n",
    "    posts = []\n",
    "    for dic in collection.find(filt):\n",
    "            \n",
    "        posts.append(dic['name'])\n",
    "    \n",
    "    return posts"
   ]
  },
  {
   "cell_type": "code",
   "execution_count": 10,
   "metadata": {},
   "outputs": [],
   "source": [
    "@anvil.server.callable\n",
    "def load_plot_IG(plot):\n",
    "    premio_plot(Results, giornate, Teams, Logos, plot)\n",
    "    card = anvil.media.from_file('Plots/plot_'+ plot +'.png','image/png')\n",
    "    return card"
   ]
  },
  {
   "cell_type": "code",
   "execution_count": 11,
   "metadata": {},
   "outputs": [],
   "source": [
    "@anvil.server.callable\n",
    "def load_plot_C(plot):\n",
    "    fortuna_evo(Results, Teams, Tot_per_round)\n",
    "    C_factor_logos_2(Total, giornate, Teams, tot_giornate, Logos)\n",
    "    card = anvil.media.from_file('Plots/C_fact_'+ plot +'.png','image/png')\n",
    "    return card"
   ]
  },
  {
   "cell_type": "code",
   "execution_count": 12,
   "metadata": {},
   "outputs": [],
   "source": [
    "@anvil.server.callable\n",
    "def load_logo(name):\n",
    "    card = anvil.media.from_file('Plots/'+ name +'.png','image/png')\n",
    "    return card"
   ]
  },
  {
   "cell_type": "code",
   "execution_count": 16,
   "metadata": {},
   "outputs": [],
   "source": [
    "#fortuna_evo(Results, Teams, Tot_per_round)\n",
    "#C_factor_logos_2(Total, giornate, Teams, tot_giornate, Logos)\n",
    "#for premio in ['Caduti','Porta Violata','Catenaccio','Panchina Oro','Cartellino Facile']:\n",
    " #   premio_plot(Results, giornate, Teams, Logos, premio)"
   ]
  },
  {
   "cell_type": "code",
   "execution_count": null,
   "metadata": {},
   "outputs": [],
   "source": []
  },
  {
   "cell_type": "code",
   "execution_count": null,
   "metadata": {},
   "outputs": [],
   "source": []
  }
 ],
 "metadata": {
  "kernelspec": {
   "display_name": "Python 3",
   "language": "python",
   "name": "python3"
  },
  "language_info": {
   "codemirror_mode": {
    "name": "ipython",
    "version": 3
   },
   "file_extension": ".py",
   "mimetype": "text/x-python",
   "name": "python",
   "nbconvert_exporter": "python",
   "pygments_lexer": "ipython3",
   "version": "3.7.6"
  }
 },
 "nbformat": 4,
 "nbformat_minor": 4
}
