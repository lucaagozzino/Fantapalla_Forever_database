{
 "cells": [
  {
   "cell_type": "markdown",
   "metadata": {},
   "source": [
    "### The logic of the notebook\n",
    "\n",
    "In order to be able to perform multiple operations I have designed the system as follows:\n",
    "\n",
    "- first, I create the most basic function which just updates the owner of a player\n",
    "- then I defined the class transfer, with argument name of the player\n",
    "    - the class transfer can perform all market operations and then save database entries\n",
    "    - however, it is not convenient to save directly to the database, in case there are accidental mistakes\n",
    "- so I created another class called market session:\n",
    "    - first, you start a market session and create each transfer within the session using the inner class transfer\n",
    "    - when you are done with all the transfers, and are sure there are no mistakes you confirm the session\n",
    "    - if you notice a mistake you can cancel the session and the databases rest unchanged\n",
    "    \n",
    "    \n",
    "## OPEN QUESTIONS:\n",
    "\n",
    "- what is the cost for draft? I set it to 0 for now\n",
    "- is this the best way to define exchanges?\n",
    "- we could in principle include in the player's info last transfer operation's id, but it is enough to look at the most recent in the transfer db"
   ]
  },
  {
   "cell_type": "code",
   "execution_count": 52,
   "metadata": {},
   "outputs": [],
   "source": [
    "import pandas as pd\n",
    "import numpy as np\n",
    "import datetime\n",
    "from datetime import date\n",
    "import json\n",
    "import copy\n",
    "from pymongo import MongoClient\n",
    "from pprint import pprint\n",
    "import pymongo\n",
    "import datetime\n",
    "import ipywidgets as widgets\n",
    "from IPython.display import HTML, clear_output\n",
    "\n",
    "with open('credential.json','r') as f:\n",
    "    cred = json.load(f)\n",
    "\n",
    "cluster = MongoClient(cred['cred'])\n",
    "# choosing database\n",
    "db = cluster[\"Game\"]\n",
    "# choosing collection\n",
    "collection = db[\"Players\"]"
   ]
  },
  {
   "cell_type": "code",
   "execution_count": 2,
   "metadata": {},
   "outputs": [
    {
     "data": {
      "text/html": [
       "<script>\n",
       "code_show=true; \n",
       "function code_toggle() {\n",
       " if (code_show){\n",
       " $('div.input').hide();\n",
       " } else {\n",
       " $('div.input').show();\n",
       " }\n",
       " code_show = !code_show\n",
       "} \n",
       "$( document ).ready(code_toggle);\n",
       "</script>\n",
       "<form action=\"javascript:code_toggle()\"><input type=\"submit\" value=\"Click here to toggle on/off the raw code.\"></form>"
      ],
      "text/plain": [
       "<IPython.core.display.HTML object>"
      ]
     },
     "execution_count": 2,
     "metadata": {},
     "output_type": "execute_result"
    }
   ],
   "source": [
    "HTML('''<script>\n",
    "code_show=true; \n",
    "function code_toggle() {\n",
    " if (code_show){\n",
    " $('div.input').hide();\n",
    " } else {\n",
    " $('div.input').show();\n",
    " }\n",
    " code_show = !code_show\n",
    "} \n",
    "$( document ).ready(code_toggle);\n",
    "</script>\n",
    "<form action=\"javascript:code_toggle()\"><input type=\"submit\" value=\"Click here to toggle on/off the raw code.\"></form>''')"
   ]
  },
  {
   "cell_type": "code",
   "execution_count": 53,
   "metadata": {},
   "outputs": [],
   "source": [
    "\"\"\"\n",
    "Function documentation:\n",
    "This is the general function to update the owner of a player.\n",
    "Arguments:\n",
    "\n",
    "- new_owner: string, the new owner of the team (pietro, luca,...)\n",
    "- mode: string, the acquisition mode (Scambio, draft,...)\n",
    "- squad: assignment in the new team (main or primavera)\n",
    "- name/id: string, use one OR the other as a filter to query the database\n",
    "- time_stamp: boolean. True if you want to register the date of operation in the database\n",
    "- rest: details to access database, set to default values\n",
    "\n",
    "Note: I'm planning to use this function inside higher level functions, which is why I have the timestamp option, \n",
    "if you are doing tests there is no reason to update the date, but if you include this in a market operation function\n",
    "(for instance exchange players) you want to register this and the higher level function will also create the database entry\n",
    "\n",
    "\"\"\"\n",
    "\n",
    "def update_owner(new_owner, mode, squad, loan = False, move_up = False, name = False, Id = False, time_stamp = False, CR = cred['cred'], DB = 'Game', CO = 'Players'):\n",
    "    \n",
    "    cluster = MongoClient(CR)\n",
    "    db = cluster[DB]\n",
    "    collection = db[CO]\n",
    "    \n",
    "    today = date.today()\n",
    "    d1 = today.strftime(\"%Y/%m/%d\")\n",
    "    \n",
    "    if name:\n",
    "        filt = {'name': name}\n",
    "    elif Id:\n",
    "        filt = {'_id': str(Id)}\n",
    "    else:\n",
    "        print('Please enter name or Id argument')\n",
    "        \n",
    "        return None\n",
    "        \n",
    "    dic = collection.find_one(filt)\n",
    "    old_owner = dic['info']['contract']['owner'] #when database structure changes, Modify this and following accordingly\n",
    "    \n",
    "    if dic['info']['current_team']['owner'] is None:\n",
    "        old_team = None\n",
    "    else:\n",
    "        old_team = dic['info']['current_team']['owner'] +', ' + dic['info']['current_team']['squad']\n",
    "    \n",
    "    if loan:\n",
    "\n",
    "        collection.update_one(filt, {'$set':{'info.current_team.previous_team': old_team}}) \n",
    "        collection.update_one(filt, {'$set':{'info.current_team.owner': new_owner}})\n",
    "        collection.update_one(filt, {'$set':{'info.current_team.squad': squad}})\n",
    "        \n",
    "        \n",
    "        if True:\n",
    "            collection.update_one(filt, {'$set':{'info.current_team.start_date': d1}}) #\n",
    "            #print(\"Operation date: \")\n",
    "            return d1\n",
    "    \n",
    "    elif move_up:\n",
    "        \n",
    "        collection.update_one(filt, {'$set':{'info.current_team.previous_team': old_team}}) \n",
    "        collection.update_one(filt, {'$set':{'info.current_team.squad': squad}})\n",
    "        \n",
    "        if True:\n",
    "            collection.update_one(filt, {'$set':{'info.current_team.start_date': d1}}) #\n",
    "            #print(\"Operation date: \")\n",
    "            return d1\n",
    "        \n",
    "        \n",
    "    else:\n",
    "    \n",
    "        collection.update_one(filt, {'$set':{'info.contract.acquisition_mode': mode}})\n",
    "        collection.update_one(filt, {'$set':{'info.contract.previous_owner': old_owner}})\n",
    "        collection.update_one(filt, {'$set':{'info.contract.owner': new_owner}})\n",
    "\n",
    "        collection.update_one(filt, {'$set':{'info.current_team.previous_team': old_team}}) \n",
    "        collection.update_one(filt, {'$set':{'info.current_team.owner': new_owner}})\n",
    "        collection.update_one(filt, {'$set':{'info.current_team.squad': squad}})\n",
    "    \n",
    "        if True:\n",
    "            collection.update_one(filt, {'$set':{'info.contract.start_date': d1}})\n",
    "            collection.update_one(filt, {'$set':{'info.current_team.start_date': d1}}) #redundant\n",
    "            #print(\"Operation date: \")\n",
    "            return d1"
   ]
  },
  {
   "cell_type": "code",
   "execution_count": 54,
   "metadata": {},
   "outputs": [],
   "source": [
    "def update_Tr_DB(transfer_data, CR = cred['cred'], DB = 'Game', COT = 'Transfers'):\n",
    "    cluster = MongoClient(CR)\n",
    "    db = cluster[DB]\n",
    "    collection = db[COT]\n",
    "    \n",
    "    now = datetime.datetime.today()\n",
    "    Id = now.strftime(\"%Y%m%d%H%M%S\")\n",
    "    #d1 = now.strftime(\"%Y/%m/%d\")\n",
    "    \n",
    "    dic0 = transfer_data[0]\n",
    "    \n",
    "    if dic0['operation'] in ['Asta', 'Draft', 'Acquisto', 'Prestito', 'Fine Prestito', 'Promozione']:\n",
    "        dic0['_id'] = Id\n",
    "        #dic0['date'] = d1\n",
    "        \n",
    "        collection.insert_one(dic0)\n",
    "    \n",
    "    if dic0['operation'] == 'Scambio':\n",
    "        \n",
    "        dic1 = transfer_data[1]\n",
    "        \n",
    "        \n",
    "        dic0['_id'] = Id\n",
    "        #dic0['date'] = d1\n",
    "        #dic1['date'] = d1\n",
    "        dic1['_id'] = str(int(Id) + 1)\n",
    "        \n",
    "        collection.insert_one(dic0)\n",
    "        collection.insert_one(dic1)\n",
    "    "
   ]
  },
  {
   "cell_type": "code",
   "execution_count": 55,
   "metadata": {},
   "outputs": [],
   "source": [
    "\"\"\"\n",
    "This is an inner level class, it performs all the market operations and creates database entries\n",
    "But we'll use it inside another class, so all operations need to be confirmed before being saved\n",
    "\n",
    "\"\"\"\n",
    "\n",
    "\n",
    "class transfer:\n",
    "    \n",
    "    #need to add quotation info everywhere, maybe as return of transf_db\n",
    "\n",
    "    def __init__(self, name, CR, DB, CO, COT, CO_Man):\n",
    "        \n",
    "        cluster = MongoClient(CR)\n",
    "        db = cluster[DB]\n",
    "        \n",
    "        self.collection = db[CO]\n",
    "        self.collection_man = db[CO_Man]\n",
    "        self.name = name\n",
    "        self.info = collection.find_one({'name': name})\n",
    "        self.CC = (CR, DB, CO)\n",
    "        self.COT = COT\n",
    "        \n",
    "        \n",
    "        \n",
    "        today = date.today()\n",
    "        self.d1 = today.strftime(\"%Y/%m/%d\")\n",
    "         \n",
    "        \n",
    "    def draft_in(self, new_owner, squad, cost = 0):\n",
    "        (CR, DB, CO) = self.CC\n",
    "        \n",
    "        collection_man = self.collection_man\n",
    "        man_data = collection_man.find_one({'owner': new_owner})\n",
    "        print(new_owner)\n",
    "        budget = man_data['budget']\n",
    "        \n",
    "        if cost > budget:\n",
    "            return False\n",
    "        else:\n",
    "            \n",
    "            #print(new_owner+' has acquired '+self.name+' through draft.\\nAssigned to '+squad+' squad\\n')\n",
    "\n",
    "\n",
    "            update_owner(new_owner = new_owner, mode = 'Draft', squad = squad, name = self.name, time_stamp = False, CR = CR, DB = DB, CO = CO)\n",
    "\n",
    "            self.collection.update_one({'name': self.name},{'$set':{'info.contract.cost': cost}})\n",
    "\n",
    "\n",
    "            transfer_data = [{\n",
    "                'name': self.name,\n",
    "                'operation': 'Draft',\n",
    "                'new_owner': new_owner,\n",
    "                'squad': squad,\n",
    "                'cost': cost,\n",
    "                'date': self.d1\n",
    "                          }]\n",
    "\n",
    "\n",
    "            update_Tr_DB(transfer_data, CR, DB, self.COT)\n",
    "            self.collection_man.update_one({'owner': new_owner}, {'$inc': {'budget': - cost}})\n",
    "            #transf_db_update() #function to be defined\n",
    "        \n",
    "        return True\n",
    "        \n",
    "        \n",
    "    \n",
    "    def auction_in(self, new_owner, squad, cost):\n",
    "        (CR, DB, CO) = self.CC\n",
    "        #print(new_owner+' has acquired '+self.name+' through auction for '+str(cost)+' FM.\\nAssigned to '+squad+' squad\\n')\n",
    "        update_owner(new_owner = new_owner, mode = 'Asta', squad = squad, name = self.name, time_stamp = False, CR = CR, DB = DB, CO = CO)\n",
    "        \n",
    "        self.collection.update_one({'name': self.name},{'$set':{'info.contract.cost': cost}})\n",
    "        #transf_db_update() #function to be defined, includes budgets adjustments\n",
    "        \n",
    "        transfer_data = [{\n",
    "            'name': self.name,\n",
    "            'operation': 'Asta',\n",
    "            'new_owner': new_owner,\n",
    "            'squad': squad,\n",
    "            'cost': cost,\n",
    "            'date': self.d1\n",
    "                      }]\n",
    "        \n",
    "        \n",
    "        update_Tr_DB(transfer_data, CR, DB, self.COT)\n",
    "        \n",
    "        \n",
    "        \n",
    "    \n",
    "    def cash_in(self, new_owner, squad, cost):\n",
    "        old_owner = self.info['info']['contract']['owner']\n",
    "        (CR, DB, CO) = self.CC\n",
    "        #print(new_owner+' has acquired '+self.name+' through auction for '+str(cost)+' FM.\\nAssigned to '+squad+' squad\\n')\n",
    "        update_owner(new_owner = new_owner, mode = 'Acquisto', squad = squad, name = self.name, time_stamp = False, CR = CR, DB = DB, CO = CO)\n",
    "        \n",
    "        self.collection.update_one({'name': self.name},{'$set':{'info.contract.cost': cost}})\n",
    "        #transf_db_update() #function to be defined, includes budgets adjustments\n",
    "        \n",
    "        transfer_data = [{\n",
    "            'name': self.name,\n",
    "            'operation': 'Acquisto',\n",
    "            'new_owner': new_owner,\n",
    "            'old_owner': old_owner,\n",
    "            'squad': squad,\n",
    "            'cost': cost,\n",
    "            'date': self.d1\n",
    "                      }]\n",
    "        \n",
    "        \n",
    "        update_Tr_DB(transfer_data, CR, DB, self.COT)\n",
    "        \n",
    "        \n",
    "    \n",
    "    def exchange_with(self, exch_player, cost, squad, squad_exch_pl):\n",
    "        \n",
    "        #THIS IS PROBABLY THE MOST PROBLEMATIC, MAYBE WE NEED A BETTER WAY TO DEFINE IT\n",
    "        #MAYBE JUST RENAMING SOME VARIABLES WILL SUFFICE\n",
    "        \n",
    "        (CR, DB, CO) = self.CC\n",
    "        collection = self.collection\n",
    "        self.exch_player = exch_player\n",
    "        \n",
    "        \n",
    "        exch_info = collection.find_one({'name': exch_player})\n",
    "        exch_owner = exch_info['info']['contract']['owner']\n",
    "        owner = self.info['info']['contract']['owner']\n",
    "        \n",
    "        \n",
    "        d1 = update_owner(new_owner = exch_owner, mode = 'Scambio', squad = squad, name = self.name, time_stamp = False, CR = CR, DB = DB, CO = CO)\n",
    "        d1 = update_owner(new_owner = owner, mode = 'Scambio', squad = squad_exch_pl, name = exch_player, time_stamp = False, CR = CR, DB = DB, CO = CO)\n",
    "        \n",
    "        self.collection.update_one({'name': self.name},{'$set':{'info.contract.cost': max(0, cost)}})\n",
    "        self.collection.update_one({'name': exch_player},{'$set':{'info.contract.cost': max(0, - cost)}})\n",
    "        \n",
    "        \n",
    "        transfer_data_0 = {\n",
    "            'name': self.name,\n",
    "            'operation': 'Scambio',\n",
    "            'new_owner': exch_owner,\n",
    "            'exchange_player': exch_player,\n",
    "            'squad': squad,\n",
    "            'cost': max(0, cost),\n",
    "            'date': self.d1\n",
    "                      }\n",
    "        transfer_data_1 = {\n",
    "            'name': exch_player,\n",
    "            'operation': 'Scambio',\n",
    "            'new_owner': owner,\n",
    "            'exchange_player': self.name,\n",
    "            'squad': squad_exch_pl,\n",
    "            'cost': max(0, -cost),\n",
    "            'date': self.d1\n",
    "                      }\n",
    "        transfer_data = [transfer_data_0, transfer_data_1]\n",
    "        \n",
    "        update_Tr_DB(transfer_data, CR, DB, self.COT)\n",
    "        \n",
    "        \n",
    "        \n",
    "    \n",
    "    def loan_to(self, owner, cost, squad, end_season = None, final_fee = None):\n",
    "        (CR, DB, CO) = self.CC\n",
    "        collection = self.collection\n",
    "        update_owner(new_owner = owner, mode = None, squad = squad, loan = True, name = self.name, time_stamp = False, CR = CR, DB = DB, CO = CO)\n",
    "        \n",
    "        \n",
    "        date = datetime.date.today()\n",
    "        \n",
    "        m, y = date.month, date.year\n",
    "        if m > 7:\n",
    "            y = y + 1\n",
    "        \n",
    "        loan_info = {\n",
    "        'start_date': self.d1,\n",
    "        'expire_date': str(y)+'/07/31', #all loans expire the successive July 31st\n",
    "        'cost': cost,\n",
    "        'redemption_info': end_season, #None, Option or Must\n",
    "        'redemption_cost': final_fee, # None or >0\n",
    "        }\n",
    "        \n",
    "        collection.update_one({'name': self.name}, {'$set':{'info.current_team.on_loan': True}}) \n",
    "        collection.update_one({'name': self.name}, {'$set':{'info.current_team.loan_info': loan_info}}) \n",
    "        \n",
    "        transfer_data = [{\n",
    "            'name': self.name,\n",
    "            'operation': 'Prestito',\n",
    "            'new_team': owner +', '+ squad,\n",
    "            'loan_info': loan_info,\n",
    "            'date': self.d1\n",
    "                      }]\n",
    "        \n",
    "        \n",
    "        update_Tr_DB(transfer_data, CR, DB, self.COT)\n",
    "        \n",
    "        \n",
    "    \n",
    "    def end_loan(self, squad, redeemed = False):\n",
    "        (CR, DB, CO) = self.CC\n",
    "        collection = self.collection\n",
    "        \n",
    "        dic = self.info\n",
    "        owner = dic['info']['contract']['owner']\n",
    "        \n",
    "        update_owner(new_owner = owner, mode = None, squad = squad, loan = True, name = self.name, time_stamp = False, CR = CR, DB = DB, CO = CO)\n",
    "        \n",
    "        collection.update_one({'name': self.name}, {'$set':{'info.current_team.on_loan': False}}) \n",
    "        collection.update_one({'name': self.name}, {'$set':{'info.current_team.loan_info': None}}) \n",
    "        \n",
    "        transfer_data = [{\n",
    "            'name': self.name,\n",
    "            'operation': 'Fine Prestito',\n",
    "            'new_team': owner +', '+ squad,\n",
    "            'redeemed': redeemed,\n",
    "            'date': self.d1\n",
    "                      }]\n",
    "        \n",
    "        \n",
    "        update_Tr_DB(transfer_data, CR, DB, self.COT)\n",
    "        \n",
    "        if redeemed:\n",
    "            \n",
    "            print('Registrare operazione di trasferimento!!!')\n",
    "        \n",
    "        \n",
    "        \n",
    "    def move_up(self):\n",
    "        (CR, DB, CO) = self.CC\n",
    "        update_owner(new_owner = None, mode = None, squad = 'Main', move_up = True, name = self.name, time_stamp = False, CR = CR, DB = DB, CO = CO)\n",
    "        \n",
    "        transfer_data = [{\n",
    "            'name': self.name,\n",
    "            'operation': 'Promozione',\n",
    "            'squad': 'Main',\n",
    "            'date': self.d1\n",
    "                      }]\n",
    "        \n",
    "        \n",
    "        update_Tr_DB(transfer_data, CR, DB, self.COT)\n",
    "        \n",
    "        return d1\n",
    "        \n",
    "        "
   ]
  },
  {
   "cell_type": "code",
   "execution_count": 56,
   "metadata": {},
   "outputs": [],
   "source": [
    "\"\"\"\n",
    "This second layer is designed to prevent accidental changes in the database:\n",
    "First all the players collection is duplicated to a temp one\n",
    "then all the changes are made in the temp\n",
    "\n",
    "NOTE: we need to add the equivalent for the transfer database, but we first need to design the db_update function\n",
    "\"\"\"\n",
    "\n",
    "class market_session:\n",
    "    \n",
    "    def __init__(self, ID, CR = cred['cred'], DB = 'Game', CO = 'Players', COT = 'Transfers', CO_MAN = 'Managers'):\n",
    "        #copy entire database into tempPlayers\n",
    "        \n",
    "        cluster = MongoClient(CR)\n",
    "        db = cluster[DB]\n",
    "        collection = db[CO]\n",
    "        collection_man = db[CO_MAN]\n",
    "        COt = 'tempPlayers'\n",
    "        CO_MANt = 'tempManagers'\n",
    "        \n",
    "        collectionT = db[COt]\n",
    "        collection_manT = db[CO_MANt]\n",
    "        \n",
    "        posts = list(collection.find({}))\n",
    "        collectionT.insert_many(posts)\n",
    "        \n",
    "        posts_man = list(collection_man.find({}))\n",
    "        collection_manT.insert_many(posts_man)\n",
    "        \n",
    "        self.ID = ID\n",
    "        self.CC = (CR, DB, COt)\n",
    "        self.CO = CO\n",
    "        self.COTt = 'tempTransfers'\n",
    "        self.CO_MANt = 'tempManagers'\n",
    "        \n",
    "    def select_pl(self, name):\n",
    "        (CR, DB, COt) = self.CC\n",
    "        self.player = transfer(name, CR, DB, COt, self.COTt, self.CO_MANt)\n",
    "    \n",
    "    def confirm_session(self):\n",
    "        #here we span through both temp collections (players and transfers) and replace/add entries to the official database\n",
    "        #then we erase the temp databases\n",
    "        (CR, DB, COt) = self.CC\n",
    "        CO = self.CO\n",
    "        \n",
    "        cluster = MongoClient(CR)\n",
    "        db = cluster[DB]\n",
    "        collection = db[CO]\n",
    "        collectionT = db[COt]\n",
    "        posts = list(collectionT.find({}))\n",
    "        collection.delete_many({})\n",
    "        collection.insert_many(posts)\n",
    "        collectionT.delete_many({})\n",
    "        \n",
    "        coll_tr = db[COT]\n",
    "        coll_trT = db[self.COTt]\n",
    "        posts = list(coll_trT.find({}))\n",
    "        coll_tr.delete_many({})\n",
    "        coll_tr.insert_many(posts)\n",
    "        coll_trT.delete_many({})\n",
    "        \n",
    "        coll_man = db[CO_MAN]\n",
    "        coll_manT = db[self.CO_MANt]\n",
    "        posts = list(coll_manT.find({}))\n",
    "        coll_man.delete_many({})\n",
    "        coll_man.insert_many(posts)\n",
    "        coll_manT.delete_many({})\n",
    "        \n",
    "        \n",
    "    def cancel_session(self):\n",
    "        #erase temporary database: need to redefine market session\n",
    "        (CR, DB, COt) = self.CC\n",
    "        \n",
    "        cluster = MongoClient(CR)\n",
    "        db = cluster[DB]\n",
    "        collectionT = db[COt]\n",
    "        coll_trT = db[self.COTt]\n",
    "        coll_manT = db[self.CO_MANt]\n",
    "        \n",
    "        collectionT.delete_many({})\n",
    "        coll_trT.delete_many({})\n",
    "        coll_manT.delete_many({})"
   ]
  },
  {
   "cell_type": "code",
   "execution_count": 57,
   "metadata": {},
   "outputs": [],
   "source": [
    "def player(name, session):\n",
    "    #select one player and assign it to a variable \n",
    "    session.select_pl(name)\n",
    "    return session.player #returns a class transfer object"
   ]
  },
  {
   "cell_type": "code",
   "execution_count": 9,
   "metadata": {},
   "outputs": [],
   "source": [
    "#define market session with id number (not necessary)\n",
    "#sess = market_session(1)"
   ]
  },
  {
   "cell_type": "code",
   "execution_count": 10,
   "metadata": {},
   "outputs": [
    {
     "ename": "NameError",
     "evalue": "name 'sess' is not defined",
     "output_type": "error",
     "traceback": [
      "\u001b[0;31m---------------------------------------------------------------------------\u001b[0m",
      "\u001b[0;31mNameError\u001b[0m                                 Traceback (most recent call last)",
      "\u001b[0;32m<ipython-input-10-9ffae0e1601a>\u001b[0m in \u001b[0;36m<module>\u001b[0;34m\u001b[0m\n\u001b[1;32m      1\u001b[0m \u001b[0;31m#create a transfer class object\u001b[0m\u001b[0;34m\u001b[0m\u001b[0;34m\u001b[0m\u001b[0;34m\u001b[0m\u001b[0m\n\u001b[0;32m----> 2\u001b[0;31m \u001b[0mmusso\u001b[0m \u001b[0;34m=\u001b[0m \u001b[0mplayer\u001b[0m\u001b[0;34m(\u001b[0m\u001b[0;34m'MUSSO'\u001b[0m\u001b[0;34m,\u001b[0m \u001b[0msess\u001b[0m\u001b[0;34m)\u001b[0m\u001b[0;34m\u001b[0m\u001b[0;34m\u001b[0m\u001b[0m\n\u001b[0m",
      "\u001b[0;31mNameError\u001b[0m: name 'sess' is not defined"
     ]
    }
   ],
   "source": [
    "#create a transfer class object\n",
    "musso = player('MUSSO', sess)"
   ]
  },
  {
   "cell_type": "code",
   "execution_count": 10,
   "metadata": {},
   "outputs": [],
   "source": [
    "#other examples\n",
    "ronaldo = player('RONALDO', sess)\n",
    "lukaku = player('LUKAKU', sess)\n",
    "ibra = player('IBRAHIMOVIC', sess)\n",
    "immobile = player('IMMOBILE', sess)\n",
    "orso = player('ORSOLINI', sess)"
   ]
  },
  {
   "cell_type": "code",
   "execution_count": 11,
   "metadata": {},
   "outputs": [
    {
     "data": {
      "text/plain": [
       "'MUSSO'"
      ]
     },
     "execution_count": 11,
     "metadata": {},
     "output_type": "execute_result"
    }
   ],
   "source": [
    "#check name\n",
    "musso.name"
   ]
  },
  {
   "cell_type": "code",
   "execution_count": 12,
   "metadata": {},
   "outputs": [
    {
     "name": "stdout",
     "output_type": "stream",
     "text": [
      "Operation date: \n"
     ]
    },
    {
     "data": {
      "text/plain": [
       "'2020/12/23'"
      ]
     },
     "execution_count": 12,
     "metadata": {},
     "output_type": "execute_result"
    }
   ],
   "source": [
    "#example draft\n",
    "musso.draft_in('luca', squad = 'primavera')"
   ]
  },
  {
   "cell_type": "code",
   "execution_count": 13,
   "metadata": {},
   "outputs": [
    {
     "name": "stdout",
     "output_type": "stream",
     "text": [
      "Operation date: \n"
     ]
    },
    {
     "data": {
      "text/plain": [
       "'2020/12/23'"
      ]
     },
     "execution_count": 13,
     "metadata": {},
     "output_type": "execute_result"
    }
   ],
   "source": [
    "#example auction\n",
    "ronaldo.auction_in('enzo', squad = 'main', cost = 60)"
   ]
  },
  {
   "cell_type": "code",
   "execution_count": 14,
   "metadata": {},
   "outputs": [
    {
     "name": "stdout",
     "output_type": "stream",
     "text": [
      "Operation date: \n"
     ]
    },
    {
     "data": {
      "text/plain": [
       "'2020/12/23'"
      ]
     },
     "execution_count": 14,
     "metadata": {},
     "output_type": "execute_result"
    }
   ],
   "source": [
    "#example buy cash\n",
    "lukaku.cash_in(new_owner = 'nanni', squad = 'main', cost = 100)"
   ]
  },
  {
   "cell_type": "code",
   "execution_count": 15,
   "metadata": {},
   "outputs": [
    {
     "name": "stdout",
     "output_type": "stream",
     "text": [
      "Operation date: \n"
     ]
    },
    {
     "data": {
      "text/plain": [
       "'2020/12/23'"
      ]
     },
     "execution_count": 15,
     "metadata": {},
     "output_type": "execute_result"
    }
   ],
   "source": [
    "#example of exchange operation. The point of view is of the receiving owner:\n",
    "#the cost paid by whoever receives the exchange pl (ronaldo here)\n",
    "#therefore, in this case, if IBRA's NEW owner pays, cost>0, viceversa, cost<0. squad is IBRA's future squad\n",
    "ibra.exchange_with('MARTINEZ L.', cost = 4, squad = 'primavera', squad_exch_pl = 'main')"
   ]
  },
  {
   "cell_type": "code",
   "execution_count": 16,
   "metadata": {},
   "outputs": [
    {
     "name": "stdout",
     "output_type": "stream",
     "text": [
      "Operation date: \n"
     ]
    },
    {
     "data": {
      "text/plain": [
       "'2020/12/23'"
      ]
     },
     "execution_count": 16,
     "metadata": {},
     "output_type": "execute_result"
    }
   ],
   "source": [
    "#example loan\n",
    "immobile.loan_to(owner = 'luca', cost = 25, squad = 'main', end_season = 'Option', final_fee = 30)"
   ]
  },
  {
   "cell_type": "code",
   "execution_count": 17,
   "metadata": {},
   "outputs": [
    {
     "name": "stdout",
     "output_type": "stream",
     "text": [
      "Operation date: \n",
      "Registrare operazione di trasferimento!!!\n"
     ]
    },
    {
     "data": {
      "text/plain": [
       "'2020/12/23'"
      ]
     },
     "execution_count": 17,
     "metadata": {},
     "output_type": "execute_result"
    }
   ],
   "source": [
    "#example end loan (note that in the same session this might cause problems, but it should never happen)\n",
    "immobile.end_loan(squad = 'main', redeemed = True)"
   ]
  },
  {
   "cell_type": "code",
   "execution_count": 18,
   "metadata": {},
   "outputs": [
    {
     "name": "stdout",
     "output_type": "stream",
     "text": [
      "Operation date: \n"
     ]
    },
    {
     "data": {
      "text/plain": [
       "'2020/12/23'"
      ]
     },
     "execution_count": 18,
     "metadata": {},
     "output_type": "execute_result"
    }
   ],
   "source": [
    "#example buying after loan\n",
    "immobile.cash_in(new_owner = 'luca', squad = 'main', cost = 30)"
   ]
  },
  {
   "cell_type": "code",
   "execution_count": 19,
   "metadata": {},
   "outputs": [
    {
     "name": "stdout",
     "output_type": "stream",
     "text": [
      "Operation date: \n"
     ]
    },
    {
     "data": {
      "text/plain": [
       "'2020/12/23'"
      ]
     },
     "execution_count": 19,
     "metadata": {},
     "output_type": "execute_result"
    }
   ],
   "source": [
    "#example promotion\n",
    "orso.move_up()"
   ]
  },
  {
   "cell_type": "code",
   "execution_count": 42,
   "metadata": {},
   "outputs": [],
   "source": [
    "#CONFIRM: RUN ONLY IF TRANSFERS ARE FINAL\n",
    "\n",
    "#sess.confirm_session()\n",
    "\n",
    "#CANCEL: RUN TO DISCARD ALL THE TRANSFERS IN THE DEFINED SESSION\n",
    "\n",
    "sess.cancel_session()"
   ]
  },
  {
   "cell_type": "code",
   "execution_count": 47,
   "metadata": {},
   "outputs": [
    {
     "data": {
      "text/plain": [
       "<pymongo.results.DeleteResult at 0x7fc1bd44b050>"
      ]
     },
     "execution_count": 47,
     "metadata": {},
     "output_type": "execute_result"
    }
   ],
   "source": [
    "db['tempTransfers'].delete_many({})\n",
    "db['tempPlayers'].delete_many({})\n",
    "db['tempManagers'].delete_many({})"
   ]
  },
  {
   "cell_type": "markdown",
   "metadata": {},
   "source": [
    "## Now I'll try to set this up using ipython widgets"
   ]
  },
  {
   "cell_type": "code",
   "execution_count": 7,
   "metadata": {},
   "outputs": [
    {
     "data": {
      "text/html": [
       "<script>\n",
       "code_show=true; \n",
       "function code_toggle() {\n",
       " if (code_show){\n",
       " $('div.input').hide();\n",
       " } else {\n",
       " $('div.input').show();\n",
       " }\n",
       " code_show = !code_show\n",
       "} \n",
       "$( document ).ready(code_toggle);\n",
       "</script>\n",
       "<form action=\"javascript:code_toggle()\"><input type=\"submit\" value=\"Click here to toggle on/off the raw code.\"></form>"
      ],
      "text/plain": [
       "<IPython.core.display.HTML object>"
      ]
     },
     "execution_count": 7,
     "metadata": {},
     "output_type": "execute_result"
    }
   ],
   "source": [
    "HTML('''<script>\n",
    "code_show=true; \n",
    "function code_toggle() {\n",
    " if (code_show){\n",
    " $('div.input').hide();\n",
    " } else {\n",
    " $('div.input').show();\n",
    " }\n",
    " code_show = !code_show\n",
    "} \n",
    "$( document ).ready(code_toggle);\n",
    "</script>\n",
    "<form action=\"javascript:code_toggle()\"><input type=\"submit\" value=\"Click here to toggle on/off the raw code.\"></form>''')"
   ]
  },
  {
   "cell_type": "markdown",
   "metadata": {},
   "source": [
    "### Session start/cancel/confirm\n",
    "Run Start it at the beginning and Confirm at the end\n",
    "If some error is made you can cancel the entire session by clicking Cancel.\n",
    "\n",
    "Note, the funds control is finalized only for draft operations so far, use the same logic to enforce it in the others:\n",
    "- Make operations perform transfers only when funds are available\n",
    "- return True/False if it went through\n",
    "- use the return value to display message"
   ]
  },
  {
   "cell_type": "code",
   "execution_count": 58,
   "metadata": {},
   "outputs": [
    {
     "data": {
      "application/vnd.jupyter.widget-view+json": {
       "model_id": "1c7e26ba1ab14062ad7ee2d92be8d14e",
       "version_major": 2,
       "version_minor": 0
      },
      "text/plain": [
       "HBox(children=(Button(description='Start Session', layout=Layout(height='40px', width='200px'), style=ButtonSt…"
      ]
     },
     "metadata": {},
     "output_type": "display_data"
    },
    {
     "name": "stdout",
     "output_type": "stream",
     "text": [
      "Session Canceled!\r"
     ]
    }
   ],
   "source": [
    "btn_start = widgets.Button(description='Start Session',layout=widgets.Layout(width='200px', height='40px'))\n",
    "\n",
    "btn_cancel = widgets.Button(description='Cancel Session',layout=btn_start.layout)\n",
    "\n",
    "btn_confirm = widgets.Button(description='Confirm Session',layout=btn_start.layout)\n",
    "\n",
    "def sess_start_event(obj):\n",
    "    global sess\n",
    "    print('Session Started!', end=\"\\r\", flush=True)#.format(obj.description))\n",
    "    sess = market_session(1)\n",
    "def sess_cancel_event(obj):\n",
    "    print('Session Canceled!', end=\"\\r\", flush=True)#.format(obj.description))\n",
    "    sess.cancel_session()\n",
    "def sess_confirm_event(obj):\n",
    "    print('Session Confirmed!', end=\"\\r\", flush=True)#.format(obj.description))\n",
    "    sess.cancel_session()\n",
    "    \n",
    "    \n",
    "btn_start.on_click(sess_start_event)\n",
    "btn_start.style.button_color = 'skyblue'\n",
    "btn_cancel.on_click(sess_cancel_event)\n",
    "btn_cancel.style.button_color = 'lightcoral'  \n",
    "btn_confirm.on_click(sess_confirm_event)\n",
    "btn_confirm.style.button_color = 'lightgreen'   \n",
    "\n",
    "input_start = widgets.HBox([btn_start, btn_cancel, btn_confirm])\n",
    "display(input_start)\n"
   ]
  },
  {
   "cell_type": "markdown",
   "metadata": {},
   "source": [
    "### Selection of the  player to be transfered\n",
    "RUN THE CELL ONLY AFTER SESSION START\n",
    "Note: Players are listed by OWNER, so those on loan are not under the team they play with"
   ]
  },
  {
   "cell_type": "code",
   "execution_count": 59,
   "metadata": {},
   "outputs": [
    {
     "data": {
      "application/vnd.jupyter.widget-view+json": {
       "model_id": "34a4f65f64c245149f1590a142ef6438",
       "version_major": 2,
       "version_minor": 0
      },
      "text/plain": [
       "VBox(children=(Button(description='Select Player to Transfer', layout=Layout(height='40px', width='350px'), st…"
      ]
     },
     "metadata": {},
     "output_type": "display_data"
    }
   ],
   "source": [
    "owners = ['Choose one','Svincolati','luca','pietro','enzo','nanni','mario','emiliano','franky','musci8']\n",
    "\n",
    "\n",
    "def owner_players(owner):\n",
    "    if owner == 'Svincolati':\n",
    "        results = db['tempPlayers'].find({'info.contract.owner': None})\n",
    "        names = []\n",
    "        for result in results:\n",
    "            names.append(result['name'])\n",
    "    elif owner == 'Choose one':\n",
    "        names = ['Choose owner first']\n",
    "    else:\n",
    "        results = db['tempPlayers'].find({'info.contract.owner': owner})\n",
    "        names = []\n",
    "        for result in results:\n",
    "            names.append(result['name'])\n",
    "    names.sort()\n",
    "    return names\n",
    "\n",
    "def confirm_player(Name):\n",
    "    global pl\n",
    "    pl = player(Name, sess)\n",
    "    if Name == 'Choose owner first':\n",
    "        print('')\n",
    "    else:\n",
    "        print('The player selected to be transferred is ' + Name+'                     ')\n",
    "    \n",
    "\n",
    "def selection(pl_owner):\n",
    "    global G_owner\n",
    "    G_owner = pl_owner\n",
    "    lista.options = owner_players(pl_owner)\n",
    "\n",
    "\n",
    "\n",
    "scW = widgets.Dropdown(options=owners, description = 'Owner')\n",
    "\n",
    "init = scW.value\n",
    "\n",
    "lista = widgets.Dropdown(options=owner_players(init), description = 'Player')\n",
    "\n",
    "j = widgets.interactive(confirm_player, Name=lista)\n",
    "\n",
    "i = widgets.interactive(selection, pl_owner=scW)\n",
    "\n",
    "\n",
    "\n",
    "\n",
    "\n",
    "# new_owner, squad, cost, exch_player, squad_exch_pl, end_season, final_fee\n",
    "\n",
    "\n",
    "#display(i)\n",
    "#display(j)\n",
    "\n",
    "btn_head_pl = widgets.Button(description='Select Player to Transfer',layout=widgets.Layout(width='350px', height='40px'))\n",
    "\n",
    "btn_head_pl.style.button_color = 'skyblue'\n",
    "\n",
    "\n",
    "input_pl = widgets.VBox([btn_head_pl,i,j])\n",
    "display(input_pl)\n"
   ]
  },
  {
   "cell_type": "markdown",
   "metadata": {},
   "source": [
    "### Selection of parameters\n",
    "\n",
    "\n",
    "Use only the ones that are relevant to the market operation"
   ]
  },
  {
   "cell_type": "code",
   "execution_count": 60,
   "metadata": {},
   "outputs": [
    {
     "data": {
      "application/vnd.jupyter.widget-view+json": {
       "model_id": "a7fb1075fe2c483582a96e4b8d9f97f8",
       "version_major": 2,
       "version_minor": 0
      },
      "text/plain": [
       "HBox(children=(VBox(children=(Button(description='Generic Parameters', layout=Layout(height='40px', width='300…"
      ]
     },
     "metadata": {},
     "output_type": "display_data"
    },
    {
     "name": "stdout",
     "output_type": "stream",
     "text": [
      "luca will pay 351.0 FM for the operation involving ADORANTE                              \r"
     ]
    }
   ],
   "source": [
    "cost = 0\n",
    "New_owner = widgets.Dropdown(options =    owners, description = 'New Owner')\n",
    "\n",
    "def new_owner_eventhandler(change):\n",
    "    global new_owner\n",
    "    new_owner = change.new\n",
    "    print('After operation '+pl.name+' will be owned by ' + new_owner+'                               ', end=\"\\r\", flush=True)\n",
    "\n",
    "New_owner.observe(new_owner_eventhandler, names = 'value')\n",
    "\n",
    "#display(New_owner)\n",
    "\n",
    "squads = widgets.Dropdown(options = ['Choose', 'Main', 'Primavera'], description = 'New Squad')\n",
    "\n",
    "def squad_eventhandler(change):\n",
    "    global squad\n",
    "    squad = change.new\n",
    "    print('After operation '+pl.name+' will be in ' + new_owner+'\\'s '+squad+' squad                       ', end=\"\\r\", flush=True)\n",
    "\n",
    "squads.observe(squad_eventhandler, names = 'value')\n",
    "\n",
    "#display(squads)\n",
    "\n",
    "cost_num = widgets.BoundedFloatText(min=-1000, max=1000, value=0, step=1, description = 'Cost')\n",
    "\n",
    "def cost_num_eventhandler(change):\n",
    "    global cost\n",
    "    cost = change.new\n",
    "    if cost >= 0:\n",
    "        print(new_owner+' will pay ' + str(change.new)+' FM for the operation involving '+pl.name+'                              ', end=\"\\r\", flush=True)\n",
    "    else:\n",
    "        print(new_owner+' will receive ' + str(- change.new)+' FM for the operation involving '+pl.name+'                          ', end=\"\\r\", flush=True)\n",
    "        \n",
    "cost_num.observe(cost_num_eventhandler, names='value')\n",
    "\n",
    "\n",
    "End_season = widgets.Dropdown(options = ['Choose', None, 'Option', 'Must'], description = 'End Choice')\n",
    "\n",
    "def End_season_eventhandler(change):\n",
    "    global end_season\n",
    "    end_season = change.new\n",
    "    if end_season is None:\n",
    "        print('If loan is chosen, no option is selected for end of the season                                         ', end=\"\\r\", flush=True)\n",
    "    elif end_season is 'Option':\n",
    "        print('If loan is chosen, '+pl.name+' CAN be redeemed at final fee value                                     ', end=\"\\r\", flush=True)\n",
    "    else:\n",
    "        print('If loan is chosen, '+pl.name+' MUST be redeemed at final fee value                                    ', end=\"\\r\", flush=True)\n",
    "\n",
    "End_season.observe(End_season_eventhandler, names = 'value')\n",
    "\n",
    "\n",
    "\n",
    "fee_num = widgets.BoundedFloatText(min=-1000, max=1000, value=0, step=1, description = 'Final fee')\n",
    "\n",
    "def fee_num_eventhandler(change):\n",
    "    global final_fee\n",
    "    final_fee = change.new\n",
    "    if cost >= 0:\n",
    "        print(new_owner+' can/will pay ' + str(final_fee)+' to redeem '+pl.name+' at the end of the season              ', end=\"\\r\", flush=True)\n",
    "        \n",
    "fee_num.observe(fee_num_eventhandler, names='value')\n",
    "\n",
    "Redeemed = widgets.Dropdown(options = ['Choose', True,False], description = 'Redeemed')\n",
    "\n",
    "def End_loan_eventhandler(change):\n",
    "    global redeemed\n",
    "    redeemed = change.new\n",
    "    if redeemed == True:\n",
    "        print('If loan is chosen, '+pl.name+' will be redeemed.                 ', end=\"\\r\", flush=True)\n",
    "    else:\n",
    "        print('If loan is chosen, '+pl.name+' will not be redeemed.                  ', end=\"\\r\", flush=True)\n",
    "\n",
    "Redeemed.observe(End_loan_eventhandler, names = 'value')\n",
    "\n",
    "\n",
    "#display(New_owner)\n",
    "#display(squads)\n",
    "#display(cost_num)\n",
    "\n",
    "#display(End_season)\n",
    "#display(fee_num)\n",
    "#display(Redeemed)\n",
    "\n",
    "btn_head_par = widgets.Button(description='Generic Parameters',layout=widgets.Layout(width='300px', height='40px'))\n",
    "btn_head_par_loan = widgets.Button(description='Loan Parameters',layout = btn_head_par.layout)\n",
    "btn_head_par.style.button_color = 'skyblue'\n",
    "btn_head_par_loan.style.button_color = 'skyblue'\n",
    "\n",
    "\n",
    "\n",
    "left_box = widgets.VBox([btn_head_par,New_owner, squads, cost_num])\n",
    "right_box = widgets.VBox([btn_head_par_loan,End_season, fee_num, Redeemed])\n",
    "input_par = widgets.HBox([left_box, right_box])\n",
    "display(input_par)\n"
   ]
  },
  {
   "cell_type": "markdown",
   "metadata": {},
   "source": [
    "## To perform exchanges run cells below AFTER selecting parameters\n",
    "\n",
    "to avoid cross dependence the best way is to run the cell after parameters are selected.\n",
    "It applies to this only"
   ]
  },
  {
   "cell_type": "code",
   "execution_count": 19,
   "metadata": {},
   "outputs": [
    {
     "data": {
      "application/vnd.jupyter.widget-view+json": {
       "model_id": "5799ea769c3543a69f1161f52791d448",
       "version_major": 2,
       "version_minor": 0
      },
      "text/plain": [
       "VBox(children=(Button(description='Select Exchange Player (RUN CELL FIRST)', layout=Layout(height='40px', widt…"
      ]
     },
     "metadata": {},
     "output_type": "display_data"
    }
   ],
   "source": [
    "list_ow = owner_players(new_owner)\n",
    "list_ow.insert(0,'Choose one')\n",
    "Ex_players = widgets.Dropdown(options = list_ow, description = 'Exch. Player')\n",
    "\n",
    "def Ex_pl_eventhandler(change):\n",
    "    \n",
    "    global exch_pl\n",
    "    exch_pl = change.new\n",
    "    print('If exchange is chosen, '+pl.name+' will be exchanged with ' + exch_pl+'              ', end=\"\\r\", flush=True)\n",
    "    \n",
    "Ex_players.observe(Ex_pl_eventhandler, names = 'value')\n",
    "\n",
    "#display(Ex_players)\n",
    "\n",
    "Ex_squads = widgets.Dropdown(options = ['Choose one','Main', 'Primavera'], description = 'Exch. Squad')\n",
    "\n",
    "def squad_eventhandler(change):\n",
    "    global squad_ex_pl\n",
    "    squad_ex_pl = change.new\n",
    "    print('After operation '+exch_pl+' will be in ' + G_owner+'\\'s '+squad_ex_pl+' squad                ', end=\"\\r\", flush=True)\n",
    "\n",
    "Ex_squads.observe(squad_eventhandler, names = 'value')\n",
    "\n",
    "#display(Ex_players)\n",
    "#display(Ex_squads)\n",
    "\n",
    "btn_head_exch = widgets.Button(description='Select Exchange Player (RUN CELL FIRST)',layout=widgets.Layout(width='350px', height='40px'))\n",
    "\n",
    "btn_head_exch.style.button_color = 'skyblue'\n",
    "\n",
    "\n",
    "input_ex = widgets.VBox([btn_head_exch,Ex_players,Ex_squads])\n",
    "display(input_ex)\n"
   ]
  },
  {
   "cell_type": "markdown",
   "metadata": {},
   "source": [
    "## Remember: Confirm parameters before performing operation"
   ]
  },
  {
   "cell_type": "code",
   "execution_count": 61,
   "metadata": {},
   "outputs": [
    {
     "name": "stdout",
     "output_type": "stream",
     "text": [
      "Unsufficient Funds!! Operation was canceled\n"
     ]
    },
    {
     "data": {
      "application/vnd.jupyter.widget-view+json": {
       "model_id": "ba9f664e4a0c40f198f839e9ec69d5a2",
       "version_major": 2,
       "version_minor": 0
      },
      "text/plain": [
       "Button(description='Confirm Parameters', layout=Layout(height='40px', width='603px'), style=ButtonStyle(button…"
      ]
     },
     "metadata": {},
     "output_type": "display_data"
    }
   ],
   "source": [
    "btn_confirm_parameters = widgets.Button(description='Confirm Parameters',layout=widgets.Layout(width='603px', height='40px'))\n",
    "\n",
    "def confirm_parameters_event(obj):\n",
    "    \n",
    "    btn_draft = widgets.Button(description='Draft Player')\n",
    "    \n",
    "    def draft_event(obj): \n",
    "        \n",
    "        check = pl.draft_in(new_owner, squad = squad, cost = cost)\n",
    "        clear_output()\n",
    "        if check:\n",
    "            print(pl.name + ' was drafted by '+ new_owner+'. The cost of the operation is '+str(cost)+' FM.               ', end=\"\\r\", flush=True)\n",
    "        else:\n",
    "            print('Unsufficient Funds!! Operation was canceled')\n",
    "        display(btn_confirm_parameters)\n",
    "    btn_draft.on_click(draft_event)\n",
    "\n",
    "    btn_auction = widgets.Button(description='Auction Player')\n",
    "    \n",
    "    def auction_event(obj):\n",
    "        \n",
    "        pl.auction_in(new_owner, squad = squad, cost = cost)\n",
    "        clear_output()\n",
    "        print(pl.name + ' was adjudicated by '+ new_owner+'. The cost of the operation is '+str(cost)+' FM.                ', end=\"\\r\", flush=True)\n",
    "        display(btn_confirm_parameters)\n",
    "    btn_auction.on_click(auction_event)\n",
    "\n",
    "    btn_cash = widgets.Button(description='Buy Player')\n",
    "    \n",
    "    def cash_event(obj):\n",
    "        \n",
    "        pl.cash_in(new_owner, squad = squad, cost = cost)\n",
    "        clear_output()\n",
    "        print(pl.name + ' was purchased by '+ new_owner+'. The cost of the operation is '+str(cost)+' FM.                    ', end=\"\\r\", flush=True)\n",
    "        display(btn_confirm_parameters)\n",
    "        \n",
    "        \n",
    "    btn_cash.on_click(cash_event)\n",
    "\n",
    "    btn_exch = widgets.Button(description='Exchange Players')\n",
    "    \n",
    "    def exch_event(obj):\n",
    "        if cost > 0:\n",
    "            payer = new_owner\n",
    "        else:\n",
    "            payer = G_owner\n",
    "        \n",
    "        pl.exchange_with(exch_pl, cost, squad, squad_ex_pl)\n",
    "        clear_output()\n",
    "        print(pl.name + ' was exchanged with '+ exch_pl+'. '+payer+' paid '+str(abs(cost))+' FM.                         ', end=\"\\r\", flush=True)\n",
    "        display(btn_confirm_parameters)\n",
    "    btn_exch.on_click(exch_event)\n",
    "\n",
    "    btn_loan = widgets.Button(description='Start Loan')\n",
    "    \n",
    "    def loan_event(obj):\n",
    "        \n",
    "        pl.loan_to(new_owner, cost, squad, end_season, final_fee)\n",
    "        clear_output()\n",
    "        print(pl.name + ' was sent on loan to '+ new_owner+'. The cost of the operation is '+str(cost)+' FM.                        ', end=\"\\r\", flush=True)\n",
    "        display(btn_confirm_parameters)\n",
    "    btn_loan.on_click(loan_event)\n",
    "\n",
    "\n",
    "    btn_loan_end = widgets.Button(description='End Loan')\n",
    "    \n",
    "    def end_loan_event(obj):\n",
    "        \n",
    "        pl.end_loan(squad, redeemed)\n",
    "        clear_output()\n",
    "        if redeemed is True:\n",
    "            print('Loan of '+pl.name + ' was terminated. Will be redeemed: Register separate transaction.                    ', end=\"\\r\", flush=True)\n",
    "        else:\n",
    "            print('Loan of '+pl.name + ' was terminated. Will NOT be redeemed.                         ', end=\"\\r\", flush=True)\n",
    "        display(btn_confirm_parameters)\n",
    "    btn_loan_end.on_click(end_loan_event)\n",
    "\n",
    "    btn_move_up = widgets.Button(description='Move Up')\n",
    "    \n",
    "    def move_up_event(obj):\n",
    "        \n",
    "        pl.move_up()\n",
    "        clear_output()\n",
    "        print(pl.name + ' was moved to main squad.                                     ', end=\"\\r\", flush=True)\n",
    "        display(btn_confirm_parameters)\n",
    "    btn_move_up.on_click(move_up_event)\n",
    "    \n",
    "    \n",
    "    #display(btn_draft)\n",
    "    #display(btn_auction)\n",
    "    #display(btn_cash)\n",
    "    #display(btn_exch)\n",
    "    #display(btn_loan)\n",
    "    #display(btn_loan_end)\n",
    "    #display(btn_move_up)\n",
    "    \n",
    "    btn_head_1pl = widgets.Button(description='1 pl Ops.')\n",
    "    btn_head_2pl = widgets.Button(description='Exchanges')\n",
    "    btn_head_loans = widgets.Button(description='Loans')\n",
    "    btn_head_prom = widgets.Button(description='Promotions')\n",
    "    \n",
    "    btn_head_1pl.style.button_color = 'skyblue'\n",
    "    btn_head_2pl.style.button_color = 'skyblue'\n",
    "    btn_head_loans.style.button_color = 'skyblue'\n",
    "    btn_head_prom.style.button_color = 'skyblue'  \n",
    "    \n",
    "    box1 = widgets.VBox([btn_head_1pl,btn_draft, btn_auction, btn_cash])\n",
    "    box2 = widgets.VBox([btn_head_2pl,btn_exch])\n",
    "    box3 = widgets.VBox([btn_head_loans,btn_loan, btn_loan_end])\n",
    "    box4 = widgets.VBox([btn_head_prom,btn_move_up])\n",
    "    input_final = widgets.HBox([box1, box2, box3, box4])\n",
    "    display(input_final)\n",
    "    \n",
    "    \n",
    "btn_confirm_parameters.style.button_color = 'lightgreen'   \n",
    "btn_confirm_parameters.on_click(confirm_parameters_event) \n",
    "\n",
    "display(btn_confirm_parameters)"
   ]
  },
  {
   "cell_type": "code",
   "execution_count": null,
   "metadata": {},
   "outputs": [],
   "source": []
  }
 ],
 "metadata": {
  "kernelspec": {
   "display_name": "Python 3",
   "language": "python",
   "name": "python3"
  },
  "language_info": {
   "codemirror_mode": {
    "name": "ipython",
    "version": 3
   },
   "file_extension": ".py",
   "mimetype": "text/x-python",
   "name": "python",
   "nbconvert_exporter": "python",
   "pygments_lexer": "ipython3",
   "version": "3.7.6"
  }
 },
 "nbformat": 4,
 "nbformat_minor": 4
}
