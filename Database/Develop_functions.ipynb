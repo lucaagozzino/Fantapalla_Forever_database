{
 "cells": [
  {
   "cell_type": "markdown",
   "metadata": {},
   "source": [
    "### The logic of the notebook\n",
    "\n",
    "In order to be able to perform multiple operations I have designed the system as follows:\n",
    "\n",
    "- first, I create the most basic function which just updates the owner of a player\n",
    "- then I defined the class transfer, with argument name of the player\n",
    "    - the class transfer can perform all market operations and then save database entries\n",
    "    - however, it is not convenient to save directly to the database, in case there are accidental mistakes\n",
    "- so I created another class called market session:\n",
    "    - first, you start a market session and create each transfer within the session using the inner class transfer\n",
    "    - when you are done with all the transfers, and are sure there are no mistakes you confirm the session\n",
    "    - if you notice a mistake you can cancel the session and the databases rest unchanged\n",
    "    \n",
    "    \n",
    "## OPEN QUESTIONS:\n",
    "\n",
    "- what is the cost for draft? I set it to 0 for now\n",
    "- is this the best way to define exchanges?\n",
    "- we could in principle include in the player's info last transfer operation's id, but it is enough to look at the most recent in the transfer db"
   ]
  },
  {
   "cell_type": "code",
   "execution_count": 1,
   "metadata": {},
   "outputs": [
    {
     "name": "stderr",
     "output_type": "stream",
     "text": [
      "/Users/lucaagozzino/opt/anaconda3/lib/python3.7/site-packages/pymongo/common.py:559: UserWarning: Unknown option retryWrites\n",
      "  warnings.warn(str(exc))\n"
     ]
    }
   ],
   "source": [
    "import pandas as pd\n",
    "import numpy as np\n",
    "import datetime\n",
    "from datetime import date\n",
    "import json\n",
    "import copy\n",
    "from pymongo import MongoClient\n",
    "from pprint import pprint\n",
    "import pymongo\n",
    "\n",
    "from datetime import date\n",
    "\n",
    "with open('credential.json','r') as f:\n",
    "    cred = json.load(f)\n",
    "\n",
    "cluster = MongoClient(cred['cred'])\n",
    "# choosing database\n",
    "db = cluster[\"Game\"]\n",
    "# choosing collection\n",
    "collection = db[\"Players\"]"
   ]
  },
  {
   "cell_type": "code",
   "execution_count": 2,
   "metadata": {},
   "outputs": [
    {
     "data": {
      "text/plain": [
       "{'_id': 2792,\n",
       " 'name': 'MUSSO',\n",
       " 'info': {'personal_info': {'full_name': 'Musso Juan',\n",
       "   'birthdate': '06/05/1994',\n",
       "   'nation': 'Argentina, Italia',\n",
       "   'team_real': 'Udinese',\n",
       "   'FC_role': 'P'},\n",
       "  'contract': {'owner': 'pietro',\n",
       "   'start_date': '01/08/2020',\n",
       "   'cost': 0,\n",
       "   'acquisition_mode': '',\n",
       "   'previous_owner': '',\n",
       "   'quotation_initial': 11},\n",
       "  'current_team': {'owner': 'pietro',\n",
       "   'squad': 'main',\n",
       "   'start_date': '01/08/2020',\n",
       "   'previous_team': '',\n",
       "   'quotation_initial': 11,\n",
       "   'on_loan': False},\n",
       "  'stats': {'Pg': 4,\n",
       "   'Mv': 5.88,\n",
       "   'Mf': 4.38,\n",
       "   'Gf': 0,\n",
       "   'Gs': 6,\n",
       "   'Rp': 0,\n",
       "   'Rc': 0,\n",
       "   'R+': 0,\n",
       "   'R-': 0,\n",
       "   'Ass': 0,\n",
       "   'Asf': 0,\n",
       "   'Amm': 0,\n",
       "   'Esp': 0,\n",
       "   'Au': 0}}}"
      ]
     },
     "execution_count": 2,
     "metadata": {},
     "output_type": "execute_result"
    }
   ],
   "source": [
    "collection.find_one({'name': 'MUSSO'})"
   ]
  },
  {
   "cell_type": "code",
   "execution_count": 3,
   "metadata": {},
   "outputs": [],
   "source": [
    "\"\"\"\n",
    "Function documentation:\n",
    "This is the general function to update the owner of a player.\n",
    "Arguments:\n",
    "\n",
    "- new_owner: string, the new owner of the team (pietro, luca,...)\n",
    "- mode: string, the acquisition mode (Scambio, draft,...)\n",
    "- squad: assignment in the new team (main or primavera)\n",
    "- name/id: string, use one OR the other as a filter to query the database\n",
    "- time_stamp: boolean. True if you want to register the date of operation in the database\n",
    "- rest: details to access database, set to default values\n",
    "\n",
    "Note: I'm planning to use this function inside higher level functions, which is why I have the timestamp option, \n",
    "if you are doing tests there is no reason to update the date, but if you include this in a market operation function\n",
    "(for instance exchange players) you want to register this and the higher level function will also create the database entry\n",
    "\n",
    "\"\"\"\n",
    "\n",
    "def update_owner(new_owner, mode, squad, loan = False, move_up = False, name = False, Id = False, time_stamp = False, CR = cred['cred'], DB = 'Game', CO = 'Players'):\n",
    "    \n",
    "    cluster = MongoClient(CR)\n",
    "    db = cluster[DB]\n",
    "    collection = db[CO]\n",
    "    \n",
    "    today = date.today()\n",
    "    d1 = today.strftime(\"%Y/%m/%d\")\n",
    "    \n",
    "    if name:\n",
    "        filt = {'name': name}\n",
    "    elif Id:\n",
    "        filt = {'_id': str(Id)}\n",
    "    else:\n",
    "        print('Please enter name or Id argument')\n",
    "        \n",
    "        return None\n",
    "        \n",
    "    dic = collection.find_one(filt)\n",
    "    old_owner = dic['info']['contract']['owner'] #when database structure changes, Modify this and following accordingly\n",
    "    old_team = dic['info']['current_team']['owner'] +', ' + dic['info']['current_team']['squad']\n",
    "    \n",
    "    if loan:\n",
    "\n",
    "        collection.update_one(filt, {'$set':{'info.current_team.previous_team': old_team}}) \n",
    "        collection.update_one(filt, {'$set':{'info.current_team.owner': new_owner}})\n",
    "        collection.update_one(filt, {'$set':{'info.current_team.squad': squad}})\n",
    "        \n",
    "        \n",
    "        if time_stamp:\n",
    "            collection.update_one(filt, {'$set':{'info.current_team.start_date': d1}}) #\n",
    "            print(\"Operation date: \")\n",
    "            return d1\n",
    "    \n",
    "    elif move_up:\n",
    "        \n",
    "        collection.update_one(filt, {'$set':{'info.current_team.previous_team': old_team}}) \n",
    "        collection.update_one(filt, {'$set':{'info.current_team.squad': squad}})\n",
    "        \n",
    "        if time_stamp:\n",
    "            collection.update_one(filt, {'$set':{'info.current_team.start_date': d1}}) #\n",
    "            print(\"Operation date: \")\n",
    "            return d1\n",
    "        \n",
    "        \n",
    "    else:\n",
    "    \n",
    "        collection.update_one(filt, {'$set':{'info.contract.acquisition_mode': mode}})\n",
    "        collection.update_one(filt, {'$set':{'info.contract.previous_owner': old_owner}})\n",
    "        collection.update_one(filt, {'$set':{'info.contract.owner': new_owner}})\n",
    "\n",
    "        collection.update_one(filt, {'$set':{'info.current_team.previous_team': old_team}}) \n",
    "        collection.update_one(filt, {'$set':{'info.current_team.owner': new_owner}})\n",
    "        collection.update_one(filt, {'$set':{'info.current_team.squad': squad}})\n",
    "    \n",
    "        if time_stamp:\n",
    "            collection.update_one(filt, {'$set':{'info.contract.start_date': d1}})\n",
    "            collection.update_one(filt, {'$set':{'info.current_team.start_date': d1}}) #redundant\n",
    "            print(\"Operation date: \")\n",
    "            return d1"
   ]
  },
  {
   "cell_type": "code",
   "execution_count": 4,
   "metadata": {},
   "outputs": [],
   "source": [
    "def update_Tr_DB(transfer_data, CR = cred['cred'], DB = 'Game', COT = 'Transfers'):\n",
    "    cluster = MongoClient(CR)\n",
    "    db = cluster[DB]\n",
    "    collection = db[COT]\n",
    "    \n",
    "    now = datetime.datetime.today()\n",
    "    Id = now.strftime(\"%Y%m%d%H%M%S\")\n",
    "    \n",
    "    dic0 = transfer_data[0]\n",
    "    \n",
    "    if dic0['operation'] in ['Asta', 'Draft', 'Acquisto', 'Prestito', 'Fine Prestito', 'Promozione']:\n",
    "        dic0['_id'] = Id\n",
    "        \n",
    "        collection.insert_one(dic0)\n",
    "    \n",
    "    if dic0['operation'] == 'Scambio':\n",
    "        \n",
    "        dic1 = transfer_data[1]\n",
    "        \n",
    "        \n",
    "        dic0['_id'] = Id\n",
    "        dic1['_id'] = str(int(Id) + 1)\n",
    "        \n",
    "        collection.insert_one(dic0)\n",
    "        collection.insert_one(dic1)\n",
    "    "
   ]
  },
  {
   "cell_type": "code",
   "execution_count": 5,
   "metadata": {},
   "outputs": [],
   "source": [
    "\"\"\"\n",
    "This is an inner level class, it performs all the market operations and creates database entries\n",
    "But we'll use it inside another class, so all operations need to be confirmed before being saved\n",
    "\n",
    "\"\"\"\n",
    "\n",
    "\n",
    "class transfer:\n",
    "    \n",
    "    #need to add quotation info everywhere, maybe as return of transf_db\n",
    "\n",
    "    def __init__(self, name, CR, DB, CO, COT):\n",
    "        \n",
    "        cluster = MongoClient(CR)\n",
    "        db = cluster[DB]\n",
    "        \n",
    "        self.collection = db[CO]\n",
    "        self.name = name\n",
    "        self.info = collection.find_one({'name': name})\n",
    "        self.CC = (CR, DB, CO)\n",
    "        self.COT = COT\n",
    "        \n",
    "    def draft_in(self, new_owner, squad, cost = 0):\n",
    "        (CR, DB, CO) = self.CC\n",
    "        #print(new_owner+' has acquired '+self.name+' through draft.\\nAssigned to '+squad+' squad\\n')\n",
    "        d1 = update_owner(new_owner = new_owner, mode = 'Draft', squad = squad, name = self.name, time_stamp = True, CR = CR, DB = DB, CO = CO)\n",
    "        \n",
    "        self.collection.update_one({'name': self.name},{'$set':{'info.contract.cost': cost}})\n",
    "        \n",
    "        \n",
    "        transfer_data = [{\n",
    "            'name': self.name,\n",
    "            'operation': 'Draft',\n",
    "            'new_owner': new_owner,\n",
    "            'squad': squad,\n",
    "            'cost': cost,\n",
    "            'date': d1\n",
    "                      }]\n",
    "        \n",
    "        \n",
    "        update_Tr_DB(transfer_data, CR, DB, self.COT)\n",
    "        #transf_db_update() #function to be defined\n",
    "        \n",
    "        \n",
    "        \n",
    "        return d1\n",
    "    \n",
    "    def auction_in(self, new_owner, squad, cost):\n",
    "        (CR, DB, CO) = self.CC\n",
    "        #print(new_owner+' has acquired '+self.name+' through auction for '+str(cost)+' FM.\\nAssigned to '+squad+' squad\\n')\n",
    "        d1 = update_owner(new_owner = new_owner, mode = 'Asta', squad = squad, name = self.name, time_stamp = True, CR = CR, DB = DB, CO = CO)\n",
    "        \n",
    "        self.collection.update_one({'name': self.name},{'$set':{'info.contract.cost': cost}})\n",
    "        #transf_db_update() #function to be defined, includes budgets adjustments\n",
    "        \n",
    "        transfer_data = [{\n",
    "            'name': self.name,\n",
    "            'operation': 'Asta',\n",
    "            'new_owner': new_owner,\n",
    "            'squad': squad,\n",
    "            'cost': cost,\n",
    "            'date': d1\n",
    "                      }]\n",
    "        \n",
    "        \n",
    "        update_Tr_DB(transfer_data, CR, DB, self.COT)\n",
    "        \n",
    "        \n",
    "        \n",
    "        return d1\n",
    "    \n",
    "    def cash_in(self, new_owner, squad, cost):\n",
    "        old_owner = self.info['info']['contract']['owner']\n",
    "        (CR, DB, CO) = self.CC\n",
    "        #print(new_owner+' has acquired '+self.name+' through auction for '+str(cost)+' FM.\\nAssigned to '+squad+' squad\\n')\n",
    "        d1 = update_owner(new_owner = new_owner, mode = 'Acquisto', squad = squad, name = self.name, time_stamp = True, CR = CR, DB = DB, CO = CO)\n",
    "        \n",
    "        self.collection.update_one({'name': self.name},{'$set':{'info.contract.cost': cost}})\n",
    "        #transf_db_update() #function to be defined, includes budgets adjustments\n",
    "        \n",
    "        transfer_data = [{\n",
    "            'name': self.name,\n",
    "            'operation': 'Acquisto',\n",
    "            'new_owner': new_owner,\n",
    "            'old_owner': old_owner,\n",
    "            'squad': squad,\n",
    "            'cost': cost,\n",
    "            'date': d1\n",
    "                      }]\n",
    "        \n",
    "        \n",
    "        update_Tr_DB(transfer_data, CR, DB, self.COT)\n",
    "        \n",
    "        return d1\n",
    "    \n",
    "    def exchange_with(self, exch_player, cost, squad, squad_exch_pl):\n",
    "        \n",
    "        #THIS IS PROBABLY THE MOST PROBLEMATIC, MAYBE WE NEED A BETTER WAY TO DEFINE IT\n",
    "        #MAYBE JUST RENAMING SOME VARIABLES WILL SUFFICE\n",
    "        \n",
    "        (CR, DB, CO) = self.CC\n",
    "        collection = self.collection\n",
    "        self.exch_player = exch_player\n",
    "        \n",
    "        \n",
    "        exch_info = collection.find_one({'name': exch_player})\n",
    "        exch_owner = exch_info['info']['contract']['owner']\n",
    "        owner = self.info['info']['contract']['owner']\n",
    "        \n",
    "        \n",
    "        d1 = update_owner(new_owner = exch_owner, mode = 'Scambio', squad = squad, name = self.name, time_stamp = False, CR = CR, DB = DB, CO = CO)\n",
    "        d1 = update_owner(new_owner = owner, mode = 'Scambio', squad = squad_exch_pl, name = exch_player, time_stamp = True, CR = CR, DB = DB, CO = CO)\n",
    "        \n",
    "        self.collection.update_one({'name': self.name},{'$set':{'info.contract.cost': max(0, cost)}})\n",
    "        self.collection.update_one({'name': exch_player},{'$set':{'info.contract.cost': max(0, - cost)}})\n",
    "        \n",
    "        \n",
    "        transfer_data_0 = {\n",
    "            'name': self.name,\n",
    "            'operation': 'Scambio',\n",
    "            'new_owner': exch_owner,\n",
    "            'exchange_player': exch_player,\n",
    "            'squad': squad,\n",
    "            'cost': max(0, cost),\n",
    "            'date': d1\n",
    "                      }\n",
    "        transfer_data_1 = {\n",
    "            'name': exch_player,\n",
    "            'operation': 'Scambio',\n",
    "            'new_owner': owner,\n",
    "            'exchange_player': self.name,\n",
    "            'squad': squad_exch_pl,\n",
    "            'cost': max(0, -cost),\n",
    "            'date': d1\n",
    "                      }\n",
    "        transfer_data = [transfer_data_0, transfer_data_1]\n",
    "        \n",
    "        update_Tr_DB(transfer_data, CR, DB, self.COT)\n",
    "        \n",
    "        \n",
    "        \n",
    "        \n",
    "        return d1\n",
    "    \n",
    "    def loan_to(self, owner, cost, squad, end_season = None, final_fee = None):\n",
    "        (CR, DB, CO) = self.CC\n",
    "        collection = self.collection\n",
    "        d1 = update_owner(new_owner = owner, mode = None, squad = squad, loan = True, name = self.name, time_stamp = True, CR = CR, DB = DB, CO = CO)\n",
    "        \n",
    "        import datetime\n",
    "        date = datetime.datetime.strptime(d1, '%Y/%m/%d')\n",
    "        \n",
    "        m, y = date.month, date.year\n",
    "        if m > 7:\n",
    "            y = y + 1\n",
    "        \n",
    "        loan_info = {\n",
    "        'start_date': d1,\n",
    "        'expire_date': str(y)+'/07/31', #all loans expire the successive July 31st\n",
    "        'cost': cost,\n",
    "        'redemption_info': end_season, #None, Option or Must\n",
    "        'redemption_cost': final_fee, # None or >0\n",
    "        }\n",
    "        \n",
    "        collection.update_one({'name': self.name}, {'$set':{'info.current_team.on_loan': True}}) \n",
    "        collection.update_one({'name': self.name}, {'$set':{'info.current_team.loan_info': loan_info}}) \n",
    "        \n",
    "        transfer_data = [{\n",
    "            'name': self.name,\n",
    "            'operation': 'Prestito',\n",
    "            'new_team': owner +', '+ squad,\n",
    "            'loan_info': loan_info,\n",
    "            'date': d1\n",
    "                      }]\n",
    "        \n",
    "        \n",
    "        update_Tr_DB(transfer_data, CR, DB, self.COT)\n",
    "        \n",
    "        return d1\n",
    "    \n",
    "    def end_loan(self, squad, redeemed = False):\n",
    "        (CR, DB, CO) = self.CC\n",
    "        collection = self.collection\n",
    "        \n",
    "        dic = self.info\n",
    "        owner = dic['info']['contract']['owner']\n",
    "        \n",
    "        d1 = update_owner(new_owner = owner, mode = None, squad = squad, loan = True, name = self.name, time_stamp = True, CR = CR, DB = DB, CO = CO)\n",
    "        \n",
    "        collection.update_one({'name': self.name}, {'$set':{'info.current_team.on_loan': False}}) \n",
    "        collection.update_one({'name': self.name}, {'$set':{'info.current_team.loan_info': None}}) \n",
    "        \n",
    "        transfer_data = [{\n",
    "            'name': self.name,\n",
    "            'operation': 'Fine Prestito',\n",
    "            'new_team': owner +', '+ squad,\n",
    "            'redeemed': redeemed,\n",
    "            'date': d1\n",
    "                      }]\n",
    "        \n",
    "        \n",
    "        update_Tr_DB(transfer_data, CR, DB, self.COT)\n",
    "        \n",
    "        if redeemed:\n",
    "            \n",
    "            print('Registrare operazione di trasferimento!!!')\n",
    "        \n",
    "        return d1\n",
    "        \n",
    "        \n",
    "    def move_up(self):\n",
    "        (CR, DB, CO) = self.CC\n",
    "        d1 = update_owner(new_owner = None, mode = None, squad = 'Main', move_up = True, name = self.name, time_stamp = True, CR = CR, DB = DB, CO = CO)\n",
    "        \n",
    "        transfer_data = [{\n",
    "            'name': self.name,\n",
    "            'operation': 'Promozione',\n",
    "            'squad': 'Main',\n",
    "            'date': d1\n",
    "                      }]\n",
    "        \n",
    "        \n",
    "        update_Tr_DB(transfer_data, CR, DB, self.COT)\n",
    "        \n",
    "        return d1\n",
    "        \n",
    "        "
   ]
  },
  {
   "cell_type": "code",
   "execution_count": 6,
   "metadata": {},
   "outputs": [],
   "source": [
    "\"\"\"\n",
    "This second layer is designed to prevent accidental changes in the database:\n",
    "First all the players collection is duplicated to a temp one\n",
    "then all the changes are made in the temp\n",
    "\n",
    "NOTE: we need to add the equivalent for the transfer database, but we first need to design the db_update function\n",
    "\"\"\"\n",
    "\n",
    "class market_session:\n",
    "    \n",
    "    def __init__(self, ID, CR = cred['cred'], DB = 'Game', CO = 'Players', COT = 'Transfers'):\n",
    "        #copy entire database into tempPlayers\n",
    "        \n",
    "        cluster = MongoClient(CR)\n",
    "        db = cluster[DB]\n",
    "        collection = db[CO]\n",
    "        COt = 'tempPlayers'\n",
    "        \n",
    "        collectionT = db[COt]\n",
    "        \n",
    "        posts = list(collection.find({}))\n",
    "        collectionT.insert_many(posts)\n",
    "        \n",
    "        self.ID = ID\n",
    "        self.CC = (CR, DB, COt)\n",
    "        self.CO = CO\n",
    "        self.COTt = 'tempTransfers'\n",
    "        \n",
    "    def select_pl(self, name):\n",
    "        (CR, DB, COt) = self.CC\n",
    "        self.player = transfer(name, CR, DB, COt, self.COTt)\n",
    "    \n",
    "    def confirm_session(self):\n",
    "        #here we span through both temp collections (players and transfers) and replace/add entries to the official database\n",
    "        #then we erase the temp databases\n",
    "        (CR, DB, COt) = self.CC\n",
    "        CO = self.CO\n",
    "        \n",
    "        cluster = MongoClient(CR)\n",
    "        db = cluster[DB]\n",
    "        collection = db[CO]\n",
    "        collectionT = db[COt]\n",
    "        posts = list(collectionT.find({}))\n",
    "        collection.delete_many({})\n",
    "        collection.insert_many(posts)\n",
    "        collectionT.delete_many({})\n",
    "        \n",
    "        coll_tr = db[COT]\n",
    "        coll_trT = db[self.COTt]\n",
    "        posts = list(coll_trT.find({}))\n",
    "        coll_tr.delete_many({})\n",
    "        coll_tr.insert_many(posts)\n",
    "        coll_trT.delete_many({})\n",
    "        \n",
    "        \n",
    "    def cancel_session(self):\n",
    "        #erase temporary database: need to redefine market session\n",
    "        (CR, DB, COt) = self.CC\n",
    "        \n",
    "        cluster = MongoClient(CR)\n",
    "        db = cluster[DB]\n",
    "        collectionT = db[COt]\n",
    "        coll_trT = db[self.COTt]\n",
    "        \n",
    "        collectionT.delete_many({})\n",
    "        coll_trT.delete_many({})"
   ]
  },
  {
   "cell_type": "code",
   "execution_count": 7,
   "metadata": {},
   "outputs": [],
   "source": [
    "def player(name, session):\n",
    "    #select one player and assign it to a variable \n",
    "    session.select_pl(name)\n",
    "    return session.player #returns a class transfer object"
   ]
  },
  {
   "cell_type": "code",
   "execution_count": 8,
   "metadata": {},
   "outputs": [],
   "source": [
    "#define market session with id number (not necessary)\n",
    "sess = market_session(1)"
   ]
  },
  {
   "cell_type": "code",
   "execution_count": 27,
   "metadata": {},
   "outputs": [],
   "source": [
    "#create a transfer class object\n",
    "musso = player('MUSSO', sess)"
   ]
  },
  {
   "cell_type": "code",
   "execution_count": 9,
   "metadata": {},
   "outputs": [],
   "source": [
    "#other examples\n",
    "ronaldo = player('RONALDO', sess)\n",
    "lukaku = player('LUKAKU', sess)\n",
    "ibra = player('IBRAHIMOVIC', sess)\n",
    "immobile = player('IMMOBILE', sess)\n",
    "orso = player('ORSOLINI', sess)"
   ]
  },
  {
   "cell_type": "code",
   "execution_count": 29,
   "metadata": {},
   "outputs": [
    {
     "data": {
      "text/plain": [
       "'MUSSO'"
      ]
     },
     "execution_count": 29,
     "metadata": {},
     "output_type": "execute_result"
    }
   ],
   "source": [
    "#check name\n",
    "musso.name"
   ]
  },
  {
   "cell_type": "code",
   "execution_count": 30,
   "metadata": {},
   "outputs": [
    {
     "name": "stdout",
     "output_type": "stream",
     "text": [
      "Operation date: \n"
     ]
    },
    {
     "data": {
      "text/plain": [
       "'2020/12/23'"
      ]
     },
     "execution_count": 30,
     "metadata": {},
     "output_type": "execute_result"
    }
   ],
   "source": [
    "#example draft\n",
    "musso.draft_in('luca', squad = 'primavera')"
   ]
  },
  {
   "cell_type": "code",
   "execution_count": 31,
   "metadata": {},
   "outputs": [
    {
     "name": "stdout",
     "output_type": "stream",
     "text": [
      "Operation date: \n"
     ]
    },
    {
     "data": {
      "text/plain": [
       "'2020/12/23'"
      ]
     },
     "execution_count": 31,
     "metadata": {},
     "output_type": "execute_result"
    }
   ],
   "source": [
    "#example auction\n",
    "ronaldo.auction_in('enzo', squad = 'main', cost = 60)"
   ]
  },
  {
   "cell_type": "code",
   "execution_count": 32,
   "metadata": {},
   "outputs": [
    {
     "name": "stdout",
     "output_type": "stream",
     "text": [
      "Operation date: \n"
     ]
    },
    {
     "data": {
      "text/plain": [
       "'2020/12/23'"
      ]
     },
     "execution_count": 32,
     "metadata": {},
     "output_type": "execute_result"
    }
   ],
   "source": [
    "#example buy cash\n",
    "lukaku.cash_in(new_owner = 'nanni', squad = 'main', cost = 100)"
   ]
  },
  {
   "cell_type": "code",
   "execution_count": 10,
   "metadata": {},
   "outputs": [
    {
     "name": "stdout",
     "output_type": "stream",
     "text": [
      "Operation date: \n"
     ]
    },
    {
     "data": {
      "text/plain": [
       "'2020/12/23'"
      ]
     },
     "execution_count": 10,
     "metadata": {},
     "output_type": "execute_result"
    }
   ],
   "source": [
    "#example of exchange operation. The point of view is of the receiving owner:\n",
    "#the cost paid by whoever receives the exchange pl (ronaldo here)\n",
    "#therefore, in this case, if IBRA's NEW owner pays, cost>0, viceversa, cost<0. squad is IBRA's future squad\n",
    "ibra.exchange_with('MARTINEZ L.', cost = 4, squad = 'primavera', squad_exch_pl = 'main')"
   ]
  },
  {
   "cell_type": "code",
   "execution_count": 34,
   "metadata": {},
   "outputs": [
    {
     "name": "stdout",
     "output_type": "stream",
     "text": [
      "Operation date: \n"
     ]
    },
    {
     "data": {
      "text/plain": [
       "'2020/12/23'"
      ]
     },
     "execution_count": 34,
     "metadata": {},
     "output_type": "execute_result"
    }
   ],
   "source": [
    "#example loan\n",
    "immobile.loan_to(owner = 'luca', cost = 25, squad = 'main', end_season = 'Option', final_fee = 30)"
   ]
  },
  {
   "cell_type": "code",
   "execution_count": 35,
   "metadata": {},
   "outputs": [
    {
     "name": "stdout",
     "output_type": "stream",
     "text": [
      "Operation date: \n",
      "Registrare operazione di trasferimento!!!\n"
     ]
    },
    {
     "data": {
      "text/plain": [
       "'2020/12/23'"
      ]
     },
     "execution_count": 35,
     "metadata": {},
     "output_type": "execute_result"
    }
   ],
   "source": [
    "#example end loan (note that in the same session this might cause problems, but it should never happen)\n",
    "immobile.end_loan(squad = 'main', redeemed = True)"
   ]
  },
  {
   "cell_type": "code",
   "execution_count": 36,
   "metadata": {},
   "outputs": [
    {
     "name": "stdout",
     "output_type": "stream",
     "text": [
      "Operation date: \n"
     ]
    },
    {
     "data": {
      "text/plain": [
       "'2020/12/23'"
      ]
     },
     "execution_count": 36,
     "metadata": {},
     "output_type": "execute_result"
    }
   ],
   "source": [
    "#example buying after loan\n",
    "immobile.cash_in(new_owner = 'luca', squad = 'main', cost = 30)"
   ]
  },
  {
   "cell_type": "code",
   "execution_count": 38,
   "metadata": {},
   "outputs": [
    {
     "name": "stdout",
     "output_type": "stream",
     "text": [
      "Operation date: \n"
     ]
    },
    {
     "data": {
      "text/plain": [
       "'2020/12/23'"
      ]
     },
     "execution_count": 38,
     "metadata": {},
     "output_type": "execute_result"
    }
   ],
   "source": [
    "#example promotion\n",
    "orso.move_up()"
   ]
  },
  {
   "cell_type": "code",
   "execution_count": 12,
   "metadata": {},
   "outputs": [],
   "source": [
    "#UNCOMMENT ONLY AT THE END OF THE SESSION WHEN YOU ARE SURE EVERYTHING IS CORRECT\n",
    "\n",
    "#sess.confirm_session()\n",
    "\n",
    "#UNCOMMENT IF YOU WANT TO REVERT ALL THE OPERATIONS OF CURRENT SESSION\n",
    "\n",
    "#sess.cancel_session()\n"
   ]
  },
  {
   "cell_type": "code",
   "execution_count": null,
   "metadata": {},
   "outputs": [],
   "source": []
  }
 ],
 "metadata": {
  "kernelspec": {
   "display_name": "Python 3",
   "language": "python",
   "name": "python3"
  },
  "language_info": {
   "codemirror_mode": {
    "name": "ipython",
    "version": 3
   },
   "file_extension": ".py",
   "mimetype": "text/x-python",
   "name": "python",
   "nbconvert_exporter": "python",
   "pygments_lexer": "ipython3",
   "version": "3.7.6"
  }
 },
 "nbformat": 4,
 "nbformat_minor": 4
}
