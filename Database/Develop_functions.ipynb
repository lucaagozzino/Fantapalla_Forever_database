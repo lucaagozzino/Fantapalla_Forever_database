{
 "cells": [
  {
   "cell_type": "markdown",
   "metadata": {},
   "source": [
    "### The logic of the notebook\n",
    "\n",
    "In order to be able to perform multiple operations I have designed the system as follows:\n",
    "\n",
    "- first, I create the most basic function which just updates the owner of a player\n",
    "- then I defined the class transfer, with argument name of the player\n",
    "    - the class transfer can perform all market operations and then save database entries\n",
    "    - however, it is not convenient to save directly to the database, in case there are accidental mistakes\n",
    "- so I created another class called market session:\n",
    "    - first, you start a market session and create each transfer within the session using the inner class transfer\n",
    "    - when you are done with all the transfers, and are sure there are no mistakes you confirm the session\n",
    "    - if you notice a mistake you can cancel the session and the databases rest unchanged\n",
    "    \n",
    "    \n",
    "## OPEN QUESTIONS:\n",
    "\n",
    "- what is the cost for draft? I set it to 0 for now"
   ]
  },
  {
   "cell_type": "code",
   "execution_count": 2,
   "metadata": {},
   "outputs": [
    {
     "name": "stderr",
     "output_type": "stream",
     "text": [
      "/Users/lucaagozzino/opt/anaconda3/lib/python3.7/site-packages/pymongo/common.py:559: UserWarning: Unknown option retryWrites\n",
      "  warnings.warn(str(exc))\n"
     ]
    }
   ],
   "source": [
    "import pandas as pd\n",
    "import numpy as np\n",
    "import datetime\n",
    "from datetime import date\n",
    "import json\n",
    "import copy\n",
    "from pymongo import MongoClient\n",
    "from pprint import pprint\n",
    "import pymongo\n",
    "\n",
    "from datetime import date\n",
    "\n",
    "with open('credential.json','r') as f:\n",
    "    cred = json.load(f)\n",
    "\n",
    "cluster = MongoClient(cred['cred'])\n",
    "# choosing database\n",
    "db = cluster[\"Game\"]\n",
    "# choosing collection\n",
    "collection = db[\"Players\"]"
   ]
  },
  {
   "cell_type": "code",
   "execution_count": 3,
   "metadata": {},
   "outputs": [
    {
     "data": {
      "text/plain": [
       "{'_id': 2792,\n",
       " 'name': 'MUSSO',\n",
       " 'info': {'personal_info': {'full_name': 'Musso Juan',\n",
       "   'birthdate': '06/05/1994',\n",
       "   'nation': 'Argentina, Italia',\n",
       "   'team_real': 'Udinese',\n",
       "   'FC_role': 'P'},\n",
       "  'contract': {'owner': 'pietro',\n",
       "   'start_date': '01/08/2020',\n",
       "   'cost': 0,\n",
       "   'acquisition_mode': '',\n",
       "   'previous_owner': '',\n",
       "   'quotation_initial': 11},\n",
       "  'current_team': {'owner': 'pietro',\n",
       "   'squad': 'main',\n",
       "   'start_date': '01/08/2020',\n",
       "   'previous_team': '',\n",
       "   'quotation_initial': 11,\n",
       "   'on_loan': False},\n",
       "  'stats': {'Pg': 4,\n",
       "   'Mv': 5.88,\n",
       "   'Mf': 4.38,\n",
       "   'Gf': 0,\n",
       "   'Gs': 6,\n",
       "   'Rp': 0,\n",
       "   'Rc': 0,\n",
       "   'R+': 0,\n",
       "   'R-': 0,\n",
       "   'Ass': 0,\n",
       "   'Asf': 0,\n",
       "   'Amm': 0,\n",
       "   'Esp': 0,\n",
       "   'Au': 0}}}"
      ]
     },
     "execution_count": 3,
     "metadata": {},
     "output_type": "execute_result"
    }
   ],
   "source": [
    "collection.find_one({'name': 'MUSSO'})"
   ]
  },
  {
   "cell_type": "code",
   "execution_count": 4,
   "metadata": {},
   "outputs": [],
   "source": [
    "\"\"\"\n",
    "Function documentation:\n",
    "This is the general function to update the owner of a player.\n",
    "Arguments:\n",
    "\n",
    "- new_owner: string, the new owner of the team (pietro, luca,...)\n",
    "- mode: string, the acquisition mode (Scambio, draft,...)\n",
    "- squad: assignment in the new team (main or primavera)\n",
    "- name/id: string, use one OR the other as a filter to query the database\n",
    "- time_stamp: boolean. True if you want to register the date of operation in the database\n",
    "- rest: details to access database, set to default values\n",
    "\n",
    "Note: I'm planning to use this function inside higher level functions, which is why I have the timestamp option, \n",
    "if you are doing tests there is no reason to update the date, but if you include this in a market operation function\n",
    "(for instance exchange players) you want to register this and the higher level function will also create the database entry\n",
    "\n",
    "\"\"\"\n",
    "\n",
    "def update_owner(new_owner, mode, squad, loan = False, move_up = False, name = False, Id = False, time_stamp = False, CR = cred['cred'], DB = 'Game', CO = 'Players'):\n",
    "    \n",
    "    cluster = MongoClient(CR)\n",
    "    db = cluster[DB]\n",
    "    collection = db[CO]\n",
    "    \n",
    "    today = date.today()\n",
    "    d1 = today.strftime(\"%Y/%m/%d\")\n",
    "    \n",
    "    if name:\n",
    "        filt = {'name': name}\n",
    "    elif Id:\n",
    "        filt = {'_id': str(Id)}\n",
    "    else:\n",
    "        print('Please enter name or Id argument')\n",
    "        \n",
    "        return None\n",
    "        \n",
    "    dic = collection.find_one(filt)\n",
    "    old_owner = dic['info']['contract']['owner'] #when database structure changes, Modify this and following accordingly\n",
    "    old_team = dic['info']['current_team']['owner'] +', ' + dic['info']['current_team']['squad']\n",
    "    \n",
    "    if loan:\n",
    "\n",
    "        collection.update_one(filt, {'$set':{'info.current_team.previous_team': old_team}}) \n",
    "        collection.update_one(filt, {'$set':{'info.current_team.owner': new_owner}})\n",
    "        collection.update_one(filt, {'$set':{'info.current_team.squad': squad}})\n",
    "        \n",
    "        \n",
    "        if time_stamp:\n",
    "            collection.update_one(filt, {'$set':{'info.current_team.start_date': d1}}) #\n",
    "            print(\"Operation date: \")\n",
    "            return d1\n",
    "    \n",
    "    elif move_up:\n",
    "        \n",
    "        collection.update_one(filt, {'$set':{'info.current_team.previous_team': old_team}}) \n",
    "        collection.update_one(filt, {'$set':{'info.current_team.squad': squad}})\n",
    "        \n",
    "        if time_stamp:\n",
    "            collection.update_one(filt, {'$set':{'info.current_team.start_date': d1}}) #\n",
    "            print(\"Operation date: \")\n",
    "            return d1\n",
    "        \n",
    "        \n",
    "    else:\n",
    "    \n",
    "        collection.update_one(filt, {'$set':{'info.contract.acquisition_mode': mode}})\n",
    "        collection.update_one(filt, {'$set':{'info.contract.previous_owner': old_owner}})\n",
    "        collection.update_one(filt, {'$set':{'info.contract.owner': new_owner}})\n",
    "\n",
    "        collection.update_one(filt, {'$set':{'info.current_team.previous_team': old_team}}) \n",
    "        collection.update_one(filt, {'$set':{'info.current_team.owner': new_owner}})\n",
    "        collection.update_one(filt, {'$set':{'info.current_team.squad': squad}})\n",
    "    \n",
    "        if time_stamp:\n",
    "            collection.update_one(filt, {'$set':{'info.contract.start_date': d1}})\n",
    "            collection.update_one(filt, {'$set':{'info.current_team.start_date': d1}}) #redundant\n",
    "            print(\"Operation date: \")\n",
    "            return d1"
   ]
  },
  {
   "cell_type": "code",
   "execution_count": 26,
   "metadata": {},
   "outputs": [],
   "source": [
    "\"\"\"\n",
    "This is an inner level class, it performs all the market operations and creates database entries\n",
    "But we'll use it inside another class, so all operations need to be confirmed before being saved\n",
    "\n",
    "\"\"\"\n",
    "\n",
    "\n",
    "class transfer:\n",
    "    \n",
    "    #need to add quotation info everywhere, maybe as return of transf_db\n",
    "\n",
    "    def __init__(self, name, CR, DB, CO):\n",
    "        \n",
    "        cluster = MongoClient(CR)\n",
    "        db = cluster[DB]\n",
    "        \n",
    "        self.collection = db[CO]\n",
    "        self.name = name\n",
    "        self.info = collection.find_one({'name': name})\n",
    "        self.CC = (CR, DB, CO)\n",
    "    \n",
    "    def draft_in(self, new_owner, squad, cost = 0):\n",
    "        (CR, DB, CO) = self.CC\n",
    "        #print(new_owner+' has acquired '+self.name+' through draft.\\nAssigned to '+squad+' squad\\n')\n",
    "        d1 = update_owner(new_owner = new_owner, mode = 'Draft', squad = squad, name = self.name, time_stamp = True, CR = CR, DB = DB, CO = CO)\n",
    "        \n",
    "        self.collection.update_one({'name': self.name},{'$set':{'info.contract.cost': cost}})\n",
    "        #transf_db_update() #function to be defined\n",
    "        \n",
    "        return d1\n",
    "    \n",
    "    def auction_in(self, new_owner, squad, cost):\n",
    "        (CR, DB, CO) = self.CC\n",
    "        #print(new_owner+' has acquired '+self.name+' through auction for '+str(cost)+' FM.\\nAssigned to '+squad+' squad\\n')\n",
    "        d1 = update_owner(new_owner = new_owner, mode = 'Asta', squad = squad, name = self.name, time_stamp = True, CR = CR, DB = DB, CO = CO)\n",
    "        \n",
    "        self.collection.update_one({'name': self.name},{'$set':{'info.contract.cost': cost}})\n",
    "        #transf_db_update() #function to be defined, includes budgets adjustments\n",
    "        \n",
    "        return d1\n",
    "    \n",
    "    def cash_in(self, new_owner, squad, cost):\n",
    "        (CR, DB, CO) = self.CC\n",
    "        #print(new_owner+' has acquired '+self.name+' through auction for '+str(cost)+' FM.\\nAssigned to '+squad+' squad\\n')\n",
    "        d1 = update_owner(new_owner = new_owner, mode = 'Acquisto', squad = squad, name = self.name, time_stamp = True, CR = CR, DB = DB, CO = CO)\n",
    "        \n",
    "        self.collection.update_one({'name': self.name},{'$set':{'info.contract.cost': cost}})\n",
    "        #transf_db_update() #function to be defined, includes budgets adjustments\n",
    "        \n",
    "        \n",
    "        return d1\n",
    "    \n",
    "    def exchange_with(self, exch_player, cost, squad, squad_exch):\n",
    "        \n",
    "        #PROBABLY SOME MISTAKE HERE, DOUBLE CHECK\n",
    "        \n",
    "        (CR, DB, CO) = self.CC\n",
    "        collection = self.collection\n",
    "        self.exch_player = exch_player\n",
    "        \n",
    "        \n",
    "        exch_info = collection.find_one({'name': exch_player})\n",
    "        exch_owner = exch_info['info']['contract']['owner']\n",
    "        owner = self.info['info']['contract']['owner']\n",
    "        \n",
    "        \n",
    "        d1 = update_owner(new_owner = exch_owner, mode = 'Scambio', squad = squad, name = self.name, time_stamp = False, CR = CR, DB = DB, CO = CO)\n",
    "        d1 = update_owner(new_owner = owner, mode = 'Scambio', squad = squad_exch, name = exch_player, time_stamp = True, CR = CR, DB = DB, CO = CO)\n",
    "        \n",
    "        self.collection.update_one({'name': self.name},{'$set':{'info.contract.cost': max(0, cost)}})\n",
    "        self.collection.update_one({'name': exch_player},{'$set':{'info.contract.cost': max(0, -cost)}})\n",
    "        \n",
    "        #transf_db_update() #function to be defined, includes budgets adjustments\n",
    "        return d1\n",
    "    \n",
    "    def loan_to(self, owner, cost, squad, end_season = None, final_fee = None):\n",
    "        (CR, DB, CO) = self.CC\n",
    "        collection = self.collection\n",
    "        d1 = update_owner(new_owner = owner, mode = None, squad = squad, loan = True, name = self.name, time_stamp = True, CR = CR, DB = DB, CO = CO)\n",
    "        \n",
    "        import datetime\n",
    "        date = datetime.datetime.strptime(d1, '%Y/%m/%d')\n",
    "        \n",
    "        m, y = date_obj.month, date_obj.year\n",
    "        if m > y:\n",
    "            y = y + 1\n",
    "        \n",
    "        loan_info = {\n",
    "        'start_date': d1,\n",
    "        'expire_date': str(y)+'/07/31',\n",
    "        'cost': cost,\n",
    "        'redemption_info': end_season, #None, Option or Must\n",
    "        'redemption_cost': final_fee, # None or >0\n",
    "        }\n",
    "        \n",
    "        collection.update_one({'name': self.name}, {'$set':{'info.current_team.on_loan': True}}) \n",
    "        collection.update_one({'name': self.name}, {'$set':{'info.current_team.loan_info': loan_info}}) \n",
    "        \n",
    "        return d1\n",
    "    \n",
    "    def end_loan(self, squad):\n",
    "        (CR, DB, CO) = self.CC\n",
    "        collection = self.collection\n",
    "        \n",
    "        dic = self.info\n",
    "        owner = dic['info']['contract']['owner']\n",
    "        \n",
    "        d1 = update_owner(new_owner = owner, mode = None, squad = squad, loan = True, name = self.name, time_stamp = True, CR = CR, DB = DB, CO = CO)\n",
    "        \n",
    "        collection.update_one({'name': self.name}, {'$set':{'info.current_team.on_loan': False}}) \n",
    "        collection.update_one({'name': self.name}, {'$set':{'info.current_team.loan_info': None}}) \n",
    "        \n",
    "        return d1\n",
    "        \n",
    "        \n",
    "    def move_up(self):\n",
    "        (CR, DB, CO) = self.CC\n",
    "        d1 = update_owner(new_owner = None, mode = None, squad = 'main', move_up = True, name = self.name, time_stamp = True, CR = CR, DB = DB, CO = CO)\n",
    "        \n",
    "        return d1\n",
    "        \n",
    "        "
   ]
  },
  {
   "cell_type": "code",
   "execution_count": 27,
   "metadata": {},
   "outputs": [],
   "source": [
    "\"\"\"\n",
    "This second layer is designed to prevent accidental changes in the database:\n",
    "First all the players collection is duplicated to a temp one\n",
    "then all the changes are made in the temp\n",
    "\n",
    "NOTE: we need to add the equivalent for the transfer database, but we first need to design the db_update function\n",
    "\"\"\"\n",
    "\n",
    "class market_session:\n",
    "    \n",
    "    def __init__(self, ID, CR = cred['cred'], DB = 'Game', CO = 'Players'):\n",
    "        #copy entire database into tempPlayers\n",
    "        \n",
    "        cluster = MongoClient(CR)\n",
    "        db = cluster[DB]\n",
    "        collection = db[CO]\n",
    "        COt = 'tempPlayers'\n",
    "        collectionT = db[COt]\n",
    "        \n",
    "        posts = list(collection.find({}))\n",
    "        collectionT.insert_many(posts)\n",
    "        \n",
    "        self.ID = ID\n",
    "        self.CC = (CR, DB, COt)\n",
    "        self.CO = CO\n",
    "        \n",
    "        \n",
    "    def select_pl(self, name):\n",
    "        (CR, DB, COt) = self.CC\n",
    "        self.player = transfer(name, CR, DB, COt)\n",
    "    \n",
    "    def confirm_session(self):\n",
    "        #here we span through both temp collections (players and transfers) and replace/add entries to the official database\n",
    "        #then we erase the temp databases\n",
    "        (CR, DB, COt) = self.CC\n",
    "        CO = self.CO\n",
    "        \n",
    "        cluster = MongoClient(CR)\n",
    "        db = cluster[DB]\n",
    "        collection = db[CO]\n",
    "        \n",
    "        collectionT = db[COt]\n",
    "        posts = list(collectionT.find({}))\n",
    "        collection.delete_many({})\n",
    "        collection.insert_many(posts)\n",
    "        \n",
    "        collectionT.delete_many({})\n",
    "        \n",
    "        \n",
    "    def cancel_session(self):\n",
    "        #erase temporary database: need to redefine market session\n",
    "        (CR, DB, COt) = self.CC\n",
    "        \n",
    "        cluster = MongoClient(CR)\n",
    "        db = cluster[DB]\n",
    "        collectionT = db[COt]\n",
    "        \n",
    "        collectionT.delete_many({})"
   ]
  },
  {
   "cell_type": "code",
   "execution_count": 28,
   "metadata": {},
   "outputs": [],
   "source": [
    "def player(name, session):\n",
    "    #select one player and assign it to a variable \n",
    "    session.select_pl(name)\n",
    "    return session.player #returns a class transfer object"
   ]
  },
  {
   "cell_type": "code",
   "execution_count": 30,
   "metadata": {},
   "outputs": [],
   "source": [
    "#define market session with id number (not necessary)\n",
    "sess = market_session(1)"
   ]
  },
  {
   "cell_type": "code",
   "execution_count": 31,
   "metadata": {},
   "outputs": [],
   "source": [
    "#create a transfer class object\n",
    "pl1 = player('MUSSO', sess)"
   ]
  },
  {
   "cell_type": "code",
   "execution_count": 66,
   "metadata": {},
   "outputs": [],
   "source": [
    "#another example\n",
    "pl2 = player('RONALDO', sess)"
   ]
  },
  {
   "cell_type": "code",
   "execution_count": 67,
   "metadata": {},
   "outputs": [
    {
     "data": {
      "text/plain": [
       "'RONALDO'"
      ]
     },
     "execution_count": 67,
     "metadata": {},
     "output_type": "execute_result"
    }
   ],
   "source": [
    "#check name\n",
    "pl2.name"
   ]
  },
  {
   "cell_type": "code",
   "execution_count": 32,
   "metadata": {},
   "outputs": [
    {
     "name": "stdout",
     "output_type": "stream",
     "text": [
      "Operation date: \n"
     ]
    },
    {
     "data": {
      "text/plain": [
       "'2020/12/22'"
      ]
     },
     "execution_count": 32,
     "metadata": {},
     "output_type": "execute_result"
    }
   ],
   "source": [
    "#perform operations\n",
    "pl1.draft_in('luca','primavera')"
   ]
  },
  {
   "cell_type": "code",
   "execution_count": 82,
   "metadata": {},
   "outputs": [
    {
     "name": "stdout",
     "output_type": "stream",
     "text": [
      "Operation date: \n"
     ]
    }
   ],
   "source": [
    "pl2.loan_to('luca', 10, 'primavera', 'Option', final_fee = 100)"
   ]
  },
  {
   "cell_type": "code",
   "execution_count": 33,
   "metadata": {},
   "outputs": [
    {
     "data": {
      "text/plain": [
       "{'_id': 2792,\n",
       " 'name': 'MUSSO',\n",
       " 'info': {'personal_info': {'full_name': 'Musso Juan',\n",
       "   'birthdate': '06/05/1994',\n",
       "   'nation': 'Argentina, Italia',\n",
       "   'team_real': 'Udinese',\n",
       "   'FC_role': 'P'},\n",
       "  'contract': {'owner': 'luca',\n",
       "   'start_date': '2020/12/22',\n",
       "   'cost': 100,\n",
       "   'acquisition_mode': 'Draft',\n",
       "   'previous_owner': 'pietro',\n",
       "   'quotation_initial': 11},\n",
       "  'current_team': {'owner': 'luca',\n",
       "   'squad': 'primavera',\n",
       "   'start_date': '2020/12/22',\n",
       "   'previous_team': 'pietro, main',\n",
       "   'quotation_initial': 11,\n",
       "   'on_loan': False},\n",
       "  'stats': {'Pg': 4,\n",
       "   'Mv': 5.88,\n",
       "   'Mf': 4.38,\n",
       "   'Gf': 0,\n",
       "   'Gs': 6,\n",
       "   'Rp': 0,\n",
       "   'Rc': 0,\n",
       "   'R+': 0,\n",
       "   'R-': 0,\n",
       "   'Ass': 0,\n",
       "   'Asf': 0,\n",
       "   'Amm': 0,\n",
       "   'Esp': 0,\n",
       "   'Au': 0}}}"
      ]
     },
     "execution_count": 33,
     "metadata": {},
     "output_type": "execute_result"
    }
   ],
   "source": [
    "#check transaction\n",
    "db['tempPlayers'].find_one({'name': 'MUSSO'})"
   ]
  },
  {
   "cell_type": "code",
   "execution_count": 29,
   "metadata": {},
   "outputs": [],
   "source": [
    "#UNCOMMENT ONLY AT THE END OF THE SESSION WHEN YOU ARE SURE EVERYTHING IS CORRECT\n",
    "\n",
    "#sess.confirm_session()\n",
    "\n",
    "#UNCOMMENT IF YOU WANT TO REVERT ALL THE OPERATIONS OF CURRENT SESSION\n",
    "\n",
    "sess.cancel_session()"
   ]
  },
  {
   "cell_type": "code",
   "execution_count": 93,
   "metadata": {},
   "outputs": [
    {
     "data": {
      "text/plain": [
       "{'_id': 2792,\n",
       " 'name': 'MUSSO',\n",
       " 'info': {'personal_info': {'full_name': 'Musso Juan',\n",
       "   'birthdate': '06/05/1994',\n",
       "   'nation': 'Argentina, Italia',\n",
       "   'team_real': 'Udinese',\n",
       "   'FC_role': 'P'},\n",
       "  'contract': {'owner': 'pietro',\n",
       "   'start_date': '01/08/2020',\n",
       "   'cost': 0,\n",
       "   'acquisition_mode': '',\n",
       "   'previous_owner': '',\n",
       "   'quotation_initial': 11},\n",
       "  'current_team': {'owner': 'pietro',\n",
       "   'squad': '',\n",
       "   'start_date': '01/08/2020',\n",
       "   'previous_team': '',\n",
       "   'quotation_initial': 11,\n",
       "   'on_loan': False},\n",
       "  'stats': {'Pg': 4,\n",
       "   'Mv': 5.88,\n",
       "   'Mf': 4.38,\n",
       "   'Gf': 0,\n",
       "   'Gs': 6,\n",
       "   'Rp': 0,\n",
       "   'Rc': 0,\n",
       "   'R+': 0,\n",
       "   'R-': 0,\n",
       "   'Ass': 0,\n",
       "   'Asf': 0,\n",
       "   'Amm': 0,\n",
       "   'Esp': 0,\n",
       "   'Au': 0}}}"
      ]
     },
     "execution_count": 93,
     "metadata": {},
     "output_type": "execute_result"
    }
   ],
   "source": [
    "collection.find_one({'name': 'MUSSO'})"
   ]
  },
  {
   "cell_type": "code",
   "execution_count": null,
   "metadata": {},
   "outputs": [],
   "source": []
  }
 ],
 "metadata": {
  "kernelspec": {
   "display_name": "Python 3",
   "language": "python",
   "name": "python3"
  },
  "language_info": {
   "codemirror_mode": {
    "name": "ipython",
    "version": 3
   },
   "file_extension": ".py",
   "mimetype": "text/x-python",
   "name": "python",
   "nbconvert_exporter": "python",
   "pygments_lexer": "ipython3",
   "version": "3.7.6"
  }
 },
 "nbformat": 4,
 "nbformat_minor": 4
}
