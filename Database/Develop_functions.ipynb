{
 "cells": [
  {
   "cell_type": "markdown",
   "metadata": {},
   "source": [
    "### The logic of the notebook\n",
    "\n",
    "In order to be able to perform multiple operations I have designed the system as follows:\n",
    "\n",
    "- first, I create the most basic function which just updates the owner of a player\n",
    "- then I defined the class transfer, with argument name of the player\n",
    "    - the class transfer can perform all market operations and then save database entries\n",
    "    - however, it is not convenient to save directly to the database, in case there are accidental mistakes\n",
    "- so I created another class called market session:\n",
    "    - first, you start a market session and create each transfer within the session using the inner class transfer\n",
    "    - when you are done with all the transfers, and are sure there are no mistakes you confirm the session\n",
    "    - if you notice a mistake you can cancel the session and the databases rest unchanged\n",
    "    \n",
    "    \n",
    "## OPEN QUESTIONS:\n",
    "\n",
    "- what is the cost for draft? I set it to 0 for now\n",
    "- is this the best way to define exchanges?\n",
    "- we could in principle include in the player's info last transfer operation's id, but it is enough to look at the most recent in the transfer db"
   ]
  },
  {
   "cell_type": "code",
   "execution_count": 1,
   "metadata": {},
   "outputs": [
    {
     "name": "stderr",
     "output_type": "stream",
     "text": [
      "/Users/lucaagozzino/opt/anaconda3/lib/python3.7/site-packages/pymongo/common.py:559: UserWarning: Unknown option retryWrites\n",
      "  warnings.warn(str(exc))\n"
     ]
    }
   ],
   "source": [
    "import pandas as pd\n",
    "import numpy as np\n",
    "import datetime\n",
    "from datetime import date\n",
    "import json\n",
    "import copy\n",
    "from pymongo import MongoClient\n",
    "from pprint import pprint\n",
    "import pymongo\n",
    "\n",
    "from datetime import date\n",
    "\n",
    "with open('credential.json','r') as f:\n",
    "    cred = json.load(f)\n",
    "\n",
    "cluster = MongoClient(cred['cred'])\n",
    "# choosing database\n",
    "db = cluster[\"Game\"]\n",
    "# choosing collection\n",
    "collection = db[\"Players\"]"
   ]
  },
  {
   "cell_type": "code",
   "execution_count": 2,
   "metadata": {},
   "outputs": [
    {
     "data": {
      "text/plain": [
       "{'_id': 2792,\n",
       " 'name': 'MUSSO',\n",
       " 'info': {'personal_info': {'full_name': 'Musso Juan',\n",
       "   'birthdate': '06/05/1994',\n",
       "   'nation': 'Argentina, Italia',\n",
       "   'team_real': 'Udinese',\n",
       "   'FC_role': 'P'},\n",
       "  'contract': {'owner': 'pietro',\n",
       "   'start_date': '01/08/2020',\n",
       "   'cost': 0,\n",
       "   'acquisition_mode': '',\n",
       "   'previous_owner': '',\n",
       "   'quotation_initial': 11},\n",
       "  'current_team': {'owner': 'pietro',\n",
       "   'squad': 'main',\n",
       "   'start_date': '01/08/2020',\n",
       "   'previous_team': '',\n",
       "   'quotation_initial': 11,\n",
       "   'on_loan': False},\n",
       "  'stats': {'Pg': 4,\n",
       "   'Mv': 5.88,\n",
       "   'Mf': 4.38,\n",
       "   'Gf': 0,\n",
       "   'Gs': 6,\n",
       "   'Rp': 0,\n",
       "   'Rc': 0,\n",
       "   'R+': 0,\n",
       "   'R-': 0,\n",
       "   'Ass': 0,\n",
       "   'Asf': 0,\n",
       "   'Amm': 0,\n",
       "   'Esp': 0,\n",
       "   'Au': 0}}}"
      ]
     },
     "execution_count": 2,
     "metadata": {},
     "output_type": "execute_result"
    }
   ],
   "source": [
    "collection.find_one({'name': 'MUSSO'})"
   ]
  },
  {
   "cell_type": "code",
   "execution_count": 3,
   "metadata": {},
   "outputs": [],
   "source": [
    "\"\"\"\n",
    "Function documentation:\n",
    "This is the general function to update the owner of a player.\n",
    "Arguments:\n",
    "\n",
    "- new_owner: string, the new owner of the team (pietro, luca,...)\n",
    "- mode: string, the acquisition mode (Scambio, draft,...)\n",
    "- squad: assignment in the new team (main or primavera)\n",
    "- name/id: string, use one OR the other as a filter to query the database\n",
    "- time_stamp: boolean. True if you want to register the date of operation in the database\n",
    "- rest: details to access database, set to default values\n",
    "\n",
    "Note: I'm planning to use this function inside higher level functions, which is why I have the timestamp option, \n",
    "if you are doing tests there is no reason to update the date, but if you include this in a market operation function\n",
    "(for instance exchange players) you want to register this and the higher level function will also create the database entry\n",
    "\n",
    "\"\"\"\n",
    "\n",
    "def update_owner(new_owner, mode, squad, loan = False, move_up = False, name = False, Id = False, time_stamp = False, CR = cred['cred'], DB = 'Game', CO = 'Players'):\n",
    "    \n",
    "    cluster = MongoClient(CR)\n",
    "    db = cluster[DB]\n",
    "    collection = db[CO]\n",
    "    \n",
    "    today = date.today()\n",
    "    d1 = today.strftime(\"%Y/%m/%d\")\n",
    "    \n",
    "    if name:\n",
    "        filt = {'name': name}\n",
    "    elif Id:\n",
    "        filt = {'_id': str(Id)}\n",
    "    else:\n",
    "        print('Please enter name or Id argument')\n",
    "        \n",
    "        return None\n",
    "        \n",
    "    dic = collection.find_one(filt)\n",
    "    old_owner = dic['info']['contract']['owner'] #when database structure changes, Modify this and following accordingly\n",
    "    old_team = dic['info']['current_team']['owner'] +', ' + dic['info']['current_team']['squad']\n",
    "    \n",
    "    if loan:\n",
    "\n",
    "        collection.update_one(filt, {'$set':{'info.current_team.previous_team': old_team}}) \n",
    "        collection.update_one(filt, {'$set':{'info.current_team.owner': new_owner}})\n",
    "        collection.update_one(filt, {'$set':{'info.current_team.squad': squad}})\n",
    "        \n",
    "        \n",
    "        if time_stamp:\n",
    "            collection.update_one(filt, {'$set':{'info.current_team.start_date': d1}}) #\n",
    "            print(\"Operation date: \")\n",
    "            return d1\n",
    "    \n",
    "    elif move_up:\n",
    "        \n",
    "        collection.update_one(filt, {'$set':{'info.current_team.previous_team': old_team}}) \n",
    "        collection.update_one(filt, {'$set':{'info.current_team.squad': squad}})\n",
    "        \n",
    "        if time_stamp:\n",
    "            collection.update_one(filt, {'$set':{'info.current_team.start_date': d1}}) #\n",
    "            print(\"Operation date: \")\n",
    "            return d1\n",
    "        \n",
    "        \n",
    "    else:\n",
    "    \n",
    "        collection.update_one(filt, {'$set':{'info.contract.acquisition_mode': mode}})\n",
    "        collection.update_one(filt, {'$set':{'info.contract.previous_owner': old_owner}})\n",
    "        collection.update_one(filt, {'$set':{'info.contract.owner': new_owner}})\n",
    "\n",
    "        collection.update_one(filt, {'$set':{'info.current_team.previous_team': old_team}}) \n",
    "        collection.update_one(filt, {'$set':{'info.current_team.owner': new_owner}})\n",
    "        collection.update_one(filt, {'$set':{'info.current_team.squad': squad}})\n",
    "    \n",
    "        if time_stamp:\n",
    "            collection.update_one(filt, {'$set':{'info.contract.start_date': d1}})\n",
    "            collection.update_one(filt, {'$set':{'info.current_team.start_date': d1}}) #redundant\n",
    "            print(\"Operation date: \")\n",
    "            return d1"
   ]
  },
  {
   "cell_type": "code",
   "execution_count": 4,
   "metadata": {},
   "outputs": [],
   "source": [
    "def update_Tr_DB(transfer_data, CR = cred['cred'], DB = 'Game', COT = 'Transfers'):\n",
    "    cluster = MongoClient(CR)\n",
    "    db = cluster[DB]\n",
    "    collection = db[COT]\n",
    "    \n",
    "    now = datetime.datetime.today()\n",
    "    Id = now.strftime(\"%Y%m%d%H%M%S\")\n",
    "    \n",
    "    dic0 = transfer_data[0]\n",
    "    \n",
    "    if dic0['operation'] in ['Asta', 'Draft', 'Acquisto', 'Prestito', 'Fine Prestito', 'Promozione']:\n",
    "        dic0['_id'] = Id\n",
    "        \n",
    "        collection.insert_one(dic0)\n",
    "    \n",
    "    if dic0['operation'] == 'Scambio':\n",
    "        \n",
    "        dic1 = transfer_data[1]\n",
    "        \n",
    "        \n",
    "        dic0['_id'] = Id\n",
    "        dic1['_id'] = str(int(Id) + 1)\n",
    "        \n",
    "        collection.insert_one(dic0)\n",
    "        collection.insert_one(dic1)\n",
    "    "
   ]
  },
  {
   "cell_type": "code",
   "execution_count": 5,
   "metadata": {},
   "outputs": [],
   "source": [
    "\"\"\"\n",
    "This is an inner level class, it performs all the market operations and creates database entries\n",
    "But we'll use it inside another class, so all operations need to be confirmed before being saved\n",
    "\n",
    "\"\"\"\n",
    "\n",
    "\n",
    "class transfer:\n",
    "    \n",
    "    #need to add quotation info everywhere, maybe as return of transf_db\n",
    "\n",
    "    def __init__(self, name, CR, DB, CO, COT):\n",
    "        \n",
    "        cluster = MongoClient(CR)\n",
    "        db = cluster[DB]\n",
    "        \n",
    "        self.collection = db[CO]\n",
    "        self.name = name\n",
    "        self.info = collection.find_one({'name': name})\n",
    "        self.CC = (CR, DB, CO)\n",
    "        self.COT = COT\n",
    "        \n",
    "    def draft_in(self, new_owner, squad, cost = 0):\n",
    "        (CR, DB, CO) = self.CC\n",
    "        #print(new_owner+' has acquired '+self.name+' through draft.\\nAssigned to '+squad+' squad\\n')\n",
    "        d1 = update_owner(new_owner = new_owner, mode = 'Draft', squad = squad, name = self.name, time_stamp = True, CR = CR, DB = DB, CO = CO)\n",
    "        \n",
    "        self.collection.update_one({'name': self.name},{'$set':{'info.contract.cost': cost}})\n",
    "        \n",
    "        \n",
    "        transfer_data = [{\n",
    "            'name': self.name,\n",
    "            'operation': 'Draft',\n",
    "            'new_owner': new_owner,\n",
    "            'squad': squad,\n",
    "            'cost': cost,\n",
    "            'date': d1\n",
    "                      }]\n",
    "        \n",
    "        \n",
    "        update_Tr_DB(transfer_data, CR, DB, self.COT)\n",
    "        #transf_db_update() #function to be defined\n",
    "        \n",
    "        \n",
    "        \n",
    "        return d1\n",
    "    \n",
    "    def auction_in(self, new_owner, squad, cost):\n",
    "        (CR, DB, CO) = self.CC\n",
    "        #print(new_owner+' has acquired '+self.name+' through auction for '+str(cost)+' FM.\\nAssigned to '+squad+' squad\\n')\n",
    "        d1 = update_owner(new_owner = new_owner, mode = 'Asta', squad = squad, name = self.name, time_stamp = True, CR = CR, DB = DB, CO = CO)\n",
    "        \n",
    "        self.collection.update_one({'name': self.name},{'$set':{'info.contract.cost': cost}})\n",
    "        #transf_db_update() #function to be defined, includes budgets adjustments\n",
    "        \n",
    "        transfer_data = [{\n",
    "            'name': self.name,\n",
    "            'operation': 'Asta',\n",
    "            'new_owner': new_owner,\n",
    "            'squad': squad,\n",
    "            'cost': cost,\n",
    "            'date': d1\n",
    "                      }]\n",
    "        \n",
    "        \n",
    "        update_Tr_DB(transfer_data, CR, DB, self.COT)\n",
    "        \n",
    "        \n",
    "        \n",
    "        return d1\n",
    "    \n",
    "    def cash_in(self, new_owner, squad, cost):\n",
    "        old_owner = self.info['info']['contract']['owner']\n",
    "        (CR, DB, CO) = self.CC\n",
    "        #print(new_owner+' has acquired '+self.name+' through auction for '+str(cost)+' FM.\\nAssigned to '+squad+' squad\\n')\n",
    "        d1 = update_owner(new_owner = new_owner, mode = 'Acquisto', squad = squad, name = self.name, time_stamp = True, CR = CR, DB = DB, CO = CO)\n",
    "        \n",
    "        self.collection.update_one({'name': self.name},{'$set':{'info.contract.cost': cost}})\n",
    "        #transf_db_update() #function to be defined, includes budgets adjustments\n",
    "        \n",
    "        transfer_data = [{\n",
    "            'name': self.name,\n",
    "            'operation': 'Acquisto',\n",
    "            'new_owner': new_owner,\n",
    "            'old_owner': old_owner,\n",
    "            'squad': squad,\n",
    "            'cost': cost,\n",
    "            'date': d1\n",
    "                      }]\n",
    "        \n",
    "        \n",
    "        update_Tr_DB(transfer_data, CR, DB, self.COT)\n",
    "        \n",
    "        return d1\n",
    "    \n",
    "    def exchange_with(self, exch_player, cost, squad, squad_exch_pl):\n",
    "        \n",
    "        #THIS IS PROBABLY THE MOST PROBLEMATIC, MAYBE WE NEED A BETTER WAY TO DEFINE IT\n",
    "        #MAYBE JUST RENAMING SOME VARIABLES WILL SUFFICE\n",
    "        \n",
    "        (CR, DB, CO) = self.CC\n",
    "        collection = self.collection\n",
    "        self.exch_player = exch_player\n",
    "        \n",
    "        \n",
    "        exch_info = collection.find_one({'name': exch_player})\n",
    "        exch_owner = exch_info['info']['contract']['owner']\n",
    "        owner = self.info['info']['contract']['owner']\n",
    "        \n",
    "        \n",
    "        d1 = update_owner(new_owner = exch_owner, mode = 'Scambio', squad = squad, name = self.name, time_stamp = False, CR = CR, DB = DB, CO = CO)\n",
    "        d1 = update_owner(new_owner = owner, mode = 'Scambio', squad = squad_exch_pl, name = exch_player, time_stamp = True, CR = CR, DB = DB, CO = CO)\n",
    "        \n",
    "        self.collection.update_one({'name': self.name},{'$set':{'info.contract.cost': max(0, cost)}})\n",
    "        self.collection.update_one({'name': exch_player},{'$set':{'info.contract.cost': max(0, - cost)}})\n",
    "        \n",
    "        \n",
    "        transfer_data_0 = {\n",
    "            'name': self.name,\n",
    "            'operation': 'Scambio',\n",
    "            'new_owner': exch_owner,\n",
    "            'exchange_player': exch_player,\n",
    "            'squad': squad,\n",
    "            'cost': max(0, cost),\n",
    "            'date': d1\n",
    "                      }\n",
    "        transfer_data_1 = {\n",
    "            'name': exch_player,\n",
    "            'operation': 'Scambio',\n",
    "            'new_owner': owner,\n",
    "            'exchange_player': self.name,\n",
    "            'squad': squad_exch_pl,\n",
    "            'cost': max(0, -cost),\n",
    "            'date': d1\n",
    "                      }\n",
    "        transfer_data = [transfer_data_0, transfer_data_1]\n",
    "        \n",
    "        update_Tr_DB(transfer_data, CR, DB, self.COT)\n",
    "        \n",
    "        \n",
    "        \n",
    "        \n",
    "        return d1\n",
    "    \n",
    "    def loan_to(self, owner, cost, squad, end_season = None, final_fee = None):\n",
    "        (CR, DB, CO) = self.CC\n",
    "        collection = self.collection\n",
    "        d1 = update_owner(new_owner = owner, mode = None, squad = squad, loan = True, name = self.name, time_stamp = True, CR = CR, DB = DB, CO = CO)\n",
    "        \n",
    "        import datetime\n",
    "        date = datetime.datetime.strptime(d1, '%Y/%m/%d')\n",
    "        \n",
    "        m, y = date.month, date.year\n",
    "        if m > 7:\n",
    "            y = y + 1\n",
    "        \n",
    "        loan_info = {\n",
    "        'start_date': d1,\n",
    "        'expire_date': str(y)+'/07/31', #all loans expire the successive July 31st\n",
    "        'cost': cost,\n",
    "        'redemption_info': end_season, #None, Option or Must\n",
    "        'redemption_cost': final_fee, # None or >0\n",
    "        }\n",
    "        \n",
    "        collection.update_one({'name': self.name}, {'$set':{'info.current_team.on_loan': True}}) \n",
    "        collection.update_one({'name': self.name}, {'$set':{'info.current_team.loan_info': loan_info}}) \n",
    "        \n",
    "        transfer_data = [{\n",
    "            'name': self.name,\n",
    "            'operation': 'Prestito',\n",
    "            'new_team': owner +', '+ squad,\n",
    "            'loan_info': loan_info,\n",
    "            'date': d1\n",
    "                      }]\n",
    "        \n",
    "        \n",
    "        update_Tr_DB(transfer_data, CR, DB, self.COT)\n",
    "        \n",
    "        return d1\n",
    "    \n",
    "    def end_loan(self, squad, redeemed = False):\n",
    "        (CR, DB, CO) = self.CC\n",
    "        collection = self.collection\n",
    "        \n",
    "        dic = self.info\n",
    "        owner = dic['info']['contract']['owner']\n",
    "        \n",
    "        d1 = update_owner(new_owner = owner, mode = None, squad = squad, loan = True, name = self.name, time_stamp = True, CR = CR, DB = DB, CO = CO)\n",
    "        \n",
    "        collection.update_one({'name': self.name}, {'$set':{'info.current_team.on_loan': False}}) \n",
    "        collection.update_one({'name': self.name}, {'$set':{'info.current_team.loan_info': None}}) \n",
    "        \n",
    "        transfer_data = [{\n",
    "            'name': self.name,\n",
    "            'operation': 'Fine Prestito',\n",
    "            'new_team': owner +', '+ squad,\n",
    "            'redeemed': redeemed,\n",
    "            'date': d1\n",
    "                      }]\n",
    "        \n",
    "        \n",
    "        update_Tr_DB(transfer_data, CR, DB, self.COT)\n",
    "        \n",
    "        if redeemed:\n",
    "            \n",
    "            print('Registrare operazione di trasferimento!!!')\n",
    "        \n",
    "        return d1\n",
    "        \n",
    "        \n",
    "    def move_up(self):\n",
    "        (CR, DB, CO) = self.CC\n",
    "        d1 = update_owner(new_owner = None, mode = None, squad = 'Main', move_up = True, name = self.name, time_stamp = True, CR = CR, DB = DB, CO = CO)\n",
    "        \n",
    "        transfer_data = [{\n",
    "            'name': self.name,\n",
    "            'operation': 'Promozione',\n",
    "            'squad': 'Main',\n",
    "            'date': d1\n",
    "                      }]\n",
    "        \n",
    "        \n",
    "        update_Tr_DB(transfer_data, CR, DB, self.COT)\n",
    "        \n",
    "        return d1\n",
    "        \n",
    "        "
   ]
  },
  {
   "cell_type": "code",
   "execution_count": 6,
   "metadata": {},
   "outputs": [],
   "source": [
    "\"\"\"\n",
    "This second layer is designed to prevent accidental changes in the database:\n",
    "First all the players collection is duplicated to a temp one\n",
    "then all the changes are made in the temp\n",
    "\n",
    "NOTE: we need to add the equivalent for the transfer database, but we first need to design the db_update function\n",
    "\"\"\"\n",
    "\n",
    "class market_session:\n",
    "    \n",
    "    def __init__(self, ID, CR = cred['cred'], DB = 'Game', CO = 'Players', COT = 'Transfers'):\n",
    "        #copy entire database into tempPlayers\n",
    "        \n",
    "        cluster = MongoClient(CR)\n",
    "        db = cluster[DB]\n",
    "        collection = db[CO]\n",
    "        COt = 'tempPlayers'\n",
    "        \n",
    "        collectionT = db[COt]\n",
    "        \n",
    "        posts = list(collection.find({}))\n",
    "        collectionT.insert_many(posts)\n",
    "        \n",
    "        self.ID = ID\n",
    "        self.CC = (CR, DB, COt)\n",
    "        self.CO = CO\n",
    "        self.COTt = 'tempTransfers'\n",
    "        \n",
    "    def select_pl(self, name):\n",
    "        (CR, DB, COt) = self.CC\n",
    "        self.player = transfer(name, CR, DB, COt, self.COTt)\n",
    "    \n",
    "    def confirm_session(self):\n",
    "        #here we span through both temp collections (players and transfers) and replace/add entries to the official database\n",
    "        #then we erase the temp databases\n",
    "        (CR, DB, COt) = self.CC\n",
    "        CO = self.CO\n",
    "        \n",
    "        cluster = MongoClient(CR)\n",
    "        db = cluster[DB]\n",
    "        collection = db[CO]\n",
    "        collectionT = db[COt]\n",
    "        posts = list(collectionT.find({}))\n",
    "        collection.delete_many({})\n",
    "        collection.insert_many(posts)\n",
    "        collectionT.delete_many({})\n",
    "        \n",
    "        coll_tr = db[COT]\n",
    "        coll_trT = db[self.COTt]\n",
    "        posts = list(coll_trT.find({}))\n",
    "        coll_tr.delete_many({})\n",
    "        coll_tr.insert_many(posts)\n",
    "        coll_trT.delete_many({})\n",
    "        \n",
    "        \n",
    "    def cancel_session(self):\n",
    "        #erase temporary database: need to redefine market session\n",
    "        (CR, DB, COt) = self.CC\n",
    "        \n",
    "        cluster = MongoClient(CR)\n",
    "        db = cluster[DB]\n",
    "        collectionT = db[COt]\n",
    "        coll_trT = db[self.COTt]\n",
    "        \n",
    "        collectionT.delete_many({})\n",
    "        coll_trT.delete_many({})"
   ]
  },
  {
   "cell_type": "code",
   "execution_count": 7,
   "metadata": {},
   "outputs": [],
   "source": [
    "def player(name, session):\n",
    "    #select one player and assign it to a variable \n",
    "    session.select_pl(name)\n",
    "    return session.player #returns a class transfer object"
   ]
  },
  {
   "cell_type": "code",
   "execution_count": 8,
   "metadata": {},
   "outputs": [],
   "source": [
    "#define market session with id number (not necessary)\n",
    "#sess = market_session(1)"
   ]
  },
  {
   "cell_type": "code",
   "execution_count": 9,
   "metadata": {},
   "outputs": [],
   "source": [
    "#create a transfer class object\n",
    "musso = player('MUSSO', sess)"
   ]
  },
  {
   "cell_type": "code",
   "execution_count": 10,
   "metadata": {},
   "outputs": [],
   "source": [
    "#other examples\n",
    "ronaldo = player('RONALDO', sess)\n",
    "lukaku = player('LUKAKU', sess)\n",
    "ibra = player('IBRAHIMOVIC', sess)\n",
    "immobile = player('IMMOBILE', sess)\n",
    "orso = player('ORSOLINI', sess)"
   ]
  },
  {
   "cell_type": "code",
   "execution_count": 11,
   "metadata": {},
   "outputs": [
    {
     "data": {
      "text/plain": [
       "'MUSSO'"
      ]
     },
     "execution_count": 11,
     "metadata": {},
     "output_type": "execute_result"
    }
   ],
   "source": [
    "#check name\n",
    "musso.name"
   ]
  },
  {
   "cell_type": "code",
   "execution_count": 12,
   "metadata": {},
   "outputs": [
    {
     "name": "stdout",
     "output_type": "stream",
     "text": [
      "Operation date: \n"
     ]
    },
    {
     "data": {
      "text/plain": [
       "'2020/12/23'"
      ]
     },
     "execution_count": 12,
     "metadata": {},
     "output_type": "execute_result"
    }
   ],
   "source": [
    "#example draft\n",
    "musso.draft_in('luca', squad = 'primavera')"
   ]
  },
  {
   "cell_type": "code",
   "execution_count": 13,
   "metadata": {},
   "outputs": [
    {
     "name": "stdout",
     "output_type": "stream",
     "text": [
      "Operation date: \n"
     ]
    },
    {
     "data": {
      "text/plain": [
       "'2020/12/23'"
      ]
     },
     "execution_count": 13,
     "metadata": {},
     "output_type": "execute_result"
    }
   ],
   "source": [
    "#example auction\n",
    "ronaldo.auction_in('enzo', squad = 'main', cost = 60)"
   ]
  },
  {
   "cell_type": "code",
   "execution_count": 14,
   "metadata": {},
   "outputs": [
    {
     "name": "stdout",
     "output_type": "stream",
     "text": [
      "Operation date: \n"
     ]
    },
    {
     "data": {
      "text/plain": [
       "'2020/12/23'"
      ]
     },
     "execution_count": 14,
     "metadata": {},
     "output_type": "execute_result"
    }
   ],
   "source": [
    "#example buy cash\n",
    "lukaku.cash_in(new_owner = 'nanni', squad = 'main', cost = 100)"
   ]
  },
  {
   "cell_type": "code",
   "execution_count": 15,
   "metadata": {},
   "outputs": [
    {
     "name": "stdout",
     "output_type": "stream",
     "text": [
      "Operation date: \n"
     ]
    },
    {
     "data": {
      "text/plain": [
       "'2020/12/23'"
      ]
     },
     "execution_count": 15,
     "metadata": {},
     "output_type": "execute_result"
    }
   ],
   "source": [
    "#example of exchange operation. The point of view is of the receiving owner:\n",
    "#the cost paid by whoever receives the exchange pl (ronaldo here)\n",
    "#therefore, in this case, if IBRA's NEW owner pays, cost>0, viceversa, cost<0. squad is IBRA's future squad\n",
    "ibra.exchange_with('MARTINEZ L.', cost = 4, squad = 'primavera', squad_exch_pl = 'main')"
   ]
  },
  {
   "cell_type": "code",
   "execution_count": 16,
   "metadata": {},
   "outputs": [
    {
     "name": "stdout",
     "output_type": "stream",
     "text": [
      "Operation date: \n"
     ]
    },
    {
     "data": {
      "text/plain": [
       "'2020/12/23'"
      ]
     },
     "execution_count": 16,
     "metadata": {},
     "output_type": "execute_result"
    }
   ],
   "source": [
    "#example loan\n",
    "immobile.loan_to(owner = 'luca', cost = 25, squad = 'main', end_season = 'Option', final_fee = 30)"
   ]
  },
  {
   "cell_type": "code",
   "execution_count": 17,
   "metadata": {},
   "outputs": [
    {
     "name": "stdout",
     "output_type": "stream",
     "text": [
      "Operation date: \n",
      "Registrare operazione di trasferimento!!!\n"
     ]
    },
    {
     "data": {
      "text/plain": [
       "'2020/12/23'"
      ]
     },
     "execution_count": 17,
     "metadata": {},
     "output_type": "execute_result"
    }
   ],
   "source": [
    "#example end loan (note that in the same session this might cause problems, but it should never happen)\n",
    "immobile.end_loan(squad = 'main', redeemed = True)"
   ]
  },
  {
   "cell_type": "code",
   "execution_count": 18,
   "metadata": {},
   "outputs": [
    {
     "name": "stdout",
     "output_type": "stream",
     "text": [
      "Operation date: \n"
     ]
    },
    {
     "data": {
      "text/plain": [
       "'2020/12/23'"
      ]
     },
     "execution_count": 18,
     "metadata": {},
     "output_type": "execute_result"
    }
   ],
   "source": [
    "#example buying after loan\n",
    "immobile.cash_in(new_owner = 'luca', squad = 'main', cost = 30)"
   ]
  },
  {
   "cell_type": "code",
   "execution_count": 19,
   "metadata": {},
   "outputs": [
    {
     "name": "stdout",
     "output_type": "stream",
     "text": [
      "Operation date: \n"
     ]
    },
    {
     "data": {
      "text/plain": [
       "'2020/12/23'"
      ]
     },
     "execution_count": 19,
     "metadata": {},
     "output_type": "execute_result"
    }
   ],
   "source": [
    "#example promotion\n",
    "orso.move_up()"
   ]
  },
  {
   "cell_type": "code",
   "execution_count": 42,
   "metadata": {},
   "outputs": [],
   "source": [
    "#CONFIRM: RUN ONLY IF TRANSFERS ARE FINAL\n",
    "\n",
    "#sess.confirm_session()\n",
    "\n",
    "#CANCEL: RUN TO DISCARD ALL THE TRANSFERS IN THE DEFINED SESSION\n",
    "\n",
    "sess.cancel_session()"
   ]
  },
  {
   "cell_type": "code",
   "execution_count": 8,
   "metadata": {},
   "outputs": [
    {
     "data": {
      "text/plain": [
       "<pymongo.results.DeleteResult at 0x7fa01a50dbe0>"
      ]
     },
     "execution_count": 8,
     "metadata": {},
     "output_type": "execute_result"
    }
   ],
   "source": [
    "db['tempTransfers'].delete_many({})\n",
    "db['tempPlayers'].delete_many({})"
   ]
  },
  {
   "cell_type": "markdown",
   "metadata": {},
   "source": [
    "## Now I'll try to set this up using ipython widgets"
   ]
  },
  {
   "cell_type": "code",
   "execution_count": 9,
   "metadata": {},
   "outputs": [],
   "source": [
    "import ipywidgets as widgets"
   ]
  },
  {
   "cell_type": "markdown",
   "metadata": {},
   "source": [
    "### Session start/cancel/confirm\n",
    "Run Start it at the beginning and Confirm at the end\n",
    "If some error is made you can cancel the entire session by clicking Cancel"
   ]
  },
  {
   "cell_type": "code",
   "execution_count": 10,
   "metadata": {},
   "outputs": [
    {
     "data": {
      "application/vnd.jupyter.widget-view+json": {
       "model_id": "4e45d790731b42e9bf23e45915bc503a",
       "version_major": 2,
       "version_minor": 0
      },
      "text/plain": [
       "Button(description='Start Session', style=ButtonStyle())"
      ]
     },
     "metadata": {},
     "output_type": "display_data"
    },
    {
     "data": {
      "application/vnd.jupyter.widget-view+json": {
       "model_id": "18d88425373742dea532721862519ec0",
       "version_major": 2,
       "version_minor": 0
      },
      "text/plain": [
       "Button(description='Cancel Session', style=ButtonStyle())"
      ]
     },
     "metadata": {},
     "output_type": "display_data"
    },
    {
     "data": {
      "application/vnd.jupyter.widget-view+json": {
       "model_id": "f388b0b45ec34af89c8670030bb8941f",
       "version_major": 2,
       "version_minor": 0
      },
      "text/plain": [
       "Button(description='Confirm Session', style=ButtonStyle())"
      ]
     },
     "metadata": {},
     "output_type": "display_data"
    },
    {
     "name": "stdout",
     "output_type": "stream",
     "text": [
      "Session Started!\r"
     ]
    }
   ],
   "source": [
    "btn_start = widgets.Button(description='Start Session')\n",
    "display(btn_start)\n",
    "btn_cancel = widgets.Button(description='Cancel Session')\n",
    "display(btn_cancel)\n",
    "btn_confirm = widgets.Button(description='Confirm Session')\n",
    "display(btn_confirm)\n",
    "def sess_start_event(obj):\n",
    "    global sess\n",
    "    print('Session Started!', end=\"\\r\", flush=True)#.format(obj.description))\n",
    "    sess = market_session(1)\n",
    "def sess_cancel_event(obj):\n",
    "    print('Session Canceled!', end=\"\\r\", flush=True)#.format(obj.description))\n",
    "    sess.cancel_session()\n",
    "def sess_confirm_event(obj):\n",
    "    print('Session Confirmed!', end=\"\\r\", flush=True)#.format(obj.description))\n",
    "    sess.cancel_session()\n",
    "btn_start.on_click(sess_start_event)\n",
    "btn_cancel.on_click(sess_cancel_event)\n",
    "btn_confirm.on_click(sess_confirm_event)"
   ]
  },
  {
   "cell_type": "markdown",
   "metadata": {},
   "source": [
    "### Selection of the  player to be transfered"
   ]
  },
  {
   "cell_type": "code",
   "execution_count": 44,
   "metadata": {},
   "outputs": [
    {
     "data": {
      "application/vnd.jupyter.widget-view+json": {
       "model_id": "91251204bcaa486792dbb17ec2b15723",
       "version_major": 2,
       "version_minor": 0
      },
      "text/plain": [
       "interactive(children=(Dropdown(description='Owner', options=('Svincolati', 'luca', 'pietro', 'enzo', 'nanni', …"
      ]
     },
     "metadata": {},
     "output_type": "display_data"
    },
    {
     "data": {
      "application/vnd.jupyter.widget-view+json": {
       "model_id": "980bf5b24b6141d0bc02cc2a41cd2210",
       "version_major": 2,
       "version_minor": 0
      },
      "text/plain": [
       "interactive(children=(Dropdown(description='Player', options=('ACAMPORA', 'ADORANTE', 'AGOUME', 'AGUDELO', 'AK…"
      ]
     },
     "metadata": {},
     "output_type": "display_data"
    }
   ],
   "source": [
    "owners = ['Svincolati','luca','pietro','enzo','nanni','mario','emiliano','franky','musci8']\n",
    "\n",
    "\n",
    "def owner_players(owner):\n",
    "    if owner == 'Svincolati':\n",
    "        results = db['tempPlayers'].find({'info.contract.owner': None})\n",
    "        names = []\n",
    "        for result in results:\n",
    "            names.append(result['name'])\n",
    "    else:\n",
    "        results = db['tempPlayers'].find({'info.contract.owner': owner})\n",
    "        names = []\n",
    "        for result in results:\n",
    "            names.append(result['name'])\n",
    "    names.sort()\n",
    "    return names\n",
    "\n",
    "def confirm_player(Name):\n",
    "    global pl\n",
    "    pl = player(Name, sess)\n",
    "    print('The player selected to be transferred is ' + Name)\n",
    "    \n",
    "\n",
    "def selection(pl_owner):\n",
    "    global G_owner\n",
    "    G_owner = pl_owner\n",
    "    lista.options = owner_players(pl_owner)\n",
    "\n",
    "\n",
    "\n",
    "scW = widgets.Dropdown(options=owners, description = 'Owner')\n",
    "\n",
    "init = scW.value\n",
    "\n",
    "lista = widgets.Dropdown(options=owner_players(init), description = 'Player')\n",
    "\n",
    "j = widgets.interactive(confirm_player, Name=lista)\n",
    "\n",
    "i = widgets.interactive(selection, pl_owner=scW)\n",
    "\n",
    "\n",
    "\n",
    "\n",
    "\n",
    "# new_owner, squad, cost, exch_player, squad_exch_pl, end_season, final_fee\n",
    "\n",
    "\n",
    "display(i)\n",
    "display(j)"
   ]
  },
  {
   "cell_type": "markdown",
   "metadata": {},
   "source": [
    "### Selection of parameters\n",
    "Use only the ones that are relevant to the market operation"
   ]
  },
  {
   "cell_type": "code",
   "execution_count": 93,
   "metadata": {},
   "outputs": [
    {
     "data": {
      "application/vnd.jupyter.widget-view+json": {
       "model_id": "d1c3c691e80c4f889f7e9a1717e21198",
       "version_major": 2,
       "version_minor": 0
      },
      "text/plain": [
       "Dropdown(description='New Owner', options=('luca', 'pietro', 'enzo', 'nanni', 'mario', 'emiliano', 'franky', '…"
      ]
     },
     "metadata": {},
     "output_type": "display_data"
    },
    {
     "data": {
      "application/vnd.jupyter.widget-view+json": {
       "model_id": "fa93574866654743b56e450213cd930a",
       "version_major": 2,
       "version_minor": 0
      },
      "text/plain": [
       "Dropdown(description='New Squad', options=('Main', 'Primavera'), value='Main')"
      ]
     },
     "metadata": {},
     "output_type": "display_data"
    },
    {
     "data": {
      "application/vnd.jupyter.widget-view+json": {
       "model_id": "d797515302ed4b83b2f9faa236434337",
       "version_major": 2,
       "version_minor": 0
      },
      "text/plain": [
       "BoundedFloatText(value=0.0, description='Cost', max=1000.0, min=-1000.0, step=1.0)"
      ]
     },
     "metadata": {},
     "output_type": "display_data"
    },
    {
     "data": {
      "application/vnd.jupyter.widget-view+json": {
       "model_id": "20514cf8a24f419cb4ef046efdb47f04",
       "version_major": 2,
       "version_minor": 0
      },
      "text/plain": [
       "Dropdown(description='Redeem', options=(None, 'Option', 'Must'), value=None)"
      ]
     },
     "metadata": {},
     "output_type": "display_data"
    },
    {
     "data": {
      "application/vnd.jupyter.widget-view+json": {
       "model_id": "2af1c234cb3d4502ad54fef8bb52f97b",
       "version_major": 2,
       "version_minor": 0
      },
      "text/plain": [
       "BoundedFloatText(value=0.0, description='Final fee', max=1000.0, min=-1000.0, step=1.0)"
      ]
     },
     "metadata": {},
     "output_type": "display_data"
    },
    {
     "name": "stdout",
     "output_type": "stream",
     "text": [
      "After operation BENASSI will be owned by luca         squad       \r"
     ]
    }
   ],
   "source": [
    "New_owner = widgets.Dropdown(options =    owners[1:], description = 'New Owner')\n",
    "\n",
    "def new_owner_eventhandler(change):\n",
    "    global new_owner\n",
    "    new_owner = change.new\n",
    "    print('After operation '+pl.name+' will be owned by ' + new_owner+'       ', end=\"\\r\", flush=True)\n",
    "\n",
    "New_owner.observe(new_owner_eventhandler, names = 'value')\n",
    "\n",
    "#display(New_owner)\n",
    "\n",
    "squads = widgets.Dropdown(options = ['Main', 'Primavera'], description = 'New Squad')\n",
    "\n",
    "def squad_eventhandler(change):\n",
    "    global squad\n",
    "    squad = change.new\n",
    "    print('After operation '+pl.name+' will be in ' + new_owner+'\\'s '+squad+' squad       ', end=\"\\r\", flush=True)\n",
    "\n",
    "squads.observe(squad_eventhandler, names = 'value')\n",
    "\n",
    "#display(squads)\n",
    "\n",
    "cost_num = widgets.BoundedFloatText(min=-1000, max=1000, value=0, step=1, description = 'Cost')\n",
    "\n",
    "def cost_num_eventhandler(change):\n",
    "    global cost\n",
    "    cost = change.new\n",
    "    if cost >= 0:\n",
    "        print(new_owner+' will pay ' + str(change.new)+' FM for the operation involving '+pl.name, end=\"\\r\", flush=True)\n",
    "    else:\n",
    "        print(new_owner+' will receive ' + str(- change.new)+' FM for the operation involving '+pl.name, end=\"\\r\", flush=True)\n",
    "        \n",
    "cost_num.observe(cost_num_eventhandler, names='value')\n",
    "\n",
    "\n",
    "End_season = widgets.Dropdown(options = [None, 'Option', 'Must'], description = 'Redeem')\n",
    "\n",
    "def End_season_eventhandler(change):\n",
    "    global end_season\n",
    "    end_season = change.new\n",
    "    if end_season is None:\n",
    "        print('If loan is chosen, no option is selected for end of the season             ', end=\"\\r\", flush=True)\n",
    "    elif end_season is 'Option':\n",
    "        print('If loan is chosen, '+pl.name+' CAN be redeemed at final fee value             ', end=\"\\r\", flush=True)\n",
    "    else:\n",
    "        print('If loan is chosen, '+pl.name+' MUST be redeemed at final fee value             ', end=\"\\r\", flush=True)\n",
    "\n",
    "End_season.observe(End_season_eventhandler, names = 'value')\n",
    "\n",
    "\n",
    "\n",
    "fee_num = widgets.BoundedFloatText(min=-1000, max=1000, value=0, step=1, description = 'Final fee')\n",
    "\n",
    "def fee_num_eventhandler(change):\n",
    "    global final_fee\n",
    "    final_fee = change.new\n",
    "    if cost >= 0:\n",
    "        print(new_owner+' can/will pay ' + str(final_fee)+' to redeem '+pl.name+' at the end of the season            ', end=\"\\r\", flush=True)\n",
    "        \n",
    "fee_num.observe(fee_num_eventhandler, names='value')\n",
    "\n",
    "\n",
    "#display(cost_num)\n",
    "\n",
    "display(New_owner)\n",
    "display(squads)\n",
    "display(cost_num)\n",
    "\n",
    "display(End_season)\n",
    "display(fee_num)"
   ]
  },
  {
   "cell_type": "markdown",
   "metadata": {},
   "source": [
    "## To perform exchanges run cells below AFTER selecting parameters"
   ]
  },
  {
   "cell_type": "code",
   "execution_count": 84,
   "metadata": {},
   "outputs": [
    {
     "data": {
      "application/vnd.jupyter.widget-view+json": {
       "model_id": "1ee71e2387e64ed5bbbb12d5dda6e603",
       "version_major": 2,
       "version_minor": 0
      },
      "text/plain": [
       "Dropdown(description='Exch. Player', options=('BONAZZOLI', 'CALHANOGLU', 'CANDREVA', 'CETIN', 'CHIESA', \"D'AMB…"
      ]
     },
     "metadata": {},
     "output_type": "display_data"
    },
    {
     "data": {
      "application/vnd.jupyter.widget-view+json": {
       "model_id": "a09e4a19c752428c9e961d991879a49b",
       "version_major": 2,
       "version_minor": 0
      },
      "text/plain": [
       "Dropdown(description='Exch. Squad', options=('Main', 'Primavera'), value='Main')"
      ]
     },
     "metadata": {},
     "output_type": "display_data"
    },
    {
     "name": "stdout",
     "output_type": "stream",
     "text": [
      "If exchange is chosen, CARLES PEREZ will be exchanged with CETIN       \r"
     ]
    }
   ],
   "source": [
    "Ex_players = widgets.Dropdown(options = owner_players(new_owner), description = 'Exch. Player')\n",
    "\n",
    "def Ex_pl_eventhandler(change):\n",
    "    global exch_pl\n",
    "    exch_pl = change.new\n",
    "    print('If exchange is chosen, '+pl.name+' will be exchanged with ' + exch_pl+'       ', end=\"\\r\", flush=True)\n",
    "    \n",
    "Ex_players.observe(Ex_pl_eventhandler, names = 'value')\n",
    "\n",
    "#display(Ex_players)\n",
    "\n",
    "Ex_squads = widgets.Dropdown(options = ['Main', 'Primavera'], description = 'Exch. Squad')\n",
    "\n",
    "def squad_eventhandler(change):\n",
    "    global squad_ex_pl\n",
    "    squad_ex_pl = change.new\n",
    "    print('After operation '+exch_pl+' will be in ' + G_owner+'\\'s '+squad_ex_pl+' squad              ', end=\"\\r\", flush=True)\n",
    "\n",
    "Ex_squads.observe(squad_eventhandler, names = 'value')\n",
    "\n",
    "display(Ex_players)\n",
    "display(Ex_squads)"
   ]
  },
  {
   "cell_type": "markdown",
   "metadata": {},
   "source": [
    "### Check variables"
   ]
  },
  {
   "cell_type": "code",
   "execution_count": 14,
   "metadata": {},
   "outputs": [
    {
     "data": {
      "text/plain": [
       "'ACAMPORA'"
      ]
     },
     "execution_count": 14,
     "metadata": {},
     "output_type": "execute_result"
    }
   ],
   "source": [
    "#player to be transfered\n",
    "pl.name"
   ]
  },
  {
   "cell_type": "code",
   "execution_count": 24,
   "metadata": {},
   "outputs": [
    {
     "data": {
      "text/plain": [
       "'luca'"
      ]
     },
     "execution_count": 24,
     "metadata": {},
     "output_type": "execute_result"
    }
   ],
   "source": [
    "#new owner\n",
    "new_owner"
   ]
  },
  {
   "cell_type": "code",
   "execution_count": 82,
   "metadata": {},
   "outputs": [
    {
     "data": {
      "text/plain": [
       "'Main'"
      ]
     },
     "execution_count": 82,
     "metadata": {},
     "output_type": "execute_result"
    }
   ],
   "source": [
    "#squad\n",
    "squad"
   ]
  },
  {
   "cell_type": "code",
   "execution_count": 91,
   "metadata": {},
   "outputs": [
    {
     "data": {
      "text/plain": [
       "'Option'"
      ]
     },
     "execution_count": 91,
     "metadata": {},
     "output_type": "execute_result"
    }
   ],
   "source": [
    "# end season option\n",
    "end_season"
   ]
  },
  {
   "cell_type": "code",
   "execution_count": 92,
   "metadata": {},
   "outputs": [
    {
     "data": {
      "text/plain": [
       "10.0"
      ]
     },
     "execution_count": 92,
     "metadata": {},
     "output_type": "execute_result"
    }
   ],
   "source": [
    "# final fee\n",
    "final_fee"
   ]
  },
  {
   "cell_type": "code",
   "execution_count": 88,
   "metadata": {},
   "outputs": [
    {
     "data": {
      "text/plain": [
       "'CETIN'"
      ]
     },
     "execution_count": 88,
     "metadata": {},
     "output_type": "execute_result"
    }
   ],
   "source": [
    "#exchange player\n",
    "exch_pl"
   ]
  },
  {
   "cell_type": "code",
   "execution_count": 89,
   "metadata": {},
   "outputs": [
    {
     "data": {
      "text/plain": [
       "10.0"
      ]
     },
     "execution_count": 89,
     "metadata": {},
     "output_type": "execute_result"
    }
   ],
   "source": [
    "#cost of operation paid by new owner\n",
    "cost"
   ]
  },
  {
   "cell_type": "markdown",
   "metadata": {},
   "source": [
    "### From now on, I would not used widgets anymore, use scripting"
   ]
  },
  {
   "cell_type": "code",
   "execution_count": null,
   "metadata": {},
   "outputs": [],
   "source": [
    "#example draft\n",
    "pl.draft_in('luca', squad = 'primavera')"
   ]
  },
  {
   "cell_type": "code",
   "execution_count": null,
   "metadata": {},
   "outputs": [],
   "source": [
    "btn_draft = widgets.Button(description='Draft Player')\n",
    "display(btn_draft)\n",
    "def draft_event(obj):\n",
    "    print('Session Started!', end=\"\\r\", flush=True)#.format(obj.description))\n",
    "    pl.draft_in(new_owner, squad = squad, cost = cost)\n",
    "\n",
    "btn_draft.on_click(draft_event)"
   ]
  },
  {
   "cell_type": "code",
   "execution_count": null,
   "metadata": {},
   "outputs": [],
   "source": [
    "btn_start = widgets.Button(description='Start Session')\n",
    "display(btn_start)\n",
    "btn_cancel = widgets.Button(description='Cancel Session')\n",
    "display(btn_cancel)\n",
    "btn_confirm = widgets.Button(description='Confirm Session')\n",
    "display(btn_confirm)\n",
    "def sess_start_event(obj):\n",
    "    global sess\n",
    "    print('Session Started!', end=\"\\r\", flush=True)#.format(obj.description))\n",
    "    sess = market_session(1)\n",
    "def sess_cancel_event(obj):\n",
    "    print('Session Canceled!', end=\"\\r\", flush=True)#.format(obj.description))\n",
    "    sess.cancel_session()\n",
    "def sess_confirm_event(obj):\n",
    "    print('Session Confirmed!', end=\"\\r\", flush=True)#.format(obj.description))\n",
    "    sess.cancel_session()\n",
    "btn_start.on_click(sess_start_event)\n",
    "btn_cancel.on_click(sess_cancel_event)\n",
    "btn_confirm.on_click(sess_confirm_event)"
   ]
  }
 ],
 "metadata": {
  "kernelspec": {
   "display_name": "Python 3",
   "language": "python",
   "name": "python3"
  },
  "language_info": {
   "codemirror_mode": {
    "name": "ipython",
    "version": 3
   },
   "file_extension": ".py",
   "mimetype": "text/x-python",
   "name": "python",
   "nbconvert_exporter": "python",
   "pygments_lexer": "ipython3",
   "version": "3.7.6"
  }
 },
 "nbformat": 4,
 "nbformat_minor": 4
}
