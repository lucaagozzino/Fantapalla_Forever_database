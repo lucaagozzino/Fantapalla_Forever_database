{
 "cells": [
  {
   "cell_type": "markdown",
   "metadata": {},
   "source": [
    "# FP management\n",
    "\n",
    "In thi notebook we will define the various methods to perform changes to the database to keep track of the various events. In particular we will take care of:\n",
    "\n",
    "- Adding new free agent players to the database, when they are included in the FC list\n",
    "- Assigning trophies\n",
    "- Assigning fines\n",
    "- Calculating total roster value to determine the salary, extra budget and luxury tax\n",
    "- Update team_real\n",
    "- TBD\n",
    "- UPDATE PLAYER NAME IF IT HAS CHANGED ON FC:\n",
    "    - Sometime FC changes the name of a player. In 2019/2020 LUKAKU was 'LUKAKU R.', now just 'LUKAKU', because Jordan left serie A. We need a way of scanning the players in our db by ID and update the name as needed. Maybe it can be included in the stats update algorithm\n",
    "    "
   ]
  },
  {
   "cell_type": "code",
   "execution_count": 1,
   "metadata": {},
   "outputs": [],
   "source": [
    "import pandas as pd\n",
    "import numpy as np\n",
    "import datetime\n",
    "from datetime import date\n",
    "import json\n",
    "import copy\n",
    "from pymongo import MongoClient\n",
    "from pprint import pprint\n",
    "import pymongo\n",
    "import progressbar\n",
    "with open('credential.json','r') as f:\n",
    "    cred = json.load(f)\n",
    "stats = pd.read_pickle('../IGNOBEL/Statistiche_giocatori.pkl')"
   ]
  },
  {
   "cell_type": "code",
   "execution_count": null,
   "metadata": {},
   "outputs": [],
   "source": []
  },
  {
   "cell_type": "code",
   "execution_count": 2,
   "metadata": {},
   "outputs": [
    {
     "name": "stderr",
     "output_type": "stream",
     "text": [
      "/Users/lucaagozzino/opt/anaconda3/lib/python3.7/site-packages/pymongo/common.py:559: UserWarning: Unknown option retryWrites\n",
      "  warnings.warn(str(exc))\n"
     ]
    }
   ],
   "source": [
    "cluster = MongoClient(cred['cred'])\n",
    "db = cluster['Game']\n",
    "collection = db['Players']"
   ]
  },
  {
   "cell_type": "markdown",
   "metadata": {},
   "source": [
    "## Update personal info\n",
    "this part is to run through the players in our database and cross check the info with the stats db:\n",
    "- if the player is not in our db, we don't care: we'll add it when someone wants to buy them\n",
    "- if the player is in our db but not in stats it means that it left serie A, so the algorithm should change the team to none:\n",
    "```collection.update_one({'_id': pl['_id']},{'$set':{'info.personal_info.team_real': None}})\n",
    "```\n",
    "- if the player has changed teams we need to update the information\n",
    "- update name if it has changed, based on id"
   ]
  },
  {
   "cell_type": "code",
   "execution_count": 3,
   "metadata": {},
   "outputs": [],
   "source": [
    "def update_personal_info(stats, CR = cred['cred'], DB = 'Game', CO = 'Players'):\n",
    "    cluster = MongoClient(CR)\n",
    "    db = cluster[DB]\n",
    "    collection = db[CO]\n",
    "\n",
    "    player_out = []\n",
    "    posts = collection.find({})\n",
    "    stats.index = list(stats['Id'])\n",
    "    for dic in posts:\n",
    "        Id = dic['_id']\n",
    "        if Id in stats.index:\n",
    "            collection.update_one({'_id': Id},{'$set':{'name': stats.loc[Id].Nome }})\n",
    "            collection.update_one({'_id': Id},{'$set':{'info.personal_info.team_real': stats.loc[Id].Squadra}})\n",
    "        else:\n",
    "            collection.update_one({'_id': Id},{'$set':{'info.personal_info.team_real': None}})\n",
    "            player_out.append(collection.find_one({'_id': Id})['name'])\n",
    "    \n",
    "    return player_out"
   ]
  },
  {
   "cell_type": "code",
   "execution_count": 4,
   "metadata": {},
   "outputs": [
    {
     "data": {
      "text/plain": [
       "['EMPEREUR']"
      ]
     },
     "execution_count": 4,
     "metadata": {},
     "output_type": "execute_result"
    }
   ],
   "source": [
    "#This updates the personal info, name and team, based on the file stats produced in the IGNOBEL notebook.\n",
    "#the function returns the list of players that are in our db but no longer in FC (e.g. those who retired or left serie a)\n",
    "update_personal_info(stats)"
   ]
  },
  {
   "cell_type": "markdown",
   "metadata": {},
   "source": [
    "## UPDATE stats"
   ]
  },
  {
   "cell_type": "code",
   "execution_count": 9,
   "metadata": {},
   "outputs": [],
   "source": [
    "def update_stats(stats, Id, CR = cred['cred'], DB = 'Game', CO = 'Players'):\n",
    "\n",
    "    cluster = MongoClient(CR)\n",
    "    db = cluster[DB]\n",
    "    collection = db[CO]\n",
    "    stats.index = list(stats.Id)\n",
    "    #print(stats[stats['Id'] == int(Id)].T[0][4:20])\n",
    "    stats_dict = dict(stats[stats['Id'] == int(Id)].T[Id][4:20])\n",
    "\n",
    "    collection.update_one({'_id': Id}, {'$set': {'info.stats': stats_dict}})"
   ]
  },
  {
   "cell_type": "code",
   "execution_count": 10,
   "metadata": {},
   "outputs": [],
   "source": [
    "def update_stats_all(stats, CR = cred['cred'], DB = 'Game', CO = 'Players'):\n",
    "    \n",
    "    cluster = MongoClient(CR)\n",
    "    db = cluster[DB]\n",
    "    collection = db[CO]\n",
    "    \n",
    "    all_pl = list(collection.find({}))\n",
    "    \n",
    "    for pl in progressbar.progressbar(all_pl):\n",
    "        #print(pl['_id'])\n",
    "        if len(stats[stats['Id'] == pl['_id']]) == 0:\n",
    "            print(pl['name']+' left serie A')\n",
    "            #\n",
    "            continue\n",
    "        else:\n",
    "            update_stats(stats, pl['_id'], CR, DB, CO)"
   ]
  },
  {
   "cell_type": "code",
   "execution_count": 5,
   "metadata": {},
   "outputs": [
    {
     "name": "stderr",
     "output_type": "stream",
     "text": [
      "/Users/lucaagozzino/opt/anaconda3/lib/python3.7/site-packages/pymongo/common.py:559: UserWarning: Unknown option retryWrites\n",
      "  warnings.warn(str(exc))\n",
      " 65% (368 of 563) |##############        | Elapsed Time: 0:01:19 ETA:   0:02:07"
     ]
    },
    {
     "name": "stdout",
     "output_type": "stream",
     "text": [
      "EMPEREURleft serie a, modify algorithm to change team_real to None. profile not in FC db anymore\n"
     ]
    },
    {
     "name": "stderr",
     "output_type": "stream",
     "text": [
      "100% (563 of 563) |######################| Elapsed Time: 0:01:58 Time:  0:01:58\n"
     ]
    }
   ],
   "source": [
    "# algorithm runs through the entire db and updates stats value\n",
    "# if player no more in serie a it prints a message, but we need to include change of team_real to none\n",
    "#it is probably best to \n",
    "update_stats_all(stats)"
   ]
  },
  {
   "cell_type": "markdown",
   "metadata": {},
   "source": [
    "## Add player to database"
   ]
  },
  {
   "cell_type": "code",
   "execution_count": 24,
   "metadata": {},
   "outputs": [],
   "source": [
    "def add_player(Id, stats, CR = cred['cred'], DB = 'Game', CO = 'Players'):\n",
    "    # Dictionary with player current team and loan info\n",
    "    CurrentTeamDict = {\n",
    "        'owner': None, #luca, pietro etc\n",
    "        'squad': None, # 'Main' or 'Primavera'\n",
    "        'start_date': '',\n",
    "        'previous_team': None, #last team (e.g. owner, squad)\n",
    "        'quotation_initial': 0,\n",
    "        'on_loan': False, #True or False\n",
    "        'loan_info': None\n",
    "    }\n",
    "\n",
    "    # Dictionary with player ownership info\n",
    "    ContractDict = {\n",
    "        'owner': None, #this seems redundant\n",
    "        'start_date': '',\n",
    "        'cost': 0,\n",
    "        'acquisition_mode': None, #asta_svincolati, draft, acquisto\n",
    "        'previous_owner': None, #owner or None\n",
    "        'quotation_initial': 0\n",
    "    }\n",
    "\n",
    "    # Dictionary with player personal info\n",
    "    PersonalInfoDict = {\n",
    "        'full_name': '',\n",
    "        'birthdate': '01/01/1970',\n",
    "        'nation': '',\n",
    "        'team_real': '',\n",
    "        'FC_role': ''\n",
    "    }\n",
    "\n",
    "    # Nested dictionary for a single player info\n",
    "    PlayerDict = {\n",
    "        '_id': 0,\n",
    "        'name': '',\n",
    "        'personal_info': PersonalInfoDict,\n",
    "        'contract': ContractDict,\n",
    "        'current_team': CurrentTeamDict,\n",
    "    }\n",
    "    transStat = stats.T\n",
    "    PlayerDict['_id'] = Id\n",
    "    PlayerDict['name'] = transStat[Id]['Nome']\n",
    "    PlayerDict['personal_info']['FC_role'] = transStat[Id]['R']\n",
    "    PlayerDict['personal_info']['team_real'] = transStat[Id]['Squadra']\n",
    "    PlayerDict['personal_info']['full_name'] = transStat[Id]['Nome Completo']\n",
    "    PlayerDict['personal_info']['nation'] = transStat[Id]['Nazionalit\\'a']\n",
    "    PlayerDict['personal_info']['birthdate'] = transStat[Id]['Classe']\n",
    "    PlayerDict['contract']['quotation_initial'] = transStat[Id]['Qt. I']\n",
    "    PlayerDict['contract']['owner'] = None\n",
    "    PlayerDict['current_team']['owner'] = None\n",
    "    PlayerDict['current_team']['quotation_initial'] = transStat[Id]['Qt. I'] \n",
    "    temp = dict(transStat[Id][4:20])\n",
    "    temp['Qt_I'] = temp.pop('Qt. I')\n",
    "    temp['Qt_A'] = temp.pop('Qt. A')\n",
    "    PlayerDict['stats'] = temp\n",
    "    \n",
    "    cluster = MongoClient(CR)\n",
    "    db = cluster[DB]\n",
    "    collection = db[CO]\n",
    "    \n",
    "    collection.insert_one(PlayerDict)\n",
    "    \n",
    "    return PlayerDict"
   ]
  },
  {
   "cell_type": "code",
   "execution_count": 25,
   "metadata": {},
   "outputs": [],
   "source": [
    "#this adds a new player to the DB, without assigning them to any team\n",
    "#this NEEDS TO BE TESTED, with a player who is not in our db\n",
    "#add_player(Id, stats)"
   ]
  },
  {
   "cell_type": "markdown",
   "metadata": {},
   "source": [
    "## Manage roster value and extra budget/luxury tax"
   ]
  },
  {
   "cell_type": "code",
   "execution_count": null,
   "metadata": {},
   "outputs": [],
   "source": []
  }
 ],
 "metadata": {
  "kernelspec": {
   "display_name": "Python 3",
   "language": "python",
   "name": "python3"
  },
  "language_info": {
   "codemirror_mode": {
    "name": "ipython",
    "version": 3
   },
   "file_extension": ".py",
   "mimetype": "text/x-python",
   "name": "python",
   "nbconvert_exporter": "python",
   "pygments_lexer": "ipython3",
   "version": "3.7.6"
  }
 },
 "nbformat": 4,
 "nbformat_minor": 4
}
