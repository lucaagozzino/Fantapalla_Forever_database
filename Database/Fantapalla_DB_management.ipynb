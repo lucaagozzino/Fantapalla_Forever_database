{
 "cells": [
  {
   "cell_type": "markdown",
   "metadata": {},
   "source": [
    "# FP management\n",
    "\n",
    "In thi notebook we will define the various methods to perform changes to the database to keep track of the various events. In particular we will take care of:\n",
    "\n",
    "- Adding new free agent players to the database, when they are included in the FC list\n",
    "- Assigning trophies\n",
    "- Assigning fines\n",
    "- Calculating total roster value to determine the salary, extra budget and luxury tax\n",
    "- TBD\n",
    "- UPDATE PLAYER NAME IF IT HAS CHANGED ON FC:\n",
    "    - Sometime FC changes the name of a player. In 2019/2020 LUKAKU was 'LUKAKU R.', now just 'LUKAKU', because Jordan left serie A. We need a way of scanning the players in our db by ID and update the name as needed. Maybe it can be included in the stats update algorithm"
   ]
  },
  {
   "cell_type": "code",
   "execution_count": 26,
   "metadata": {},
   "outputs": [],
   "source": [
    "import pandas as pd\n",
    "import json\n",
    "with open('credential.json','r') as f:\n",
    "    cred = json.load(f)"
   ]
  },
  {
   "cell_type": "markdown",
   "metadata": {},
   "source": [
    "## UPDATE stats"
   ]
  },
  {
   "cell_type": "code",
   "execution_count": 27,
   "metadata": {},
   "outputs": [],
   "source": [
    "stats = pd.read_pickle('../IGNOBEL/Statistiche_giocatori.pkl')"
   ]
  },
  {
   "cell_type": "code",
   "execution_count": 28,
   "metadata": {},
   "outputs": [],
   "source": [
    "class new_player:\n",
    "    \n",
    "    def __init__(self, stats, name = False, Id = False, CR = cred['cred'], DB = 'Game', CO = 'Players'):\n",
    "    \n",
    "        self.par = CR, DB, CO\n",
    "\n",
    "        self.stats = dict(stats[stats.Nome == name].T[0][4:20])\n",
    "        \n",
    "        if name:\n",
    "            filt = name\n",
    "        elif Id:\n",
    "            filt = Id\n",
    "        \n",
    "    def update_stats(self):\n",
    "        \n",
    "        CR, DB, CO = self.par\n",
    "        cluster = MongoClient(CR)\n",
    "        db = cluster[DB]\n",
    "        collection = db[CO]\n",
    "        \n",
    "        stats = self.stats\n",
    "        \n",
    "        collection.update_one(filt, {'info.stats': stats})"
   ]
  },
  {
   "cell_type": "code",
   "execution_count": null,
   "metadata": {},
   "outputs": [],
   "source": [
    "def update_stats_all( CR = cred['cred'], DB = 'Game', CO = 'Players'):\n",
    "    None"
   ]
  }
 ],
 "metadata": {
  "kernelspec": {
   "display_name": "Python 3",
   "language": "python",
   "name": "python3"
  },
  "language_info": {
   "codemirror_mode": {
    "name": "ipython",
    "version": 3
   },
   "file_extension": ".py",
   "mimetype": "text/x-python",
   "name": "python",
   "nbconvert_exporter": "python",
   "pygments_lexer": "ipython3",
   "version": "3.7.6"
  }
 },
 "nbformat": 4,
 "nbformat_minor": 4
}
