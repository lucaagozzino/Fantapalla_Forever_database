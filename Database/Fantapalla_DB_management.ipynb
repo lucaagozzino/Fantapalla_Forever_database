{
 "cells": [
  {
   "cell_type": "markdown",
   "metadata": {},
   "source": [
    "# FP management\n",
    "\n",
    "In thi notebook we will define the various methods to perform changes to the database to keep track of the various events. \n",
    "\n",
    "The data source is the Statistiche_giocatori.pkl file, created by the IGNOBEL notebook, which needs to be updated prior any management done in this notebook.\n",
    "\n",
    "In particular we will take care of:\n",
    "\n",
    "- Adding new free agent players to the database, when they are included in the FC list (done)\n",
    "- Assigning trophies (done)\n",
    "- Assigning fines (done)\n",
    "- Calculating total roster value to determine the salary, extra budget and luxury tax (done)\n",
    "- Update team_real (done)\n",
    "- UPDATE PLAYER NAME IF IT HAS CHANGED ON FC: (done)\n",
    "    - Sometime FC changes the name of a player. In 2019/2020 LUKAKU was 'LUKAKU R.', now just 'LUKAKU', because Jordan left serie A. We need a way of scanning the players in our db by ID and update the name as needed. Maybe it can be included in the stats update algorithm\n",
    "- Anything else?\n",
    "\n",
    "It should be fairly easy to turn this into a dashboard using widgets, but that is for later"
   ]
  },
  {
   "cell_type": "code",
   "execution_count": 142,
   "metadata": {},
   "outputs": [],
   "source": [
    "import pandas as pd\n",
    "import numpy as np\n",
    "import datetime\n",
    "from datetime import date\n",
    "import json\n",
    "import copy\n",
    "from pymongo import MongoClient\n",
    "from pprint import pprint\n",
    "import pymongo\n",
    "import progressbar\n",
    "with open('credential.json','r') as f:\n",
    "    cred = json.load(f)\n",
    "stats = pd.read_pickle('../IGNOBEL/Statistiche_giocatori.pkl')"
   ]
  },
  {
   "cell_type": "markdown",
   "metadata": {},
   "source": [
    "## Update personal info\n",
    "this part is to run through the players in our database and cross check the info with the stats db:\n",
    "- if the player is not in our db, we don't care: we'll add it when someone wants to buy them\n",
    "- if the player is in our db but not in stats it means that it left serie A, so the algorithm should change the team to none:\n",
    "```collection.update_one({'_id': pl['_id']},{'$set':{'info.personal_info.team_real': None}})\n",
    "```\n",
    "- if the player has changed teams we need to update the information\n",
    "- update name if it has changed, based on id"
   ]
  },
  {
   "cell_type": "code",
   "execution_count": 143,
   "metadata": {},
   "outputs": [],
   "source": [
    "def update_personal_info(stats, CR = cred['cred'], DB = 'Game', CO = 'Players'):\n",
    "    cluster = MongoClient(CR)\n",
    "    db = cluster[DB]\n",
    "    collection = db[CO]\n",
    "\n",
    "    player_out = []\n",
    "    posts = collection.find({})\n",
    "    stats.index = list(stats['Id'])\n",
    "    for dic in posts:\n",
    "        Id = dic['_id']\n",
    "        if Id in stats.index:\n",
    "            collection.update_one({'_id': Id},{'$set':{'name': stats.loc[Id].Nome }})\n",
    "            collection.update_one({'_id': Id},{'$set':{'info.personal_info.team_real': stats.loc[Id].Squadra}})\n",
    "        else:\n",
    "            collection.update_one({'_id': Id},{'$set':{'info.personal_info.team_real': None}})\n",
    "            player_out.append(collection.find_one({'_id': Id})['name'])\n",
    "    print('Players no longer in serie A')\n",
    "    return player_out"
   ]
  },
  {
   "cell_type": "code",
   "execution_count": 144,
   "metadata": {},
   "outputs": [
    {
     "name": "stderr",
     "output_type": "stream",
     "text": [
      "/Users/lucaagozzino/opt/anaconda3/lib/python3.7/site-packages/pymongo/common.py:559: UserWarning: Unknown option retryWrites\n",
      "  warnings.warn(str(exc))\n"
     ]
    },
    {
     "name": "stdout",
     "output_type": "stream",
     "text": [
      "Players no longer in serie A\n"
     ]
    },
    {
     "data": {
      "text/plain": [
       "['EMPEREUR']"
      ]
     },
     "execution_count": 144,
     "metadata": {},
     "output_type": "execute_result"
    }
   ],
   "source": [
    "#This updates the personal info, name and team, based on the file stats produced in the IGNOBEL notebook.\n",
    "#the function returns the list of players that are in our db but no longer in FC (e.g. those who retired or left serie a)\n",
    "update_personal_info(stats)"
   ]
  },
  {
   "cell_type": "markdown",
   "metadata": {},
   "source": [
    "## UPDATE stats"
   ]
  },
  {
   "cell_type": "code",
   "execution_count": 145,
   "metadata": {},
   "outputs": [],
   "source": [
    "#updating the stats of a player based on id\n",
    "def update_stats(stats, Id, CR = cred['cred'], DB = 'Game', CO = 'Players'):\n",
    "\n",
    "    cluster = MongoClient(CR)\n",
    "    db = cluster[DB]\n",
    "    collection = db[CO]\n",
    "    stats.index = list(stats.Id)\n",
    "    stats_dict = dict(stats[stats['Id'] == int(Id)].T[Id][4:20])\n",
    "\n",
    "    collection.update_one({'_id': Id}, {'$set': {'info.stats': stats_dict}})"
   ]
  },
  {
   "cell_type": "code",
   "execution_count": 146,
   "metadata": {},
   "outputs": [],
   "source": [
    "#updating stats of all players in our db\n",
    "def update_stats_all(stats, CR = cred['cred'], DB = 'Game', CO = 'Players'):\n",
    "    \n",
    "    cluster = MongoClient(CR)\n",
    "    db = cluster[DB]\n",
    "    collection = db[CO]\n",
    "    \n",
    "    all_pl = list(collection.find({}))\n",
    "    \n",
    "    for pl in progressbar.progressbar(all_pl):\n",
    "        #print(pl['_id'])\n",
    "        if len(stats[stats['Id'] == pl['_id']]) == 0:\n",
    "            print(pl['name']+' left serie A')\n",
    "            #\n",
    "            continue\n",
    "        else:\n",
    "            update_stats(stats, pl['_id'], CR, DB, CO)"
   ]
  },
  {
   "cell_type": "code",
   "execution_count": 147,
   "metadata": {},
   "outputs": [
    {
     "name": "stderr",
     "output_type": "stream",
     "text": [
      " 65% (370 of 567) |##############        | Elapsed Time: 0:01:19 ETA:   0:00:36"
     ]
    },
    {
     "name": "stdout",
     "output_type": "stream",
     "text": [
      "EMPEREUR left serie A\n"
     ]
    },
    {
     "name": "stderr",
     "output_type": "stream",
     "text": [
      "100% (567 of 567) |######################| Elapsed Time: 0:02:03 Time:  0:02:03\n"
     ]
    }
   ],
   "source": [
    "# algorithm runs through the entire db and updates stats value\n",
    "# if player no more in serie a it prints a message, but we need to include change of team_real to none\n",
    "#it is probably best to \n",
    "update_stats_all(stats)"
   ]
  },
  {
   "cell_type": "markdown",
   "metadata": {},
   "source": [
    "## Add player to database\n",
    "First, we create a list with all the players in the stats db who are not in our db"
   ]
  },
  {
   "cell_type": "code",
   "execution_count": 148,
   "metadata": {},
   "outputs": [],
   "source": [
    "#this function returns the players in stats that are not in our db\n",
    "def find_missing_ids(stats, CR = cred['cred'], DB = 'Game', CO = 'Players'):\n",
    "    \n",
    "    cluster = MongoClient(CR)\n",
    "    db = cluster[DB]\n",
    "    collection = db[CO]\n",
    "    \n",
    "    stats.index = list(stats['Id'])\n",
    "    our_db = collection.find({})\n",
    "    our_ids = []\n",
    "    for el in our_db:\n",
    "        our_ids.append(el['_id'])\n",
    "    missing_ids = []\n",
    "    for ind in stats.index:\n",
    "        if ind in our_ids:\n",
    "            continue\n",
    "        else:\n",
    "            missing_ids.append(ind)\n",
    "    \n",
    "    return missing_ids"
   ]
  },
  {
   "cell_type": "code",
   "execution_count": 149,
   "metadata": {},
   "outputs": [],
   "source": [
    "#this adds a player to our db from the stats db\n",
    "def add_player(Id, stats, CR = cred['cred'], DB = 'Game', CO = 'Players'):\n",
    "    # Dictionary with player current team and loan info\n",
    "    CurrentTeamDict = {\n",
    "        'owner': None, #luca, pietro etc\n",
    "        'squad': None, # 'Main' or 'Primavera'\n",
    "        'start_date': '',\n",
    "        'previous_team': None, #last team (e.g. owner, squad)\n",
    "        'quotation_initial': 0,\n",
    "        'on_loan': False, #True or False\n",
    "        'loan_info': None\n",
    "    }\n",
    "\n",
    "    # Dictionary with player ownership info\n",
    "    ContractDict = {\n",
    "        'owner': None, #this seems redundant\n",
    "        'start_date': '',\n",
    "        'cost': 0,\n",
    "        'acquisition_mode': None, #asta_svincolati, draft, acquisto\n",
    "        'previous_owner': None, #owner or None\n",
    "        'quotation_initial': 0\n",
    "    }\n",
    "\n",
    "    # Dictionary with player personal info\n",
    "    PersonalInfoDict = {\n",
    "        'full_name': '',\n",
    "        'birthdate': '01/01/1970',\n",
    "        'nation': '',\n",
    "        'team_real': '',\n",
    "        'FC_role': ''\n",
    "    }\n",
    "\n",
    "    # Nested dictionary for a single player info\n",
    "    PlayerDict = {\n",
    "        '_id': 0,\n",
    "        'name': '',\n",
    "        'personal_info': PersonalInfoDict,\n",
    "        'contract': ContractDict,\n",
    "        'current_team': CurrentTeamDict,\n",
    "    }\n",
    "    transStat = stats.T\n",
    "    PlayerDict['_id'] = Id\n",
    "    PlayerDict['name'] = transStat[Id]['Nome']\n",
    "    PlayerDict['personal_info']['FC_role'] = transStat[Id]['R']\n",
    "    PlayerDict['personal_info']['team_real'] = transStat[Id]['Squadra']\n",
    "    PlayerDict['personal_info']['full_name'] = transStat[Id]['Nome Completo']\n",
    "    PlayerDict['personal_info']['nation'] = transStat[Id]['Nazionalit\\'a']\n",
    "    PlayerDict['personal_info']['birthdate'] = transStat[Id]['Classe']\n",
    "    PlayerDict['contract']['quotation_initial'] = transStat[Id]['Qt. I']\n",
    "    PlayerDict['contract']['owner'] = None\n",
    "    PlayerDict['current_team']['owner'] = None\n",
    "    PlayerDict['current_team']['quotation_initial'] = transStat[Id]['Qt. I'] \n",
    "    temp = dict(transStat[Id][4:20])\n",
    "    temp['Qt_I'] = temp.pop('Qt. I')\n",
    "    temp['Qt_A'] = temp.pop('Qt. A')\n",
    "    PlayerDict['stats'] = temp\n",
    "    \n",
    "    cluster = MongoClient(CR)\n",
    "    db = cluster[DB]\n",
    "    collection = db[CO]\n",
    "    \n",
    "    collection.insert_one(PlayerDict)\n",
    "    \n",
    "    return PlayerDict"
   ]
  },
  {
   "cell_type": "code",
   "execution_count": 150,
   "metadata": {},
   "outputs": [
    {
     "data": {
      "text/plain": [
       "[]"
      ]
     },
     "execution_count": 150,
     "metadata": {},
     "output_type": "execute_result"
    }
   ],
   "source": [
    "missing_ids = find_missing_ids(stats)\n",
    "missing_ids "
   ]
  },
  {
   "cell_type": "code",
   "execution_count": 151,
   "metadata": {},
   "outputs": [],
   "source": [
    "#this function adds all the players in the missing_ids list."
   ]
  },
  {
   "cell_type": "code",
   "execution_count": 152,
   "metadata": {},
   "outputs": [],
   "source": [
    "def add_multi_pl(Ids, stats, CR = cred['cred'], DB = 'Game', CO = 'Players'):\n",
    "    pls = []\n",
    "    for Id in Ids:\n",
    "        pl = add_player(Id, stats, CR, DB, CO)\n",
    "        pls.append(pl['name'])\n",
    "    return pls"
   ]
  },
  {
   "cell_type": "code",
   "execution_count": 23,
   "metadata": {},
   "outputs": [
    {
     "data": {
      "text/plain": [
       "['RUGGERI', 'BALOGH', 'UDOGIE', 'EYSSERIC']"
      ]
     },
     "execution_count": 23,
     "metadata": {},
     "output_type": "execute_result"
    }
   ],
   "source": [
    "#The first round returned these four players, which now are in our db, so running the missing_id function returns an empty list\n",
    "add_multi_pl(missing_ids, stats)"
   ]
  },
  {
   "cell_type": "markdown",
   "metadata": {},
   "source": [
    "## Manage roster value and extra budget/luxury tax\n",
    "\n",
    "This class acts directly on the full database, but we could in principle create a session class, like we did for the market operations, and then close the session by copying everything only at the end, but since the db has only 8 entries I don't see the point, it is easy to check and fix stuff"
   ]
  },
  {
   "cell_type": "code",
   "execution_count": 153,
   "metadata": {},
   "outputs": [],
   "source": [
    "class manager:\n",
    "    \n",
    "    def __init__(self, owner, stats = stats, CR = cred['cred'], DB = 'Game', CO = 'Managers', CP = 'Players'):\n",
    "        \n",
    "        self.par = CR, DB, CO\n",
    "        cluster = MongoClient(CR)\n",
    "        db = cluster[DB]\n",
    "        self.collection = db[CO]\n",
    "        self.coll_P = db[CP]\n",
    "        \n",
    "        self.dic = self.collection.find_one({'owner': owner})\n",
    "        self.dic_p = self.coll_P.find(({'info.contract.owner': owner,'info.current_team.squad':'main'}))\n",
    "        \n",
    "        pl_value = 0\n",
    "        for pl in self.dic_p:\n",
    "            pl_value += pl['info']['stats']['Qt. A']\n",
    "        \n",
    "        self.main_roster_value = pl_value\n",
    "        \n",
    "        self.owner = self.dic['owner']\n",
    "        self.team_name = self.dic['team_name']\n",
    "        self.budget = self.dic['budget']\n",
    "        self.palmares = self.dic['palmares']\n",
    "        self.total_wins = self.dic['total_wins']\n",
    "    \n",
    "    def modify_budget(self, delta):\n",
    "        \n",
    "        self.collection.update_one({'owner': self.owner},{'$inc':{'budget':delta}})\n",
    "        self.budget = self.budget + delta #otherwise you have to re-run the cell to see the modification\n",
    "    \n",
    "    def assign_trophy(self, trophy, season, prize_money):\n",
    "        \n",
    "        dic = { \n",
    "            'Type': trophy,\n",
    "            'Prize (EUR)': prize_money,\n",
    "            'Season': season\n",
    "              }\n",
    "        \n",
    "        self.collection.update_one({'owner': self.owner},{'$addToSet': {'palmares': dic}})\n",
    "        self.collection.update_one({'owner': self.owner},{'$inc': {'total_wins': prize_money}})\n",
    "        \n",
    "        self.palmares.append(dic)\n",
    "        self.total_wins += prize_money\n",
    "    \n",
    "    def assign_fine(self, fine = 4, reason = 'Missing lineup'):\n",
    "        d = date.today()\n",
    "        \n",
    "        dic = { \n",
    "            'Reason': reason,\n",
    "            'Fine (EUR)': fine,\n",
    "            'date': d.strftime('%Y/%m/%d')\n",
    "              }\n",
    "        self.collection.update_one({'owner': self.owner},{'$addToSet': {'fines': dic}})\n",
    "    \n",
    "    def assign_extra_budget(self, extra_budget = 100, salary_cap = 350):\n",
    "        \n",
    "        temp = extra_budget + salary_cap - self.main_roster_value\n",
    "        \n",
    "        extra = max(0, temp)\n",
    "        self.collection.update_one({'owner': self.owner},{'$inc': {'budget': extra}})\n",
    "        \n",
    "        if temp < 0:\n",
    "            print(self.owner+ ' exceeded the luxury tax limit. He will paying '+ str(-temp)+ ' EUR to the league.')"
   ]
  },
  {
   "cell_type": "code",
   "execution_count": 138,
   "metadata": {},
   "outputs": [],
   "source": [
    "luca = manager('luca')"
   ]
  },
  {
   "cell_type": "code",
   "execution_count": 154,
   "metadata": {},
   "outputs": [],
   "source": [
    "#THIS assigns extra budget with the formula: Extra budget = 100 + salary_cap - roster_value (see method definition)\n",
    "#luca.assign_extra_budget()"
   ]
  },
  {
   "cell_type": "code",
   "execution_count": 78,
   "metadata": {},
   "outputs": [],
   "source": [
    "enzo = manager('enzo')"
   ]
  },
  {
   "cell_type": "code",
   "execution_count": 79,
   "metadata": {},
   "outputs": [],
   "source": [
    "#Assign prize (already done, so don't repeat otherwise there are duplicates in the db)\n",
    "#enzo.assign_trophy('Coppa di Lega', '20/21', 25)"
   ]
  },
  {
   "cell_type": "code",
   "execution_count": 94,
   "metadata": {},
   "outputs": [],
   "source": [
    "nanni = manager('nanni')\n",
    "mario = manager('mario')\n",
    "\n",
    "#Fines have been already assigned, so do not run again\n",
    "#nanni.assign_fine()\n",
    "#mario.assign_fine()"
   ]
  },
  {
   "cell_type": "code",
   "execution_count": null,
   "metadata": {},
   "outputs": [],
   "source": []
  }
 ],
 "metadata": {
  "kernelspec": {
   "display_name": "Python 3",
   "language": "python",
   "name": "python3"
  },
  "language_info": {
   "codemirror_mode": {
    "name": "ipython",
    "version": 3
   },
   "file_extension": ".py",
   "mimetype": "text/x-python",
   "name": "python",
   "nbconvert_exporter": "python",
   "pygments_lexer": "ipython3",
   "version": "3.7.6"
  }
 },
 "nbformat": 4,
 "nbformat_minor": 4
}
