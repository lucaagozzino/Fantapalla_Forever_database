{
 "cells": [
  {
   "cell_type": "markdown",
   "metadata": {},
   "source": [
    "# FP management\n",
    "\n",
    "In thi notebook we will define the various methods to perform changes to the database to keep track of the various events. \n",
    "\n",
    "The data source is the Statistiche_giocatori.pkl file, created by the IGNOBEL notebook, which needs to be updated prior any management done in this notebook.\n",
    "\n",
    "In particular we will take care of:\n",
    "\n",
    "- Adding new free agent players to the database, when they are included in the FC list (done)\n",
    "- Assigning trophies (done)\n",
    "- Assigning fines (done)\n",
    "- Calculating total roster value to determine the salary, extra budget and luxury tax (done)\n",
    "- Update team_real (done)\n",
    "- UPDATE PLAYER NAME IF IT HAS CHANGED ON FC: (done)\n",
    "    - Sometime FC changes the name of a player. In 2019/2020 LUKAKU was 'LUKAKU R.', now just 'LUKAKU', because Jordan left serie A. We need a way of scanning the players in our db by ID and update the name as needed. Maybe it can be included in the stats update algorithm\n",
    "- Anything else?\n",
    "\n",
    "It should be fairly easy to turn this into a dashboard using widgets, but that is for later"
   ]
  },
  {
   "cell_type": "code",
   "execution_count": 1,
   "metadata": {},
   "outputs": [],
   "source": [
    "from IPython.display import HTML, clear_output\n",
    "import pandas as pd\n",
    "import numpy as np\n",
    "import datetime\n",
    "from datetime import date\n",
    "import json\n",
    "import copy\n",
    "from pymongo import MongoClient\n",
    "from pprint import pprint\n",
    "import pymongo\n",
    "import progressbar\n",
    "with open('credential.json','r') as f:\n",
    "    cred = json.load(f)\n",
    "stats = pd.read_pickle('../IGNOBEL/Statistiche_giocatori.pkl')\n",
    "import ipywidgets as widgets"
   ]
  },
  {
   "cell_type": "code",
   "execution_count": 2,
   "metadata": {},
   "outputs": [
    {
     "data": {
      "text/html": [
       "<script>\n",
       "code_show=true; \n",
       "function code_toggle() {\n",
       " if (code_show){\n",
       " $('div.input').hide();\n",
       " } else {\n",
       " $('div.input').show();\n",
       " }\n",
       " code_show = !code_show\n",
       "} \n",
       "$( document ).ready(code_toggle);\n",
       "</script>\n",
       "<form action=\"javascript:code_toggle()\"><input type=\"submit\" value=\"Click here to toggle on/off the raw code.\"></form>"
      ],
      "text/plain": [
       "<IPython.core.display.HTML object>"
      ]
     },
     "execution_count": 2,
     "metadata": {},
     "output_type": "execute_result"
    }
   ],
   "source": [
    "HTML('''<script>\n",
    "code_show=true; \n",
    "function code_toggle() {\n",
    " if (code_show){\n",
    " $('div.input').hide();\n",
    " } else {\n",
    " $('div.input').show();\n",
    " }\n",
    " code_show = !code_show\n",
    "} \n",
    "$( document ).ready(code_toggle);\n",
    "</script>\n",
    "<form action=\"javascript:code_toggle()\"><input type=\"submit\" value=\"Click here to toggle on/off the raw code.\"></form>''')"
   ]
  },
  {
   "cell_type": "code",
   "execution_count": 3,
   "metadata": {},
   "outputs": [],
   "source": [
    "def import_stats():\n",
    "    stats = pd.read_pickle('../IGNOBEL/Statistiche_giocatori.pkl')\n",
    "    return stats"
   ]
  },
  {
   "cell_type": "markdown",
   "metadata": {},
   "source": [
    "## Update personal info\n",
    "this part is to run through the players in our database and cross check the info with the stats db:\n",
    "- if the player is not in our db, we don't care: we'll add it when someone wants to buy them\n",
    "- if the player is in our db but not in stats it means that it left serie A, so the algorithm should change the team to none:\n",
    "```collection.update_one({'_id': pl['_id']},{'$set':{'info.personal_info.team_real': None}})\n",
    "```\n",
    "- if the player has changed teams we need to update the information\n",
    "- update name if it has changed, based on id"
   ]
  },
  {
   "cell_type": "code",
   "execution_count": 4,
   "metadata": {},
   "outputs": [],
   "source": [
    "def update_personal_info(stats, CR = cred['cred'], DB = 'Game', CO = 'Players'):\n",
    "    \n",
    "    '''This updates the personal info, name and team, based on the file stats produced in the IGNOBEL notebook.\n",
    "    the function returns the list of players that are in our db but no longer in FC (e.g. those who retired or left serie a)\n",
    "    '''\n",
    "    \n",
    "    cluster = MongoClient(CR)\n",
    "    db = cluster[DB]\n",
    "    collection = db[CO]\n",
    "\n",
    "    player_out = []\n",
    "    posts = collection.find({})\n",
    "    stats.index = list(stats['Id'])\n",
    "    for dic in posts:\n",
    "        Id = dic['_id']\n",
    "        if Id in stats.index:\n",
    "            collection.update_one({'_id': Id},{'$set':{'name': stats.loc[Id].Nome }})\n",
    "            collection.update_one({'_id': Id},{'$set':{'info.personal_info.team_real': stats.loc[Id].Squadra}})\n",
    "        else:\n",
    "            collection.update_one({'_id': Id},{'$set':{'info.personal_info.team_real': None}})\n",
    "            player_out.append(collection.find_one({'_id': Id})['name'])\n",
    "    print('Players no longer in serie A')\n",
    "    return player_out"
   ]
  },
  {
   "cell_type": "code",
   "execution_count": 5,
   "metadata": {},
   "outputs": [],
   "source": [
    "#update_personal_info(stats)"
   ]
  },
  {
   "cell_type": "markdown",
   "metadata": {},
   "source": [
    "## UPDATE stats"
   ]
  },
  {
   "cell_type": "code",
   "execution_count": 6,
   "metadata": {},
   "outputs": [],
   "source": [
    "#updating the stats of a player based on id\n",
    "def update_stats(stats, Id, CR = cred['cred'], DB = 'Game', CO = 'Players'):\n",
    "    '''This updates the stats of the player with the given id, but only the current stats, not the initial quotation\n",
    "    at the time of market operation, that is recorded when the operation is performed\n",
    "    '''\n",
    "    \n",
    "    \n",
    "    cluster = MongoClient(CR)\n",
    "    db = cluster[DB]\n",
    "    collection = db[CO]\n",
    "    stats.index = list(stats.Id)\n",
    "    stats_dict = dict(stats[stats['Id'] == int(Id)].T[Id][4:20])\n",
    "\n",
    "    collection.update_one({'_id': Id}, {'$set': {'info.stats': stats_dict}})"
   ]
  },
  {
   "cell_type": "code",
   "execution_count": 7,
   "metadata": {},
   "outputs": [],
   "source": [
    "#updating stats of all players in our db\n",
    "def update_stats_all(stats, CR = cred['cred'], DB = 'Game', CO = 'Players'):\n",
    "    '''this updates the stats of all the players in our database, if one player is missing it is reported\n",
    "    \n",
    "    '''\n",
    "    cluster = MongoClient(CR)\n",
    "    db = cluster[DB]\n",
    "    collection = db[CO]\n",
    "    \n",
    "    all_pl = list(collection.find({}))\n",
    "    \n",
    "    for pl in progressbar.progressbar(all_pl):\n",
    "        #print(pl['_id'])\n",
    "        if len(stats[stats['Id'] == pl['_id']]) == 0:\n",
    "            print(pl['name']+' left serie A')\n",
    "            #\n",
    "            continue\n",
    "        else:\n",
    "            update_stats(stats, pl['_id'], CR, DB, CO)"
   ]
  },
  {
   "cell_type": "code",
   "execution_count": 8,
   "metadata": {},
   "outputs": [],
   "source": [
    "# algorithm runs through the entire db and updates stats value\n",
    "# if player no more in serie a it prints a message, but we need to include change of team_real to none\n",
    "#it is probably best to \n",
    "#update_stats_all(stats)"
   ]
  },
  {
   "cell_type": "markdown",
   "metadata": {},
   "source": [
    "## Add player to database\n",
    "First, we create a list with all the players in the stats db who are not in our db"
   ]
  },
  {
   "cell_type": "code",
   "execution_count": 9,
   "metadata": {},
   "outputs": [],
   "source": [
    "#this function returns the players in stats that are not in our db\n",
    "def find_missing_ids(stats, CR = cred['cred'], DB = 'Game', CO = 'Players'):\n",
    "    '''finds the players that are in the stats dataframe but missing from our database'''\n",
    "    \n",
    "    \n",
    "    cluster = MongoClient(CR)\n",
    "    db = cluster[DB]\n",
    "    collection = db[CO]\n",
    "    \n",
    "    stats.index = list(stats['Id'])\n",
    "    our_db = collection.find({})\n",
    "    our_ids = []\n",
    "    for el in our_db:\n",
    "        our_ids.append(el['_id'])\n",
    "    missing_ids = []\n",
    "    for ind in stats.index:\n",
    "        if ind in our_ids:\n",
    "            continue\n",
    "        else:\n",
    "            missing_ids.append(ind)\n",
    "    \n",
    "    return missing_ids"
   ]
  },
  {
   "cell_type": "code",
   "execution_count": 10,
   "metadata": {},
   "outputs": [],
   "source": [
    "#this adds a player to our db from the stats db\n",
    "def add_player(Id, stats, CR = cred['cred'], DB = 'Game', CO = 'Players'):\n",
    "    '''adds the player with the given id to the database, so it would give error if the player is already there\n",
    "    \n",
    "    '''\n",
    "    # Dictionary with player current team and loan info\n",
    "    CurrentTeamDict = {\n",
    "        'owner': None, #luca, pietro etc\n",
    "        'squad': None, # 'Main' or 'Primavera'\n",
    "        'start_date': date.today().strftime('%Y/%m/%d'),\n",
    "        'previous_team': None, #last team (e.g. owner, squad)\n",
    "        'quotation_initial': 0,\n",
    "        'on_loan': False, #True or False\n",
    "        'loan_info': None\n",
    "    }\n",
    "\n",
    "    # Dictionary with player ownership info\n",
    "    ContractDict = {\n",
    "        'owner': None, #this seems redundant\n",
    "        'start_date': date.today().strftime('%Y/%m/%d'),\n",
    "        'cost': 0,\n",
    "        'acquisition_mode': None, #asta_svincolati, draft, acquisto\n",
    "        'previous_owner': None, #owner or None\n",
    "        'quotation_initial': 0\n",
    "    }\n",
    "\n",
    "    # Dictionary with player personal info\n",
    "    PersonalInfoDict = {\n",
    "        'full_name': '',\n",
    "        'birthdate': '01/01/1970',\n",
    "        'birthdate_num':0,\n",
    "        'nation': '',\n",
    "        'team_real': '',\n",
    "        'FC_role': ''\n",
    "    }\n",
    "\n",
    "    # Nested dictionary for a single player info\n",
    "    PlayerDict = {\n",
    "        '_id': 0,\n",
    "        'name': '',\n",
    "        'info':{'personal_info': PersonalInfoDict,\n",
    "        'contract': ContractDict,\n",
    "        'current_team': CurrentTeamDict}\n",
    "    }\n",
    "    transStat = stats.T\n",
    "    PlayerDict['_id'] = Id\n",
    "    PlayerDict['name'] = transStat[Id]['Nome']\n",
    "    PlayerDict['info']['personal_info']['FC_role'] = transStat[Id]['R']\n",
    "    PlayerDict['info']['personal_info']['team_real'] = transStat[Id]['Squadra']\n",
    "    PlayerDict['info']['personal_info']['full_name'] = transStat[Id]['Nome Completo']\n",
    "    PlayerDict['info']['personal_info']['nation'] = transStat[Id]['Nazionalit\\'a']\n",
    "    PlayerDict['info']['personal_info']['birthdate'] = transStat[Id]['Classe']\n",
    "    birthdate_num = int(datetime.datetime.strptime(transStat[Id]['Classe'],'%d/%m/%Y').strftime('%Y%m%d'))\n",
    "    PlayerDict['info']['personal_info']['birthdate_num'] = birthdate_num\n",
    "    PlayerDict['info']['contract']['quotation_initial'] = transStat[Id]['Qt_I']\n",
    "    PlayerDict['info']['contract']['owner'] = None\n",
    "    PlayerDict['info']['current_team']['owner'] = None\n",
    "    PlayerDict['info']['current_team']['quotation_initial'] = transStat[Id]['Qt_I'] \n",
    "    temp = dict(transStat[Id][4:20])\n",
    "    #temp['Qt_I'] = temp.pop('Qt. I')\n",
    "    #temp['Qt_A'] = temp.pop('Qt. A')\n",
    "    PlayerDict['info']['stats'] = temp\n",
    "    \n",
    "    cluster = MongoClient(CR)\n",
    "    db = cluster[DB]\n",
    "    collection = db[CO]\n",
    "    \n",
    "    collection.insert_one(PlayerDict)\n",
    "    \n",
    "    return PlayerDict"
   ]
  },
  {
   "cell_type": "code",
   "execution_count": 11,
   "metadata": {},
   "outputs": [],
   "source": [
    "#this function adds all the players in the missing_ids list."
   ]
  },
  {
   "cell_type": "code",
   "execution_count": 12,
   "metadata": {},
   "outputs": [],
   "source": [
    "def add_multi_pl(Ids, stats, CR = cred['cred'], DB = 'Game', CO = 'Players'):\n",
    "    '''adds all the players in the list of Ids to our database'''\n",
    "    pls = []\n",
    "    for Id in Ids:\n",
    "        pl = add_player(Id, stats, CR, DB, CO)\n",
    "        pls.append(pl['name'])\n",
    "    return pls"
   ]
  },
  {
   "cell_type": "code",
   "execution_count": 13,
   "metadata": {},
   "outputs": [],
   "source": [
    "#missing_ids = find_missing_ids(stats)\n",
    "#missing_ids \n",
    "\n",
    "#The first round returned these four players, which now are in our db, so running the missing_id function returns an empty list\n",
    "#add_multi_pl(missing_ids, stats)"
   ]
  },
  {
   "cell_type": "markdown",
   "metadata": {},
   "source": [
    "## Manage roster value and extra budget/luxury tax\n",
    "\n",
    "This class acts directly on the full database, but we could in principle create a session class, like we did for the market operations, and then close the session by copying everything only at the end, but since the db has only 8 entries I don't see the point, it is easy to check and fix stuff"
   ]
  },
  {
   "cell_type": "code",
   "execution_count": 14,
   "metadata": {},
   "outputs": [],
   "source": [
    "class manager:\n",
    "    '''class manager is designed to perform changes to the managers database, based on all possibilities'''\n",
    "    \n",
    "    def __init__(self, owner, stats = stats, CR = cred['cred'], DB = 'Game', CO = 'Managers', CP = 'Players'):\n",
    "        \n",
    "        self.par = CR, DB, CO\n",
    "        cluster = MongoClient(CR)\n",
    "        db = cluster[DB]\n",
    "        self.collection = db[CO]\n",
    "        self.coll_P = db[CP]\n",
    "        \n",
    "        self.dic = self.collection.find_one({'owner': owner})\n",
    "        self.dic_p = self.coll_P.find(({'info.contract.owner': owner,'info.current_team.squad':'main'}))\n",
    "        \n",
    "        pl_value = 0\n",
    "        for pl in self.dic_p:\n",
    "            pl_value += pl['info']['stats']['Qt_A']\n",
    "        \n",
    "        self.main_roster_value = pl_value\n",
    "        \n",
    "        self.owner = self.dic['owner']\n",
    "        self.team_name = self.dic['team_name']\n",
    "        self.budget = self.dic['budget']\n",
    "        self.palmares = self.dic['palmares']\n",
    "        self.total_wins = self.dic['total_wins']\n",
    "    \n",
    "    def modify_budget(self, delta):\n",
    "        '''add delta to the budget of the owner method (delta can be negative)'''\n",
    "        \n",
    "        self.collection.update_one({'owner': self.owner},{'$inc':{'budget':delta}})\n",
    "        self.budget = self.budget + delta #otherwise you have to re-run the cell to see the modification\n",
    "    \n",
    "    def assign_trophy(self, trophy, season, prize_money, rank):\n",
    "        '''assigns a specific trophy, need to specifu name, prize and season'''\n",
    "        \n",
    "        \n",
    "        dic = { \n",
    "            'Type': trophy,\n",
    "            'Prize_eur': prize_money,\n",
    "            'Season': season,\n",
    "            'Ranking': rank\n",
    "              }\n",
    "        \n",
    "        self.collection.update_one({'owner': self.owner},{'$addToSet': {'palmares': dic}})\n",
    "        self.collection.update_one({'owner': self.owner},{'$inc': {'total_wins': prize_money}})\n",
    "        \n",
    "        self.palmares.append(dic)\n",
    "        self.total_wins += prize_money\n",
    "    \n",
    "    def assign_fine(self, fine = 4, reason = 'Missing lineup'):\n",
    "        '''assigns fine: default is the missing lineup, but can be used for luxury tax'''\n",
    "        d = date.today()\n",
    "        \n",
    "        dic = { \n",
    "            'Reason': reason,\n",
    "            'Fine_eur': fine,\n",
    "            'date': d.strftime('%Y/%m/%d')\n",
    "              }\n",
    "        self.collection.update_one({'owner': self.owner},{'$addToSet': {'fines': dic}})\n",
    "    \n",
    "    def assign_extra_budget(self, extra_budget = 100, salary_cap = 350):\n",
    "        '''to be used only at the end of the season, when determining the starting budget for the next season'''\n",
    "        \n",
    "        temp = extra_budget + salary_cap - self.main_roster_value\n",
    "        \n",
    "        extra = max(0, temp)\n",
    "        self.collection.update_one({'owner': self.owner},{'$inc': {'budget': extra}})\n",
    "        \n",
    "        if temp < 0:\n",
    "            print(self.owner+ ' exceeded the luxury tax limit. He will paying '+ str(-temp)+ ' EUR to the league.')\n",
    "        else:\n",
    "            print(self.owner+ ' was assigned '+str(extra)+ ' FM.')"
   ]
  },
  {
   "cell_type": "code",
   "execution_count": 15,
   "metadata": {},
   "outputs": [],
   "source": [
    "luca = manager('luca')"
   ]
  },
  {
   "cell_type": "code",
   "execution_count": 16,
   "metadata": {},
   "outputs": [],
   "source": [
    "#THIS assigns extra budget with the formula: Extra budget = 100 + salary_cap - roster_value (see method definition)\n",
    "#luca.assign_extra_budget()"
   ]
  },
  {
   "cell_type": "code",
   "execution_count": 17,
   "metadata": {},
   "outputs": [],
   "source": [
    "enzo = manager('enzo')"
   ]
  },
  {
   "cell_type": "code",
   "execution_count": 18,
   "metadata": {},
   "outputs": [],
   "source": [
    "#Assign prize (already done, so don't repeat otherwise there are duplicates in the db)\n",
    "#enzo.assign_trophy('Coppa di Lega', '20/21', 25)"
   ]
  },
  {
   "cell_type": "code",
   "execution_count": 19,
   "metadata": {},
   "outputs": [],
   "source": [
    "nanni = manager('nanni')\n",
    "mario = manager('mario')\n",
    "\n",
    "#Fines have been already assigned, so do not run again\n",
    "#nanni.assign_fine()\n",
    "#mario.assign_fine()"
   ]
  },
  {
   "cell_type": "markdown",
   "metadata": {},
   "source": [
    "# Control Dashboard"
   ]
  },
  {
   "cell_type": "code",
   "execution_count": 20,
   "metadata": {},
   "outputs": [
    {
     "data": {
      "application/vnd.jupyter.widget-view+json": {
       "model_id": "17cdc9ee68f646f39cbaf2fae7d68d9d",
       "version_major": 2,
       "version_minor": 0
      },
      "text/plain": [
       "VBox(children=(Button(description='Update Players Info', layout=Layout(height='40px', width='200px'), style=Bu…"
      ]
     },
     "metadata": {},
     "output_type": "display_data"
    },
    {
     "name": "stderr",
     "output_type": "stream",
     "text": [
      "\r",
      "N/A% (0 of 602) |                        | Elapsed Time: 0:00:00 ETA:  --:--:--"
     ]
    },
    {
     "name": "stdout",
     "output_type": "stream",
     "text": [
      "BADU left serie A\n"
     ]
    },
    {
     "name": "stderr",
     "output_type": "stream",
     "text": [
      "  2% (16 of 602) |                       | Elapsed Time: 0:00:02 ETA:   0:01:53"
     ]
    },
    {
     "name": "stdout",
     "output_type": "stream",
     "text": [
      "ASORO left serie A\n"
     ]
    },
    {
     "name": "stderr",
     "output_type": "stream",
     "text": [
      "  4% (29 of 602) |#                      | Elapsed Time: 0:00:05 ETA:   0:01:49"
     ]
    },
    {
     "name": "stdout",
     "output_type": "stream",
     "text": [
      "KIYINE left serie A\n"
     ]
    },
    {
     "name": "stderr",
     "output_type": "stream",
     "text": [
      "  6% (42 of 602) |#                      | Elapsed Time: 0:00:08 ETA:   0:01:47"
     ]
    },
    {
     "name": "stdout",
     "output_type": "stream",
     "text": [
      "MALES left serie A\n"
     ]
    },
    {
     "name": "stderr",
     "output_type": "stream",
     "text": [
      "  8% (51 of 602) |#                      | Elapsed Time: 0:00:09 ETA:   0:01:32"
     ]
    },
    {
     "name": "stdout",
     "output_type": "stream",
     "text": [
      "LERAGER left serie A\n"
     ]
    },
    {
     "name": "stderr",
     "output_type": "stream",
     "text": [
      "  9% (59 of 602) |##                     | Elapsed Time: 0:00:11 ETA:   0:01:44"
     ]
    },
    {
     "name": "stdout",
     "output_type": "stream",
     "text": [
      "CALIGARA left serie A\n"
     ]
    },
    {
     "name": "stderr",
     "output_type": "stream",
     "text": [
      " 11% (72 of 602) |##                     | Elapsed Time: 0:00:13 ETA:   0:01:51"
     ]
    },
    {
     "name": "stdout",
     "output_type": "stream",
     "text": [
      "PROTO left serie A\n"
     ]
    },
    {
     "name": "stderr",
     "output_type": "stream",
     "text": [
      " 12% (75 of 602) |##                     | Elapsed Time: 0:00:14 ETA:   0:01:41"
     ]
    },
    {
     "name": "stdout",
     "output_type": "stream",
     "text": [
      "DENSWIL left serie A\n"
     ]
    },
    {
     "name": "stderr",
     "output_type": "stream",
     "text": [
      " 14% (89 of 602) |###                    | Elapsed Time: 0:00:17 ETA:   0:01:49"
     ]
    },
    {
     "name": "stdout",
     "output_type": "stream",
     "text": [
      "OLIVA left serie A\n",
      "SEGRE left serie A\n"
     ]
    },
    {
     "name": "stderr",
     "output_type": "stream",
     "text": [
      " 17% (107 of 602) |###                   | Elapsed Time: 0:00:20 ETA:   0:01:30"
     ]
    },
    {
     "name": "stdout",
     "output_type": "stream",
     "text": [
      "BASIT left serie A\n"
     ]
    },
    {
     "name": "stderr",
     "output_type": "stream",
     "text": [
      " 18% (110 of 602) |####                  | Elapsed Time: 0:00:20 ETA:   0:01:23"
     ]
    },
    {
     "name": "stdout",
     "output_type": "stream",
     "text": [
      "MASTINU left serie A\n"
     ]
    },
    {
     "name": "stderr",
     "output_type": "stream",
     "text": [
      " 18% (113 of 602) |####                  | Elapsed Time: 0:00:21 ETA:   0:01:23"
     ]
    },
    {
     "name": "stdout",
     "output_type": "stream",
     "text": [
      "DIALLO left serie A\n"
     ]
    },
    {
     "name": "stderr",
     "output_type": "stream",
     "text": [
      " 19% (120 of 602) |####                  | Elapsed Time: 0:00:22 ETA:   0:01:20"
     ]
    },
    {
     "name": "stdout",
     "output_type": "stream",
     "text": [
      "GOMELT left serie A\n"
     ]
    },
    {
     "name": "stderr",
     "output_type": "stream",
     "text": [
      " 22% (134 of 602) |####                  | Elapsed Time: 0:00:25 ETA:   0:01:29"
     ]
    },
    {
     "name": "stdout",
     "output_type": "stream",
     "text": [
      "NICOLAS left serie A\n"
     ]
    },
    {
     "name": "stderr",
     "output_type": "stream",
     "text": [
      " 22% (138 of 602) |#####                 | Elapsed Time: 0:00:26 ETA:   0:01:39"
     ]
    },
    {
     "name": "stdout",
     "output_type": "stream",
     "text": [
      "EDERA left serie A\n"
     ]
    },
    {
     "name": "stderr",
     "output_type": "stream",
     "text": [
      " 26% (159 of 602) |#####                 | Elapsed Time: 0:00:30 ETA:   0:01:21"
     ]
    },
    {
     "name": "stdout",
     "output_type": "stream",
     "text": [
      "GOMEZ left serie A\n"
     ]
    },
    {
     "name": "stderr",
     "output_type": "stream",
     "text": [
      " 29% (176 of 602) |######                | Elapsed Time: 0:00:33 ETA:   0:01:18"
     ]
    },
    {
     "name": "stdout",
     "output_type": "stream",
     "text": [
      "SILIGARDI left serie A\n"
     ]
    },
    {
     "name": "stderr",
     "output_type": "stream",
     "text": [
      " 31% (189 of 602) |######                | Elapsed Time: 0:00:36 ETA:   0:01:27"
     ]
    },
    {
     "name": "stdout",
     "output_type": "stream",
     "text": [
      "SCHONE left serie A\n"
     ]
    },
    {
     "name": "stderr",
     "output_type": "stream",
     "text": [
      " 34% (209 of 602) |#######               | Elapsed Time: 0:00:40 ETA:   0:01:21"
     ]
    },
    {
     "name": "stdout",
     "output_type": "stream",
     "text": [
      "DUARTE left serie A\n"
     ]
    },
    {
     "name": "stderr",
     "output_type": "stream",
     "text": [
      " 39% (236 of 602) |########              | Elapsed Time: 0:00:45 ETA:   0:01:07"
     ]
    },
    {
     "name": "stdout",
     "output_type": "stream",
     "text": [
      "MAGGIO left serie A\n"
     ]
    },
    {
     "name": "stderr",
     "output_type": "stream",
     "text": [
      " 40% (244 of 602) |########              | Elapsed Time: 0:00:47 ETA:   0:01:08"
     ]
    },
    {
     "name": "stdout",
     "output_type": "stream",
     "text": [
      "CUTRONE left serie A\n"
     ]
    },
    {
     "name": "stderr",
     "output_type": "stream",
     "text": [
      " 45% (276 of 602) |##########            | Elapsed Time: 0:00:53 ETA:   0:01:02"
     ]
    },
    {
     "name": "stdout",
     "output_type": "stream",
     "text": [
      "VAVRO left serie A\n"
     ]
    },
    {
     "name": "stderr",
     "output_type": "stream",
     "text": [
      " 46% (281 of 602) |##########            | Elapsed Time: 0:00:54 ETA:   0:00:56"
     ]
    },
    {
     "name": "stdout",
     "output_type": "stream",
     "text": [
      "LIROLA left serie A\n"
     ]
    },
    {
     "name": "stderr",
     "output_type": "stream",
     "text": [
      " 48% (293 of 602) |##########            | Elapsed Time: 0:00:56 ETA:   0:00:58"
     ]
    },
    {
     "name": "stdout",
     "output_type": "stream",
     "text": [
      "MORA left serie A\n"
     ]
    },
    {
     "name": "stderr",
     "output_type": "stream",
     "text": [
      " 50% (307 of 602) |###########           | Elapsed Time: 0:00:59 ETA:   0:00:55"
     ]
    },
    {
     "name": "stdout",
     "output_type": "stream",
     "text": [
      "ADORANTE left serie A\n"
     ]
    },
    {
     "name": "stderr",
     "output_type": "stream",
     "text": [
      " 55% (335 of 602) |############          | Elapsed Time: 0:01:05 ETA:   0:01:00"
     ]
    },
    {
     "name": "stdout",
     "output_type": "stream",
     "text": [
      "BARTOLOMEI left serie A\n"
     ]
    },
    {
     "name": "stderr",
     "output_type": "stream",
     "text": [
      " 61% (372 of 602) |#############         | Elapsed Time: 0:01:12 ETA:   0:00:45"
     ]
    },
    {
     "name": "stdout",
     "output_type": "stream",
     "text": [
      "DEZI left serie A\n"
     ]
    },
    {
     "name": "stderr",
     "output_type": "stream",
     "text": [
      " 62% (377 of 602) |#############         | Elapsed Time: 0:01:13 ETA:   0:00:39"
     ]
    },
    {
     "name": "stdout",
     "output_type": "stream",
     "text": [
      "MOJICA left serie A\n"
     ]
    },
    {
     "name": "stderr",
     "output_type": "stream",
     "text": [
      " 64% (390 of 602) |##############        | Elapsed Time: 0:01:16 ETA:   0:00:45"
     ]
    },
    {
     "name": "stdout",
     "output_type": "stream",
     "text": [
      "PICCINI left serie A\n"
     ]
    },
    {
     "name": "stderr",
     "output_type": "stream",
     "text": [
      " 66% (400 of 602) |##############        | Elapsed Time: 0:01:18 ETA:   0:00:39"
     ]
    },
    {
     "name": "stdout",
     "output_type": "stream",
     "text": [
      "MILIK left serie A\n"
     ]
    },
    {
     "name": "stderr",
     "output_type": "stream",
     "text": [
      " 68% (413 of 602) |###############       | Elapsed Time: 0:01:20 ETA:   0:00:37"
     ]
    },
    {
     "name": "stdout",
     "output_type": "stream",
     "text": [
      "SCOZZARELLA left serie A\n"
     ]
    },
    {
     "name": "stderr",
     "output_type": "stream",
     "text": [
      " 70% (422 of 602) |###############       | Elapsed Time: 0:01:22 ETA:   0:00:32"
     ]
    },
    {
     "name": "stdout",
     "output_type": "stream",
     "text": [
      "CARNESECCHI left serie A\n"
     ]
    },
    {
     "name": "stderr",
     "output_type": "stream",
     "text": [
      " 71% (428 of 602) |###############       | Elapsed Time: 0:01:23 ETA:   0:00:30"
     ]
    },
    {
     "name": "stdout",
     "output_type": "stream",
     "text": [
      "MILLICO left serie A\n"
     ]
    },
    {
     "name": "stderr",
     "output_type": "stream",
     "text": [
      " 76% (458 of 602) |################      | Elapsed Time: 0:01:29 ETA:   0:00:27"
     ]
    },
    {
     "name": "stdout",
     "output_type": "stream",
     "text": [
      "KHEDIRA left serie A\n"
     ]
    },
    {
     "name": "stderr",
     "output_type": "stream",
     "text": [
      "\r",
      " 76% (459 of 602) |################      | Elapsed Time: 0:01:29 ETA:   0:00:27"
     ]
    },
    {
     "name": "stdout",
     "output_type": "stream",
     "text": [
      "RICCI F. left serie A\n"
     ]
    },
    {
     "name": "stderr",
     "output_type": "stream",
     "text": [
      " 78% (474 of 602) |#################     | Elapsed Time: 0:01:32 ETA:   0:00:22"
     ]
    },
    {
     "name": "stdout",
     "output_type": "stream",
     "text": [
      "DEL PINTO left serie A\n",
      "PARIGINI left serie A\n"
     ]
    },
    {
     "name": "stderr",
     "output_type": "stream",
     "text": [
      " 79% (480 of 602) |#################     | Elapsed Time: 0:01:33 ETA:   0:00:19"
     ]
    },
    {
     "name": "stdout",
     "output_type": "stream",
     "text": [
      "MUSTACCHIO left serie A\n",
      "TER AVEST left serie A\n"
     ]
    },
    {
     "name": "stderr",
     "output_type": "stream",
     "text": [
      " 81% (489 of 602) |#################     | Elapsed Time: 0:01:34 ETA:   0:00:18"
     ]
    },
    {
     "name": "stdout",
     "output_type": "stream",
     "text": [
      "COLOMBO left serie A\n"
     ]
    },
    {
     "name": "stderr",
     "output_type": "stream",
     "text": [
      " 83% (503 of 602) |##################    | Elapsed Time: 0:01:37 ETA:   0:00:18"
     ]
    },
    {
     "name": "stdout",
     "output_type": "stream",
     "text": [
      "SCHIAPPACASSE left serie A\n"
     ]
    },
    {
     "name": "stderr",
     "output_type": "stream",
     "text": [
      " 85% (514 of 602) |##################    | Elapsed Time: 0:01:39 ETA:   0:00:16"
     ]
    },
    {
     "name": "stdout",
     "output_type": "stream",
     "text": [
      "KINGSLEY left serie A\n"
     ]
    },
    {
     "name": "stderr",
     "output_type": "stream",
     "text": [
      " 86% (522 of 602) |###################   | Elapsed Time: 0:01:40 ETA:   0:00:11"
     ]
    },
    {
     "name": "stdout",
     "output_type": "stream",
     "text": [
      "PAJAC left serie A\n",
      "DALLE MURA left serie A\n",
      "CROCIATA left serie A\n"
     ]
    },
    {
     "name": "stderr",
     "output_type": "stream",
     "text": [
      " 87% (525 of 602) |###################   | Elapsed Time: 0:01:41 ETA:   0:00:10"
     ]
    },
    {
     "name": "stdout",
     "output_type": "stream",
     "text": [
      "PAZ left serie A\n",
      "PISACANE left serie A\n"
     ]
    },
    {
     "name": "stderr",
     "output_type": "stream",
     "text": [
      " 89% (538 of 602) |###################   | Elapsed Time: 0:01:43 ETA:   0:00:12"
     ]
    },
    {
     "name": "stdout",
     "output_type": "stream",
     "text": [
      "DINI left serie A\n"
     ]
    },
    {
     "name": "stderr",
     "output_type": "stream",
     "text": [
      " 91% (552 of 602) |####################  | Elapsed Time: 0:01:46 ETA:   0:00:09"
     ]
    },
    {
     "name": "stdout",
     "output_type": "stream",
     "text": [
      "COULIBALY left serie A\n"
     ]
    },
    {
     "name": "stderr",
     "output_type": "stream",
     "text": [
      " 92% (556 of 602) |####################  | Elapsed Time: 0:01:46 ETA:   0:00:08"
     ]
    },
    {
     "name": "stdout",
     "output_type": "stream",
     "text": [
      "DANZI left serie A\n"
     ]
    },
    {
     "name": "stderr",
     "output_type": "stream",
     "text": [
      " 93% (562 of 602) |####################  | Elapsed Time: 0:01:48 ETA:   0:00:07"
     ]
    },
    {
     "name": "stdout",
     "output_type": "stream",
     "text": [
      "VOLTA left serie A\n"
     ]
    },
    {
     "name": "stderr",
     "output_type": "stream",
     "text": [
      " 94% (567 of 602) |####################  | Elapsed Time: 0:01:49 ETA:   0:00:06"
     ]
    }
   ],
   "source": [
    "btn_update_stats = widgets.Button(description='Update Players Stats',layout=widgets.Layout(width='200px', height='40px'))\n",
    "\n",
    "def update_stats_event(obj):\n",
    "    stats = import_stats()\n",
    "    update_stats_all(stats, CR = cred['cred'], DB = 'Game', CO = 'Players')\n",
    "    \n",
    "btn_update_stats.on_click(update_stats_event)\n",
    "btn_update_stats.style.button_color = 'skyblue'\n",
    "\n",
    "btn_personal_info= widgets.Button(description='Update Players Info',layout=widgets.Layout(width='200px', height='40px'))\n",
    "\n",
    "def update_info_event(obj):\n",
    "    stats = import_stats()\n",
    "    update_personal_info(stats, CR = cred['cred'], DB = 'Game', CO = 'Players')\n",
    "    \n",
    "btn_personal_info.on_click(update_info_event)\n",
    "btn_personal_info.style.button_color = 'skyblue'\n",
    "\n",
    "btn_missing_players= widgets.Button(description='Add New Players',layout=widgets.Layout(width='200px', height='40px'))\n",
    "\n",
    "def new_players_event(obj):\n",
    "    stats = import_stats()\n",
    "    missing_ids = find_missing_ids(stats)\n",
    "    pls = add_multi_pl(missing_ids, stats)\n",
    "    print('Added Players:\\n')\n",
    "    print(pls)\n",
    "    \n",
    "btn_missing_players.on_click(new_players_event)\n",
    "btn_missing_players.style.button_color = 'skyblue'\n",
    "\n",
    "\n",
    "\n",
    "#display(btn_personal_info)\n",
    "#display(btn_update_stats)\n",
    "#display(btn_missing_players)\n",
    "\n",
    "box_buttons = widgets.VBox([btn_personal_info, btn_update_stats, btn_missing_players])\n",
    "\n",
    "display(box_buttons)"
   ]
  },
  {
   "cell_type": "markdown",
   "metadata": {},
   "source": [
    "## Managers db \n",
    "I am commenting out the actual command inside the widget to prevent accidental changes, uncomment before use"
   ]
  },
  {
   "cell_type": "code",
   "execution_count": 21,
   "metadata": {},
   "outputs": [],
   "source": [
    "def mod_bud_event():\n",
    "    budget_num = widgets.BoundedFloatText(min=-1000, max=1000, value=0, step=1, description = 'Budget Change')\n",
    "\n",
    "    def budget_num_eventhandler(change):\n",
    "        global budget_delta\n",
    "        budget_delta = change.new\n",
    "\n",
    "    budget_num.observe(budget_num_eventhandler, names='value')\n",
    "\n",
    "    btn_conf_budget = widgets.Button(description='Confirm Budget Change')\n",
    "\n",
    "    def conf_budget_eventhandler(obj):\n",
    "        clear_output()\n",
    "        display(manager_selection_group)\n",
    "        manag.modify_budget(budget_delta)\n",
    "        print(manag.owner+'\\'s new Budget: '+str(manag.budget))\n",
    "\n",
    "\n",
    "    btn_conf_budget.on_click(conf_budget_eventhandler)\n",
    "\n",
    "    #display(budget_num)\n",
    "    #display(btn_conf_budget)\n",
    "    budget_box = widgets.HBox([budget_num, btn_conf_budget])\n",
    "    display(budget_box)"
   ]
  },
  {
   "cell_type": "code",
   "execution_count": 22,
   "metadata": {},
   "outputs": [],
   "source": [
    "def ass_trophy_event():\n",
    "    trophies = ['Choose one', 'Scudetto', 'Coppa di Lega', 'Champions', 'Supercoppa', 'Porta Violata', 'Cartellino Facile', 'Panchina D\\'Oro', 'Caduti']\n",
    "\n",
    "    trophies_menu = widgets.Dropdown(options=trophies, description = 'Trophy')\n",
    "\n",
    "    def assign_trophy_eventhandler(change):\n",
    "        if change.new == 'Choose one':\n",
    "            None\n",
    "        else:\n",
    "            global trophy\n",
    "            trophy = change.new\n",
    "\n",
    "\n",
    "    trophies_menu.observe(assign_trophy_eventhandler, names = 'value')\n",
    "\n",
    "    ranks = ['Select rank', 1,2,3,4]\n",
    "\n",
    "    ranks_menu = widgets.Dropdown(options=ranks, description = 'Ranking')\n",
    "\n",
    "    def assign_ranking_eventhandler(change):\n",
    "        global rank\n",
    "        rank = change.new\n",
    "\n",
    "\n",
    "    ranks_menu.observe(assign_ranking_eventhandler, names = 'value')\n",
    "    #display(trophies_menu)\n",
    "\n",
    "    season_text= widgets.Text(\n",
    "        placeholder='YY/YY+1',\n",
    "        description='Season',\n",
    "        disabled=False\n",
    "    )\n",
    "\n",
    "\n",
    "    def season_eventhandler(change):\n",
    "        global season\n",
    "        season = change.new\n",
    "\n",
    "    season_text.observe(season_eventhandler, names='value')\n",
    "\n",
    "    #display(season_text)\n",
    "\n",
    "    prize_num = widgets.BoundedFloatText(min=0, max=1000, value=0, step=1, description = 'Prize (EUR)')\n",
    "\n",
    "    def prize_num_eventhandler(change):\n",
    "        global prize_money\n",
    "        prize_money = change.new\n",
    "\n",
    "    prize_num.observe(prize_num_eventhandler, names='value')\n",
    "\n",
    "    btn_conf_trophy = widgets.Button(description='Confirm Trophy')\n",
    "\n",
    "    def conf_trophy_eventhandler(obj):\n",
    "        clear_output()\n",
    "        display(manager_selection_group)\n",
    "        manag.assign_trophy(trophy, season, prize_money, rank)\n",
    "        print('The trophy '+trophy+ ' was assigned to '+ manag.owner)\n",
    "\n",
    "\n",
    "    btn_conf_trophy.on_click(conf_trophy_eventhandler)\n",
    "\n",
    "\n",
    "    trophy_par = widgets.VBox([trophies_menu, ranks_menu, season_text, prize_num])\n",
    "    trophy_group = widgets.HBox([trophy_par, btn_conf_trophy])\n",
    "\n",
    "    display(trophy_group)"
   ]
  },
  {
   "cell_type": "code",
   "execution_count": 23,
   "metadata": {},
   "outputs": [],
   "source": [
    "def ass_fine_event():\n",
    "    reasons = ['Choose one', 'Missing lineup', 'Luxury Tax']\n",
    "\n",
    "    reasons_menu = widgets.Dropdown(options=reasons, description = 'Reason')\n",
    "\n",
    "    def reasons_eventhandler(change):\n",
    "        if change.new == 'Choose one':\n",
    "            None\n",
    "        else:\n",
    "            global reason\n",
    "            reason = change.new\n",
    "\n",
    "\n",
    "    reasons_menu.observe(reasons_eventhandler, names = 'value')\n",
    "\n",
    "\n",
    "    #display(season_text)\n",
    "\n",
    "    fine_num = widgets.BoundedFloatText(min=0, max=1000, value=0, step=1, description = 'Amount (EUR)')\n",
    "\n",
    "    def fine_num_eventhandler(change):\n",
    "        global fine\n",
    "        fine = change.new\n",
    "\n",
    "    fine_num.observe(fine_num_eventhandler, names='value')\n",
    "\n",
    "    btn_conf_fine = widgets.Button(description='Confirm Fine')\n",
    "\n",
    "    def conf_fine_eventhandler(obj):\n",
    "        clear_output()\n",
    "        display(manager_selection_group)\n",
    "        manag.assign_fine(fine, reason)\n",
    "        print('A fine of the amount of '+str(fine)+ ' was assigned to '+ manag.owner+' for the following reason: '+ reason)\n",
    "\n",
    "\n",
    "    btn_conf_fine.on_click(conf_fine_eventhandler)\n",
    "\n",
    "\n",
    "    fine_par = widgets.VBox([reasons_menu, fine_num])\n",
    "    trophy_group = widgets.HBox([fine_par, btn_conf_fine])\n",
    "\n",
    "    display(trophy_group)"
   ]
  },
  {
   "cell_type": "code",
   "execution_count": 24,
   "metadata": {},
   "outputs": [
    {
     "data": {
      "application/vnd.jupyter.widget-view+json": {
       "model_id": "c6849f6f920d489fbae116603a69d398",
       "version_major": 2,
       "version_minor": 0
      },
      "text/plain": [
       "HBox(children=(Dropdown(description='Manager', options=('Choose one', 'luca', 'pietro', 'enzo', 'nanni', 'mari…"
      ]
     },
     "metadata": {},
     "output_type": "display_data"
    }
   ],
   "source": [
    "owners = ['Choose one', 'luca','pietro','enzo','nanni','mario','emiliano','franky','musci8']\n",
    "\n",
    "own_menu = widgets.Dropdown(options=owners, description = 'Manager')\n",
    "owner = 'Choose one'\n",
    "\n",
    "def select_owner_eventhandler(change):\n",
    "    if change.new == 'Choose one':\n",
    "        None\n",
    "    else:\n",
    "        global manag\n",
    "        global owner\n",
    "        owner = change.new\n",
    "        stats = import_stats()\n",
    "        manag = manager(change.new, stats = stats, CR = cred['cred'])\n",
    "    \n",
    "\n",
    "own_menu.observe(select_owner_eventhandler, names = 'value')\n",
    "\n",
    "btn_modify_budget = widgets.Button(description='Modify Budget')\n",
    "\n",
    "def mod_budget_eventhandler(obj):\n",
    "    if owner == 'Choose one':\n",
    "        None\n",
    "    else:\n",
    "        mod_bud_event()\n",
    "\n",
    "btn_modify_budget.on_click(mod_budget_eventhandler)\n",
    "\n",
    "btn_assign_trophy = widgets.Button(description='Assign Trophy')\n",
    "\n",
    "def ass_trophy_eventhandler(obj):\n",
    "    if owner == 'Choose one':\n",
    "        None\n",
    "    else:\n",
    "        ass_trophy_event()\n",
    "    \n",
    "\n",
    "btn_assign_trophy.on_click(ass_trophy_eventhandler)\n",
    "\n",
    "btn_assign_fine = widgets.Button(description='Assign Fine')\n",
    "\n",
    "def ass_fine_eventhandler(obj):\n",
    "    if owner == 'Choose one':\n",
    "        None\n",
    "    else:\n",
    "        ass_fine_event()\n",
    "    \n",
    "\n",
    "btn_assign_fine.on_click(ass_fine_eventhandler)\n",
    "\n",
    "#display(own_menu)\n",
    "#display(btn_confirm_manager)\n",
    "\n",
    "manager_selection_group = widgets.HBox([own_menu,btn_modify_budget,btn_assign_trophy, btn_assign_fine])\n",
    "display(manager_selection_group)"
   ]
  },
  {
   "cell_type": "markdown",
   "metadata": {},
   "source": [
    "## Assign extra budget to all managers"
   ]
  },
  {
   "cell_type": "code",
   "execution_count": 25,
   "metadata": {},
   "outputs": [
    {
     "data": {
      "application/vnd.jupyter.widget-view+json": {
       "model_id": "d8790056a274436cad33e800edd1a505",
       "version_major": 2,
       "version_minor": 0
      },
      "text/plain": [
       "HBox(children=(VBox(children=(BoundedFloatText(value=0.0, description='Extra Budget', max=1000.0, step=1.0), B…"
      ]
     },
     "metadata": {},
     "output_type": "display_data"
    }
   ],
   "source": [
    "ex_bud_num = widgets.BoundedFloatText(min=0, max=1000, value=0, step=1, description = 'Extra Budget')\n",
    "\n",
    "def ex_bud_eventhandler(change):\n",
    "    global extra_budget\n",
    "    extra_budget = change.new\n",
    "\n",
    "ex_bud_num.observe(ex_bud_eventhandler, names='value')\n",
    "\n",
    "sal_cap_num = widgets.BoundedFloatText(min=0, max=1000, value=0, step=1, description = 'Salary Cap')\n",
    "\n",
    "def sal_cap_eventhandler(change):\n",
    "    global salary_cap\n",
    "    salary_cap = change.new\n",
    "\n",
    "sal_cap_num.observe(sal_cap_eventhandler, names='value')\n",
    "\n",
    "btn_assign_extra = widgets.Button(description='Assign to All')\n",
    "\n",
    "def ass_extra_eventhandler(obj):\n",
    "    owners_ex = ['luca','pietro','enzo','nanni','mario','emiliano','franky','musci8']\n",
    "    for owner_ex in owners_ex:\n",
    "        man_ex = manager(owner_ex, stats = stats, CR = cred['cred'])\n",
    "        man_ex.assign_extra_budget(extra_budget, salary_cap)\n",
    "\n",
    "btn_assign_extra.on_click(ass_extra_eventhandler)\n",
    "\n",
    "v_box = widgets.VBox([ex_bud_num,sal_cap_num])\n",
    "h_box = widgets.HBox([v_box,btn_assign_extra])\n",
    "    \n",
    "display(h_box)"
   ]
  },
  {
   "cell_type": "code",
   "execution_count": null,
   "metadata": {},
   "outputs": [],
   "source": []
  }
 ],
 "metadata": {
  "kernelspec": {
   "display_name": "Python 3",
   "language": "python",
   "name": "python3"
  },
  "language_info": {
   "codemirror_mode": {
    "name": "ipython",
    "version": 3
   },
   "file_extension": ".py",
   "mimetype": "text/x-python",
   "name": "python",
   "nbconvert_exporter": "python",
   "pygments_lexer": "ipython3",
   "version": "3.7.6"
  }
 },
 "nbformat": 4,
 "nbformat_minor": 4
}
