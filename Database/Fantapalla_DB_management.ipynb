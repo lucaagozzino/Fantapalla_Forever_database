{
 "cells": [
  {
   "cell_type": "markdown",
   "metadata": {},
   "source": [
    "# FP management\n",
    "\n",
    "In thi notebook we will define the various methods to perform changes to the database to keep track of the various events. In particular we will take care of:\n",
    "\n",
    "- Adding new free agent players to the database, when they are included in the FC list\n",
    "- Assigning trophies\n",
    "- Assigning fines\n",
    "- Calculating total roster value to determine the salary, extra budget and luxury tax\n",
    "- TBD\n",
    "- UPDATE PLAYER NAME IF IT HAS CHANGED ON FC:\n",
    "    - Sometime FC changes the name of a player. In 2019/2020 LUKAKU was 'LUKAKU R.', now just 'LUKAKU', because Jordan left serie A. We need a way of scanning the players in our db by ID and update the name as needed. Maybe it can be included in the stats update algorithm\n",
    "    \n",
    "Note: We need also to decide what to do when a player changes team within serie a. "
   ]
  },
  {
   "cell_type": "code",
   "execution_count": 8,
   "metadata": {},
   "outputs": [],
   "source": [
    "import pandas as pd\n",
    "import numpy as np\n",
    "import datetime\n",
    "from datetime import date\n",
    "import json\n",
    "import copy\n",
    "from pymongo import MongoClient\n",
    "from pprint import pprint\n",
    "import pymongo\n",
    "import progressbar\n",
    "with open('credential.json','r') as f:\n",
    "    cred = json.load(f)\n",
    "stats = pd.read_pickle('../IGNOBEL/Statistiche_giocatori.pkl')"
   ]
  },
  {
   "cell_type": "markdown",
   "metadata": {},
   "source": [
    "## Update personal info\n",
    "this part is to run through the players in our database and cross check the info with the stats db:\n",
    "- if the player is not in our db, we don't care: we'll add it when someone wants to buy them\n",
    "- if the player is in our db but not in stats it means that it left serie A, so the algorithm should change the team to none:\n",
    "```collection.update_one({'_id': pl['_id']},{'$set':{'info.personal_info.team_real': None}})\n",
    "```\n",
    "- if the player has changed teams we need to update the information"
   ]
  },
  {
   "cell_type": "code",
   "execution_count": null,
   "metadata": {},
   "outputs": [],
   "source": []
  },
  {
   "cell_type": "markdown",
   "metadata": {},
   "source": [
    "## UPDATE stats"
   ]
  },
  {
   "cell_type": "code",
   "execution_count": 9,
   "metadata": {},
   "outputs": [],
   "source": [
    "def update_stats(stats, Id, CR = cred['cred'], DB = 'Game', CO = 'Players'):\n",
    "\n",
    "    cluster = MongoClient(CR)\n",
    "    db = cluster[DB]\n",
    "    collection = db[CO]\n",
    "    stats.index = list(stats.Id)\n",
    "    #print(stats[stats['Id'] == int(Id)].T[0][4:20])\n",
    "    stats_dict = dict(stats[stats['Id'] == int(Id)].T[Id][4:20])\n",
    "\n",
    "    collection.update_one({'_id': Id}, {'$set': {'info.stats': stats_dict}})"
   ]
  },
  {
   "cell_type": "code",
   "execution_count": 10,
   "metadata": {},
   "outputs": [],
   "source": [
    "def update_stats_all(stats, CR = cred['cred'], DB = 'Game', CO = 'Players'):\n",
    "    \n",
    "    cluster = MongoClient(CR)\n",
    "    db = cluster[DB]\n",
    "    collection = db[CO]\n",
    "    \n",
    "    all_pl = list(collection.find({}))\n",
    "    \n",
    "    for pl in progressbar.progressbar(all_pl):\n",
    "        #print(pl['_id'])\n",
    "        if len(stats[stats['Id'] == pl['_id']]) == 0:\n",
    "            print(pl['name']+' left serie A')\n",
    "            #\n",
    "            continue\n",
    "        else:\n",
    "            update_stats(stats, pl['_id'], CR, DB, CO)"
   ]
  },
  {
   "cell_type": "code",
   "execution_count": 5,
   "metadata": {},
   "outputs": [
    {
     "name": "stderr",
     "output_type": "stream",
     "text": [
      "/Users/lucaagozzino/opt/anaconda3/lib/python3.7/site-packages/pymongo/common.py:559: UserWarning: Unknown option retryWrites\n",
      "  warnings.warn(str(exc))\n",
      " 65% (368 of 563) |##############        | Elapsed Time: 0:01:19 ETA:   0:02:07"
     ]
    },
    {
     "name": "stdout",
     "output_type": "stream",
     "text": [
      "EMPEREURleft serie a, modify algorithm to change team_real to None. profile not in FC db anymore\n"
     ]
    },
    {
     "name": "stderr",
     "output_type": "stream",
     "text": [
      "100% (563 of 563) |######################| Elapsed Time: 0:01:58 Time:  0:01:58\n"
     ]
    }
   ],
   "source": [
    "# algorithm runs through the entire db and updates stats value\n",
    "# if player no more in serie a it prints a message, but we need to include change of team_real to none\n",
    "#it is probably best to \n",
    "update_stats_all(stats)"
   ]
  },
  {
   "cell_type": "markdown",
   "metadata": {},
   "source": [
    "## Add player to database"
   ]
  },
  {
   "cell_type": "code",
   "execution_count": null,
   "metadata": {},
   "outputs": [],
   "source": []
  }
 ],
 "metadata": {
  "kernelspec": {
   "display_name": "Python 3",
   "language": "python",
   "name": "python3"
  },
  "language_info": {
   "codemirror_mode": {
    "name": "ipython",
    "version": 3
   },
   "file_extension": ".py",
   "mimetype": "text/x-python",
   "name": "python",
   "nbconvert_exporter": "python",
   "pygments_lexer": "ipython3",
   "version": "3.7.6"
  }
 },
 "nbformat": 4,
 "nbformat_minor": 4
}
