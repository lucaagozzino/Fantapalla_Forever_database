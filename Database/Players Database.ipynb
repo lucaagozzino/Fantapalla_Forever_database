{
 "cells": [
  {
   "cell_type": "code",
   "execution_count": 14,
   "metadata": {},
   "outputs": [],
   "source": [
    "import pandas as pd\n",
    "import numpy as np\n",
    "import datetime\n",
    "from datetime import date\n",
    "import json\n",
    "import copy\n"
   ]
  },
  {
   "cell_type": "code",
   "execution_count": 15,
   "metadata": {
    "scrolled": false
   },
   "outputs": [],
   "source": [
    "st = pd.read_pickle('../IGNOBEL/Statistiche_giocatori.pkl') #importing complete stats DB\n",
    "transStat = copy.deepcopy(st)\n",
    "transStat.index=list(st.Id)\n",
    "transStat=transStat.T # transposed df makes it easier to access players by id\n",
    "#print(st.keys())\n",
    "#st"
   ]
  },
  {
   "cell_type": "code",
   "execution_count": 16,
   "metadata": {},
   "outputs": [],
   "source": [
    "# DB - DICTIONARY SKELETON # \n",
    "\n",
    "# Dictionary with specific loan info\n",
    "LoanDict = {\n",
    "    'start_date': '2020/08/01',\n",
    "    'expire_date': '2020/07/31',\n",
    "    'cost': 0,\n",
    "    'redemption_right': False, #True or False\n",
    "    'redemption_cost': 0, #>0 if redemption_right=True\n",
    "}\n",
    "\n",
    "# Dictionary with player current team and loan info\n",
    "CurrentTeamDict = {\n",
    "    'owner': '', #luca, pietro etc\n",
    "    'team': '', #team_name \n",
    "    'squad': '', # 'Main' or 'Primavera'\n",
    "    'start_date': '2020/08/01',\n",
    "    'origin': '', #last team (e.g. team_name + ' - Primavera')\n",
    "    'quotation_initial': 0,\n",
    "    'on_loan': False, #True or False\n",
    "    'loan_info': LoanDict\n",
    "}\n",
    "\n",
    "# Dictionary with player ownership info\n",
    "ContractDict = {\n",
    "    'owner': '', #this seems redundant\n",
    "    'start_date': '2020/08/01',\n",
    "    'cost': 0,\n",
    "    'acquisition_mode': '', #asta_svincolati, draft, acquisto\n",
    "    'origin': '', #team_name or svincolati\n",
    "    'quotation_initial': 0\n",
    "}\n",
    "\n",
    "# Dictionary with player personal info\n",
    "PersonalInfoDict = {\n",
    "    'full_name': '',\n",
    "    'birthdate': '1970/01/01',\n",
    "    'nation': '',\n",
    "    'team_real': '',\n",
    "    'FC_role':''\n",
    "}\n",
    "\n",
    "# Nested dictionary for a single player info\n",
    "PlayerDict = {\n",
    "    'id': 0,\n",
    "    'name': '',\n",
    "    'personal_info': PersonalInfoDict,\n",
    "    'contract': ContractDict,\n",
    "    'current_team': CurrentTeamDict,\n",
    "    #'transfers': TransfersDict,\n",
    "    #'stats': StatsDict,\n",
    "    #'seasons': SeasonStatsDict\n",
    "}\n",
    "\n",
    "# Main nested dictionary with ALL FPF players info\n",
    "PlayersDB = {}"
   ]
  },
  {
   "cell_type": "code",
   "execution_count": 17,
   "metadata": {
    "scrolled": true
   },
   "outputs": [],
   "source": [
    "# IMPORT CURRENT DATA INTO DB DICTIONARY #\n",
    "\n",
    "import copy \n",
    "\n",
    "for Id, Name in zip(st['Id'], st['Nome']):\n",
    "    PlayersDB[Id] = copy.deepcopy(PlayerDict)\n",
    "    PlayersDB[Id]['id'] = Id\n",
    "    PlayersDB[Id]['name'] = Name\n",
    "\n",
    "#print(PlayersDB)\n",
    "\n",
    "#with open('FPF_Players_Database.json', 'w') as fp:\n",
    "#    json.dump(PlayersDB, fp)"
   ]
  },
  {
   "cell_type": "markdown",
   "metadata": {},
   "source": [
    "# Updating entire database with stats and info\n",
    "\n",
    "Do not run this section unless something is changed in the stats database"
   ]
  },
  {
   "cell_type": "code",
   "execution_count": 107,
   "metadata": {},
   "outputs": [],
   "source": [
    "def check_prim(text):\n",
    "    if ' - PRIMAVERA' in text:\n",
    "        out = text[:-12]\n",
    "        squad = 'primavera'\n",
    "    else:\n",
    "        out = text\n",
    "        squad = 'main'\n",
    "    return out, squad"
   ]
  },
  {
   "cell_type": "code",
   "execution_count": 108,
   "metadata": {},
   "outputs": [],
   "source": [
    "for Id, dic in PlayersDB.items():\n",
    "    dic['personal_info']['FC_role'] = transStat[Id]['R']\n",
    "    dic['personal_info']['team_real'] = transStat[Id]['Squadra']\n",
    "    dic['personal_info']['full_name'] = transStat[Id]['Nome Completo']\n",
    "    dic['personal_info']['nation'] = transStat[Id]['Nazionalit\\'a']\n",
    "    dic['personal_info']['birthdate'] = transStat[Id]['Classe']\n",
    "    dic['personal_info']['age'] = transStat[Id]['Eta\\'']\n",
    "    dic['contract']['quotation_initial'] = transStat[Id]['Qt. I']\n",
    "    dic['contract']['owner'] = transStat[Id]['Allenatore']\n",
    "    dic['current_team']['owner'] = transStat[Id]['Allenatore']\n",
    "    dic['current_team']['team'], dic['current_team']['squad']  = check_prim(transStat[Id]['Nome Squadra'])\n",
    "    dic['current_team']['quotation_initial'] = transStat[Id]['Qt. I']\n",
    "    dic['stats'] = dict(transStat[Id][4:18])\n",
    "\n",
    "# COMMENTED TO PREVENT OVERWRITING    \n",
    "#with open('FPF_Players_Database.json', 'w') as fp:\n",
    "#    json.dump(PlayersDB, fp)"
   ]
  },
  {
   "cell_type": "code",
   "execution_count": 109,
   "metadata": {},
   "outputs": [],
   "source": [
    "# WRITE PLAYER IDS TO TXT FILE #\n",
    "f = open(\"PlayersIds.txt\", \"w\")\n",
    "f.write('Id Name\\n')\n",
    "for Id,Name in zip(st['Id'], st['Nome']):\n",
    "    f.write(str(Id)+' '+Name+'\\n')\n",
    "f.close()"
   ]
  },
  {
   "cell_type": "markdown",
   "metadata": {},
   "source": [
    "# Import created database and upload it to mongoDB\n",
    "\n",
    "## Note: I need to fix the credentials. For now I have to add the ip address of the machine connecting to the db, so it is not ideal because I'm not using static ip "
   ]
  },
  {
   "cell_type": "code",
   "execution_count": 18,
   "metadata": {},
   "outputs": [],
   "source": [
    "from pymongo import MongoClient\n",
    "from pprint import pprint\n",
    "import pymongo\n",
    "\n",
    "with open('FPF_Players_Database.json','r') as f:\n",
    "    PlayersDB_in = json.load(f)\n",
    "\n",
    "\n",
    "with open('credential.json','r') as f:\n",
    "    cred = json.load(f)"
   ]
  },
  {
   "cell_type": "code",
   "execution_count": 19,
   "metadata": {},
   "outputs": [],
   "source": [
    "#Creating a list of dictionaries, which is the preferred structure for MongoDB\n",
    "posts = []\n",
    "for idx, dic in PlayersDB_in.items():\n",
    "    #Note: the change to label '_id' is to respect MongoDB standards\n",
    "    temp = {\"_id\": dic['id'], \"name\": dic['name'],\"owner\": dic['current_team']['owner'],\"team\": dic['current_team']['team'],\"squad\": dic['current_team']['squad'],\"real_team\": dic['personal_info']['team_real'],\"role\": dic['personal_info']['FC_role'],\"info\": dic}\n",
    "                                         \n",
    "    posts.append(temp)"
   ]
  },
  {
   "cell_type": "code",
   "execution_count": 20,
   "metadata": {},
   "outputs": [
    {
     "name": "stderr",
     "output_type": "stream",
     "text": [
      "/Users/lucaagozzino/opt/anaconda3/lib/python3.7/site-packages/pymongo/common.py:559: UserWarning: Unknown option retryWrites\n",
      "  warnings.warn(str(exc))\n"
     ]
    },
    {
     "data": {
      "text/plain": [
       "\" this is to fill the collection with the entire database, \\n    but it can't be used to overwrite, so I used it only the first time\\n    and then commented \""
      ]
     },
     "execution_count": 20,
     "metadata": {},
     "output_type": "execute_result"
    }
   ],
   "source": [
    "#Inserting database for the first time\n",
    "# specifying cluster with credential\n",
    "with open('credential.json','r') as f:\n",
    "    PlayersDB_in = json.load(f)\n",
    "\n",
    "cluster = MongoClient(cred['cred'])\n",
    "# choosing database\n",
    "db = cluster[\"Game\"]\n",
    "# choosing collection\n",
    "collection = db[\"Players\"]\n",
    "\n",
    "\"\"\" this is to fill the collection with the entire database, \n",
    "    but it can't be used to overwrite, so I used it only the first time\n",
    "    and then commented \"\"\"\n",
    "\n",
    "#collection.insert_many(posts)"
   ]
  },
  {
   "cell_type": "markdown",
   "metadata": {},
   "source": [
    "### Every entry in the database can be queried by external keys\n",
    "\n",
    "Note: mongoDB allows you to query (either to find, delete or replace) by the keys in the outmost dictionary, not the nested dictionary, so we need to decide what we want to have as queriable keys and flatten those.\n",
    "\n",
    "We can query by:\n",
    "\n",
    "- id (key '_id') this follows mongoDB standards and it MUST BE unique\n",
    "- name\n",
    "- owner\n",
    "- team\n",
    "- squad\n",
    "- real_team\n",
    "- role\n",
    "\n",
    "We can think whether to add more queriable keys, for instance:\n",
    "\n",
    "- birthdate?\n",
    "\n",
    "In MongoDB you can easily cross these queries and, for instance, find all the players that match multiple criteria (examples below)"
   ]
  },
  {
   "cell_type": "code",
   "execution_count": 21,
   "metadata": {},
   "outputs": [
    {
     "name": "stdout",
     "output_type": "stream",
     "text": [
      "{'_id': 2792,\n",
      " 'info': {'contract': {'acquisition_mode': '',\n",
      "                       'cost': 0,\n",
      "                       'origin': '',\n",
      "                       'owner': 'pietro',\n",
      "                       'quotation_initial': 11,\n",
      "                       'start_date': '2020/08/01'},\n",
      "          'current_team': {'loan_info': {'cost': 0,\n",
      "                                         'expire_date': '2020/07/31',\n",
      "                                         'redemption_cost': 0,\n",
      "                                         'redemption_right': False,\n",
      "                                         'start_date': '2020/08/01'},\n",
      "                           'on_loan': False,\n",
      "                           'origin': '',\n",
      "                           'owner': 'pietro',\n",
      "                           'quotation_initial': 11,\n",
      "                           'squad': 'main',\n",
      "                           'start_date': '2020/08/01',\n",
      "                           'team': 'PDG 1908'},\n",
      "          'id': 2792,\n",
      "          'name': 'MUSSO',\n",
      "          'personal_info': {'FC_role': 'P',\n",
      "                            'age': '26',\n",
      "                            'birthdate': '06/05/1994',\n",
      "                            'full_name': 'Musso Juan',\n",
      "                            'nation': 'Argentina, Italia',\n",
      "                            'team_real': 'Udinese'},\n",
      "          'stats': {'Amm': 0,\n",
      "                    'Asf': 0,\n",
      "                    'Ass': 0,\n",
      "                    'Au': 0,\n",
      "                    'Esp': 0,\n",
      "                    'Gf': 0,\n",
      "                    'Gs': 6,\n",
      "                    'Mf': 4.38,\n",
      "                    'Mv': 5.88,\n",
      "                    'Pg': 4,\n",
      "                    'R+': 0,\n",
      "                    'R-': 0,\n",
      "                    'Rc': 0,\n",
      "                    'Rp': 0}},\n",
      " 'name': 'MUSSO',\n",
      " 'owner': 'pietro',\n",
      " 'real_team': 'Udinese',\n",
      " 'role': 'P',\n",
      " 'squad': 'main',\n",
      " 'team': 'PDG 1908'}\n"
     ]
    }
   ],
   "source": [
    "#Example of a find query by name: \n",
    "#find the element that matches the criteria\n",
    "#Note: it makes sense if you search unique elements, \n",
    "#if you search by team it gives only first result, in that case see below\n",
    "result = collection.find_one({\"name\":'MUSSO'})\n",
    "\n",
    "pprint(result) #better way to print dictionaries"
   ]
  },
  {
   "cell_type": "code",
   "execution_count": 113,
   "metadata": {},
   "outputs": [
    {
     "name": "stdout",
     "output_type": "stream",
     "text": [
      "LUIS ALBERTO\n",
      "LAZZARI\n",
      "MARUSIC\n"
     ]
    }
   ],
   "source": [
    "#Example of multiple criteria: \n",
    "#Find all Lazio players in pietro's team\n",
    "\n",
    "results = collection.find({'owner': 'pietro', 'real_team': 'Lazio'})\n",
    "\n",
    "#it returns a cursor, so you need to loop over it to see the content\n",
    "for result in results:\n",
    "    print(result['name']) #printing just names for convenience"
   ]
  },
  {
   "cell_type": "code",
   "execution_count": 122,
   "metadata": {},
   "outputs": [
    {
     "name": "stdout",
     "output_type": "stream",
     "text": [
      "ZAPATA D.\n",
      "MURIEL\n",
      "LUIS ALBERTO\n",
      "CALHANOGLU\n",
      "CHIESA\n",
      "HERNANDEZ T.\n",
      "DE PAUL\n",
      "RAFAEL LEAO\n",
      "POLITANO\n",
      "LOZANO\n",
      "GABBIADINI\n",
      "MANOLAS\n",
      "BONAZZOLI\n",
      "LAZZARI\n",
      "SPINAZZOLA\n",
      "SENSI\n",
      "DRAGOWSKI\n",
      "MUSSO\n",
      "D'AMBROSIO\n",
      "CANDREVA\n",
      "GLIK\n",
      "SKRINIAR\n",
      "TOLJAN\n",
      "MONTIPO'\n",
      "PELLEGRINI LU.\n"
     ]
    }
   ],
   "source": [
    "#Example of multiple criteria: \n",
    "#Find all main squad players in pietro's team\n",
    "\n",
    "results = collection.find({'owner': 'pietro', 'squad': 'main'})\n",
    "for result in results:\n",
    "    print(result['name']) #printing just names for convenience"
   ]
  },
  {
   "cell_type": "code",
   "execution_count": 123,
   "metadata": {},
   "outputs": [
    {
     "name": "stdout",
     "output_type": "stream",
     "text": [
      "CARLES PEREZ\n",
      "KARSDORP\n"
     ]
    }
   ],
   "source": [
    "#Example of multiple criteria: \n",
    "#Find all primavera squad players in luca's team which are from Roma's team\n",
    "\n",
    "results = collection.find({'owner': 'luca', 'squad': 'primavera', 'real_team': 'Roma'})\n",
    "for result in results:\n",
    "    print(result['name']) #printing just names for convenience"
   ]
  },
  {
   "cell_type": "markdown",
   "metadata": {},
   "source": [
    "### Deleting elements from the database\n",
    "\n",
    "I left every cell commented to avoid erasing elements by mistake"
   ]
  },
  {
   "cell_type": "code",
   "execution_count": 65,
   "metadata": {},
   "outputs": [],
   "source": [
    "#deleting a single element that matches the criteria: (DON'T RUN)\n",
    "\n",
    "#THIS deletes the entire entry that matches the chosen criteria (name)\n",
    "# results = collection.delete_one({\"name\": \"MUSSO\"})"
   ]
  },
  {
   "cell_type": "code",
   "execution_count": null,
   "metadata": {},
   "outputs": [],
   "source": [
    "# THIS deletes every entry that matches this criteria (we don't have duplicates, so it is always one)\n",
    "#\n",
    "# results = collection.delete_many({\"name\": \"MUSSO\"})"
   ]
  },
  {
   "cell_type": "code",
   "execution_count": 118,
   "metadata": {},
   "outputs": [],
   "source": [
    "# USE THIS ONLY IF YOU WANT TO DELETE ALL:\n",
    "\n",
    "#results = collection.delete_many({})"
   ]
  },
  {
   "cell_type": "markdown",
   "metadata": {},
   "source": [
    "### Update elements in the database\n",
    "\n",
    "The general command is the following \n",
    "\n",
    "```collection.update_many(<criteria>, {$set:{<key>: <new value>}})\n",
    "```\n",
    "    \n",
    "Since we have a nested dictionary and we need to modify multiple entries at the same time (e.g. owner and team ) the best logic to follow is: \n",
    "- to download the entire entry using find and assign it to a dictionary\n",
    "- modify the entire dictionary\n",
    "- update the entire element\n",
    "\n",
    "There are several ways of doing it but we definitely need 2 minimal components:\n",
    "- One function that given the dictionary \"info\" returns an updated element in the form of the content of the array 'posts' defined above\n",
    "- one function that downloads the info database (using whatever query you want), calls the previous function to create the new element\n",
    "\n",
    "In any case, we need to make the functions as modular as possible, so that we need do define only a few"
   ]
  },
  {
   "cell_type": "markdown",
   "metadata": {},
   "source": [
    "# In the following section we define the functions that we need to manipulate the database"
   ]
  },
  {
   "cell_type": "code",
   "execution_count": null,
   "metadata": {},
   "outputs": [],
   "source": []
  }
 ],
 "metadata": {
  "kernelspec": {
   "display_name": "Python 3",
   "language": "python",
   "name": "python3"
  },
  "language_info": {
   "codemirror_mode": {
    "name": "ipython",
    "version": 3
   },
   "file_extension": ".py",
   "mimetype": "text/x-python",
   "name": "python",
   "nbconvert_exporter": "python",
   "pygments_lexer": "ipython3",
   "version": "3.7.6"
  }
 },
 "nbformat": 4,
 "nbformat_minor": 2
}
