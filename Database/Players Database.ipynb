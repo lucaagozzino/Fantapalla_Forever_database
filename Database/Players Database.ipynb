{
 "cells": [
  {
   "cell_type": "code",
   "execution_count": 68,
   "metadata": {},
   "outputs": [],
   "source": [
    "import pandas as pd\n",
    "import numpy as np\n",
    "import datetime\n",
    "from datetime import date\n",
    "import json\n",
    "import copy"
   ]
  },
  {
   "cell_type": "code",
   "execution_count": 69,
   "metadata": {
    "scrolled": false
   },
   "outputs": [],
   "source": [
    "st = pd.read_pickle('../IGNOBEL/Statistiche_giocatori.pkl') #importing complete stats DB\n",
    "transStat = copy.deepcopy(st)\n",
    "transStat.index=list(st.Id)\n",
    "transStat=transStat.T # transposed df makes it easier to access players by id\n",
    "#print(st.keys())\n",
    "#st"
   ]
  },
  {
   "cell_type": "code",
   "execution_count": 70,
   "metadata": {},
   "outputs": [],
   "source": [
    "# DB - DICTIONARY SKELETON # \n",
    "\n",
    "# Dictionary with specific loan info\n",
    "LoanDict = {\n",
    "    'start_date': '2020/08/01',\n",
    "    'expire_date': '2020/07/31',\n",
    "    'cost': 0,\n",
    "    'redemption_right': False, #True or False\n",
    "    'redemption_cost': 0, #>0 if redemption_right=True\n",
    "}\n",
    "\n",
    "# Dictionary with player current team and loan info\n",
    "CurrentTeamDict = {\n",
    "    'owner': '', #luca, pietro etc\n",
    "    'team': '', #team_name \n",
    "    'squad': '', # 'Main' or 'Primavera'\n",
    "    'start_date': '2020/08/01',\n",
    "    'origin': '', #last team (e.g. team_name + ' - Primavera')\n",
    "    'quotation_initial': 0,\n",
    "    'on_loan': False, #True or False\n",
    "    'loan_info': LoanDict\n",
    "}\n",
    "\n",
    "# Dictionary with player ownership info\n",
    "ContractDict = {\n",
    "    'owner': '', #this seems redundant\n",
    "    'start_date': '2020/08/01',\n",
    "    'cost': 0,\n",
    "    'acquisition_mode': '', #asta_svincolati, draft, acquisto\n",
    "    'origin': '', #team_name or svincolati\n",
    "    'quotation_initial': 0\n",
    "}\n",
    "\n",
    "# Dictionary with player personal info\n",
    "PersonalInfoDict = {\n",
    "    'full_name': '',\n",
    "    'birthdate': '1970/01/01',\n",
    "    'nation': '',\n",
    "    'team_real': '',\n",
    "    'FC_role':''\n",
    "}\n",
    "\n",
    "# Nested dictionary for a single player info\n",
    "PlayerDict = {\n",
    "    'id': 0,\n",
    "    'name': '',\n",
    "    'personal_info': PersonalInfoDict,\n",
    "    'contract': ContractDict,\n",
    "    'current_team': CurrentTeamDict,\n",
    "    #'transfers': TransfersDict,\n",
    "    #'stats': StatsDict,\n",
    "    #'seasons': SeasonStatsDict\n",
    "}\n",
    "\n",
    "# Main nested dictionary with ALL FPF players info\n",
    "PlayersDB = {}"
   ]
  },
  {
   "cell_type": "code",
   "execution_count": 71,
   "metadata": {
    "scrolled": true
   },
   "outputs": [],
   "source": [
    "# IMPORT CURRENT DATA INTO DB DICTIONARY #\n",
    "\n",
    "import copy \n",
    "\n",
    "for Id, Name in zip(st['Id'], st['Nome']):\n",
    "    PlayersDB[Id] = copy.deepcopy(PlayerDict)\n",
    "    PlayersDB[Id]['id'] = Id\n",
    "    PlayersDB[Id]['name'] = Name\n",
    "\n",
    "#print(PlayersDB)\n",
    "\n",
    "with open('FPF_Players_Database.json', 'w') as fp:\n",
    "    json.dump(PlayersDB, fp)"
   ]
  },
  {
   "cell_type": "markdown",
   "metadata": {},
   "source": [
    "# Updating entire database with stats and info\n",
    "\n",
    "Do not run this section unless something is changed in the stats database"
   ]
  },
  {
   "cell_type": "code",
   "execution_count": 72,
   "metadata": {},
   "outputs": [],
   "source": [
    "def check_prim(text):\n",
    "    if ' - PRIMAVERA' in text:\n",
    "        out = text[:-12]\n",
    "        squad = 'primavera'\n",
    "    else:\n",
    "        out = text\n",
    "        squad = 'main'\n",
    "    return out, squad"
   ]
  },
  {
   "cell_type": "code",
   "execution_count": 73,
   "metadata": {},
   "outputs": [],
   "source": [
    "for Id, dic in PlayersDB.items():\n",
    "    dic['personal_info']['FC_role'] = transStat[Id]['R']\n",
    "    dic['personal_info']['team_real'] = transStat[Id]['Squadra']\n",
    "    dic['personal_info']['full_name'] = transStat[Id]['Nome Completo']\n",
    "    dic['personal_info']['nation'] = transStat[Id]['Nazionalit\\'a']\n",
    "    dic['personal_info']['birthdate'] = transStat[Id]['Classe']\n",
    "    dic['personal_info']['age'] = transStat[Id]['Eta\\'']\n",
    "    dic['contract']['quotation_initial'] = transStat[Id]['Qt. I']\n",
    "    dic['contract']['owner'] = transStat[Id]['Allenatore']\n",
    "    dic['current_team']['owner'] = transStat[Id]['Allenatore']\n",
    "    dic['current_team']['team'], dic['current_team']['squad']  = check_prim(transStat[Id]['Nome Squadra'])\n",
    "    dic['current_team']['quotation_initial'] = transStat[Id]['Qt. I']\n",
    "    dic['stats'] = dict(transStat[Id][4:18])\n",
    "\n",
    "with open('FPF_Players_Database.json', 'w') as fp:\n",
    "    json.dump(PlayersDB, fp)"
   ]
  },
  {
   "cell_type": "code",
   "execution_count": 74,
   "metadata": {},
   "outputs": [],
   "source": [
    "# WRITE PLAYER IDS TO TXT FILE #\n",
    "f = open(\"PlayersIds.txt\", \"w\")\n",
    "f.write('Id Name\\n')\n",
    "for Id,Name in zip(st['Id'], st['Nome']):\n",
    "    f.write(str(Id)+' '+Name+'\\n')\n",
    "f.close()"
   ]
  },
  {
   "cell_type": "markdown",
   "metadata": {},
   "source": [
    "# Import created database"
   ]
  },
  {
   "cell_type": "code",
   "execution_count": 75,
   "metadata": {},
   "outputs": [],
   "source": [
    "with open('FPF_Players_Database.json','r') as f:\n",
    "    PlayersDB_in = json.load(f)"
   ]
  },
  {
   "cell_type": "code",
   "execution_count": 78,
   "metadata": {},
   "outputs": [
    {
     "data": {
      "text/plain": [
       "{'id': 2792,\n",
       " 'name': 'MUSSO',\n",
       " 'personal_info': {'full_name': 'Musso Juan',\n",
       "  'birthdate': '06/05/1994',\n",
       "  'nation': 'Argentina, Italia',\n",
       "  'team_real': 'Udinese',\n",
       "  'FC_role': 'P',\n",
       "  'age': '26'},\n",
       " 'contract': {'owner': 'pietro',\n",
       "  'start_date': '2020/08/01',\n",
       "  'cost': 0,\n",
       "  'acquisition_mode': '',\n",
       "  'origin': '',\n",
       "  'quotation_initial': 11},\n",
       " 'current_team': {'owner': 'pietro',\n",
       "  'team': 'PDG 1908',\n",
       "  'squad': 'main',\n",
       "  'start_date': '2020/08/01',\n",
       "  'origin': '',\n",
       "  'quotation_initial': 11,\n",
       "  'on_loan': False,\n",
       "  'loan_info': {'start_date': '2020/08/01',\n",
       "   'expire_date': '2020/07/31',\n",
       "   'cost': 0,\n",
       "   'redemption_right': False,\n",
       "   'redemption_cost': 0}},\n",
       " 'stats': {'Pg': 4,\n",
       "  'Mv': 5.88,\n",
       "  'Mf': 4.38,\n",
       "  'Gf': 0,\n",
       "  'Gs': 6,\n",
       "  'Rp': 0,\n",
       "  'Rc': 0,\n",
       "  'R+': 0,\n",
       "  'R-': 0,\n",
       "  'Ass': 0,\n",
       "  'Asf': 0,\n",
       "  'Amm': 0,\n",
       "  'Esp': 0,\n",
       "  'Au': 0}}"
      ]
     },
     "execution_count": 78,
     "metadata": {},
     "output_type": "execute_result"
    }
   ],
   "source": [
    "#example\n",
    "PlayersDB_in['2792']"
   ]
  },
  {
   "cell_type": "markdown",
   "metadata": {},
   "source": [
    "# In the following section we define the function that create market operations"
   ]
  },
  {
   "cell_type": "code",
   "execution_count": null,
   "metadata": {},
   "outputs": [],
   "source": []
  }
 ],
 "metadata": {
  "kernelspec": {
   "display_name": "Python 3",
   "language": "python",
   "name": "python3"
  },
  "language_info": {
   "codemirror_mode": {
    "name": "ipython",
    "version": 3
   },
   "file_extension": ".py",
   "mimetype": "text/x-python",
   "name": "python",
   "nbconvert_exporter": "python",
   "pygments_lexer": "ipython3",
   "version": "3.7.6"
  }
 },
 "nbformat": 4,
 "nbformat_minor": 2
}
