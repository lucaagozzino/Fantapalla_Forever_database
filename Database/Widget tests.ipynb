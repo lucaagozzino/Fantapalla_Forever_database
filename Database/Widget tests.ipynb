{
 "cells": [
  {
   "cell_type": "code",
   "execution_count": 1,
   "metadata": {},
   "outputs": [],
   "source": [
    "import ipywidgets as widgets"
   ]
  },
  {
   "cell_type": "code",
   "execution_count": 29,
   "metadata": {},
   "outputs": [],
   "source": [
    "lista1 = ['a','b','c']\n",
    "lista2 = {\n",
    "    'a':[1,2,3],\n",
    "    'b':[4,5,6],\n",
    "    'c':[7,8,9]\n",
    "}\n",
    "def lista3(el):\n",
    "    return [el, 2*el, 3*el]\n",
    "\n",
    "def selection1(letter):\n",
    "    menu_2.options = lista2[letter]\n",
    "\n",
    "def selection2(number):\n",
    "    menu_3.options = lista3(number)\n",
    "\n",
    "def selection3(number):\n",
    "    global Final\n",
    "    \n",
    "    Final = number\n",
    "    None"
   ]
  },
  {
   "cell_type": "code",
   "execution_count": 30,
   "metadata": {},
   "outputs": [
    {
     "data": {
      "application/vnd.jupyter.widget-view+json": {
       "model_id": "39c2f6203f8c4d469d7d54a90a7f5ad6",
       "version_major": 2,
       "version_minor": 0
      },
      "text/plain": [
       "interactive(children=(Dropdown(description='Lista1', options=('a', 'b', 'c'), value='a'), Output()), _dom_clas…"
      ]
     },
     "metadata": {},
     "output_type": "display_data"
    },
    {
     "data": {
      "application/vnd.jupyter.widget-view+json": {
       "model_id": "2712a7ceb3304c3783929c782dc1fcc8",
       "version_major": 2,
       "version_minor": 0
      },
      "text/plain": [
       "interactive(children=(Dropdown(description='Lista2', options=(1, 2, 3), value=1), Output()), _dom_classes=('wi…"
      ]
     },
     "metadata": {},
     "output_type": "display_data"
    },
    {
     "data": {
      "application/vnd.jupyter.widget-view+json": {
       "model_id": "b6f4526acb2d48b3a00b25f08d8b8c2b",
       "version_major": 2,
       "version_minor": 0
      },
      "text/plain": [
       "interactive(children=(Dropdown(description='Lista3', options=(1, 2, 3), value=1), Output()), _dom_classes=('wi…"
      ]
     },
     "metadata": {},
     "output_type": "display_data"
    }
   ],
   "source": [
    "menu_1 = widgets.Dropdown(options = lista1, description = 'Lista1')\n",
    "\n",
    "init2 = menu_1.value\n",
    "\n",
    "menu_2 = widgets.Dropdown(options = lista2[init2], description = 'Lista2')\n",
    "\n",
    "init3 = menu_2.value\n",
    "\n",
    "menu_3 = widgets.Dropdown(options = lista3(init3), description = 'Lista3')\n",
    "\n",
    "k = widgets.interactive(selection3, number = menu_3)\n",
    "\n",
    "j = widgets.interactive(selection2, number = menu_2)\n",
    "\n",
    "i = widgets.interactive(selection1, letter = menu_1)\n",
    "\n",
    "display(i)\n",
    "display(j)\n",
    "display(k)"
   ]
  },
  {
   "cell_type": "code",
   "execution_count": 33,
   "metadata": {},
   "outputs": [
    {
     "data": {
      "text/plain": [
       "8"
      ]
     },
     "execution_count": 33,
     "metadata": {},
     "output_type": "execute_result"
    }
   ],
   "source": [
    "Final"
   ]
  },
  {
   "cell_type": "code",
   "execution_count": null,
   "metadata": {},
   "outputs": [],
   "source": []
  }
 ],
 "metadata": {
  "kernelspec": {
   "display_name": "Python 3",
   "language": "python",
   "name": "python3"
  },
  "language_info": {
   "codemirror_mode": {
    "name": "ipython",
    "version": 3
   },
   "file_extension": ".py",
   "mimetype": "text/x-python",
   "name": "python",
   "nbconvert_exporter": "python",
   "pygments_lexer": "ipython3",
   "version": "3.7.6"
  }
 },
 "nbformat": 4,
 "nbformat_minor": 4
}
