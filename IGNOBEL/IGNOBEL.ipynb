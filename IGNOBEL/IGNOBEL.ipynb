{
 "cells": [
  {
   "cell_type": "code",
   "execution_count": 1,
   "metadata": {},
   "outputs": [],
   "source": [
    "from utilities_IGNOBEL import *"
   ]
  },
  {
   "cell_type": "code",
   "execution_count": 2,
   "metadata": {},
   "outputs": [],
   "source": []
  },
  {
   "cell_type": "code",
   "execution_count": 5,
   "metadata": {},
   "outputs": [],
   "source": [
    "#infortunati() #restituisce una singola lista con tutti gli infortunati di ogni squadra di serie A"
   ]
  },
  {
   "cell_type": "code",
   "execution_count": 2,
   "metadata": {},
   "outputs": [],
   "source": [
    "#rose() #restituisce le rose attuali di ogni fantallenatore"
   ]
  },
  {
   "cell_type": "code",
   "execution_count": 3,
   "metadata": {},
   "outputs": [],
   "source": [
    "#formazioni() #restituisce le formazioni schierate in ogni giornata (inclusa la panchina)"
   ]
  },
  {
   "cell_type": "code",
   "execution_count": 2,
   "metadata": {},
   "outputs": [
    {
     "data": {
      "text/html": [
       "<div>\n",
       "<style scoped>\n",
       "    .dataframe tbody tr th:only-of-type {\n",
       "        vertical-align: middle;\n",
       "    }\n",
       "\n",
       "    .dataframe tbody tr th {\n",
       "        vertical-align: top;\n",
       "    }\n",
       "\n",
       "    .dataframe thead th {\n",
       "        text-align: right;\n",
       "    }\n",
       "</style>\n",
       "<table border=\"1\" class=\"dataframe\">\n",
       "  <thead>\n",
       "    <tr style=\"text-align: right;\">\n",
       "      <th></th>\n",
       "      <th>AS 800A</th>\n",
       "      <th>PDG 1908</th>\n",
       "      <th>IGNORANZA EVERYWHERE</th>\n",
       "      <th>SOROS FC</th>\n",
       "      <th>MAINZ NA GIOIA</th>\n",
       "      <th>PALLA PAZZA</th>\n",
       "      <th>I DISEREDATI</th>\n",
       "      <th>XYZ</th>\n",
       "    </tr>\n",
       "  </thead>\n",
       "  <tbody>\n",
       "    <tr>\n",
       "      <th>Voti Panchinari</th>\n",
       "      <td>27.25</td>\n",
       "      <td>35.25</td>\n",
       "      <td>38.5</td>\n",
       "      <td>28.5</td>\n",
       "      <td>27.75</td>\n",
       "      <td>49.25</td>\n",
       "      <td>45.0</td>\n",
       "      <td>25.0</td>\n",
       "    </tr>\n",
       "  </tbody>\n",
       "</table>\n",
       "</div>"
      ],
      "text/plain": [
       "                 AS 800A  PDG 1908  IGNORANZA EVERYWHERE  SOROS FC  \\\n",
       "Voti Panchinari    27.25     35.25                  38.5      28.5   \n",
       "\n",
       "                 MAINZ NA GIOIA  PALLA PAZZA  I DISEREDATI   XYZ  \n",
       "Voti Panchinari           27.75        49.25          45.0  25.0  "
      ]
     },
     "execution_count": 2,
     "metadata": {},
     "output_type": "execute_result"
    }
   ],
   "source": [
    "#per qualche strano motivo a volte da errore la prima volta che gira, \n",
    "#ma funziona le volte successive, potrebbe essere un caso\n",
    "V = voti_panchina(giornata=1) \n",
    "V\n",
    "# restituisce i voti dei panchinari che non sono scesi in campo (link diverso temp)"
   ]
  },
  {
   "cell_type": "code",
   "execution_count": 3,
   "metadata": {},
   "outputs": [
    {
     "data": {
      "text/html": [
       "<div>\n",
       "<style scoped>\n",
       "    .dataframe tbody tr th:only-of-type {\n",
       "        vertical-align: middle;\n",
       "    }\n",
       "\n",
       "    .dataframe tbody tr th {\n",
       "        vertical-align: top;\n",
       "    }\n",
       "\n",
       "    .dataframe thead th {\n",
       "        text-align: right;\n",
       "    }\n",
       "</style>\n",
       "<table border=\"1\" class=\"dataframe\">\n",
       "  <thead>\n",
       "    <tr style=\"text-align: right;\">\n",
       "      <th></th>\n",
       "      <th>AS 800A</th>\n",
       "      <th>PDG 1908</th>\n",
       "      <th>IGNORANZA EVERYWHERE</th>\n",
       "      <th>SOROS FC</th>\n",
       "      <th>MAINZ NA GIOIA</th>\n",
       "      <th>PALLA PAZZA</th>\n",
       "      <th>I DISEREDATI</th>\n",
       "      <th>XYZ</th>\n",
       "    </tr>\n",
       "  </thead>\n",
       "  <tbody>\n",
       "    <tr>\n",
       "      <th>Goal subiti</th>\n",
       "      <td>2</td>\n",
       "      <td>2</td>\n",
       "      <td>3</td>\n",
       "      <td>1</td>\n",
       "      <td>1</td>\n",
       "      <td>2</td>\n",
       "      <td>3</td>\n",
       "      <td>0</td>\n",
       "    </tr>\n",
       "  </tbody>\n",
       "</table>\n",
       "</div>"
      ],
      "text/plain": [
       "             AS 800A  PDG 1908  IGNORANZA EVERYWHERE  SOROS FC  \\\n",
       "Goal subiti        2         2                     3         1   \n",
       "\n",
       "             MAINZ NA GIOIA  PALLA PAZZA  I DISEREDATI  XYZ  \n",
       "Goal subiti               1            2             3    0  "
      ]
     },
     "execution_count": 3,
     "metadata": {},
     "output_type": "execute_result"
    }
   ],
   "source": [
    "G = goal_subiti(giornata=1)\n",
    "G\n",
    "# restituisce il totale dei gol subiti da ogni portiere sceso in campo"
   ]
  },
  {
   "cell_type": "code",
   "execution_count": 4,
   "metadata": {},
   "outputs": [
    {
     "data": {
      "text/html": [
       "<div>\n",
       "<style scoped>\n",
       "    .dataframe tbody tr th:only-of-type {\n",
       "        vertical-align: middle;\n",
       "    }\n",
       "\n",
       "    .dataframe tbody tr th {\n",
       "        vertical-align: top;\n",
       "    }\n",
       "\n",
       "    .dataframe thead th {\n",
       "        text-align: right;\n",
       "    }\n",
       "</style>\n",
       "<table border=\"1\" class=\"dataframe\">\n",
       "  <thead>\n",
       "    <tr style=\"text-align: right;\">\n",
       "      <th></th>\n",
       "      <th>AS 800A</th>\n",
       "      <th>PDG 1908</th>\n",
       "      <th>IGNORANZA EVERYWHERE</th>\n",
       "      <th>SOROS FC</th>\n",
       "      <th>MAINZ NA GIOIA</th>\n",
       "      <th>PALLA PAZZA</th>\n",
       "      <th>I DISEREDATI</th>\n",
       "      <th>XYZ</th>\n",
       "    </tr>\n",
       "  </thead>\n",
       "  <tbody>\n",
       "    <tr>\n",
       "      <th>Modificatore</th>\n",
       "      <td>1</td>\n",
       "      <td>0</td>\n",
       "      <td>1</td>\n",
       "      <td>0</td>\n",
       "      <td>0</td>\n",
       "      <td>1</td>\n",
       "      <td>0</td>\n",
       "      <td>0</td>\n",
       "    </tr>\n",
       "  </tbody>\n",
       "</table>\n",
       "</div>"
      ],
      "text/plain": [
       "              AS 800A  PDG 1908  IGNORANZA EVERYWHERE  SOROS FC  \\\n",
       "Modificatore        1         0                     1         0   \n",
       "\n",
       "              MAINZ NA GIOIA  PALLA PAZZA  I DISEREDATI  XYZ  \n",
       "Modificatore               0            1             0    0  "
      ]
     },
     "execution_count": 4,
     "metadata": {},
     "output_type": "execute_result"
    }
   ],
   "source": [
    "M = modificatore(giornata=1) \n",
    "M\n",
    "# restituisce il bonus modificatore difesa guadagnato da ogni squadra"
   ]
  },
  {
   "cell_type": "code",
   "execution_count": 5,
   "metadata": {},
   "outputs": [
    {
     "data": {
      "text/html": [
       "<div>\n",
       "<style scoped>\n",
       "    .dataframe tbody tr th:only-of-type {\n",
       "        vertical-align: middle;\n",
       "    }\n",
       "\n",
       "    .dataframe tbody tr th {\n",
       "        vertical-align: top;\n",
       "    }\n",
       "\n",
       "    .dataframe thead th {\n",
       "        text-align: right;\n",
       "    }\n",
       "</style>\n",
       "<table border=\"1\" class=\"dataframe\">\n",
       "  <thead>\n",
       "    <tr style=\"text-align: right;\">\n",
       "      <th></th>\n",
       "      <th>AS 800A</th>\n",
       "      <th>PDG 1908</th>\n",
       "      <th>IGNORANZA EVERYWHERE</th>\n",
       "      <th>SOROS FC</th>\n",
       "      <th>MAINZ NA GIOIA</th>\n",
       "      <th>PALLA PAZZA</th>\n",
       "      <th>I DISEREDATI</th>\n",
       "      <th>XYZ</th>\n",
       "    </tr>\n",
       "  </thead>\n",
       "  <tbody>\n",
       "    <tr>\n",
       "      <th>C. gialli</th>\n",
       "      <td>2</td>\n",
       "      <td>1</td>\n",
       "      <td>1</td>\n",
       "      <td>2</td>\n",
       "      <td>1</td>\n",
       "      <td>1</td>\n",
       "      <td>3</td>\n",
       "      <td>4</td>\n",
       "    </tr>\n",
       "    <tr>\n",
       "      <th>C. rossi</th>\n",
       "      <td>0</td>\n",
       "      <td>0</td>\n",
       "      <td>0</td>\n",
       "      <td>0</td>\n",
       "      <td>0</td>\n",
       "      <td>0</td>\n",
       "      <td>0</td>\n",
       "      <td>1</td>\n",
       "    </tr>\n",
       "  </tbody>\n",
       "</table>\n",
       "</div>"
      ],
      "text/plain": [
       "           AS 800A  PDG 1908  IGNORANZA EVERYWHERE  SOROS FC  MAINZ NA GIOIA  \\\n",
       "C. gialli        2         1                     1         2               1   \n",
       "C. rossi         0         0                     0         0               0   \n",
       "\n",
       "           PALLA PAZZA  I DISEREDATI  XYZ  \n",
       "C. gialli            1             3    4  \n",
       "C. rossi             0             0    1  "
      ]
     },
     "execution_count": 5,
     "metadata": {},
     "output_type": "execute_result"
    }
   ],
   "source": [
    "C = cartellini(giornata=1)\n",
    "C"
   ]
  },
  {
   "cell_type": "code",
   "execution_count": 6,
   "metadata": {},
   "outputs": [
    {
     "data": {
      "text/html": [
       "<div>\n",
       "<style scoped>\n",
       "    .dataframe tbody tr th:only-of-type {\n",
       "        vertical-align: middle;\n",
       "    }\n",
       "\n",
       "    .dataframe tbody tr th {\n",
       "        vertical-align: top;\n",
       "    }\n",
       "\n",
       "    .dataframe thead th {\n",
       "        text-align: right;\n",
       "    }\n",
       "</style>\n",
       "<table border=\"1\" class=\"dataframe\">\n",
       "  <thead>\n",
       "    <tr style=\"text-align: right;\">\n",
       "      <th></th>\n",
       "      <th>XYZ</th>\n",
       "      <th>MAINZ NA GIOIA</th>\n",
       "      <th>I DISEREDATI</th>\n",
       "      <th>PALLA PAZZA</th>\n",
       "      <th>AS 800A</th>\n",
       "      <th>PDG 1908</th>\n",
       "      <th>SOROS FC</th>\n",
       "      <th>IGNORANZA EVERYWHERE</th>\n",
       "    </tr>\n",
       "  </thead>\n",
       "  <tbody>\n",
       "    <tr>\n",
       "      <th>tot Infortunati</th>\n",
       "      <td>7</td>\n",
       "      <td>3</td>\n",
       "      <td>3</td>\n",
       "      <td>1</td>\n",
       "      <td>3</td>\n",
       "      <td>5</td>\n",
       "      <td>4</td>\n",
       "      <td>4</td>\n",
       "    </tr>\n",
       "  </tbody>\n",
       "</table>\n",
       "</div>"
      ],
      "text/plain": [
       "                 XYZ  MAINZ NA GIOIA  I DISEREDATI  PALLA PAZZA  AS 800A  \\\n",
       "tot Infortunati    7               3             3            1        3   \n",
       "\n",
       "                 PDG 1908  SOROS FC  IGNORANZA EVERYWHERE  \n",
       "tot Infortunati         5         4                     4  "
      ]
     },
     "execution_count": 6,
     "metadata": {},
     "output_type": "execute_result"
    }
   ],
   "source": [
    "CI = count_inf(infortunati(), rose()) #restituisce il numero di infortunati in ogni rosa\n",
    "CI"
   ]
  },
  {
   "cell_type": "code",
   "execution_count": 7,
   "metadata": {},
   "outputs": [
    {
     "data": {
      "text/html": [
       "<div>\n",
       "<style scoped>\n",
       "    .dataframe tbody tr th:only-of-type {\n",
       "        vertical-align: middle;\n",
       "    }\n",
       "\n",
       "    .dataframe tbody tr th {\n",
       "        vertical-align: top;\n",
       "    }\n",
       "\n",
       "    .dataframe thead th {\n",
       "        text-align: right;\n",
       "    }\n",
       "</style>\n",
       "<table border=\"1\" class=\"dataframe\">\n",
       "  <thead>\n",
       "    <tr style=\"text-align: right;\">\n",
       "      <th></th>\n",
       "      <th>XYZ</th>\n",
       "      <th>MAINZ NA GIOIA</th>\n",
       "      <th>I DISEREDATI</th>\n",
       "      <th>PALLA PAZZA</th>\n",
       "      <th>AS 800A</th>\n",
       "      <th>PDG 1908</th>\n",
       "      <th>SOROS FC</th>\n",
       "      <th>IGNORANZA EVERYWHERE</th>\n",
       "    </tr>\n",
       "  </thead>\n",
       "  <tbody>\n",
       "    <tr>\n",
       "      <th>tot Infortunati</th>\n",
       "      <td>7.0</td>\n",
       "      <td>3.00</td>\n",
       "      <td>3.0</td>\n",
       "      <td>1.00</td>\n",
       "      <td>3.00</td>\n",
       "      <td>5.00</td>\n",
       "      <td>4.0</td>\n",
       "      <td>4.0</td>\n",
       "    </tr>\n",
       "    <tr>\n",
       "      <th>Voti Panchinari</th>\n",
       "      <td>25.0</td>\n",
       "      <td>27.75</td>\n",
       "      <td>45.0</td>\n",
       "      <td>49.25</td>\n",
       "      <td>27.25</td>\n",
       "      <td>35.25</td>\n",
       "      <td>28.5</td>\n",
       "      <td>38.5</td>\n",
       "    </tr>\n",
       "    <tr>\n",
       "      <th>Goal subiti</th>\n",
       "      <td>0.0</td>\n",
       "      <td>1.00</td>\n",
       "      <td>3.0</td>\n",
       "      <td>2.00</td>\n",
       "      <td>2.00</td>\n",
       "      <td>2.00</td>\n",
       "      <td>1.0</td>\n",
       "      <td>3.0</td>\n",
       "    </tr>\n",
       "    <tr>\n",
       "      <th>Modificatore</th>\n",
       "      <td>0.0</td>\n",
       "      <td>0.00</td>\n",
       "      <td>0.0</td>\n",
       "      <td>1.00</td>\n",
       "      <td>1.00</td>\n",
       "      <td>0.00</td>\n",
       "      <td>0.0</td>\n",
       "      <td>1.0</td>\n",
       "    </tr>\n",
       "    <tr>\n",
       "      <th>C. gialli</th>\n",
       "      <td>4.0</td>\n",
       "      <td>1.00</td>\n",
       "      <td>3.0</td>\n",
       "      <td>1.00</td>\n",
       "      <td>2.00</td>\n",
       "      <td>1.00</td>\n",
       "      <td>2.0</td>\n",
       "      <td>1.0</td>\n",
       "    </tr>\n",
       "    <tr>\n",
       "      <th>C. rossi</th>\n",
       "      <td>1.0</td>\n",
       "      <td>0.00</td>\n",
       "      <td>0.0</td>\n",
       "      <td>0.00</td>\n",
       "      <td>0.00</td>\n",
       "      <td>0.00</td>\n",
       "      <td>0.0</td>\n",
       "      <td>0.0</td>\n",
       "    </tr>\n",
       "  </tbody>\n",
       "</table>\n",
       "</div>"
      ],
      "text/plain": [
       "                  XYZ  MAINZ NA GIOIA  I DISEREDATI  PALLA PAZZA  AS 800A  \\\n",
       "tot Infortunati   7.0            3.00           3.0         1.00     3.00   \n",
       "Voti Panchinari  25.0           27.75          45.0        49.25    27.25   \n",
       "Goal subiti       0.0            1.00           3.0         2.00     2.00   \n",
       "Modificatore      0.0            0.00           0.0         1.00     1.00   \n",
       "C. gialli         4.0            1.00           3.0         1.00     2.00   \n",
       "C. rossi          1.0            0.00           0.0         0.00     0.00   \n",
       "\n",
       "                 PDG 1908  SOROS FC  IGNORANZA EVERYWHERE  \n",
       "tot Infortunati      5.00       4.0                   4.0  \n",
       "Voti Panchinari     35.25      28.5                  38.5  \n",
       "Goal subiti          2.00       1.0                   3.0  \n",
       "Modificatore         0.00       0.0                   1.0  \n",
       "C. gialli            1.00       2.0                   1.0  \n",
       "C. rossi             0.00       0.0                   0.0  "
      ]
     },
     "execution_count": 7,
     "metadata": {},
     "output_type": "execute_result"
    }
   ],
   "source": [
    "pd.concat([CI,V,G,M,C], axis = 0) #I da aggiungere quando sara' per la nostra lega"
   ]
  },
  {
   "cell_type": "code",
   "execution_count": 3,
   "metadata": {},
   "outputs": [],
   "source": [
    "voti_all = scarica_voti(giornata = 3, stagione = '2020-21')\n",
    "#scarica il dataframe con tutti i voti direttamente da fantacalcio.it"
   ]
  },
  {
   "cell_type": "code",
   "execution_count": null,
   "metadata": {},
   "outputs": [],
   "source": []
  }
 ],
 "metadata": {
  "kernelspec": {
   "display_name": "Python 3",
   "language": "python",
   "name": "python3"
  },
  "language_info": {
   "codemirror_mode": {
    "name": "ipython",
    "version": 3
   },
   "file_extension": ".py",
   "mimetype": "text/x-python",
   "name": "python",
   "nbconvert_exporter": "python",
   "pygments_lexer": "ipython3",
   "version": "3.7.6"
  }
 },
 "nbformat": 4,
 "nbformat_minor": 4
}
