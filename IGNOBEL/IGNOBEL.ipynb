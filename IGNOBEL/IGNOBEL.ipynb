{
 "cells": [
  {
   "cell_type": "code",
   "execution_count": 1,
   "metadata": {},
   "outputs": [],
   "source": [
    "from utilities_IGNOBEL import *"
   ]
  },
  {
   "cell_type": "code",
   "execution_count": 2,
   "metadata": {},
   "outputs": [],
   "source": [
    "#infortunati() #restituisce un dataframe con tutti gli infortunati di ogni squadra di serie A"
   ]
  },
  {
   "cell_type": "code",
   "execution_count": 64,
   "metadata": {},
   "outputs": [],
   "source": [
    "#rose() #restituisce le rose attuali di ogni fantallenatore"
   ]
  },
  {
   "cell_type": "code",
   "execution_count": 4,
   "metadata": {},
   "outputs": [],
   "source": [
    "#formazioni('https://leghe.fantacalcio.it/fantapalla/formazioni') #restituisce le formazioni schierate in ogni giornata (inclusa la panchina) (link diverso temp)"
   ]
  },
  {
   "cell_type": "code",
   "execution_count": 2,
   "metadata": {},
   "outputs": [
    {
     "data": {
      "text/html": [
       "<div>\n",
       "<style scoped>\n",
       "    .dataframe tbody tr th:only-of-type {\n",
       "        vertical-align: middle;\n",
       "    }\n",
       "\n",
       "    .dataframe tbody tr th {\n",
       "        vertical-align: top;\n",
       "    }\n",
       "\n",
       "    .dataframe thead th {\n",
       "        text-align: right;\n",
       "    }\n",
       "</style>\n",
       "<table border=\"1\" class=\"dataframe\">\n",
       "  <thead>\n",
       "    <tr style=\"text-align: right;\">\n",
       "      <th></th>\n",
       "      <th>XYZ</th>\n",
       "      <th>MAINZ NA GIOIA</th>\n",
       "      <th>I DISEREDATI</th>\n",
       "      <th>PALLA PAZZA</th>\n",
       "      <th>AS 800A</th>\n",
       "      <th>PDG 1908</th>\n",
       "      <th>SOROS FC</th>\n",
       "      <th>IGNORANZA EVERYWHERE</th>\n",
       "    </tr>\n",
       "  </thead>\n",
       "  <tbody>\n",
       "    <tr>\n",
       "      <th>N. Inf.</th>\n",
       "      <td>12</td>\n",
       "      <td>6</td>\n",
       "      <td>4</td>\n",
       "      <td>2</td>\n",
       "      <td>3</td>\n",
       "      <td>3</td>\n",
       "      <td>6</td>\n",
       "      <td>6</td>\n",
       "    </tr>\n",
       "  </tbody>\n",
       "</table>\n",
       "</div>"
      ],
      "text/plain": [
       "         XYZ  MAINZ NA GIOIA  I DISEREDATI  PALLA PAZZA  AS 800A  PDG 1908  \\\n",
       "N. Inf.   12               6             4            2        3         3   \n",
       "\n",
       "         SOROS FC  IGNORANZA EVERYWHERE  \n",
       "N. Inf.         6                     6  "
      ]
     },
     "execution_count": 2,
     "metadata": {},
     "output_type": "execute_result"
    }
   ],
   "source": [
    "count() #restituisce il numero di infortunati in ogni rosa"
   ]
  },
  {
   "cell_type": "code",
   "execution_count": 3,
   "metadata": {},
   "outputs": [
    {
     "data": {
      "text/html": [
       "<div>\n",
       "<style scoped>\n",
       "    .dataframe tbody tr th:only-of-type {\n",
       "        vertical-align: middle;\n",
       "    }\n",
       "\n",
       "    .dataframe tbody tr th {\n",
       "        vertical-align: top;\n",
       "    }\n",
       "\n",
       "    .dataframe thead th {\n",
       "        text-align: right;\n",
       "    }\n",
       "</style>\n",
       "<table border=\"1\" class=\"dataframe\">\n",
       "  <thead>\n",
       "    <tr style=\"text-align: right;\">\n",
       "      <th></th>\n",
       "      <th>Real Mortazza</th>\n",
       "      <th>Reloaded</th>\n",
       "      <th>Vesuvio</th>\n",
       "      <th>TeeCRo 7</th>\n",
       "      <th>Team Bukowski</th>\n",
       "      <th>ZIO ZLATAN</th>\n",
       "      <th>Real Cozzari</th>\n",
       "      <th>Atletici Finidi</th>\n",
       "    </tr>\n",
       "  </thead>\n",
       "  <tbody>\n",
       "    <tr>\n",
       "      <th>Tot Voti</th>\n",
       "      <td>12.0</td>\n",
       "      <td>8.0</td>\n",
       "      <td>22.0</td>\n",
       "      <td>21.5</td>\n",
       "      <td>22.0</td>\n",
       "      <td>6.0</td>\n",
       "      <td>17.0</td>\n",
       "      <td>17.0</td>\n",
       "    </tr>\n",
       "  </tbody>\n",
       "</table>\n",
       "</div>"
      ],
      "text/plain": [
       "          Real Mortazza  Reloaded  Vesuvio  TeeCRo 7  Team Bukowski  \\\n",
       "Tot Voti           12.0       8.0     22.0      21.5           22.0   \n",
       "\n",
       "          ZIO ZLATAN  Real Cozzari  Atletici Finidi  \n",
       "Tot Voti         6.0          17.0             17.0  "
      ]
     },
     "execution_count": 3,
     "metadata": {},
     "output_type": "execute_result"
    }
   ],
   "source": [
    "voti_panchina('https://leghe.fantacalcio.it/fantapalla/formazioni') # restituisce i voti dei panchinari che non sono scesi in campo (link diverso temp)"
   ]
  },
  {
   "cell_type": "code",
   "execution_count": null,
   "metadata": {},
   "outputs": [],
   "source": []
  }
 ],
 "metadata": {
  "kernelspec": {
   "display_name": "Python 3",
   "language": "python",
   "name": "python3"
  },
  "language_info": {
   "codemirror_mode": {
    "name": "ipython",
    "version": 3
   },
   "file_extension": ".py",
   "mimetype": "text/x-python",
   "name": "python",
   "nbconvert_exporter": "python",
   "pygments_lexer": "ipython3",
   "version": "3.7.6"
  }
 },
 "nbformat": 4,
 "nbformat_minor": 4
}
