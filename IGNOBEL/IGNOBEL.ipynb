{
 "cells": [
  {
   "cell_type": "code",
   "execution_count": 1,
   "metadata": {},
   "outputs": [],
   "source": [
    "from utilities_IGNOBEL import *"
   ]
  },
  {
   "cell_type": "code",
   "execution_count": 2,
   "metadata": {},
   "outputs": [],
   "source": []
  },
  {
   "cell_type": "code",
   "execution_count": 5,
   "metadata": {},
   "outputs": [],
   "source": [
    "#infortunati() #restituisce una singola lista con tutti gli infortunati di ogni squadra di serie A"
   ]
  },
  {
   "cell_type": "code",
   "execution_count": 3,
   "metadata": {},
   "outputs": [],
   "source": [
    "#rose() #restituisce le rose attuali di ogni fantallenatore"
   ]
  },
  {
   "cell_type": "code",
   "execution_count": 6,
   "metadata": {},
   "outputs": [],
   "source": [
    "#formazioni() #restituisce le formazioni schierate in ogni giornata (inclusa la panchina)"
   ]
  },
  {
   "cell_type": "code",
   "execution_count": 2,
   "metadata": {},
   "outputs": [
    {
     "data": {
      "text/html": [
       "<div>\n",
       "<style scoped>\n",
       "    .dataframe tbody tr th:only-of-type {\n",
       "        vertical-align: middle;\n",
       "    }\n",
       "\n",
       "    .dataframe tbody tr th {\n",
       "        vertical-align: top;\n",
       "    }\n",
       "\n",
       "    .dataframe thead th {\n",
       "        text-align: right;\n",
       "    }\n",
       "</style>\n",
       "<table border=\"1\" class=\"dataframe\">\n",
       "  <thead>\n",
       "    <tr style=\"text-align: right;\">\n",
       "      <th></th>\n",
       "      <th>XYZ</th>\n",
       "      <th>MAINZ NA GIOIA</th>\n",
       "      <th>I DISEREDATI</th>\n",
       "      <th>PALLA PAZZA</th>\n",
       "      <th>AS 800A</th>\n",
       "      <th>PDG 1908</th>\n",
       "      <th>SOROS FC</th>\n",
       "      <th>IGNORANZA EVERYWHERE</th>\n",
       "    </tr>\n",
       "  </thead>\n",
       "  <tbody>\n",
       "    <tr>\n",
       "      <th>tot Infortunati</th>\n",
       "      <td>7</td>\n",
       "      <td>6</td>\n",
       "      <td>3</td>\n",
       "      <td>0</td>\n",
       "      <td>4</td>\n",
       "      <td>5</td>\n",
       "      <td>3</td>\n",
       "      <td>4</td>\n",
       "    </tr>\n",
       "  </tbody>\n",
       "</table>\n",
       "</div>"
      ],
      "text/plain": [
       "                 XYZ  MAINZ NA GIOIA  I DISEREDATI  PALLA PAZZA  AS 800A  \\\n",
       "tot Infortunati    7               6             3            0        4   \n",
       "\n",
       "                 PDG 1908  SOROS FC  IGNORANZA EVERYWHERE  \n",
       "tot Infortunati         5         3                     4  "
      ]
     },
     "execution_count": 2,
     "metadata": {},
     "output_type": "execute_result"
    }
   ],
   "source": [
    "CI = count_inf(infortunati(), rose()) #restituisce il numero di infortunati in ogni rosa\n",
    "CI"
   ]
  },
  {
   "cell_type": "code",
   "execution_count": 7,
   "metadata": {},
   "outputs": [],
   "source": [
    "#per qualche strano motivo a volte da errore la prima volta che gira, \n",
    "#ma funziona le volte successive, potrebbe essere un caso\n",
    "V = voti_panchina('https://leghe.fantacalcio.it/fantapalla/formazioni') \n",
    "# restituisce i voti dei panchinari che non sono scesi in campo (link diverso temp)"
   ]
  },
  {
   "cell_type": "code",
   "execution_count": 8,
   "metadata": {},
   "outputs": [],
   "source": [
    "G = goal_subiti('https://leghe.fantacalcio.it/fantapalla/formazioni') \n",
    "# restituisce il totale dei gol subiti da ogni portiere sceso in campo"
   ]
  },
  {
   "cell_type": "code",
   "execution_count": 9,
   "metadata": {},
   "outputs": [],
   "source": [
    "M = modificatore(link = 'https://leghe.fantacalcio.it/fantapalla/formazioni') \n",
    "# restituisce il bonus modificatore difesa guadagnato da ogni squadra"
   ]
  },
  {
   "cell_type": "code",
   "execution_count": 10,
   "metadata": {},
   "outputs": [
    {
     "data": {
      "text/html": [
       "<div>\n",
       "<style scoped>\n",
       "    .dataframe tbody tr th:only-of-type {\n",
       "        vertical-align: middle;\n",
       "    }\n",
       "\n",
       "    .dataframe tbody tr th {\n",
       "        vertical-align: top;\n",
       "    }\n",
       "\n",
       "    .dataframe thead th {\n",
       "        text-align: right;\n",
       "    }\n",
       "</style>\n",
       "<table border=\"1\" class=\"dataframe\">\n",
       "  <thead>\n",
       "    <tr style=\"text-align: right;\">\n",
       "      <th></th>\n",
       "      <th>Real Mortazza</th>\n",
       "      <th>Reloaded</th>\n",
       "      <th>Vesuvio</th>\n",
       "      <th>TeeCRo 7</th>\n",
       "      <th>Team Bukowski</th>\n",
       "      <th>ZIO ZLATAN</th>\n",
       "      <th>Real Cozzari</th>\n",
       "      <th>Atletici Finidi</th>\n",
       "    </tr>\n",
       "  </thead>\n",
       "  <tbody>\n",
       "    <tr>\n",
       "      <th>tot Infortunati</th>\n",
       "      <td>9.0</td>\n",
       "      <td>6.0</td>\n",
       "      <td>5.0</td>\n",
       "      <td>2.0</td>\n",
       "      <td>2.0</td>\n",
       "      <td>6.0</td>\n",
       "      <td>7.0</td>\n",
       "      <td>6.0</td>\n",
       "    </tr>\n",
       "    <tr>\n",
       "      <th>Voti Panchinari</th>\n",
       "      <td>12.0</td>\n",
       "      <td>8.0</td>\n",
       "      <td>22.0</td>\n",
       "      <td>21.5</td>\n",
       "      <td>22.0</td>\n",
       "      <td>6.0</td>\n",
       "      <td>17.0</td>\n",
       "      <td>17.0</td>\n",
       "    </tr>\n",
       "    <tr>\n",
       "      <th>Goal subiti</th>\n",
       "      <td>4.0</td>\n",
       "      <td>2.0</td>\n",
       "      <td>0.0</td>\n",
       "      <td>0.0</td>\n",
       "      <td>1.0</td>\n",
       "      <td>0.0</td>\n",
       "      <td>2.0</td>\n",
       "      <td>0.0</td>\n",
       "    </tr>\n",
       "    <tr>\n",
       "      <th>Modificatore</th>\n",
       "      <td>0.0</td>\n",
       "      <td>0.0</td>\n",
       "      <td>0.0</td>\n",
       "      <td>1.0</td>\n",
       "      <td>0.0</td>\n",
       "      <td>0.0</td>\n",
       "      <td>1.0</td>\n",
       "      <td>0.0</td>\n",
       "    </tr>\n",
       "  </tbody>\n",
       "</table>\n",
       "</div>"
      ],
      "text/plain": [
       "                 Real Mortazza  Reloaded  Vesuvio  TeeCRo 7  Team Bukowski  \\\n",
       "tot Infortunati            9.0       6.0      5.0       2.0            2.0   \n",
       "Voti Panchinari           12.0       8.0     22.0      21.5           22.0   \n",
       "Goal subiti                4.0       2.0      0.0       0.0            1.0   \n",
       "Modificatore               0.0       0.0      0.0       1.0            0.0   \n",
       "\n",
       "                 ZIO ZLATAN  Real Cozzari  Atletici Finidi  \n",
       "tot Infortunati         6.0           7.0              6.0  \n",
       "Voti Panchinari         6.0          17.0             17.0  \n",
       "Goal subiti             0.0           2.0              0.0  \n",
       "Modificatore            0.0           1.0              0.0  "
      ]
     },
     "execution_count": 10,
     "metadata": {},
     "output_type": "execute_result"
    }
   ],
   "source": [
    "CI.columns = M.columns #temporaneo, solo per avere gli stessi header\n",
    "pd.concat([I,V,G,M], axis = 0) #I da aggiungere quando sara' per la nostra lega"
   ]
  },
  {
   "cell_type": "code",
   "execution_count": 3,
   "metadata": {},
   "outputs": [],
   "source": [
    "voti_all = scarica_voti(giornata = 3, stagione = '2020-21')\n",
    "#scarica il dataframe con tutti i voti direttamente da fantacalcio.it"
   ]
  },
  {
   "cell_type": "code",
   "execution_count": null,
   "metadata": {},
   "outputs": [],
   "source": []
  }
 ],
 "metadata": {
  "kernelspec": {
   "display_name": "Python 3",
   "language": "python",
   "name": "python3"
  },
  "language_info": {
   "codemirror_mode": {
    "name": "ipython",
    "version": 3
   },
   "file_extension": ".py",
   "mimetype": "text/x-python",
   "name": "python",
   "nbconvert_exporter": "python",
   "pygments_lexer": "ipython3",
   "version": "3.7.6"
  }
 },
 "nbformat": 4,
 "nbformat_minor": 4
}
