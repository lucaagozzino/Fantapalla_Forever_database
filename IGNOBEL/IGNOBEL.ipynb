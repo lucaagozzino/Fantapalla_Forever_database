{
 "cells": [
  {
   "cell_type": "markdown",
   "metadata": {},
   "source": [
    "## Importing utilities and defining global variables"
   ]
  },
  {
   "cell_type": "code",
   "execution_count": 1,
   "metadata": {},
   "outputs": [],
   "source": [
    "from utilities_IGNOBEL import *\n",
    "with open('credential.json','r') as f:\n",
    "    cred = json.load(f)\n",
    "cluster = MongoClient(cred['cred'])\n",
    "db = cluster['Game']\n",
    "collection = db['Players']\n",
    "import glob \n",
    "import re, time\n",
    "\n",
    "from datetime import datetime\n",
    "\n",
    "F,S,G,C,V,M,CI = 0,0,0,0,0,0,0"
   ]
  },
  {
   "cell_type": "code",
   "execution_count": 2,
   "metadata": {},
   "outputs": [],
   "source": [
    "season = '2021-22'\n",
    "giornata = 38\n"
   ]
  },
  {
   "cell_type": "markdown",
   "metadata": {},
   "source": [
    "## Automated update of stats using background routine\n",
    "\n",
    "running the cell below will start a background infinite loop that updates database with new stats every 15 min. The global variable `missing_ids` contains the list of ids of the new players that need to be added to the db"
   ]
  },
  {
   "cell_type": "code",
   "execution_count": 3,
   "metadata": {},
   "outputs": [],
   "source": [
    "import parsl\n",
    "from parsl.app.app import python_app\n",
    "from parsl.configs.local_threads import config\n",
    "\n",
    "try:\n",
    "    parsl.load(config)\n",
    "except:\n",
    "    pass\n",
    "last_update_time = None\n",
    "missing_ids=[]\n",
    "stats = []\n",
    "last_personal_update = []\n",
    "\n",
    "errors=[]\n",
    "\n",
    "@python_app\n",
    "def automat_bulk_update_stats(season=season, primavera=True, db=db):\n",
    "    global missing_ids, last_update_time, stats, last_personal_update\n",
    "    while True:\n",
    "        try:\n",
    "            missing_ids, stats = bulk_update_stats(season, primavera, db)\n",
    "            if len(missing_ids):\n",
    "                missing_pl = info_missing_players(missing_ids, stats)\n",
    "                add_multi_pl(missing_ids, stats, missing_pl)\n",
    "\n",
    "            last_personal_update = bulk_update_personal_info(collection,stats)             \n",
    "            last_update_time = datetime.now().strftime('%Y-%m-%d;%H:%M')\n",
    "        except Exception as e:\n",
    "            errors.append('recorded error %s at time %s'%(e,datetime.now().strftime('%Y-%m-%d;%H:%M')))\n",
    "        time.sleep(600)\n",
    "    \n",
    "out=automat_bulk_update_stats()"
   ]
  },
  {
   "cell_type": "code",
   "execution_count": 17,
   "metadata": {},
   "outputs": [
    {
     "data": {
      "text/plain": [
       "'2022-05-26;09:49'"
      ]
     },
     "execution_count": 17,
     "metadata": {},
     "output_type": "execute_result"
    }
   ],
   "source": [
    "last_update_time"
   ]
  },
  {
   "cell_type": "code",
   "execution_count": 18,
   "metadata": {},
   "outputs": [
    {
     "data": {
      "text/plain": [
       "'2022-05-26;09:49'"
      ]
     },
     "execution_count": 18,
     "metadata": {},
     "output_type": "execute_result"
    }
   ],
   "source": [
    "last_update_time"
   ]
  },
  {
   "cell_type": "code",
   "execution_count": 14,
   "metadata": {},
   "outputs": [
    {
     "data": {
      "text/plain": [
       "[]"
      ]
     },
     "execution_count": 14,
     "metadata": {},
     "output_type": "execute_result"
    }
   ],
   "source": [
    "errors"
   ]
  },
  {
   "cell_type": "markdown",
   "metadata": {},
   "source": [
    "The cell below is used to force update the database"
   ]
  },
  {
   "cell_type": "code",
   "execution_count": 10,
   "metadata": {},
   "outputs": [],
   "source": [
    "#bulk_update_stats(season=season, primavera=True, db=db, verbose=True)"
   ]
  },
  {
   "cell_type": "markdown",
   "metadata": {},
   "source": [
    "## IGNOBEL db update"
   ]
  },
  {
   "cell_type": "code",
   "execution_count": 5,
   "metadata": {},
   "outputs": [
    {
     "data": {
      "text/plain": [
       "'Usare queste rose se FG non ha quelle corrette, e.g. durante il mercato'"
      ]
     },
     "execution_count": 5,
     "metadata": {},
     "output_type": "execute_result"
    }
   ],
   "source": [
    "\"\"\"Usare queste rose se FG non ha quelle corrette, e.g. durante il mercato\"\"\"\n",
    "#RoseSS = rose_complete()\n",
    "\n",
    "#RoseFG = rose()\n",
    "\n",
    "#labels = RoseFG.columns\n",
    "#Rose = RoseSS[labels]"
   ]
  },
  {
   "cell_type": "code",
   "execution_count": 21,
   "metadata": {},
   "outputs": [
    {
     "name": "stdout",
     "output_type": "stream",
     "text": [
      "repeats: 6\r"
     ]
    },
    {
     "data": {
      "text/html": [
       "<div>\n",
       "<style scoped>\n",
       "    .dataframe tbody tr th:only-of-type {\n",
       "        vertical-align: middle;\n",
       "    }\n",
       "\n",
       "    .dataframe tbody tr th {\n",
       "        vertical-align: top;\n",
       "    }\n",
       "\n",
       "    .dataframe thead th {\n",
       "        text-align: right;\n",
       "    }\n",
       "</style>\n",
       "<table border=\"1\" class=\"dataframe\">\n",
       "  <thead>\n",
       "    <tr style=\"text-align: right;\">\n",
       "      <th></th>\n",
       "      <th>IGNORANZA EVERYWHERE</th>\n",
       "      <th>PDG 1908</th>\n",
       "      <th>I DISEREDATI</th>\n",
       "      <th>XYZ</th>\n",
       "      <th>MAINZ NA GIOIA</th>\n",
       "      <th>PALLA PAZZA</th>\n",
       "      <th>SOROS FC</th>\n",
       "      <th>AS 800A</th>\n",
       "    </tr>\n",
       "  </thead>\n",
       "  <tbody>\n",
       "    <tr>\n",
       "      <th>Fantapunti Fatti</th>\n",
       "      <td>74.5</td>\n",
       "      <td>73.5</td>\n",
       "      <td>65.25</td>\n",
       "      <td>64.00</td>\n",
       "      <td>66.25</td>\n",
       "      <td>58.75</td>\n",
       "      <td>68.25</td>\n",
       "      <td>76.75</td>\n",
       "    </tr>\n",
       "    <tr>\n",
       "      <th>Fantapunti Subiti</th>\n",
       "      <td>73.5</td>\n",
       "      <td>74.5</td>\n",
       "      <td>64.00</td>\n",
       "      <td>65.25</td>\n",
       "      <td>58.75</td>\n",
       "      <td>66.25</td>\n",
       "      <td>76.75</td>\n",
       "      <td>68.25</td>\n",
       "    </tr>\n",
       "    <tr>\n",
       "      <th>Goal subiti</th>\n",
       "      <td>0.0</td>\n",
       "      <td>0.0</td>\n",
       "      <td>3.00</td>\n",
       "      <td>0.00</td>\n",
       "      <td>0.00</td>\n",
       "      <td>0.00</td>\n",
       "      <td>0.00</td>\n",
       "      <td>0.00</td>\n",
       "    </tr>\n",
       "    <tr>\n",
       "      <th>C. gialli</th>\n",
       "      <td>2.0</td>\n",
       "      <td>0.0</td>\n",
       "      <td>1.00</td>\n",
       "      <td>2.00</td>\n",
       "      <td>1.00</td>\n",
       "      <td>1.00</td>\n",
       "      <td>1.00</td>\n",
       "      <td>1.00</td>\n",
       "    </tr>\n",
       "    <tr>\n",
       "      <th>C. rossi</th>\n",
       "      <td>0.0</td>\n",
       "      <td>0.0</td>\n",
       "      <td>0.00</td>\n",
       "      <td>0.00</td>\n",
       "      <td>0.00</td>\n",
       "      <td>0.00</td>\n",
       "      <td>0.00</td>\n",
       "      <td>0.00</td>\n",
       "    </tr>\n",
       "    <tr>\n",
       "      <th>Bonus Panchinari</th>\n",
       "      <td>2.0</td>\n",
       "      <td>0.5</td>\n",
       "      <td>4.50</td>\n",
       "      <td>0.75</td>\n",
       "      <td>1.50</td>\n",
       "      <td>4.50</td>\n",
       "      <td>0.00</td>\n",
       "      <td>0.00</td>\n",
       "    </tr>\n",
       "    <tr>\n",
       "      <th>Modificatore</th>\n",
       "      <td>1.0</td>\n",
       "      <td>1.5</td>\n",
       "      <td>1.00</td>\n",
       "      <td>0.00</td>\n",
       "      <td>0.00</td>\n",
       "      <td>0.00</td>\n",
       "      <td>0.00</td>\n",
       "      <td>0.00</td>\n",
       "    </tr>\n",
       "    <tr>\n",
       "      <th>tot Infortunati</th>\n",
       "      <td>1.0</td>\n",
       "      <td>5.0</td>\n",
       "      <td>2.00</td>\n",
       "      <td>3.00</td>\n",
       "      <td>1.00</td>\n",
       "      <td>3.00</td>\n",
       "      <td>2.00</td>\n",
       "      <td>4.00</td>\n",
       "    </tr>\n",
       "  </tbody>\n",
       "</table>\n",
       "</div>"
      ],
      "text/plain": [
       "                   IGNORANZA EVERYWHERE  PDG 1908  I DISEREDATI    XYZ  \\\n",
       "Fantapunti Fatti                   74.5      73.5         65.25  64.00   \n",
       "Fantapunti Subiti                  73.5      74.5         64.00  65.25   \n",
       "Goal subiti                         0.0       0.0          3.00   0.00   \n",
       "C. gialli                           2.0       0.0          1.00   2.00   \n",
       "C. rossi                            0.0       0.0          0.00   0.00   \n",
       "Bonus Panchinari                    2.0       0.5          4.50   0.75   \n",
       "Modificatore                        1.0       1.5          1.00   0.00   \n",
       "tot Infortunati                     1.0       5.0          2.00   3.00   \n",
       "\n",
       "                   MAINZ NA GIOIA  PALLA PAZZA  SOROS FC  AS 800A  \n",
       "Fantapunti Fatti            66.25        58.75     68.25    76.75  \n",
       "Fantapunti Subiti           58.75        66.25     76.75    68.25  \n",
       "Goal subiti                  0.00         0.00      0.00     0.00  \n",
       "C. gialli                    1.00         1.00      1.00     1.00  \n",
       "C. rossi                     0.00         0.00      0.00     0.00  \n",
       "Bonus Panchinari             1.50         4.50      0.00     0.00  \n",
       "Modificatore                 0.00         0.00      0.00     0.00  \n",
       "tot Infortunati              1.00         3.00      2.00     4.00  "
      ]
     },
     "execution_count": 21,
     "metadata": {},
     "output_type": "execute_result"
    }
   ],
   "source": [
    "R=rose()\n",
    "tot=IGNOBEL_tot(giornata, R)\n",
    "tot"
   ]
  },
  {
   "cell_type": "code",
   "execution_count": 22,
   "metadata": {},
   "outputs": [
    {
     "name": "stdout",
     "output_type": "stream",
     "text": [
      "Results added to MongoDB\n"
     ]
    },
    {
     "data": {
      "text/html": [
       "<div>\n",
       "<style scoped>\n",
       "    .dataframe tbody tr th:only-of-type {\n",
       "        vertical-align: middle;\n",
       "    }\n",
       "\n",
       "    .dataframe tbody tr th {\n",
       "        vertical-align: top;\n",
       "    }\n",
       "\n",
       "    .dataframe thead th {\n",
       "        text-align: right;\n",
       "    }\n",
       "</style>\n",
       "<table border=\"1\" class=\"dataframe\">\n",
       "  <thead>\n",
       "    <tr style=\"text-align: right;\">\n",
       "      <th></th>\n",
       "      <th>IGNORANZA EVERYWHERE</th>\n",
       "      <th>PDG 1908</th>\n",
       "      <th>I DISEREDATI</th>\n",
       "      <th>XYZ</th>\n",
       "      <th>MAINZ NA GIOIA</th>\n",
       "      <th>PALLA PAZZA</th>\n",
       "      <th>SOROS FC</th>\n",
       "      <th>AS 800A</th>\n",
       "    </tr>\n",
       "  </thead>\n",
       "  <tbody>\n",
       "    <tr>\n",
       "      <th>Fantapunti Fatti</th>\n",
       "      <td>74.5</td>\n",
       "      <td>73.5</td>\n",
       "      <td>65.25</td>\n",
       "      <td>64.00</td>\n",
       "      <td>66.25</td>\n",
       "      <td>58.75</td>\n",
       "      <td>68.25</td>\n",
       "      <td>76.75</td>\n",
       "    </tr>\n",
       "    <tr>\n",
       "      <th>Fantapunti Subiti</th>\n",
       "      <td>73.5</td>\n",
       "      <td>74.5</td>\n",
       "      <td>64.00</td>\n",
       "      <td>65.25</td>\n",
       "      <td>58.75</td>\n",
       "      <td>66.25</td>\n",
       "      <td>76.75</td>\n",
       "      <td>68.25</td>\n",
       "    </tr>\n",
       "    <tr>\n",
       "      <th>Goal subiti</th>\n",
       "      <td>0.0</td>\n",
       "      <td>0.0</td>\n",
       "      <td>3.00</td>\n",
       "      <td>0.00</td>\n",
       "      <td>0.00</td>\n",
       "      <td>0.00</td>\n",
       "      <td>0.00</td>\n",
       "      <td>0.00</td>\n",
       "    </tr>\n",
       "    <tr>\n",
       "      <th>C_gialli</th>\n",
       "      <td>2.0</td>\n",
       "      <td>0.0</td>\n",
       "      <td>1.00</td>\n",
       "      <td>2.00</td>\n",
       "      <td>1.00</td>\n",
       "      <td>1.00</td>\n",
       "      <td>1.00</td>\n",
       "      <td>1.00</td>\n",
       "    </tr>\n",
       "    <tr>\n",
       "      <th>C_rossi</th>\n",
       "      <td>0.0</td>\n",
       "      <td>0.0</td>\n",
       "      <td>0.00</td>\n",
       "      <td>0.00</td>\n",
       "      <td>0.00</td>\n",
       "      <td>0.00</td>\n",
       "      <td>0.00</td>\n",
       "      <td>0.00</td>\n",
       "    </tr>\n",
       "    <tr>\n",
       "      <th>Bonus Panchinari</th>\n",
       "      <td>2.0</td>\n",
       "      <td>0.5</td>\n",
       "      <td>4.50</td>\n",
       "      <td>0.75</td>\n",
       "      <td>1.50</td>\n",
       "      <td>4.50</td>\n",
       "      <td>0.00</td>\n",
       "      <td>0.00</td>\n",
       "    </tr>\n",
       "    <tr>\n",
       "      <th>Modificatore</th>\n",
       "      <td>1.0</td>\n",
       "      <td>1.5</td>\n",
       "      <td>1.00</td>\n",
       "      <td>0.00</td>\n",
       "      <td>0.00</td>\n",
       "      <td>0.00</td>\n",
       "      <td>0.00</td>\n",
       "      <td>0.00</td>\n",
       "    </tr>\n",
       "    <tr>\n",
       "      <th>tot Infortunati</th>\n",
       "      <td>1.0</td>\n",
       "      <td>5.0</td>\n",
       "      <td>2.00</td>\n",
       "      <td>3.00</td>\n",
       "      <td>1.00</td>\n",
       "      <td>3.00</td>\n",
       "      <td>2.00</td>\n",
       "      <td>4.00</td>\n",
       "    </tr>\n",
       "  </tbody>\n",
       "</table>\n",
       "</div>"
      ],
      "text/plain": [
       "                   IGNORANZA EVERYWHERE  PDG 1908  I DISEREDATI    XYZ  \\\n",
       "Fantapunti Fatti                   74.5      73.5         65.25  64.00   \n",
       "Fantapunti Subiti                  73.5      74.5         64.00  65.25   \n",
       "Goal subiti                         0.0       0.0          3.00   0.00   \n",
       "C_gialli                            2.0       0.0          1.00   2.00   \n",
       "C_rossi                             0.0       0.0          0.00   0.00   \n",
       "Bonus Panchinari                    2.0       0.5          4.50   0.75   \n",
       "Modificatore                        1.0       1.5          1.00   0.00   \n",
       "tot Infortunati                     1.0       5.0          2.00   3.00   \n",
       "\n",
       "                   MAINZ NA GIOIA  PALLA PAZZA  SOROS FC  AS 800A  \n",
       "Fantapunti Fatti            66.25        58.75     68.25    76.75  \n",
       "Fantapunti Subiti           58.75        66.25     76.75    68.25  \n",
       "Goal subiti                  0.00         0.00      0.00     0.00  \n",
       "C_gialli                     1.00         1.00      1.00     1.00  \n",
       "C_rossi                      0.00         0.00      0.00     0.00  \n",
       "Bonus Panchinari             1.50         4.50      0.00     0.00  \n",
       "Modificatore                 0.00         0.00      0.00     0.00  \n",
       "tot Infortunati              1.00         3.00      2.00     4.00  "
      ]
     },
     "execution_count": 22,
     "metadata": {},
     "output_type": "execute_result"
    }
   ],
   "source": [
    "create_results_post('2021-22', giornata, tot, post_to_mongo=True)\n",
    "tot"
   ]
  },
  {
   "cell_type": "markdown",
   "metadata": {},
   "source": [
    "This cell updates directly the database with the new stats, including quotations"
   ]
  },
  {
   "cell_type": "markdown",
   "metadata": {},
   "source": [
    "## Creating local databases used by other notebook to add players to db (obsolete)"
   ]
  },
  {
   "cell_type": "raw",
   "metadata": {},
   "source": [
    "ST_INFO = stats_by_team_NO_INFO(stagione = season,primavera = True)\n",
    "database=ST_INFO\n",
    "#missing_ids = find_missing_players(collection, database) #not nesessary since it is constantly updated in background\n",
    "all_pl = []\n",
    "k=0\n",
    "while k < len(missing_ids):\n",
    "    idx = missing_ids[k]\n",
    "    try:\n",
    "        infos = personal_info(idx, database)\n",
    "    except:\n",
    "        #k = k-1\n",
    "        continue\n",
    "    dic = {}\n",
    "    dic['Id'] = idx\n",
    "    dic['Classe'] = infos[0]\n",
    "    dic['Eta\\''] = infos[1]\n",
    "    dic['Nome Completo'] = infos[2]\n",
    "    dic['Nazionalita\\''] = infos[3]\n",
    "    all_pl.append(dic)\n",
    "    print(k/len(missing_ids))\n",
    "    k+=1\n",
    "missing_pl=pd.DataFrame(all_pl, index = missing_ids)\n",
    "\n"
   ]
  },
  {
   "cell_type": "raw",
   "metadata": {},
   "source": [
    "ST_INFO.rename(columns = {'Qt. A': 'Qt_A','Qt. I': 'Qt_I'}, inplace=True)\n",
    "ST_INFO=ST_INFO.drop(columns='Diff.')\n",
    "ST_INFO.to_pickle(\"Statistiche_giocatori.pkl\")\n",
    "missing_pl.to_pickle('Missing_Players.pkl')\n",
    "ST_INFO"
   ]
  },
  {
   "cell_type": "raw",
   "metadata": {},
   "source": [
    "df=pd.read_pickle('Missing_Players.pkl')\n",
    "df"
   ]
  },
  {
   "cell_type": "code",
   "execution_count": null,
   "metadata": {},
   "outputs": [],
   "source": []
  }
 ],
 "metadata": {
  "kernelspec": {
   "display_name": "Python 3 (ipykernel)",
   "language": "python",
   "name": "python3"
  },
  "language_info": {
   "codemirror_mode": {
    "name": "ipython",
    "version": 3
   },
   "file_extension": ".py",
   "mimetype": "text/x-python",
   "name": "python",
   "nbconvert_exporter": "python",
   "pygments_lexer": "ipython3",
   "version": "3.8.10"
  }
 },
 "nbformat": 4,
 "nbformat_minor": 4
}
