{
 "cells": [
  {
   "cell_type": "code",
   "execution_count": 1,
   "metadata": {},
   "outputs": [],
   "source": [
    "from utilities_IGNOBEL import *"
   ]
  },
  {
   "cell_type": "code",
   "execution_count": 2,
   "metadata": {},
   "outputs": [],
   "source": []
  },
  {
   "cell_type": "code",
   "execution_count": 5,
   "metadata": {},
   "outputs": [],
   "source": [
    "#infortunati() #restituisce una singola lista con tutti gli infortunati di ogni squadra di serie A"
   ]
  },
  {
   "cell_type": "code",
   "execution_count": 2,
   "metadata": {},
   "outputs": [],
   "source": [
    "#rose() #restituisce le rose attuali di ogni fantallenatore"
   ]
  },
  {
   "cell_type": "code",
   "execution_count": 3,
   "metadata": {},
   "outputs": [],
   "source": [
    "#formazioni() #restituisce le formazioni schierate in ogni giornata (inclusa la panchina)"
   ]
  },
  {
   "cell_type": "code",
   "execution_count": null,
   "metadata": {},
   "outputs": [],
   "source": [
    "CI = count_inf(infortunati(), rose()) #restituisce il numero di infortunati in ogni rosa\n",
    "CI"
   ]
  },
  {
   "cell_type": "code",
   "execution_count": null,
   "metadata": {},
   "outputs": [],
   "source": [
    "#per qualche strano motivo a volte da errore la prima volta che gira, \n",
    "#ma funziona le volte successive, potrebbe essere un caso\n",
    "V = voti_panchina() \n",
    "V\n",
    "# restituisce i voti dei panchinari che non sono scesi in campo (link diverso temp)"
   ]
  },
  {
   "cell_type": "code",
   "execution_count": null,
   "metadata": {},
   "outputs": [],
   "source": [
    "G = goal_subiti()\n",
    "G\n",
    "# restituisce il totale dei gol subiti da ogni portiere sceso in campo"
   ]
  },
  {
   "cell_type": "code",
   "execution_count": null,
   "metadata": {},
   "outputs": [],
   "source": [
    "M = modificatore() \n",
    "# restituisce il bonus modificatore difesa guadagnato da ogni squadra"
   ]
  },
  {
   "cell_type": "code",
   "execution_count": null,
   "metadata": {},
   "outputs": [],
   "source": [
    "C = cartellini()"
   ]
  },
  {
   "cell_type": "code",
   "execution_count": null,
   "metadata": {},
   "outputs": [],
   "source": [
    "#CI.columns = M.columns #temporaneo, solo per avere gli stessi header\n",
    "pd.concat([CI,V,G,M,C], axis = 0) #I da aggiungere quando sara' per la nostra lega"
   ]
  },
  {
   "cell_type": "code",
   "execution_count": 3,
   "metadata": {},
   "outputs": [],
   "source": [
    "voti_all = scarica_voti(giornata = 3, stagione = '2020-21')\n",
    "#scarica il dataframe con tutti i voti direttamente da fantacalcio.it"
   ]
  },
  {
   "cell_type": "code",
   "execution_count": null,
   "metadata": {},
   "outputs": [],
   "source": []
  }
 ],
 "metadata": {
  "kernelspec": {
   "display_name": "Python 3",
   "language": "python",
   "name": "python3"
  },
  "language_info": {
   "codemirror_mode": {
    "name": "ipython",
    "version": 3
   },
   "file_extension": ".py",
   "mimetype": "text/x-python",
   "name": "python",
   "nbconvert_exporter": "python",
   "pygments_lexer": "ipython3",
   "version": "3.7.6"
  }
 },
 "nbformat": 4,
 "nbformat_minor": 4
}
