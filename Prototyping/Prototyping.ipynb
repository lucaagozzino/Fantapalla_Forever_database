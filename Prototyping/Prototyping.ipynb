{
 "cells": [
  {
   "cell_type": "code",
   "execution_count": 1,
   "metadata": {},
   "outputs": [],
   "source": [
    "from selenium import webdriver\n",
    "from selenium.webdriver.chrome.options import Options\n",
    "import pandas as pd\n",
    "from selenium.common.exceptions import NoSuchElementException   \n",
    "import progressbar\n",
    "\n",
    "options = Options()\n",
    "options.headless = True\n",
    "options.add_argument(\"--window-size=1920,20200\") #this is important, to tell it how much of the webpage to import\n",
    "driver = webdriver.Chrome(options=options, executable_path=r'/usr/local/bin/chromedriver')"
   ]
  },
  {
   "cell_type": "code",
   "execution_count": 68,
   "metadata": {},
   "outputs": [],
   "source": [
    "def formazioni(competizione = 'campionato'):\n",
    "    #if competizione == 'campionato':\n",
    "    link = 'https://leghe.fantacalcio.it/fantapalla-forever/formazioni?id=185855'\n",
    "    driver.get(link)\n",
    "\n",
    "    players = {}\n",
    "    for l in [2,3,4,5]:\n",
    "        for k in [1,2]:\n",
    "            name = driver.find_element_by_xpath(\"/html/body/div[7]/main/div[3]/div[2]/div[1]/div[1]/div/div/div[\"+str(l)+\"]/div[1]/div[\"+str(k)+\"]/div/div[2]/h4\").text\n",
    "\n",
    "\n",
    "            all_playersE = driver.find_elements_by_xpath(\"/html/body/div[7]/main/div[3]/div[2]/div[1]/div[1]/div/div/div[\"+str(l)+\"]/div[2]/div[\"+str(k)+\"]/table[1]/tbody/tr[@class='player-list-item even  ']/td[1]/span/span[2]/a\")\n",
    "            all_playersO = driver.find_elements_by_xpath(\"/html/body/div[7]/main/div[3]/div[2]/div[1]/div[1]/div/div/div[\"+str(l)+\"]/div[2]/div[\"+str(k)+\"]/table[1]/tbody/tr[@class='player-list-item odd  ']/td[1]/span/span[2]/a\")\n",
    "            all_playersEP = driver.find_elements_by_xpath(\"/html/body/div[7]/main/div[3]/div[2]/div[1]/div[1]/div/div/div[\"+str(l)+\"]/div[2]/div[\"+str(k)+\"]/table[2]/tbody/tr[@class='player-list-item even  ']/td[1]/span/span[2]/a\")\n",
    "            all_playersOP = driver.find_elements_by_xpath(\"/html/body/div[7]/main/div[3]/div[2]/div[1]/div[1]/div/div/div[\"+str(l)+\"]/div[2]/div[\"+str(k)+\"]/table[2]/tbody/tr[@class='player-list-item odd  ']/td[1]/span/span[2]/a\")\n",
    "            #all_playersE = driver.find_elements_by_xpath(\"\")\n",
    "\n",
    "            all_pl = all_playersE + all_playersO + all_playersEP + all_playersOP\n",
    "            names = []\n",
    "            for pl in all_pl:\n",
    "                names.append((pl.text).upper())\n",
    "            players[name] = names\n",
    "    return pd.DataFrame.from_dict(data=players, orient='index').T"
   ]
  },
  {
   "cell_type": "code",
   "execution_count": 3,
   "metadata": {},
   "outputs": [],
   "source": [
    "link = 'https://leghe.fantacalcio.it/fantapalla-forever/area-gioco/rose'\n",
    "    \n",
    "driver.get(link)\n",
    "rose = {}\n",
    "\n",
    "\n",
    "for j in range(1,9):\n",
    "    test_1 = []\n",
    "    name = (driver.find_element_by_xpath('/html/body/div[7]/main/div[3]/div[2]/div[1]/div[2]/div[2]/ul/li['+str(j)+']/div/div[1]/div[2]/h4').text).upper()\n",
    "    players = driver.find_elements_by_xpath('/html/body/div[7]/main/div[3]/div[2]/div[1]/div[2]/div[2]/ul/li['+str(j)+']/table/tbody/tr[@class]/td[2]/a/b')\n",
    "    for pl in players:\n",
    "        test_1.append((pl.text).upper())\n",
    "\n",
    "    rose[name] = test_1"
   ]
  },
  {
   "cell_type": "code",
   "execution_count": 21,
   "metadata": {},
   "outputs": [],
   "source": [
    "def rose(link = 'https://leghe.fantacalcio.it/fantapalla-forever/area-gioco/rose'):\n",
    "    \n",
    "    driver.get(link)\n",
    "    rose = {}\n",
    "\n",
    "\n",
    "    for j in range(1,9):\n",
    "        test_1 = []\n",
    "        name = (driver.find_element_by_xpath('/html/body/div[7]/main/div[3]/div[2]/div[1]/div[2]/div[2]/ul/li['+str(j)+']/div/div[1]/div[2]/h4').text).upper()\n",
    "        players = driver.find_elements_by_xpath('/html/body/div[7]/main/div[3]/div[2]/div[1]/div[2]/div[2]/ul/li['+str(j)+']/table/tbody/tr[@class]/td[2]/a/b')\n",
    "        for pl in players:\n",
    "            test_1.append((pl.text).upper())\n",
    "\n",
    "        rose[name] = test_1\n",
    "        \n",
    "        \n",
    "    return pd.DataFrame.from_dict(data=rose, orient='index').T"
   ]
  },
  {
   "cell_type": "code",
   "execution_count": 16,
   "metadata": {},
   "outputs": [],
   "source": [
    "def infortunati(link = 'https://www.pianetafanta.it/Giocatori-Infortunati.asp'):\n",
    "\n",
    "    driver.get(link)\n",
    "    names = driver.find_elements_by_xpath(\"//*[@id='my_id_div']/div[6]/div[11]/div[2]/div/div[@class]/div/table/tbody/tr[@class]/td[2]/a/strong\")\n",
    "\n",
    "    players = []\n",
    "    for n in names:\n",
    "        players.append(n.text.upper())\n",
    "\n",
    "    return players"
   ]
  },
  {
   "cell_type": "code",
   "execution_count": 22,
   "metadata": {},
   "outputs": [],
   "source": [
    "I=infortunati()"
   ]
  },
  {
   "cell_type": "code",
   "execution_count": 23,
   "metadata": {},
   "outputs": [],
   "source": [
    "R=rose()"
   ]
  },
  {
   "cell_type": "code",
   "execution_count": 50,
   "metadata": {},
   "outputs": [],
   "source": [
    "def count_inf(I , R ):\n",
    "    count = {}\n",
    "    #test = list(filter(None,I.values.flatten()))\n",
    "    #separator = ','\n",
    "    all_names = ''.join(I)\n",
    "    for team in R:\n",
    "        c = 0\n",
    "        for player in R[team]:\n",
    "            if player == None:\n",
    "                continue\n",
    "            if player in ''.join(I):\n",
    "                c+=1\n",
    "        count[team] = c\n",
    "    return pd.DataFrame(data = count, index = ['tot Infortunati'])"
   ]
  },
  {
   "cell_type": "code",
   "execution_count": 51,
   "metadata": {},
   "outputs": [
    {
     "data": {
      "text/html": [
       "<div>\n",
       "<style scoped>\n",
       "    .dataframe tbody tr th:only-of-type {\n",
       "        vertical-align: middle;\n",
       "    }\n",
       "\n",
       "    .dataframe tbody tr th {\n",
       "        vertical-align: top;\n",
       "    }\n",
       "\n",
       "    .dataframe thead th {\n",
       "        text-align: right;\n",
       "    }\n",
       "</style>\n",
       "<table border=\"1\" class=\"dataframe\">\n",
       "  <thead>\n",
       "    <tr style=\"text-align: right;\">\n",
       "      <th></th>\n",
       "      <th>XYZ</th>\n",
       "      <th>MAINZ NA GIOIA</th>\n",
       "      <th>I DISEREDATI</th>\n",
       "      <th>PALLA PAZZA</th>\n",
       "      <th>AS 800A</th>\n",
       "      <th>PDG 1908</th>\n",
       "      <th>SOROS FC</th>\n",
       "      <th>IGNORANZA EVERYWHERE</th>\n",
       "    </tr>\n",
       "  </thead>\n",
       "  <tbody>\n",
       "    <tr>\n",
       "      <th>tot Infortunati</th>\n",
       "      <td>14</td>\n",
       "      <td>8</td>\n",
       "      <td>6</td>\n",
       "      <td>3</td>\n",
       "      <td>5</td>\n",
       "      <td>7</td>\n",
       "      <td>9</td>\n",
       "      <td>8</td>\n",
       "    </tr>\n",
       "  </tbody>\n",
       "</table>\n",
       "</div>"
      ],
      "text/plain": [
       "                 XYZ  MAINZ NA GIOIA  I DISEREDATI  PALLA PAZZA  AS 800A  \\\n",
       "tot Infortunati   14               8             6            3        5   \n",
       "\n",
       "                 PDG 1908  SOROS FC  IGNORANZA EVERYWHERE  \n",
       "tot Infortunati         7         9                     8  "
      ]
     },
     "execution_count": 51,
     "metadata": {},
     "output_type": "execute_result"
    }
   ],
   "source": [
    "count_inf(I,R)"
   ]
  },
  {
   "cell_type": "code",
   "execution_count": 7,
   "metadata": {},
   "outputs": [],
   "source": [
    "import time"
   ]
  },
  {
   "cell_type": "code",
   "execution_count": 67,
   "metadata": {},
   "outputs": [],
   "source": [
    "def infortunati(link = 'https://www.fantacalcio.it/cartella-medica/'):\n",
    "\n",
    "    driver.get(link)\n",
    "    button = driver.find_element_by_id(\"tabAll\")\n",
    "\n",
    "    driver.execute_script(\"arguments[0].click();\", button)\n",
    "\n",
    "    test = driver.find_elements_by_xpath(\"/html/body/div[7]/div[5]/main/div/div/div/div[1]/div[2]/div[5]/div[@class]/div/div/div[2]/div/div[1]/p[@class]/span\")\n",
    "    all_inf = []\n",
    "    for pl in test:\n",
    "        all_inf.append(pl.text)\n",
    "    return all_inf"
   ]
  },
  {
   "cell_type": "code",
   "execution_count": 68,
   "metadata": {},
   "outputs": [
    {
     "data": {
      "text/plain": [
       "['CARNESECCHI:',\n",
       " 'GOLLINI:',\n",
       " 'CALDARA:',\n",
       " 'MONCINI:',\n",
       " 'BARBA:',\n",
       " 'VIOLA:',\n",
       " 'DIJKS:',\n",
       " 'MEDEL:',\n",
       " 'POLI:',\n",
       " 'SKOV OLSEN:',\n",
       " 'PEREIRO:',\n",
       " 'BENALI:',\n",
       " 'RIVIERE:',\n",
       " '-',\n",
       " 'LERAGER:',\n",
       " 'ZAPPACOSTA:',\n",
       " 'DESTRO:',\n",
       " 'MALES:',\n",
       " 'CRISCITO:',\n",
       " 'CASSATA:',\n",
       " 'NAINGGOLAN:',\n",
       " 'RADU I.:',\n",
       " 'VECINO:',\n",
       " 'SKRINIAR:',\n",
       " 'YOUNG:',\n",
       " 'GAGLIARDINI:',\n",
       " 'MCKENNIE:',\n",
       " 'RAMSEY:',\n",
       " 'RONALDO:',\n",
       " 'DE LIGT:',\n",
       " 'PEREIRA A.:',\n",
       " 'PROTO:',\n",
       " 'LUIZ FELIPE:',\n",
       " 'RADU:',\n",
       " 'LAZZARI:',\n",
       " 'LULIC:',\n",
       " 'DUARTE:',\n",
       " 'GABBIA:',\n",
       " 'MUSACCHIO:',\n",
       " 'REBIC:',\n",
       " 'ELMAS:',\n",
       " 'ZIELINSKI:',\n",
       " 'INSIGNE:',\n",
       " 'INGLESE:',\n",
       " 'SPROCATI:',\n",
       " 'BRUNETTA:',\n",
       " 'MIHAILA:',\n",
       " 'DEZI:',\n",
       " 'BUSI:',\n",
       " 'VALENTI:',\n",
       " 'CORNELIUS:',\n",
       " 'DIAWARA:',\n",
       " 'PASTORE:',\n",
       " 'ZANIOLO:',\n",
       " 'SMALLING:',\n",
       " 'GABBIADINI:',\n",
       " 'AYHAN:',\n",
       " 'ROGERIO:',\n",
       " 'ROMAGNA:',\n",
       " 'TOLJAN:',\n",
       " 'DEIOLA:',\n",
       " 'ISMAJLI:',\n",
       " 'CAPRADOSSI:',\n",
       " 'RAMOS:',\n",
       " 'MATTIELLO:',\n",
       " 'ZOET:',\n",
       " 'MARCHIZZA:',\n",
       " 'MASTINU:',\n",
       " 'GALABINOV:',\n",
       " 'BASELLI:',\n",
       " 'MANDRAGORA:',\n",
       " 'WALACE:',\n",
       " 'MUSSO:',\n",
       " 'STRYGER LARSEN:',\n",
       " 'JAJALO:',\n",
       " 'DANZI:',\n",
       " 'CETIN:',\n",
       " 'BENASSI:',\n",
       " 'DAWIDOWICZ:',\n",
       " 'BARAK:',\n",
       " 'GUNTER:']"
      ]
     },
     "execution_count": 68,
     "metadata": {},
     "output_type": "execute_result"
    }
   ],
   "source": [
    "infortunati()"
   ]
  },
  {
   "cell_type": "code",
   "execution_count": null,
   "metadata": {},
   "outputs": [],
   "source": []
  }
 ],
 "metadata": {
  "kernelspec": {
   "display_name": "Python 3",
   "language": "python",
   "name": "python3"
  },
  "language_info": {
   "codemirror_mode": {
    "name": "ipython",
    "version": 3
   },
   "file_extension": ".py",
   "mimetype": "text/x-python",
   "name": "python",
   "nbconvert_exporter": "python",
   "pygments_lexer": "ipython3",
   "version": "3.7.6"
  }
 },
 "nbformat": 4,
 "nbformat_minor": 4
}
