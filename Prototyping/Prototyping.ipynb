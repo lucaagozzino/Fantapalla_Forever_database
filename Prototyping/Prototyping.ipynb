{
 "cells": [
  {
   "cell_type": "code",
   "execution_count": 3,
   "metadata": {},
   "outputs": [],
   "source": [
    "from selenium import webdriver\n",
    "from selenium.webdriver.chrome.options import Options\n",
    "import pandas as pd\n",
    "from selenium.common.exceptions import NoSuchElementException   \n",
    "import progressbar\n",
    "\n",
    "import numpy as np\n",
    "\n",
    "options = Options()\n",
    "options.headless = True\n",
    "options.add_argument(\"--window-size=1920,20200\") #this is important, to tell it how much of the webpage to import\n",
    "driver = webdriver.Chrome(options=options, executable_path=r'/usr/local/bin/chromedriver')"
   ]
  },
  {
   "cell_type": "code",
   "execution_count": 68,
   "metadata": {},
   "outputs": [],
   "source": [
    "def formazioni(competizione = 'campionato'):\n",
    "    #if competizione == 'campionato':\n",
    "    link = 'https://leghe.fantacalcio.it/fantapalla-forever/formazioni?id=185855'\n",
    "    driver.get(link)\n",
    "\n",
    "    players = {}\n",
    "    for l in [2,3,4,5]:\n",
    "        for k in [1,2]:\n",
    "            name = driver.find_element_by_xpath(\"/html/body/div[7]/main/div[3]/div[2]/div[1]/div[1]/div/div/div[\"+str(l)+\"]/div[1]/div[\"+str(k)+\"]/div/div[2]/h4\").text\n",
    "\n",
    "\n",
    "            all_playersE = driver.find_elements_by_xpath(\"/html/body/div[7]/main/div[3]/div[2]/div[1]/div[1]/div/div/div[\"+str(l)+\"]/div[2]/div[\"+str(k)+\"]/table[1]/tbody/tr[@class='player-list-item even  ']/td[1]/span/span[2]/a\")\n",
    "            all_playersO = driver.find_elements_by_xpath(\"/html/body/div[7]/main/div[3]/div[2]/div[1]/div[1]/div/div/div[\"+str(l)+\"]/div[2]/div[\"+str(k)+\"]/table[1]/tbody/tr[@class='player-list-item odd  ']/td[1]/span/span[2]/a\")\n",
    "            all_playersEP = driver.find_elements_by_xpath(\"/html/body/div[7]/main/div[3]/div[2]/div[1]/div[1]/div/div/div[\"+str(l)+\"]/div[2]/div[\"+str(k)+\"]/table[2]/tbody/tr[@class='player-list-item even  ']/td[1]/span/span[2]/a\")\n",
    "            all_playersOP = driver.find_elements_by_xpath(\"/html/body/div[7]/main/div[3]/div[2]/div[1]/div[1]/div/div/div[\"+str(l)+\"]/div[2]/div[\"+str(k)+\"]/table[2]/tbody/tr[@class='player-list-item odd  ']/td[1]/span/span[2]/a\")\n",
    "            #all_playersE = driver.find_elements_by_xpath(\"\")\n",
    "\n",
    "            all_pl = all_playersE + all_playersO + all_playersEP + all_playersOP\n",
    "            names = []\n",
    "            for pl in all_pl:\n",
    "                names.append((pl.text).upper())\n",
    "            players[name] = names\n",
    "    return pd.DataFrame.from_dict(data=players, orient='index').T"
   ]
  },
  {
   "cell_type": "code",
   "execution_count": 3,
   "metadata": {},
   "outputs": [],
   "source": [
    "link = 'https://leghe.fantacalcio.it/fantapalla-forever/area-gioco/rose'\n",
    "    \n",
    "driver.get(link)\n",
    "rose = {}\n",
    "\n",
    "\n",
    "for j in range(1,9):\n",
    "    test_1 = []\n",
    "    name = (driver.find_element_by_xpath('/html/body/div[7]/main/div[3]/div[2]/div[1]/div[2]/div[2]/ul/li['+str(j)+']/div/div[1]/div[2]/h4').text).upper()\n",
    "    players = driver.find_elements_by_xpath('/html/body/div[7]/main/div[3]/div[2]/div[1]/div[2]/div[2]/ul/li['+str(j)+']/table/tbody/tr[@class]/td[2]/a/b')\n",
    "    for pl in players:\n",
    "        test_1.append((pl.text).upper())\n",
    "\n",
    "    rose[name] = test_1"
   ]
  },
  {
   "cell_type": "code",
   "execution_count": 21,
   "metadata": {},
   "outputs": [],
   "source": [
    "def rose(link = 'https://leghe.fantacalcio.it/fantapalla-forever/area-gioco/rose'):\n",
    "    \n",
    "    driver.get(link)\n",
    "    rose = {}\n",
    "\n",
    "\n",
    "    for j in range(1,9):\n",
    "        test_1 = []\n",
    "        name = (driver.find_element_by_xpath('/html/body/div[7]/main/div[3]/div[2]/div[1]/div[2]/div[2]/ul/li['+str(j)+']/div/div[1]/div[2]/h4').text).upper()\n",
    "        players = driver.find_elements_by_xpath('/html/body/div[7]/main/div[3]/div[2]/div[1]/div[2]/div[2]/ul/li['+str(j)+']/table/tbody/tr[@class]/td[2]/a/b')\n",
    "        for pl in players:\n",
    "            test_1.append((pl.text).upper())\n",
    "\n",
    "        rose[name] = test_1\n",
    "        \n",
    "        \n",
    "    return pd.DataFrame.from_dict(data=rose, orient='index').T"
   ]
  },
  {
   "cell_type": "code",
   "execution_count": 16,
   "metadata": {},
   "outputs": [],
   "source": [
    "def infortunati(link = 'https://www.pianetafanta.it/Giocatori-Infortunati.asp'):\n",
    "\n",
    "    driver.get(link)\n",
    "    names = driver.find_elements_by_xpath(\"//*[@id='my_id_div']/div[6]/div[11]/div[2]/div/div[@class]/div/table/tbody/tr[@class]/td[2]/a/strong\")\n",
    "\n",
    "    players = []\n",
    "    for n in names:\n",
    "        players.append(n.text.upper())\n",
    "\n",
    "    return players"
   ]
  },
  {
   "cell_type": "code",
   "execution_count": 22,
   "metadata": {},
   "outputs": [],
   "source": [
    "I=infortunati()"
   ]
  },
  {
   "cell_type": "code",
   "execution_count": 23,
   "metadata": {},
   "outputs": [],
   "source": [
    "R=rose()"
   ]
  },
  {
   "cell_type": "code",
   "execution_count": 50,
   "metadata": {},
   "outputs": [],
   "source": [
    "def count_inf(I , R ):\n",
    "    count = {}\n",
    "    #test = list(filter(None,I.values.flatten()))\n",
    "    #separator = ','\n",
    "    all_names = ''.join(I)\n",
    "    for team in R:\n",
    "        c = 0\n",
    "        for player in R[team]:\n",
    "            if player == None:\n",
    "                continue\n",
    "            if player in ''.join(I):\n",
    "                c+=1\n",
    "        count[team] = c\n",
    "    return pd.DataFrame(data = count, index = ['tot Infortunati'])"
   ]
  },
  {
   "cell_type": "code",
   "execution_count": 51,
   "metadata": {},
   "outputs": [
    {
     "data": {
      "text/html": [
       "<div>\n",
       "<style scoped>\n",
       "    .dataframe tbody tr th:only-of-type {\n",
       "        vertical-align: middle;\n",
       "    }\n",
       "\n",
       "    .dataframe tbody tr th {\n",
       "        vertical-align: top;\n",
       "    }\n",
       "\n",
       "    .dataframe thead th {\n",
       "        text-align: right;\n",
       "    }\n",
       "</style>\n",
       "<table border=\"1\" class=\"dataframe\">\n",
       "  <thead>\n",
       "    <tr style=\"text-align: right;\">\n",
       "      <th></th>\n",
       "      <th>XYZ</th>\n",
       "      <th>MAINZ NA GIOIA</th>\n",
       "      <th>I DISEREDATI</th>\n",
       "      <th>PALLA PAZZA</th>\n",
       "      <th>AS 800A</th>\n",
       "      <th>PDG 1908</th>\n",
       "      <th>SOROS FC</th>\n",
       "      <th>IGNORANZA EVERYWHERE</th>\n",
       "    </tr>\n",
       "  </thead>\n",
       "  <tbody>\n",
       "    <tr>\n",
       "      <th>tot Infortunati</th>\n",
       "      <td>14</td>\n",
       "      <td>8</td>\n",
       "      <td>6</td>\n",
       "      <td>3</td>\n",
       "      <td>5</td>\n",
       "      <td>7</td>\n",
       "      <td>9</td>\n",
       "      <td>8</td>\n",
       "    </tr>\n",
       "  </tbody>\n",
       "</table>\n",
       "</div>"
      ],
      "text/plain": [
       "                 XYZ  MAINZ NA GIOIA  I DISEREDATI  PALLA PAZZA  AS 800A  \\\n",
       "tot Infortunati   14               8             6            3        5   \n",
       "\n",
       "                 PDG 1908  SOROS FC  IGNORANZA EVERYWHERE  \n",
       "tot Infortunati         7         9                     8  "
      ]
     },
     "execution_count": 51,
     "metadata": {},
     "output_type": "execute_result"
    }
   ],
   "source": [
    "count_inf(I,R)"
   ]
  },
  {
   "cell_type": "code",
   "execution_count": 7,
   "metadata": {},
   "outputs": [],
   "source": [
    "import time"
   ]
  },
  {
   "cell_type": "code",
   "execution_count": 67,
   "metadata": {},
   "outputs": [],
   "source": [
    "def infortunati(link = 'https://www.fantacalcio.it/cartella-medica/'):\n",
    "\n",
    "    driver.get(link)\n",
    "    button = driver.find_element_by_id(\"tabAll\")\n",
    "\n",
    "    driver.execute_script(\"arguments[0].click();\", button)\n",
    "\n",
    "    test = driver.find_elements_by_xpath(\"/html/body/div[7]/div[5]/main/div/div/div/div[1]/div[2]/div[5]/div[@class]/div/div/div[2]/div/div[1]/p[@class]/span\")\n",
    "    all_inf = []\n",
    "    for pl in test:\n",
    "        all_inf.append(pl.text)\n",
    "    return all_inf"
   ]
  },
  {
   "cell_type": "code",
   "execution_count": null,
   "metadata": {},
   "outputs": [],
   "source": []
  },
  {
   "cell_type": "code",
   "execution_count": 33,
   "metadata": {},
   "outputs": [],
   "source": [
    "def voti_panchina(giornata):\n",
    "    link = 'https://leghe.fantacalcio.it/fantapalla-forever/formazioni/'+str(giornata)\n",
    "    driver.get(link)\n",
    "\n",
    "    all_voti = {}\n",
    "    for l in [2,3,4,5]:\n",
    "        for k in [1,2]:\n",
    "            name = driver.find_element_by_xpath(\"/html/body/div[7]/main/div[3]/div[2]/div[1]/div[1]/div/div[2]/div[\"+str(l)+\"]/div[1]/div[\"+str(k)+\"]/div/div[2]/h4\").text\n",
    "            #name = driver.find_element_by_xpath(\"/html/body/div[12]/main/div[3]/div[2]/div[1]/div[1]/div/div[2]/div[\"+str(l)+\"]/div[1]/div[\"+str(k)+\"]/div/div[2]/h4\").text\n",
    "            Fvoto_o = driver.find_elements_by_xpath(\"/html/body/div[7]/main/div[3]/div[2]/div[1]/div[1]/div/div[2]/div[\"+str(l)+\"]/div[2]/div[\"+str(k)+\"]/table[2]/tbody/tr[@class = 'player-list-item odd  ']/td[5]/span\")\n",
    "            Nvoto_o = driver.find_elements_by_xpath(\"/html/body/div[7]/main/div[3]/div[2]/div[1]/div[1]/div/div[2]/div[\"+str(l)+\"]/div[2]/div[\"+str(k)+\"]/table[2]/tbody/tr[@class = 'player-list-item odd  ']/td[4]/span\")\n",
    "            Fvoto_e = driver.find_elements_by_xpath(\"/html/body/div[7]/main/div[3]/div[2]/div[1]/div[1]/div/div[2]/div[\"+str(l)+\"]/div[2]/div[\"+str(k)+\"]/table[2]/tbody/tr[@class = 'player-list-item even  ']/td[5]/span\")\n",
    "            Nvoto_e = driver.find_elements_by_xpath(\"/html/body/div[7]/main/div[3]/div[2]/div[1]/div[1]/div/div[2]/div[\"+str(l)+\"]/div[2]/div[\"+str(k)+\"]/table[2]/tbody/tr[@class = 'player-list-item even  ']/td[4]/span\")\n",
    "            Fvoti = Fvoto_o + Fvoto_e\n",
    "            Nvoti = Nvoto_o + Nvoto_e\n",
    "            tot = []\n",
    "            for i in range(len(Fvoti)):\n",
    "                if Fvoti[i].text != '-':\n",
    "                    tot.append(max(0,float(Fvoti[i].text)-float(Nvoti[i].text)))\n",
    "            all_voti[name] = [sum(tot)]\n",
    "    return pd.DataFrame(data=all_voti,index = ['Voti Panchinari'])"
   ]
  },
  {
   "cell_type": "code",
   "execution_count": 34,
   "metadata": {},
   "outputs": [
    {
     "data": {
      "text/html": [
       "<div>\n",
       "<style scoped>\n",
       "    .dataframe tbody tr th:only-of-type {\n",
       "        vertical-align: middle;\n",
       "    }\n",
       "\n",
       "    .dataframe tbody tr th {\n",
       "        vertical-align: top;\n",
       "    }\n",
       "\n",
       "    .dataframe thead th {\n",
       "        text-align: right;\n",
       "    }\n",
       "</style>\n",
       "<table border=\"1\" class=\"dataframe\">\n",
       "  <thead>\n",
       "    <tr style=\"text-align: right;\">\n",
       "      <th></th>\n",
       "      <th>AS 800A</th>\n",
       "      <th>PDG 1908</th>\n",
       "      <th>Ignoranza Everywhere</th>\n",
       "      <th>soros fc</th>\n",
       "      <th>Mainz na gioia</th>\n",
       "      <th>Palla Pazza</th>\n",
       "      <th>I Diseredati</th>\n",
       "      <th>XYZ</th>\n",
       "    </tr>\n",
       "  </thead>\n",
       "  <tbody>\n",
       "    <tr>\n",
       "      <th>Voti Panchinari</th>\n",
       "      <td>1.5</td>\n",
       "      <td>1.75</td>\n",
       "      <td>0</td>\n",
       "      <td>0.5</td>\n",
       "      <td>0.75</td>\n",
       "      <td>3.0</td>\n",
       "      <td>1.75</td>\n",
       "      <td>0</td>\n",
       "    </tr>\n",
       "  </tbody>\n",
       "</table>\n",
       "</div>"
      ],
      "text/plain": [
       "                 AS 800A  PDG 1908  Ignoranza Everywhere  soros fc  \\\n",
       "Voti Panchinari      1.5      1.75                     0       0.5   \n",
       "\n",
       "                 Mainz na gioia  Palla Pazza  I Diseredati  XYZ  \n",
       "Voti Panchinari            0.75          3.0          1.75    0  "
      ]
     },
     "execution_count": 34,
     "metadata": {},
     "output_type": "execute_result"
    }
   ],
   "source": [
    "voti_panchina(giornata=1)"
   ]
  },
  {
   "cell_type": "code",
   "execution_count": 16,
   "metadata": {},
   "outputs": [],
   "source": [
    "def goal_subiti(giornata):\n",
    "    link = 'https://leghe.fantacalcio.it/fantapalla-forever/formazioni/'+str(giornata)\n",
    "    driver.get(link)\n",
    "\n",
    "    all_goal = {}\n",
    "    for l in [2,3,4,5]:\n",
    "        for k in [1,2]:\n",
    "            name = driver.find_element_by_xpath(\"/html/body/div[7]/main/div[3]/div[2]/div[1]/div[1]/div/div[2]/div[\"+str(l)+\"]/div[1]/div[\"+str(k)+\"]/div/div[2]/h4\").text\n",
    "            if len(driver.find_elements_by_xpath(\"/html/body/div[7]/main/div[3]/div[2]/div[1]/div[1]/div/div[2]/div[\"+str(l)+\"]/div[2]/div[\"+str(k)+\"]/table[1]/tbody/tr[@class='player-list-item even  out']/td[@class='cell-text cell-primary x7 smart-x9 smart-role role-p']\")) == 0:\n",
    "\n",
    "                goal = len(driver.find_elements_by_xpath(\"/html/body/div[7]/main/div[3]/div[2]/div[1]/div[1]/div/div[2]/div[\"+str(l)+\"]/div[2]/div[\"+str(k)+\"]/table[1]/tbody/tr[1]/td[3]/ul/li[@data-original-title='Gol subito (-0.5)']\"))\n",
    "            else:\n",
    "                goal1 = len(driver.find_elements_by_xpath(\"/html/body/div[7]/main/div[3]/div[2]/div[1]/div[1]/div/div[2]/div[\"+str(l)+\"]/div[2]/div[\"+str(k)+\"]/table[2]/tbody/tr[@class='player-list-item even in ']/td[3]/ul/li[@data-original-title='Gol subito (-0.5)']\"))\n",
    "                goal2 = len(driver.find_elements_by_xpath(\"/html/body/div[7]/main/div[3]/div[2]/div[1]/div[1]/div/div[2]/div[\"+str(l)+\"]/div[2]/div[\"+str(k)+\"]/table[2]/tbody/tr[@class='player-list-item odd in ']/td[3]/ul/li[@data-original-title='Gol subito (-0.5)']\"))\n",
    "                goal = max(goal1,goal2)\n",
    "            all_goal[name] = goal\n",
    "\n",
    "    return pd.DataFrame(data=all_goal,index = ['Goal subiti'])\n",
    "\n"
   ]
  },
  {
   "cell_type": "code",
   "execution_count": 17,
   "metadata": {},
   "outputs": [
    {
     "data": {
      "text/html": [
       "<div>\n",
       "<style scoped>\n",
       "    .dataframe tbody tr th:only-of-type {\n",
       "        vertical-align: middle;\n",
       "    }\n",
       "\n",
       "    .dataframe tbody tr th {\n",
       "        vertical-align: top;\n",
       "    }\n",
       "\n",
       "    .dataframe thead th {\n",
       "        text-align: right;\n",
       "    }\n",
       "</style>\n",
       "<table border=\"1\" class=\"dataframe\">\n",
       "  <thead>\n",
       "    <tr style=\"text-align: right;\">\n",
       "      <th></th>\n",
       "      <th>AS 800A</th>\n",
       "      <th>PDG 1908</th>\n",
       "      <th>Ignoranza Everywhere</th>\n",
       "      <th>soros fc</th>\n",
       "      <th>Mainz na gioia</th>\n",
       "      <th>Palla Pazza</th>\n",
       "      <th>I Diseredati</th>\n",
       "      <th>XYZ</th>\n",
       "    </tr>\n",
       "  </thead>\n",
       "  <tbody>\n",
       "    <tr>\n",
       "      <th>Goal subiti</th>\n",
       "      <td>2</td>\n",
       "      <td>2</td>\n",
       "      <td>3</td>\n",
       "      <td>1</td>\n",
       "      <td>1</td>\n",
       "      <td>2</td>\n",
       "      <td>3</td>\n",
       "      <td>0</td>\n",
       "    </tr>\n",
       "  </tbody>\n",
       "</table>\n",
       "</div>"
      ],
      "text/plain": [
       "             AS 800A  PDG 1908  Ignoranza Everywhere  soros fc  \\\n",
       "Goal subiti        2         2                     3         1   \n",
       "\n",
       "             Mainz na gioia  Palla Pazza  I Diseredati  XYZ  \n",
       "Goal subiti               1            2             3    0  "
      ]
     },
     "execution_count": 17,
     "metadata": {},
     "output_type": "execute_result"
    }
   ],
   "source": [
    "goal_subiti(giornata=1)"
   ]
  },
  {
   "cell_type": "code",
   "execution_count": 4,
   "metadata": {},
   "outputs": [],
   "source": [
    "def modificatore(giornata):\n",
    "    link = 'https://leghe.fantacalcio.it/fantapalla-forever/formazioni/'+str(giornata)\n",
    "    driver.get(link)\n",
    "\n",
    "    all_mod = {}\n",
    "    for l in [2,3,4,5]:\n",
    "        for k in [1,2]:\n",
    "            name = driver.find_element_by_xpath(\"/html/body/div[7]/main/div[3]/div[2]/div[1]/div[1]/div/div[2]/div[\"+str(l)+\"]/div[1]/div[\"+str(k)+\"]/div/div[2]/h4\").text.upper()\n",
    "            all_mod[name] = 0\n",
    "            temp = driver.find_elements_by_xpath(\"/html/body/div[7]/main/div[3]/div[2]/div[1]/div[1]/div/div[2]/div[\"+str(l)+\"]/div[2]/div[\"+str(k)+\"]/table[3]/tbody/tr/td[1]/span\")\n",
    "            if len(temp)>0 and temp[0].text == 'Modificatore Difesa':\n",
    "                mod = float(driver.find_element_by_xpath(\"/html/body/div[7]/main/div[3]/div[2]/div[1]/div[1]/div/div[2]/div[\"+str(l)+\"]/div[2]/div[\"+str(k)+\"]/table[3]/tbody/tr/td[2]/span\").text)\n",
    "                all_mod[name] = int(mod)\n",
    "    return pd.DataFrame(data=all_mod, index = ['Modificatore'])"
   ]
  },
  {
   "cell_type": "code",
   "execution_count": 5,
   "metadata": {},
   "outputs": [
    {
     "data": {
      "text/html": [
       "<div>\n",
       "<style scoped>\n",
       "    .dataframe tbody tr th:only-of-type {\n",
       "        vertical-align: middle;\n",
       "    }\n",
       "\n",
       "    .dataframe tbody tr th {\n",
       "        vertical-align: top;\n",
       "    }\n",
       "\n",
       "    .dataframe thead th {\n",
       "        text-align: right;\n",
       "    }\n",
       "</style>\n",
       "<table border=\"1\" class=\"dataframe\">\n",
       "  <thead>\n",
       "    <tr style=\"text-align: right;\">\n",
       "      <th></th>\n",
       "      <th>PDG 1908</th>\n",
       "      <th>I DISEREDATI</th>\n",
       "      <th>XYZ</th>\n",
       "      <th>MAINZ NA GIOIA</th>\n",
       "      <th>PALLA PAZZA</th>\n",
       "      <th>IGNORANZA EVERYWHERE</th>\n",
       "      <th>SOROS FC</th>\n",
       "      <th>AS 800A</th>\n",
       "    </tr>\n",
       "  </thead>\n",
       "  <tbody>\n",
       "    <tr>\n",
       "      <th>Modificatore</th>\n",
       "      <td>0</td>\n",
       "      <td>1</td>\n",
       "      <td>0</td>\n",
       "      <td>0</td>\n",
       "      <td>1</td>\n",
       "      <td>1</td>\n",
       "      <td>0</td>\n",
       "      <td>0</td>\n",
       "    </tr>\n",
       "  </tbody>\n",
       "</table>\n",
       "</div>"
      ],
      "text/plain": [
       "              PDG 1908  I DISEREDATI  XYZ  MAINZ NA GIOIA  PALLA PAZZA  \\\n",
       "Modificatore         0             1    0               0            1   \n",
       "\n",
       "              IGNORANZA EVERYWHERE  SOROS FC  AS 800A  \n",
       "Modificatore                     1         0        0  "
      ]
     },
     "execution_count": 5,
     "metadata": {},
     "output_type": "execute_result"
    }
   ],
   "source": [
    "modificatore(2)"
   ]
  },
  {
   "cell_type": "code",
   "execution_count": 29,
   "metadata": {},
   "outputs": [],
   "source": [
    "def cartellini(giornata):\n",
    "    link = 'https://leghe.fantacalcio.it/fantapalla-forever/formazioni/'+str(giornata)\n",
    "    driver.get(link)\n",
    "\n",
    "    all_cart = {}\n",
    "    for l in [2,3,4,5]:\n",
    "        for k in [1,2]:\n",
    "            name = driver.find_element_by_xpath(\"/html/body/div[7]/main/div[3]/div[2]/div[1]/div[1]/div/div[2]/div[\"+str(l)+\"]/div[1]/div[\"+str(k)+\"]/div/div[2]/h4\").text.upper()\n",
    "            gialli = len(driver.find_elements_by_xpath(\"/html/body/div[7]/main/div[3]/div[2]/div[1]/div[1]/div/div/div[\"+str(l)+\"]/div[2]/div[\"+str(k)+\"]/table[1]/tbody/tr[@data-id]/td[3]/ul/li[@data-original-title='Ammonizione (-0.25)']\"))\n",
    "            gialliPE= len(driver.find_elements_by_xpath(\"/html/body/div[7]/main/div[3]/div[2]/div[1]/div[1]/div/div[2]/div[\"+str(l)+\"]/div[2]/div[\"+str(k)+\"]/table[2]/tbody/tr[@class='player-list-item even in ']/td[3]/ul/li[@data-original-title='Ammonizione (-0.25)']\"))\n",
    "            gialliPO= len(driver.find_elements_by_xpath(\"/html/body/div[7]/main/div[3]/div[2]/div[1]/div[1]/div/div[2]/div[\"+str(l)+\"]/div[2]/div[\"+str(k)+\"]/table[2]/tbody/tr[@class='player-list-item odd in ']/td[3]/ul/li[@data-original-title='Ammonizione (-0.25)']\"))\n",
    "            rossi =  len(driver.find_elements_by_xpath(\"/html/body/div[7]/main/div[3]/div[2]/div[1]/div[1]/div/div/div[\"+str(l)+\"]/div[2]/div[\"+str(k)+\"]/table[1]/tbody/tr[@data-id]/td[3]/ul/li[@data-original-title='Espulso (-0.5)']\"))\n",
    "            rossiPE=len(driver.find_elements_by_xpath(\"/html/body/div[7]/main/div[3]/div[2]/div[1]/div[1]/div/div[2]/div[\"+str(l)+\"]/div[2]/div[\"+str(k)+\"]/table[2]/tbody/tr[@class='player-list-item even in ']/td[3]/ul/li[@data-original-title='Espulso (-0.5)']\"))\n",
    "            rossiPO=len(driver.find_elements_by_xpath(\"/html/body/div[7]/main/div[3]/div[2]/div[1]/div[1]/div/div[2]/div[\"+str(l)+\"]/div[2]/div[\"+str(k)+\"]/table[2]/tbody/tr[@class='player-list-item odd in ']/td[3]/ul/li[@data-original-title='Espulso (-0.5)']\"))\n",
    "            all_cart[name] = [gialli+gialliPE+gialliPO, rossi]\n",
    "    return pd.DataFrame(data=all_cart,index = ['C. gialli','C. rossi'])"
   ]
  },
  {
   "cell_type": "code",
   "execution_count": 30,
   "metadata": {},
   "outputs": [
    {
     "data": {
      "text/html": [
       "<div>\n",
       "<style scoped>\n",
       "    .dataframe tbody tr th:only-of-type {\n",
       "        vertical-align: middle;\n",
       "    }\n",
       "\n",
       "    .dataframe tbody tr th {\n",
       "        vertical-align: top;\n",
       "    }\n",
       "\n",
       "    .dataframe thead th {\n",
       "        text-align: right;\n",
       "    }\n",
       "</style>\n",
       "<table border=\"1\" class=\"dataframe\">\n",
       "  <thead>\n",
       "    <tr style=\"text-align: right;\">\n",
       "      <th></th>\n",
       "      <th>AS 800A</th>\n",
       "      <th>PDG 1908</th>\n",
       "      <th>IGNORANZA EVERYWHERE</th>\n",
       "      <th>SOROS FC</th>\n",
       "      <th>MAINZ NA GIOIA</th>\n",
       "      <th>PALLA PAZZA</th>\n",
       "      <th>I DISEREDATI</th>\n",
       "      <th>XYZ</th>\n",
       "    </tr>\n",
       "  </thead>\n",
       "  <tbody>\n",
       "    <tr>\n",
       "      <th>C. gialli</th>\n",
       "      <td>2</td>\n",
       "      <td>1</td>\n",
       "      <td>1</td>\n",
       "      <td>2</td>\n",
       "      <td>1</td>\n",
       "      <td>1</td>\n",
       "      <td>3</td>\n",
       "      <td>4</td>\n",
       "    </tr>\n",
       "    <tr>\n",
       "      <th>C. rossi</th>\n",
       "      <td>0</td>\n",
       "      <td>0</td>\n",
       "      <td>0</td>\n",
       "      <td>0</td>\n",
       "      <td>0</td>\n",
       "      <td>0</td>\n",
       "      <td>0</td>\n",
       "      <td>1</td>\n",
       "    </tr>\n",
       "  </tbody>\n",
       "</table>\n",
       "</div>"
      ],
      "text/plain": [
       "           AS 800A  PDG 1908  IGNORANZA EVERYWHERE  SOROS FC  MAINZ NA GIOIA  \\\n",
       "C. gialli        2         1                     1         2               1   \n",
       "C. rossi         0         0                     0         0               0   \n",
       "\n",
       "           PALLA PAZZA  I DISEREDATI  XYZ  \n",
       "C. gialli            1             3    4  \n",
       "C. rossi             0             0    1  "
      ]
     },
     "execution_count": 30,
     "metadata": {},
     "output_type": "execute_result"
    }
   ],
   "source": [
    "cartellini(1)"
   ]
  },
  {
   "cell_type": "code",
   "execution_count": 25,
   "metadata": {},
   "outputs": [],
   "source": [
    "def fantapunti_subiti(giornata):\n",
    "    link = 'https://leghe.fantacalcio.it/fantapalla-forever/formazioni/'+str(giornata)\n",
    "    driver.get(link)\n",
    "\n",
    "    all_punti = {}\n",
    "    for l in [2,3,4,5]:\n",
    "        name={}\n",
    "        punti={}\n",
    "        for k in [1,2]:\n",
    "            name[k] = driver.find_element_by_xpath(\"/html/body/div[7]/main/div[3]/div[2]/div[1]/div[1]/div/div[2]/div[\"+str(l)+\"]/div[1]/div[\"+str(k)+\"]/div/div[2]/h4\").text.upper()\n",
    "            punti[k] = driver.find_element_by_xpath(\"/html/body/div[7]/main/div[3]/div[2]/div[1]/div[1]/div/div[2]/div[\"+str(l)+\"]/div[2]/div[\"+str(k)+\"]/table[4]/tfoot/tr/td[2]/div\").text[:-7]\n",
    "        all_punti[name[1]]=punti[2]\n",
    "        all_punti[name[2]]=punti[1]\n",
    "            \n",
    "    return pd.DataFrame(data=all_punti,index = ['Fantapunti Subiti'])            "
   ]
  },
  {
   "cell_type": "code",
   "execution_count": 26,
   "metadata": {},
   "outputs": [
    {
     "data": {
      "text/html": [
       "<div>\n",
       "<style scoped>\n",
       "    .dataframe tbody tr th:only-of-type {\n",
       "        vertical-align: middle;\n",
       "    }\n",
       "\n",
       "    .dataframe tbody tr th {\n",
       "        vertical-align: top;\n",
       "    }\n",
       "\n",
       "    .dataframe thead th {\n",
       "        text-align: right;\n",
       "    }\n",
       "</style>\n",
       "<table border=\"1\" class=\"dataframe\">\n",
       "  <thead>\n",
       "    <tr style=\"text-align: right;\">\n",
       "      <th></th>\n",
       "      <th>AS 800A</th>\n",
       "      <th>PDG 1908</th>\n",
       "      <th>IGNORANZA EVERYWHERE</th>\n",
       "      <th>SOROS FC</th>\n",
       "      <th>MAINZ NA GIOIA</th>\n",
       "      <th>PALLA PAZZA</th>\n",
       "      <th>I DISEREDATI</th>\n",
       "      <th>XYZ</th>\n",
       "    </tr>\n",
       "  </thead>\n",
       "  <tbody>\n",
       "    <tr>\n",
       "      <th>Fantapunti Subiti</th>\n",
       "      <td>68.5</td>\n",
       "      <td>75.5</td>\n",
       "      <td>65.75</td>\n",
       "      <td>79</td>\n",
       "      <td>71.75</td>\n",
       "      <td>70.75</td>\n",
       "      <td>72.25</td>\n",
       "      <td>67.5</td>\n",
       "    </tr>\n",
       "  </tbody>\n",
       "</table>\n",
       "</div>"
      ],
      "text/plain": [
       "                  AS 800A PDG 1908 IGNORANZA EVERYWHERE SOROS FC  \\\n",
       "Fantapunti Subiti    68.5     75.5                65.75       79   \n",
       "\n",
       "                  MAINZ NA GIOIA PALLA PAZZA I DISEREDATI   XYZ  \n",
       "Fantapunti Subiti          71.75       70.75        72.25  67.5  "
      ]
     },
     "execution_count": 26,
     "metadata": {},
     "output_type": "execute_result"
    }
   ],
   "source": [
    "fantapunti_subiti(giornata=1)"
   ]
  },
  {
   "cell_type": "code",
   "execution_count": 10,
   "metadata": {},
   "outputs": [],
   "source": [
    "def storico_IG(giornata, dict_names, path = \"test_data/\"):\n",
    "\n",
    "    test_dict={\n",
    "        'enzo':{0:['gg','pf','ps','gs','c','pan','mod','inf','nome']},\n",
    "        'pietro':{0:['gg','pf','ps','gs','c','pan','mod','inf','nome']},\n",
    "        'mario':{0:['gg','pf','ps','gs','c','pan','mod','inf','nome']},\n",
    "        'federico':{0:['gg','pf','ps','gs','c','pan','mod','inf','nome']},\n",
    "        'francesco':{0:['gg','pf','ps','gs','c','pan','mod','inf','nome']},\n",
    "        'nanni':{0:['gg','pf','ps','gs','c','pan','mod','inf','nome']},\n",
    "        'emiliano':{0:['gg','pf','ps','gs','c','pan','mod','inf','nome']},\n",
    "        'luca':{0:['gg','pf','ps','gs','c','pan','mod','inf','nome']}}\n",
    "    for i in range(1,giornata+1):\n",
    "        G=pd.read_pickle(path+\"Giornata_\"+str(i)+\".pkl\")\n",
    "        for team, content in G.items():\n",
    "            test_dict[dict_names[team]][i] = [i, content[0], float(content[1]), content[2], content[3]+2*content[4], content[5], content[6], content[7], dict_names[team]]\n",
    "    return(test_dict)"
   ]
  },
  {
   "cell_type": "code",
   "execution_count": 11,
   "metadata": {},
   "outputs": [],
   "source": [
    "def storico_individuale(nome, giornata):\n",
    "    dict_names={\n",
    "    'AS 800A': 'enzo',\n",
    "    'PDG 1908': 'pietro',\n",
    "    'IGNORANZA EVERYWHERE': 'mario',\n",
    "    'SOROS FC': 'federico',\n",
    "    'MAINZ NA GIOIA': 'francesco',\n",
    "    'PALLA PAZZA': 'nanni',\n",
    "    'I DISEREDATI': 'emiliano',\n",
    "    'XYZ': 'luca'\n",
    "    }\n",
    "\n",
    "    test_dict = storico_IG(giornata, dict_names)\n",
    "    \n",
    "    df = pd.DataFrame(data=test_dict[nome]).T\n",
    "    new_header = df.iloc[0] #grab the first row for the header\n",
    "    df = df[1:] #take the data less the header row\n",
    "    df.columns = new_header\n",
    "    return df"
   ]
  },
  {
   "cell_type": "code",
   "execution_count": 12,
   "metadata": {},
   "outputs": [
    {
     "data": {
      "text/html": [
       "<div>\n",
       "<style scoped>\n",
       "    .dataframe tbody tr th:only-of-type {\n",
       "        vertical-align: middle;\n",
       "    }\n",
       "\n",
       "    .dataframe tbody tr th {\n",
       "        vertical-align: top;\n",
       "    }\n",
       "\n",
       "    .dataframe thead th {\n",
       "        text-align: right;\n",
       "    }\n",
       "</style>\n",
       "<table border=\"1\" class=\"dataframe\">\n",
       "  <thead>\n",
       "    <tr style=\"text-align: right;\">\n",
       "      <th></th>\n",
       "      <th>gg</th>\n",
       "      <th>pf</th>\n",
       "      <th>ps</th>\n",
       "      <th>gs</th>\n",
       "      <th>c</th>\n",
       "      <th>pan</th>\n",
       "      <th>mod</th>\n",
       "      <th>inf</th>\n",
       "      <th>nome</th>\n",
       "    </tr>\n",
       "  </thead>\n",
       "  <tbody>\n",
       "    <tr>\n",
       "      <th>1</th>\n",
       "      <td>1</td>\n",
       "      <td>68.5</td>\n",
       "      <td>75.5</td>\n",
       "      <td>2</td>\n",
       "      <td>1</td>\n",
       "      <td>35.25</td>\n",
       "      <td>0</td>\n",
       "      <td>5</td>\n",
       "      <td>pietro</td>\n",
       "    </tr>\n",
       "    <tr>\n",
       "      <th>2</th>\n",
       "      <td>2</td>\n",
       "      <td>68.5</td>\n",
       "      <td>75.5</td>\n",
       "      <td>2</td>\n",
       "      <td>1</td>\n",
       "      <td>35.25</td>\n",
       "      <td>0</td>\n",
       "      <td>5</td>\n",
       "      <td>pietro</td>\n",
       "    </tr>\n",
       "  </tbody>\n",
       "</table>\n",
       "</div>"
      ],
      "text/plain": [
       "0 gg    pf    ps gs  c    pan mod inf    nome\n",
       "1  1  68.5  75.5  2  1  35.25   0   5  pietro\n",
       "2  2  68.5  75.5  2  1  35.25   0   5  pietro"
      ]
     },
     "execution_count": 12,
     "metadata": {},
     "output_type": "execute_result"
    }
   ],
   "source": [
    "storico_individuale(nome = 'pietro', giornata = 2)"
   ]
  },
  {
   "cell_type": "code",
   "execution_count": 6,
   "metadata": {},
   "outputs": [
    {
     "data": {
      "text/plain": [
       "['AS 800A',\n",
       " 'PDG 1908',\n",
       " 'IGNORANZA EVERYWHERE',\n",
       " 'SOROS FC',\n",
       " 'MAINZ NA GIOIA',\n",
       " 'PALLA PAZZA',\n",
       " 'I DISEREDATI',\n",
       " 'XYZ']"
      ]
     },
     "execution_count": 6,
     "metadata": {},
     "output_type": "execute_result"
    }
   ],
   "source": [
    "list(dict_names.keys())"
   ]
  },
  {
   "cell_type": "code",
   "execution_count": 22,
   "metadata": {},
   "outputs": [],
   "source": []
  },
  {
   "cell_type": "code",
   "execution_count": 13,
   "metadata": {},
   "outputs": [],
   "source": [
    "#for el, el1 in inp.items():\n",
    "#    df = pd.DataFrame(columns = ['gg', 'pf', 'ps', 'gs', 'c', 'pan', 'mdif', 'inf', 'nome'])\n",
    "#    df.to_pickle('individual_data/'+str(dict_names[el])+'.pkl')\n",
    "    #giornata, punti fatti, punti subiti, gol subiti, cartellini, bonus in panchina, modificatore difesa, infortuni"
   ]
  },
  {
   "cell_type": "code",
   "execution_count": 20,
   "metadata": {},
   "outputs": [],
   "source": [
    "example = pd.read_pickle('individual_data/emiliano.pkl')"
   ]
  },
  {
   "cell_type": "code",
   "execution_count": 25,
   "metadata": {},
   "outputs": [],
   "source": [
    "for team, content in G1.items():\n",
    "    temp = 1"
   ]
  },
  {
   "cell_type": "code",
   "execution_count": 19,
   "metadata": {},
   "outputs": [
    {
     "data": {
      "text/plain": [
       "72.25"
      ]
     },
     "execution_count": 19,
     "metadata": {},
     "output_type": "execute_result"
    }
   ],
   "source": [
    "c['Fantapunti Fatti']"
   ]
  },
  {
   "cell_type": "code",
   "execution_count": 1,
   "metadata": {},
   "outputs": [
    {
     "data": {
      "text/plain": [
       "'/Users/lucaagozzino/opt/anaconda3/lib/python3.7/site-packages/matplotlib/mpl-data/matplotlibrc'"
      ]
     },
     "execution_count": 1,
     "metadata": {},
     "output_type": "execute_result"
    }
   ],
   "source": [
    "import matplotlib\n",
    "matplotlib.matplotlib_fname()"
   ]
  },
  {
   "cell_type": "code",
   "execution_count": 98,
   "metadata": {},
   "outputs": [],
   "source": [
    "import pandas as pd\n",
    "import numpy as np\n",
    "import matplotlib.pyplot as plt\n",
    "import seaborn as sns\n",
    "from IPython.display import display, HTML\n",
    "from matplotlib.patches import Patch\n",
    "\n",
    "#from crea_df import storico_individuale\n",
    "from matplotlib.offsetbox import OffsetImage,AnnotationBbox\n",
    "\n",
    "from matplotlib import rcParams\n",
    "# figure size in inches\n",
    "rcParams['figure.figsize'] = 11.7,8.27\n",
    "# Set the style globally\n",
    "plt.style.use('default')\n",
    "rcParams['font.family'] = 'sans-serif'\n",
    "rcParams['font.sans-serif'] = 'Exo 2'\n",
    "rcParams['font.weight'] = 500\n",
    "#rcParams['font.monospace'] = 'Ubuntu Mono'\n",
    "rcParams['font.size'] = 16\n",
    "rcParams['axes.labelsize'] = 16\n",
    "rcParams['axes.labelweight'] = 500\n",
    "rcParams['axes.titleweight'] = 600\n",
    "rcParams['axes.titlesize'] = 16\n",
    "rcParams['xtick.labelsize'] = 14\n",
    "rcParams['ytick.labelsize'] = 14\n",
    "rcParams['legend.fontsize'] = 12\n",
    "rcParams['figure.titlesize'] = 18\n",
    "\n",
    "import os"
   ]
  },
  {
   "cell_type": "code",
   "execution_count": 99,
   "metadata": {},
   "outputs": [
    {
     "data": {
      "image/png": "[encoded data removed]",
      "text/plain": [
       "<Figure size 640x480 with 1 Axes>"
      ]
     },
     "metadata": {},
     "output_type": "display_data"
    }
   ],
   "source": [
    "plt.plot([1,2,3],[3,4,5])\n",
    "plt.title('Prova')\n",
    "plt.show()"
   ]
  },
  {
   "cell_type": "code",
   "execution_count": 3,
   "metadata": {},
   "outputs": [
    {
     "ename": "NameError",
     "evalue": "name 'matplotlib' is not defined",
     "output_type": "error",
     "traceback": [
      "\u001b[0;31m---------------------------------------------------------------------------\u001b[0m",
      "\u001b[0;31mNameError\u001b[0m                                 Traceback (most recent call last)",
      "\u001b[0;32m<ipython-input-3-05ac67c20175>\u001b[0m in \u001b[0;36m<module>\u001b[0;34m\u001b[0m\n\u001b[0;32m----> 1\u001b[0;31m \u001b[0mmatplotlib\u001b[0m\u001b[0;34m.\u001b[0m\u001b[0mfont_manager\u001b[0m\u001b[0;34m.\u001b[0m\u001b[0m_rebuild\u001b[0m\u001b[0;34m(\u001b[0m\u001b[0;34m)\u001b[0m\u001b[0;34m\u001b[0m\u001b[0;34m\u001b[0m\u001b[0m\n\u001b[0m",
      "\u001b[0;31mNameError\u001b[0m: name 'matplotlib' is not defined"
     ]
    }
   ],
   "source": [
    "matplotlib.font_manager._rebuild()"
   ]
  },
  {
   "cell_type": "code",
   "execution_count": 2,
   "metadata": {},
   "outputs": [],
   "source": [
    "%matplotlib widget\n",
    "import ipywidgets as widgets\n",
    "import matplotlib.pyplot as plt\n",
    "import numpy as np"
   ]
  },
  {
   "cell_type": "code",
   "execution_count": 3,
   "metadata": {},
   "outputs": [
    {
     "data": {
      "application/vnd.jupyter.widget-view+json": {
       "model_id": "2640e649681244a8ace5d65a82e167f5",
       "version_major": 2,
       "version_minor": 0
      },
      "text/plain": [
       "interactive(children=(Dropdown(description='name', options=('Jim', 'Emma', 'Bond'), value='Jim'), Output()), _…"
      ]
     },
     "metadata": {},
     "output_type": "display_data"
    }
   ],
   "source": [
    "def say_my_name(name):\n",
    "    \"\"\"\n",
    "    Print the current widget value in short sentence\n",
    "    \"\"\"\n",
    "    print(f'My name is {name}')\n",
    "     \n",
    "widgets.interact(say_my_name, name=[\"Jim\", \"Emma\", \"Bond\"]);"
   ]
  },
  {
   "cell_type": "code",
   "execution_count": null,
   "metadata": {},
   "outputs": [],
   "source": []
  }
 ],
 "metadata": {
  "kernelspec": {
   "display_name": "Python 3",
   "language": "python",
   "name": "python3"
  },
  "language_info": {
   "codemirror_mode": {
    "name": "ipython",
    "version": 3
   },
   "file_extension": ".py",
   "mimetype": "text/x-python",
   "name": "python",
   "nbconvert_exporter": "python",
   "pygments_lexer": "ipython3",
   "version": "3.7.6"
  }
 },
 "nbformat": 4,
 "nbformat_minor": 4
}
