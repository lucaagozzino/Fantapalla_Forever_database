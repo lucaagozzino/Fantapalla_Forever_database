{
 "cells": [
  {
   "cell_type": "code",
   "execution_count": 5,
   "metadata": {},
   "outputs": [],
   "source": [
    "import matplotlib\n",
    "matplotlib.matplotlib_fname()\n",
    "%matplotlib widget\n",
    "import ipywidgets as widgets\n",
    "import matplotlib.pyplot as plt\n",
    "import numpy as np"
   ]
  },
  {
   "cell_type": "code",
   "execution_count": 6,
   "metadata": {},
   "outputs": [],
   "source": [
    "matplotlib.font_manager._rebuild()"
   ]
  },
  {
   "cell_type": "code",
   "execution_count": 1,
   "metadata": {},
   "outputs": [],
   "source": [
    "import progressbar"
   ]
  },
  {
   "cell_type": "code",
   "execution_count": 3,
   "metadata": {},
   "outputs": [
    {
     "data": {
      "application/vnd.jupyter.widget-view+json": {
       "model_id": "2640e649681244a8ace5d65a82e167f5",
       "version_major": 2,
       "version_minor": 0
      },
      "text/plain": [
       "interactive(children=(Dropdown(description='name', options=('Jim', 'Emma', 'Bond'), value='Jim'), Output()), _…"
      ]
     },
     "metadata": {},
     "output_type": "display_data"
    }
   ],
   "source": [
    "def say_my_name(name):\n",
    "    \"\"\"\n",
    "    Print the current widget value in short sentence\n",
    "    \"\"\"\n",
    "    print(f'My name is {name}')\n",
    "     \n",
    "widgets.interact(say_my_name, name=[\"Jim\", \"Emma\", \"Bond\"]);"
   ]
  },
  {
   "cell_type": "code",
   "execution_count": 9,
   "metadata": {},
   "outputs": [],
   "source": [
    "from selenium import webdriver\n",
    "from selenium.webdriver.chrome.options import Options\n",
    "import pandas as pd\n",
    "from selenium.common.exceptions import NoSuchElementException   \n",
    "import progressbar\n",
    "\n",
    "options = Options()\n",
    "options.headless = True\n",
    "options.add_argument(\"--window-size=1920,10200\") #this is important, to tell it how much of the webpage to import\n",
    "driver = webdriver.Chrome(options=options, executable_path=r'/usr/local/bin/chromedriver')\n"
   ]
  },
  {
   "cell_type": "code",
   "execution_count": 10,
   "metadata": {},
   "outputs": [],
   "source": [
    "from __future__ import print_function\n",
    "\n",
    "from selenium import webdriver\n",
    "from selenium.webdriver.chrome.options import Options\n",
    "import pandas as pd\n",
    "from selenium.common.exceptions import NoSuchElementException   \n",
    "import progressbar\n",
    "\n",
    "\n",
    "import pickle\n",
    "import os.path\n",
    "from googleapiclient.discovery import build\n",
    "from google_auth_oauthlib.flow import InstalledAppFlow\n",
    "from google.auth.transport.requests import Request"
   ]
  },
  {
   "cell_type": "code",
   "execution_count": 11,
   "metadata": {},
   "outputs": [],
   "source": [
    "def rose_complete():\n",
    "    SCOPES = ['https://www.googleapis.com/auth/spreadsheets.readonly']\n",
    "    \n",
    "    # The ID and range of a sample spreadsheet.\n",
    "    sheetId = '1uxUNBIjPzIJznquQ1rtHEiWE8iq_TNsJ3m9x8AAO0n0'\n",
    "    SAMPLE_SPREADSHEET_ID_input = sheetId #'1BxiMVs0XRA5nFMdKvBdBZjgmUUqptlbs74OgvE2upms'\n",
    "    SAMPLE_RANGE_NAME = 'ROSE!A1:P26'\n",
    "    \n",
    "    #global values_input, service\n",
    "    creds = None\n",
    "    if os.path.exists('token.pickle'):\n",
    "        with open('token.pickle', 'rb') as token:\n",
    "            creds = pickle.load(token)\n",
    "    if not creds or not creds.valid:\n",
    "        if creds and creds.expired and creds.refresh_token:\n",
    "            creds.refresh(Request())\n",
    "        else:\n",
    "            flow = InstalledAppFlow.from_client_secrets_file(\n",
    "                'my_json_file.json', SCOPES) # here enter the name of your downloaded JSON file\n",
    "            creds = flow.run_local_server(port=0)\n",
    "        with open('token.pickle', 'wb') as token:\n",
    "            pickle.dump(creds, token)\n",
    "\n",
    "    service = build('sheets', 'v4', credentials=creds)\n",
    "\n",
    "    # Call the Sheets API\n",
    "    sheet = service.spreadsheets()\n",
    "    result_input = sheet.values().get(spreadsheetId=SAMPLE_SPREADSHEET_ID_input,\n",
    "                                range=SAMPLE_RANGE_NAME).execute()\n",
    "    values_input = result_input.get('values', [])\n",
    "\n",
    "    if not values_input and not values_expansion:\n",
    "        print('No data found.')\n",
    "        \n",
    "    df=pd.DataFrame(values_input[1:], columns=values_input[0])\n",
    "    \n",
    "    return df"
   ]
  },
  {
   "cell_type": "code",
   "execution_count": 12,
   "metadata": {},
   "outputs": [],
   "source": [
    "def scarica_stats(stagione ='2020-21'):\n",
    "    data = pd.read_excel('http://www.fantacalcio.it/Servizi/Excel.ashx?type=2&r=1&t=1604259046000&s='+stagione,skiprows = [0])\n",
    "    data = data[data.Nome != 'Nome']\n",
    "    data = data.dropna()\n",
    "    data.index = list(range(len(data)))\n",
    "    return data"
   ]
  },
  {
   "cell_type": "code",
   "execution_count": 13,
   "metadata": {},
   "outputs": [],
   "source": [
    "def scarica_quot(stagione ='2020-21'):\n",
    "    data = pd.read_excel('http://www.fantacalcio.it//Servizi/Excel.ashx?type=0&r=1&t=1604293589000',skiprows = [0])\n",
    "    #data = data[data.Nome != 'Nome']\n",
    "    #data = data.dropna()\n",
    "    data.index = list(range(len(data)))\n",
    "    return data"
   ]
  },
  {
   "cell_type": "code",
   "execution_count": 14,
   "metadata": {},
   "outputs": [],
   "source": [
    "def personal_info(Name, database):\n",
    "    gioc = database[database.Nome == Name]\n",
    "    name = Name.replace(' ','-').lower()\n",
    "    Id = str(list(gioc['Id'])[0])\n",
    "    team = list(gioc['Squadra'])[0].lower()\n",
    "    link = 'https://www.fantacalcio.it/squadre/'+team+'/'+name+'/'+Id\n",
    "    driver.get(link)\n",
    "    string = driver.find_element_by_xpath(\"/html/body/div[7]/div[5]/main/div/div[2]/div/div/div[2]/div[2]/div[2]/div/div[2]/div/ul[1]/li[3]\")\n",
    "    classe = string.text[16:26]\n",
    "    eta = string.text[28:30]\n",
    "    \n",
    "    return classe, eta"
   ]
  },
  {
   "cell_type": "code",
   "execution_count": 18,
   "metadata": {},
   "outputs": [],
   "source": [
    "dict_names={\n",
    "    'AS 800A': 'enzo',\n",
    "    'PDG 1908': 'pietro',\n",
    "    'IGNORANZA EVERYWHERE': 'mario',\n",
    "    'SOROS FC': 'musci8',\n",
    "    'MAINZ NA GIOIA': 'franky',\n",
    "    'PALLA PAZZA': 'nanni',\n",
    "    'I DISEREDATI': 'emiliano',\n",
    "    'XYZ': 'luca',\n",
    "    'AS 800A - PRIMAVERA': 'enzo',\n",
    "    'PDG 1908 - PRIMAVERA': 'pietro',\n",
    "    'IGNORANZA EVERYWHERE - PRIMAVERA': 'mario',\n",
    "    'SOROS FC - PRIMAVERA': 'musci8',\n",
    "    'MAINZ NA GIOIA - PRIMAVERA': 'franky',\n",
    "    'PALLA PAZZA - PRIMAVERA': 'nanni',\n",
    "    'I DISEREDATI - PRIMAVERA': 'emiliano',\n",
    "    'XYZ - PRIMAVERA': 'luca'\n",
    "    }\n",
    "def stats_by_team(stagione ='2020-21', dic = dict_names, primavera = False, personal = False):\n",
    "    if primavera:\n",
    "        Rose = rose_complete() \n",
    "    else:\n",
    "        Rose = rose()\n",
    "    stats = scarica_stats(stagione)\n",
    "    nomi = list(stats.Nome)\n",
    "    stats.index = nomi\n",
    "    \n",
    "    quot = scarica_quot()\n",
    "    nomi_Q = list(quot.Nome)\n",
    "    quot.index = nomi_Q\n",
    "    \n",
    "    stats_teams = []\n",
    "    for team, df in Rose.items():\n",
    "        for name in df:\n",
    "            if name is None:\n",
    "                continue\n",
    "            elif len(name)<2:\n",
    "                continue\n",
    "            if personal:\n",
    "                classe, eta = personal_info(name, stats)\n",
    "                temp = list(stats.T[name]) + list(quot.T[name][4:7]) + [classe, eta] +[team, dic[team]]\n",
    "                col = list(stats.columns) + list(quot.columns)[4:7] + ['Classe', 'Eta\\''] +['Nome Squadra', 'Allenatore']\n",
    "            else:\n",
    "                temp = list(stats.T[name]) + list(quot.T[name][4:7]) + [team, dic[team]]\n",
    "                col = list(stats.columns) + list(quot.columns)[4:7] +['Nome Squadra', 'Allenatore']\n",
    "            stats_teams.append(temp)\n",
    "    return pd.DataFrame(data= stats_teams, columns = col)"
   ]
  },
  {
   "cell_type": "code",
   "execution_count": null,
   "metadata": {},
   "outputs": [],
   "source": []
  },
  {
   "cell_type": "code",
   "execution_count": 19,
   "metadata": {},
   "outputs": [],
   "source": [
    "ST = stats_by_team(primavera=True, personal=False)"
   ]
  },
  {
   "cell_type": "code",
   "execution_count": 22,
   "metadata": {},
   "outputs": [
    {
     "data": {
      "text/html": [
       "<div>\n",
       "<style scoped>\n",
       "    .dataframe tbody tr th:only-of-type {\n",
       "        vertical-align: middle;\n",
       "    }\n",
       "\n",
       "    .dataframe tbody tr th {\n",
       "        vertical-align: top;\n",
       "    }\n",
       "\n",
       "    .dataframe thead th {\n",
       "        text-align: right;\n",
       "    }\n",
       "</style>\n",
       "<table border=\"1\" class=\"dataframe\">\n",
       "  <thead>\n",
       "    <tr style=\"text-align: right;\">\n",
       "      <th></th>\n",
       "      <th>Id</th>\n",
       "      <th>R</th>\n",
       "      <th>Nome</th>\n",
       "      <th>Squadra</th>\n",
       "      <th>Pg</th>\n",
       "      <th>Mv</th>\n",
       "      <th>Mf</th>\n",
       "      <th>Gf</th>\n",
       "      <th>Gs</th>\n",
       "      <th>Rp</th>\n",
       "      <th>...</th>\n",
       "      <th>Ass</th>\n",
       "      <th>Asf</th>\n",
       "      <th>Amm</th>\n",
       "      <th>Esp</th>\n",
       "      <th>Au</th>\n",
       "      <th>Qt. A</th>\n",
       "      <th>Qt. I</th>\n",
       "      <th>Diff.</th>\n",
       "      <th>Nome Squadra</th>\n",
       "      <th>Allenatore</th>\n",
       "    </tr>\n",
       "  </thead>\n",
       "  <tbody>\n",
       "    <tr>\n",
       "      <th>0</th>\n",
       "      <td>2792</td>\n",
       "      <td>P</td>\n",
       "      <td>MUSSO</td>\n",
       "      <td>Udinese</td>\n",
       "      <td>4</td>\n",
       "      <td>5.88</td>\n",
       "      <td>4.38</td>\n",
       "      <td>0</td>\n",
       "      <td>6</td>\n",
       "      <td>0</td>\n",
       "      <td>...</td>\n",
       "      <td>0</td>\n",
       "      <td>0</td>\n",
       "      <td>0</td>\n",
       "      <td>0</td>\n",
       "      <td>0</td>\n",
       "      <td>10</td>\n",
       "      <td>11</td>\n",
       "      <td>-1</td>\n",
       "      <td>PDG 1908</td>\n",
       "      <td>pietro</td>\n",
       "    </tr>\n",
       "    <tr>\n",
       "      <th>1</th>\n",
       "      <td>1917</td>\n",
       "      <td>P</td>\n",
       "      <td>DRAGOWSKI</td>\n",
       "      <td>Fiorentina</td>\n",
       "      <td>6</td>\n",
       "      <td>6.25</td>\n",
       "      <td>4.25</td>\n",
       "      <td>0</td>\n",
       "      <td>12</td>\n",
       "      <td>0</td>\n",
       "      <td>...</td>\n",
       "      <td>0</td>\n",
       "      <td>0</td>\n",
       "      <td>0</td>\n",
       "      <td>0</td>\n",
       "      <td>0</td>\n",
       "      <td>10</td>\n",
       "      <td>12</td>\n",
       "      <td>-2</td>\n",
       "      <td>PDG 1908</td>\n",
       "      <td>pietro</td>\n",
       "    </tr>\n",
       "    <tr>\n",
       "      <th>2</th>\n",
       "      <td>4957</td>\n",
       "      <td>P</td>\n",
       "      <td>MONTIPO'</td>\n",
       "      <td>Benevento</td>\n",
       "      <td>5</td>\n",
       "      <td>5.60</td>\n",
       "      <td>2.80</td>\n",
       "      <td>0</td>\n",
       "      <td>14</td>\n",
       "      <td>0</td>\n",
       "      <td>...</td>\n",
       "      <td>0</td>\n",
       "      <td>0</td>\n",
       "      <td>0</td>\n",
       "      <td>0</td>\n",
       "      <td>0</td>\n",
       "      <td>6</td>\n",
       "      <td>7</td>\n",
       "      <td>-1</td>\n",
       "      <td>PDG 1908</td>\n",
       "      <td>pietro</td>\n",
       "    </tr>\n",
       "    <tr>\n",
       "      <th>3</th>\n",
       "      <td>1852</td>\n",
       "      <td>D</td>\n",
       "      <td>SPINAZZOLA</td>\n",
       "      <td>Roma</td>\n",
       "      <td>6</td>\n",
       "      <td>6.42</td>\n",
       "      <td>6.92</td>\n",
       "      <td>1</td>\n",
       "      <td>0</td>\n",
       "      <td>0</td>\n",
       "      <td>...</td>\n",
       "      <td>0</td>\n",
       "      <td>0</td>\n",
       "      <td>0</td>\n",
       "      <td>0</td>\n",
       "      <td>0</td>\n",
       "      <td>11</td>\n",
       "      <td>10</td>\n",
       "      <td>1</td>\n",
       "      <td>PDG 1908</td>\n",
       "      <td>pietro</td>\n",
       "    </tr>\n",
       "    <tr>\n",
       "      <th>4</th>\n",
       "      <td>798</td>\n",
       "      <td>D</td>\n",
       "      <td>SKRINIAR</td>\n",
       "      <td>Inter</td>\n",
       "      <td>2</td>\n",
       "      <td>6.00</td>\n",
       "      <td>6.00</td>\n",
       "      <td>0</td>\n",
       "      <td>0</td>\n",
       "      <td>0</td>\n",
       "      <td>...</td>\n",
       "      <td>0</td>\n",
       "      <td>0</td>\n",
       "      <td>0</td>\n",
       "      <td>0</td>\n",
       "      <td>0</td>\n",
       "      <td>7</td>\n",
       "      <td>8</td>\n",
       "      <td>-1</td>\n",
       "      <td>PDG 1908</td>\n",
       "      <td>pietro</td>\n",
       "    </tr>\n",
       "    <tr>\n",
       "      <th>...</th>\n",
       "      <td>...</td>\n",
       "      <td>...</td>\n",
       "      <td>...</td>\n",
       "      <td>...</td>\n",
       "      <td>...</td>\n",
       "      <td>...</td>\n",
       "      <td>...</td>\n",
       "      <td>...</td>\n",
       "      <td>...</td>\n",
       "      <td>...</td>\n",
       "      <td>...</td>\n",
       "      <td>...</td>\n",
       "      <td>...</td>\n",
       "      <td>...</td>\n",
       "      <td>...</td>\n",
       "      <td>...</td>\n",
       "      <td>...</td>\n",
       "      <td>...</td>\n",
       "      <td>...</td>\n",
       "      <td>...</td>\n",
       "      <td>...</td>\n",
       "    </tr>\n",
       "    <tr>\n",
       "      <th>267</th>\n",
       "      <td>2195</td>\n",
       "      <td>A</td>\n",
       "      <td>OUNAS</td>\n",
       "      <td>Cagliari</td>\n",
       "      <td>3</td>\n",
       "      <td>6.25</td>\n",
       "      <td>6.25</td>\n",
       "      <td>0</td>\n",
       "      <td>0</td>\n",
       "      <td>0</td>\n",
       "      <td>...</td>\n",
       "      <td>0</td>\n",
       "      <td>0</td>\n",
       "      <td>0</td>\n",
       "      <td>0</td>\n",
       "      <td>0</td>\n",
       "      <td>5</td>\n",
       "      <td>5</td>\n",
       "      <td>0</td>\n",
       "      <td>IGNORANZA EVERYWHERE - PRIMAVERA</td>\n",
       "      <td>mario</td>\n",
       "    </tr>\n",
       "    <tr>\n",
       "      <th>268</th>\n",
       "      <td>4324</td>\n",
       "      <td>A</td>\n",
       "      <td>OKAKA</td>\n",
       "      <td>Udinese</td>\n",
       "      <td>6</td>\n",
       "      <td>5.83</td>\n",
       "      <td>6.92</td>\n",
       "      <td>2</td>\n",
       "      <td>0</td>\n",
       "      <td>0</td>\n",
       "      <td>...</td>\n",
       "      <td>1</td>\n",
       "      <td>0</td>\n",
       "      <td>1</td>\n",
       "      <td>0</td>\n",
       "      <td>0</td>\n",
       "      <td>16</td>\n",
       "      <td>15</td>\n",
       "      <td>1</td>\n",
       "      <td>IGNORANZA EVERYWHERE - PRIMAVERA</td>\n",
       "      <td>mario</td>\n",
       "    </tr>\n",
       "    <tr>\n",
       "      <th>269</th>\n",
       "      <td>475</td>\n",
       "      <td>A</td>\n",
       "      <td>IAGO FALQUE</td>\n",
       "      <td>Benevento</td>\n",
       "      <td>2</td>\n",
       "      <td>5.25</td>\n",
       "      <td>5.25</td>\n",
       "      <td>0</td>\n",
       "      <td>0</td>\n",
       "      <td>0</td>\n",
       "      <td>...</td>\n",
       "      <td>0</td>\n",
       "      <td>0</td>\n",
       "      <td>0</td>\n",
       "      <td>0</td>\n",
       "      <td>0</td>\n",
       "      <td>12</td>\n",
       "      <td>14</td>\n",
       "      <td>-2</td>\n",
       "      <td>IGNORANZA EVERYWHERE - PRIMAVERA</td>\n",
       "      <td>mario</td>\n",
       "    </tr>\n",
       "    <tr>\n",
       "      <th>270</th>\n",
       "      <td>2155</td>\n",
       "      <td>A</td>\n",
       "      <td>CUTRONE</td>\n",
       "      <td>Fiorentina</td>\n",
       "      <td>6</td>\n",
       "      <td>5.67</td>\n",
       "      <td>5.67</td>\n",
       "      <td>0</td>\n",
       "      <td>0</td>\n",
       "      <td>0</td>\n",
       "      <td>...</td>\n",
       "      <td>0</td>\n",
       "      <td>0</td>\n",
       "      <td>0</td>\n",
       "      <td>0</td>\n",
       "      <td>0</td>\n",
       "      <td>11</td>\n",
       "      <td>12</td>\n",
       "      <td>-1</td>\n",
       "      <td>IGNORANZA EVERYWHERE - PRIMAVERA</td>\n",
       "      <td>mario</td>\n",
       "    </tr>\n",
       "    <tr>\n",
       "      <th>271</th>\n",
       "      <td>1958</td>\n",
       "      <td>A</td>\n",
       "      <td>CAPRARI</td>\n",
       "      <td>Benevento</td>\n",
       "      <td>5</td>\n",
       "      <td>6.20</td>\n",
       "      <td>8.10</td>\n",
       "      <td>3</td>\n",
       "      <td>0</td>\n",
       "      <td>0</td>\n",
       "      <td>...</td>\n",
       "      <td>0</td>\n",
       "      <td>1</td>\n",
       "      <td>1</td>\n",
       "      <td>0</td>\n",
       "      <td>0</td>\n",
       "      <td>14</td>\n",
       "      <td>11</td>\n",
       "      <td>3</td>\n",
       "      <td>IGNORANZA EVERYWHERE - PRIMAVERA</td>\n",
       "      <td>mario</td>\n",
       "    </tr>\n",
       "  </tbody>\n",
       "</table>\n",
       "<p>272 rows × 23 columns</p>\n",
       "</div>"
      ],
      "text/plain": [
       "       Id  R         Nome     Squadra  Pg    Mv    Mf  Gf  Gs  Rp  ...  Ass  \\\n",
       "0    2792  P        MUSSO     Udinese   4  5.88  4.38   0   6   0  ...    0   \n",
       "1    1917  P    DRAGOWSKI  Fiorentina   6  6.25  4.25   0  12   0  ...    0   \n",
       "2    4957  P     MONTIPO'   Benevento   5  5.60  2.80   0  14   0  ...    0   \n",
       "3    1852  D   SPINAZZOLA        Roma   6  6.42  6.92   1   0   0  ...    0   \n",
       "4     798  D     SKRINIAR       Inter   2  6.00  6.00   0   0   0  ...    0   \n",
       "..    ... ..          ...         ...  ..   ...   ...  ..  ..  ..  ...  ...   \n",
       "267  2195  A        OUNAS    Cagliari   3  6.25  6.25   0   0   0  ...    0   \n",
       "268  4324  A        OKAKA     Udinese   6  5.83  6.92   2   0   0  ...    1   \n",
       "269   475  A  IAGO FALQUE   Benevento   2  5.25  5.25   0   0   0  ...    0   \n",
       "270  2155  A      CUTRONE  Fiorentina   6  5.67  5.67   0   0   0  ...    0   \n",
       "271  1958  A      CAPRARI   Benevento   5  6.20  8.10   3   0   0  ...    0   \n",
       "\n",
       "     Asf  Amm  Esp  Au  Qt. A  Qt. I  Diff.                      Nome Squadra  \\\n",
       "0      0    0    0   0     10     11     -1                          PDG 1908   \n",
       "1      0    0    0   0     10     12     -2                          PDG 1908   \n",
       "2      0    0    0   0      6      7     -1                          PDG 1908   \n",
       "3      0    0    0   0     11     10      1                          PDG 1908   \n",
       "4      0    0    0   0      7      8     -1                          PDG 1908   \n",
       "..   ...  ...  ...  ..    ...    ...    ...                               ...   \n",
       "267    0    0    0   0      5      5      0  IGNORANZA EVERYWHERE - PRIMAVERA   \n",
       "268    0    1    0   0     16     15      1  IGNORANZA EVERYWHERE - PRIMAVERA   \n",
       "269    0    0    0   0     12     14     -2  IGNORANZA EVERYWHERE - PRIMAVERA   \n",
       "270    0    0    0   0     11     12     -1  IGNORANZA EVERYWHERE - PRIMAVERA   \n",
       "271    1    1    0   0     14     11      3  IGNORANZA EVERYWHERE - PRIMAVERA   \n",
       "\n",
       "     Allenatore  \n",
       "0        pietro  \n",
       "1        pietro  \n",
       "2        pietro  \n",
       "3        pietro  \n",
       "4        pietro  \n",
       "..          ...  \n",
       "267       mario  \n",
       "268       mario  \n",
       "269       mario  \n",
       "270       mario  \n",
       "271       mario  \n",
       "\n",
       "[272 rows x 23 columns]"
      ]
     },
     "execution_count": 22,
     "metadata": {},
     "output_type": "execute_result"
    }
   ],
   "source": [
    "ST = stats_by_team(primavera = True)\n",
    "ST"
   ]
  },
  {
   "cell_type": "code",
   "execution_count": 23,
   "metadata": {},
   "outputs": [],
   "source": [
    "gioc = ST[ST.Nome=='MARTINEZ L.']"
   ]
  },
  {
   "cell_type": "code",
   "execution_count": 24,
   "metadata": {},
   "outputs": [],
   "source": [
    "name = list(gioc['Nome'])[0]\n",
    "name = name.replace(' ','-').lower()\n",
    "Id = str(list(gioc['Id'])[0])\n",
    "team = list(gioc['Squadra'])[0].lower()"
   ]
  },
  {
   "cell_type": "code",
   "execution_count": 25,
   "metadata": {},
   "outputs": [
    {
     "data": {
      "text/plain": [
       "'martinez-l.'"
      ]
     },
     "execution_count": 25,
     "metadata": {},
     "output_type": "execute_result"
    }
   ],
   "source": [
    "name"
   ]
  },
  {
   "cell_type": "code",
   "execution_count": 26,
   "metadata": {},
   "outputs": [
    {
     "data": {
      "text/plain": [
       "'2764'"
      ]
     },
     "execution_count": 26,
     "metadata": {},
     "output_type": "execute_result"
    }
   ],
   "source": [
    "Id"
   ]
  },
  {
   "cell_type": "code",
   "execution_count": 27,
   "metadata": {},
   "outputs": [
    {
     "data": {
      "text/plain": [
       "'inter'"
      ]
     },
     "execution_count": 27,
     "metadata": {},
     "output_type": "execute_result"
    }
   ],
   "source": [
    "team"
   ]
  },
  {
   "cell_type": "code",
   "execution_count": 28,
   "metadata": {},
   "outputs": [],
   "source": [
    "link = 'https://www.fantacalcio.it/squadre/'+team+'/'+name+'/'+Id"
   ]
  },
  {
   "cell_type": "code",
   "execution_count": 29,
   "metadata": {},
   "outputs": [
    {
     "data": {
      "text/plain": [
       "'https://www.fantacalcio.it/squadre/inter/martinez-l./2764'"
      ]
     },
     "execution_count": 29,
     "metadata": {},
     "output_type": "execute_result"
    }
   ],
   "source": [
    "link"
   ]
  },
  {
   "cell_type": "code",
   "execution_count": 41,
   "metadata": {},
   "outputs": [],
   "source": [
    "def personal_info(Name, database = stats_by_team(primavera = True)):\n",
    "    gioc = database[database.Nome == Name]\n",
    "    name = Name.replace(' ','-').lower()\n",
    "    Id = str(list(gioc['Id'])[0])\n",
    "    team = list(gioc['Squadra'])[0].lower()\n",
    "    link = 'https://www.fantacalcio.it/squadre/'+team+'/'+name+'/'+Id\n",
    "    driver.get(link)\n",
    "    string = driver.find_element_by_xpath(\"/html/body/div[7]/div[5]/main/div/div[2]/div/div/div[2]/div[2]/div[2]/div/div[2]/div/ul[1]/li[3]\")\n",
    "    classe = string.text[16:26]\n",
    "    eta = string.text[28:30]\n",
    "    \n",
    "    return classe, eta\n"
   ]
  },
  {
   "cell_type": "code",
   "execution_count": 43,
   "metadata": {},
   "outputs": [
    {
     "data": {
      "text/plain": [
       "('06/05/1994', '26')"
      ]
     },
     "execution_count": 43,
     "metadata": {},
     "output_type": "execute_result"
    }
   ],
   "source": [
    "personal_info('MUSSO', scarica_stats())"
   ]
  },
  {
   "cell_type": "code",
   "execution_count": 35,
   "metadata": {},
   "outputs": [],
   "source": [
    "gioc = ST[ST.Nome == 'MARTINEZ L.']\n",
    "Name = list(gioc['Nome'])[0]\n",
    "name = Name.replace(' ','-').lower()\n",
    "Id = str(list(gioc['Id'])[0])\n",
    "team = list(gioc['Squadra'])[0].lower()\n",
    "link = 'https://www.fantacalcio.it/squadre/'+team+'/'+name+'/'+Id\n",
    "driver.get(link)\n",
    "string = driver.find_element_by_xpath(\"/html/body/div[7]/div[5]/main/div/div[2]/div/div/div[2]/div[2]/div[2]/div/div[2]/div/ul[1]\")"
   ]
  },
  {
   "cell_type": "code",
   "execution_count": 38,
   "metadata": {},
   "outputs": [],
   "source": [
    "full_name = string.text[3:5]"
   ]
  },
  {
   "cell_type": "code",
   "execution_count": 40,
   "metadata": {},
   "outputs": [
    {
     "data": {
      "text/plain": [
       "'Nome\\nMartinez Lautaro\\nNazionalità\\nArgentina\\nData di nascita\\n22/08/1997 (23)\\nAltezza\\n174 cm\\nPeso\\nn.d.'"
      ]
     },
     "execution_count": 40,
     "metadata": {},
     "output_type": "execute_result"
    }
   ],
   "source": [
    "string.text"
   ]
  },
  {
   "cell_type": "code",
   "execution_count": null,
   "metadata": {},
   "outputs": [],
   "source": []
  }
 ],
 "metadata": {
  "kernelspec": {
   "display_name": "Python 3",
   "language": "python",
   "name": "python3"
  },
  "language_info": {
   "codemirror_mode": {
    "name": "ipython",
    "version": 3
   },
   "file_extension": ".py",
   "mimetype": "text/x-python",
   "name": "python",
   "nbconvert_exporter": "python",
   "pygments_lexer": "ipython3",
   "version": "3.7.6"
  }
 },
 "nbformat": 4,
 "nbformat_minor": 4
}
