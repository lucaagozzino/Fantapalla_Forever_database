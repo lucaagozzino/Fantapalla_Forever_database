{
 "cells": [
  {
   "cell_type": "code",
   "execution_count": 4,
   "metadata": {},
   "outputs": [],
   "source": [
    "#test github 1\n",
    "import numpy as np\n",
    "import pandas as pd\n",
    "from Utilities_fantapalla import main_model, names\n",
    "\n",
    "quotazioni = pd.read_csv ('Quotazioni_Fantacalcio.csv')\n",
    "# il file quotazioni contiene la lista dei giocatori direttamente da fantacalcio.it, che non ha i dati \n",
    "# perfettamente aggiornati alcuni giocatori sono gia' fuori (tipo higuahin) o infortunati (tipo zaniolo), \n",
    "# quindi dobbiamo rimuovere a mano quelli che non ci interessano \n",
    "path_voti = 'Voti_giornate/'\n",
    "rows_to_skip=[0,1,2,3,4]\n",
    "# i voti sono quelli delle 38 giornate del campionato 2019/2020\n",
    "\n",
    "# quanti campionati simulare\n",
    "N_campionati = 1"
   ]
  },
  {
   "cell_type": "code",
   "execution_count": 5,
   "metadata": {},
   "outputs": [],
   "source": [
    "# struttura della rosa [por, dif, cen, att]\n",
    "struttura_rosa = np.array([3, 8, 8, 6])\n",
    "\n",
    "# quali formazioni sono permesse\n",
    "formazioni = {\n",
    "    '352': [1, 3, 5, 2],\n",
    "    '343': [1, 3, 4, 3],\n",
    "    '442': [1, 4, 4, 2],\n",
    "    '541': [1, 5, 4, 1],\n",
    "    '532': [1, 5, 3, 2],\n",
    "    '433': [1, 4, 3, 3]\n",
    "    #aggiungere tutte le altre formazioni\n",
    "}\n",
    "fasce_goal = np.array([66,  70,  84,  88,  92,  96, 100])\n",
    "fasce_modificatore = np.array([6. , 6.5, 7. , 7.5, 8. ])\n",
    "valori_modificatore = np.array([1, 3, 5, 6, 8])\n",
    "\n",
    "N_squadre = 8\n",
    "\n",
    "[teams, team_names] = names(N_squadre)"
   ]
  },
  {
   "cell_type": "code",
   "execution_count": 3,
   "metadata": {},
   "outputs": [
    {
     "name": "stdout",
     "output_type": "stream",
     "text": [
      "Campionato attuale:16\r"
     ]
    },
    {
     "ename": "KeyboardInterrupt",
     "evalue": "",
     "output_type": "error",
     "traceback": [
      "\u001b[0;31m---------------------------------------------------------------------------\u001b[0m",
      "\u001b[0;31mKeyboardInterrupt\u001b[0m                         Traceback (most recent call last)",
      "\u001b[0;32m<ipython-input-3-6efbb670ad9b>\u001b[0m in \u001b[0;36m<module>\u001b[0;34m\u001b[0m\n\u001b[0;32m----> 1\u001b[0;31m \u001b[0mrose_best\u001b[0m\u001b[0;34m,\u001b[0m \u001b[0mclassifica_best\u001b[0m\u001b[0;34m,\u001b[0m \u001b[0mclassifica_q_best\u001b[0m \u001b[0;34m=\u001b[0m \u001b[0mmain_model\u001b[0m\u001b[0;34m(\u001b[0m\u001b[0;36m50\u001b[0m\u001b[0;34m,\u001b[0m \u001b[0mstruttura_rosa\u001b[0m\u001b[0;34m,\u001b[0m \u001b[0mteam_names\u001b[0m\u001b[0;34m,\u001b[0m \u001b[0mteams\u001b[0m\u001b[0;34m,\u001b[0m \u001b[0mquotazioni\u001b[0m\u001b[0;34m,\u001b[0m \u001b[0mpath_voti\u001b[0m\u001b[0;34m,\u001b[0m \u001b[0mN_squadre\u001b[0m\u001b[0;34m,\u001b[0m \u001b[0mvalori_modificatore\u001b[0m\u001b[0;34m,\u001b[0m \u001b[0mfasce_modificatore\u001b[0m\u001b[0;34m,\u001b[0m \u001b[0mfasce_goal\u001b[0m\u001b[0;34m,\u001b[0m \u001b[0mformazioni\u001b[0m\u001b[0;34m)\u001b[0m\u001b[0;34m\u001b[0m\u001b[0;34m\u001b[0m\u001b[0m\n\u001b[0m",
      "\u001b[0;32m~/Desktop/Fantacalcio/Utilities_fantapalla.py\u001b[0m in \u001b[0;36mmain_model\u001b[0;34m(n_campionati, struttura_rosa, team_names, teams, quotazioni, path, num_squadre, valori, fasce, fasce_goal, formazioni)\u001b[0m\n\u001b[1;32m    319\u001b[0m     \u001b[0;32mfor\u001b[0m \u001b[0mi\u001b[0m \u001b[0;32min\u001b[0m \u001b[0mrange\u001b[0m\u001b[0;34m(\u001b[0m\u001b[0mn_campionati\u001b[0m\u001b[0;34m)\u001b[0m\u001b[0;34m:\u001b[0m\u001b[0;34m\u001b[0m\u001b[0;34m\u001b[0m\u001b[0m\n\u001b[1;32m    320\u001b[0m         \u001b[0mprint\u001b[0m\u001b[0;34m(\u001b[0m\u001b[0;34m'Campionato attuale:'\u001b[0m \u001b[0;34mf'{i+1}\\r'\u001b[0m\u001b[0;34m,\u001b[0m \u001b[0mend\u001b[0m\u001b[0;34m=\u001b[0m\u001b[0;34m\"\"\u001b[0m\u001b[0;34m)\u001b[0m\u001b[0;34m\u001b[0m\u001b[0;34m\u001b[0m\u001b[0m\n\u001b[0;32m--> 321\u001b[0;31m         \u001b[0mclassifica\u001b[0m\u001b[0;34m,\u001b[0m \u001b[0mrose\u001b[0m\u001b[0;34m,\u001b[0m \u001b[0mrose_id\u001b[0m\u001b[0;34m=\u001b[0m \u001b[0msimula_campionato\u001b[0m\u001b[0;34m(\u001b[0m\u001b[0mstruttura_rosa\u001b[0m\u001b[0;34m,\u001b[0m \u001b[0mteam_names\u001b[0m\u001b[0;34m,\u001b[0m \u001b[0mteams\u001b[0m\u001b[0;34m,\u001b[0m \u001b[0mquotazioni\u001b[0m\u001b[0;34m,\u001b[0m \u001b[0mpath\u001b[0m\u001b[0;34m,\u001b[0m \u001b[0mnum_squadre\u001b[0m\u001b[0;34m,\u001b[0m \u001b[0mvalori\u001b[0m\u001b[0;34m,\u001b[0m \u001b[0mfasce\u001b[0m\u001b[0;34m,\u001b[0m \u001b[0mfasce_goal\u001b[0m\u001b[0;34m,\u001b[0m \u001b[0mformazioni\u001b[0m\u001b[0;34m)\u001b[0m\u001b[0;34m\u001b[0m\u001b[0;34m\u001b[0m\u001b[0m\n\u001b[0m\u001b[1;32m    322\u001b[0m         \u001b[0mquot_dict\u001b[0m \u001b[0;34m=\u001b[0m \u001b[0mall_quot_dict\u001b[0m\u001b[0;34m(\u001b[0m\u001b[0mstruttura_rosa\u001b[0m\u001b[0;34m,\u001b[0m \u001b[0mquotazioni\u001b[0m\u001b[0;34m,\u001b[0m \u001b[0mnum_squadre\u001b[0m\u001b[0;34m)\u001b[0m\u001b[0;34m\u001b[0m\u001b[0;34m\u001b[0m\u001b[0m\n\u001b[1;32m    323\u001b[0m         \u001b[0mclassifica_quot\u001b[0m \u001b[0;34m=\u001b[0m \u001b[0massign_quot\u001b[0m\u001b[0;34m(\u001b[0m\u001b[0mrose_id\u001b[0m\u001b[0;34m,\u001b[0m \u001b[0mquot_dict\u001b[0m\u001b[0;34m,\u001b[0m \u001b[0mteam_names\u001b[0m\u001b[0;34m)\u001b[0m\u001b[0;34m\u001b[0m\u001b[0;34m\u001b[0m\u001b[0m\n",
      "\u001b[0;32m~/Desktop/Fantacalcio/Utilities_fantapalla.py\u001b[0m in \u001b[0;36msimula_campionato\u001b[0;34m(struttura_rosa, team_names, teams, quotazioni, path, num_squadre, valori, fasce, fasce_goal, formazioni)\u001b[0m\n\u001b[1;32m    299\u001b[0m         \u001b[0mvoti_giornata\u001b[0m \u001b[0;34m=\u001b[0m \u001b[0mpd\u001b[0m\u001b[0;34m.\u001b[0m\u001b[0mread_excel\u001b[0m\u001b[0;34m(\u001b[0m\u001b[0mfilename\u001b[0m\u001b[0;34m,\u001b[0m\u001b[0msheet_name\u001b[0m\u001b[0;34m=\u001b[0m\u001b[0;36m0\u001b[0m\u001b[0;34m,\u001b[0m\u001b[0mskiprows\u001b[0m\u001b[0;34m=\u001b[0m\u001b[0mrows_to_skip\u001b[0m\u001b[0;34m)\u001b[0m\u001b[0;34m\u001b[0m\u001b[0;34m\u001b[0m\u001b[0m\n\u001b[1;32m    300\u001b[0m         \u001b[0mfixtures\u001b[0m \u001b[0;34m=\u001b[0m \u001b[0mfixture_gen\u001b[0m\u001b[0;34m(\u001b[0m\u001b[0mteams\u001b[0m\u001b[0;34m)\u001b[0m\u001b[0;34m\u001b[0m\u001b[0;34m\u001b[0m\u001b[0m\n\u001b[0;32m--> 301\u001b[0;31m         \u001b[0mdict_voti_giornata\u001b[0m \u001b[0;34m=\u001b[0m \u001b[0mall_grades_dict\u001b[0m\u001b[0;34m(\u001b[0m\u001b[0mstruttura_rosa\u001b[0m\u001b[0;34m,\u001b[0m \u001b[0mquotazioni\u001b[0m\u001b[0;34m,\u001b[0m \u001b[0mvoti_giornata\u001b[0m\u001b[0;34m,\u001b[0m \u001b[0mnum_squadre\u001b[0m\u001b[0;34m)\u001b[0m\u001b[0;34m\u001b[0m\u001b[0;34m\u001b[0m\u001b[0m\n\u001b[0m\u001b[1;32m    302\u001b[0m         \u001b[0mvoti_squadre\u001b[0m \u001b[0;34m=\u001b[0m \u001b[0mvoti_max\u001b[0m\u001b[0;34m(\u001b[0m\u001b[0mrose\u001b[0m\u001b[0;34m,\u001b[0m \u001b[0mstruttura_rosa\u001b[0m\u001b[0;34m,\u001b[0m \u001b[0mformazioni\u001b[0m\u001b[0;34m,\u001b[0m \u001b[0mdict_voti_giornata\u001b[0m\u001b[0;34m,\u001b[0m \u001b[0mteams\u001b[0m\u001b[0;34m,\u001b[0m \u001b[0mnum_squadre\u001b[0m\u001b[0;34m,\u001b[0m \u001b[0mvalori\u001b[0m\u001b[0;34m,\u001b[0m \u001b[0mfasce\u001b[0m\u001b[0;34m)\u001b[0m\u001b[0;34m\u001b[0m\u001b[0;34m\u001b[0m\u001b[0m\n\u001b[1;32m    303\u001b[0m         \u001b[0mpunti\u001b[0m \u001b[0;34m=\u001b[0m \u001b[0mpd\u001b[0m\u001b[0;34m.\u001b[0m\u001b[0mDataFrame\u001b[0m\u001b[0;34m.\u001b[0m\u001b[0mfrom_dict\u001b[0m\u001b[0;34m(\u001b[0m\u001b[0mpoints\u001b[0m\u001b[0;34m(\u001b[0m\u001b[0mfixtures\u001b[0m\u001b[0;34m,\u001b[0m \u001b[0mvoti_squadre\u001b[0m\u001b[0;34m,\u001b[0m \u001b[0mfasce_goal\u001b[0m\u001b[0;34m)\u001b[0m\u001b[0;34m,\u001b[0m\u001b[0morient\u001b[0m\u001b[0;34m=\u001b[0m\u001b[0;34m'index'\u001b[0m\u001b[0;34m)\u001b[0m\u001b[0;34m\u001b[0m\u001b[0;34m\u001b[0m\u001b[0m\n",
      "\u001b[0;32m~/Desktop/Fantacalcio/Utilities_fantapalla.py\u001b[0m in \u001b[0;36mall_grades_dict\u001b[0;34m(struttura_rosa, quotazioni, voti_giornata, num_squadre)\u001b[0m\n\u001b[1;32m    164\u001b[0m             \u001b[0;32mcontinue\u001b[0m\u001b[0;34m\u001b[0m\u001b[0;34m\u001b[0m\u001b[0m\n\u001b[1;32m    165\u001b[0m         \u001b[0;32mfor\u001b[0m \u001b[0mj\u001b[0m \u001b[0;32min\u001b[0m \u001b[0mrange\u001b[0m\u001b[0;34m(\u001b[0m\u001b[0;36m1\u001b[0m\u001b[0;34m,\u001b[0m\u001b[0mlen\u001b[0m\u001b[0;34m(\u001b[0m\u001b[0mplayers\u001b[0m\u001b[0;34m[\u001b[0m\u001b[0;34m'My Id'\u001b[0m\u001b[0;34m]\u001b[0m\u001b[0;34m)\u001b[0m\u001b[0;34m+\u001b[0m\u001b[0;36m1\u001b[0m\u001b[0;34m)\u001b[0m\u001b[0;34m:\u001b[0m\u001b[0;34m\u001b[0m\u001b[0;34m\u001b[0m\u001b[0m\n\u001b[0;32m--> 166\u001b[0;31m             \u001b[0;32mif\u001b[0m \u001b[0mplayers\u001b[0m\u001b[0;34m[\u001b[0m\u001b[0;34m'FC Id'\u001b[0m\u001b[0;34m]\u001b[0m\u001b[0;34m[\u001b[0m\u001b[0mj\u001b[0m\u001b[0;34m]\u001b[0m \u001b[0;34m==\u001b[0m \u001b[0mnp\u001b[0m\u001b[0;34m.\u001b[0m\u001b[0mfloat\u001b[0m\u001b[0;34m(\u001b[0m\u001b[0mvoti_giornata\u001b[0m\u001b[0;34m[\u001b[0m\u001b[0;34m'Cod.'\u001b[0m\u001b[0;34m]\u001b[0m\u001b[0;34m[\u001b[0m\u001b[0mk\u001b[0m\u001b[0;34m]\u001b[0m\u001b[0;34m)\u001b[0m\u001b[0;34m:\u001b[0m\u001b[0;34m\u001b[0m\u001b[0;34m\u001b[0m\u001b[0m\n\u001b[0m\u001b[1;32m    167\u001b[0m                 \u001b[0;31m#print(voti_giornata['Cod.'][k])\u001b[0m\u001b[0;34m\u001b[0m\u001b[0;34m\u001b[0m\u001b[0;34m\u001b[0m\u001b[0m\n\u001b[1;32m    168\u001b[0m                 \u001b[0mtemp_votes\u001b[0m\u001b[0;34m[\u001b[0m\u001b[0mj\u001b[0m\u001b[0;34m]\u001b[0m\u001b[0;34m=\u001b[0m\u001b[0mvoti_giornata\u001b[0m\u001b[0;34m[\u001b[0m\u001b[0;34m'Voto'\u001b[0m\u001b[0;34m]\u001b[0m\u001b[0;34m[\u001b[0m\u001b[0mk\u001b[0m\u001b[0;34m]\u001b[0m\u001b[0;34m\u001b[0m\u001b[0;34m\u001b[0m\u001b[0m\n",
      "\u001b[0;32m~/opt/anaconda3/lib/python3.7/site-packages/pandas/core/series.py\u001b[0m in \u001b[0;36m__getitem__\u001b[0;34m(self, key)\u001b[0m\n\u001b[1;32m    869\u001b[0m         \u001b[0mkey\u001b[0m \u001b[0;34m=\u001b[0m \u001b[0mcom\u001b[0m\u001b[0;34m.\u001b[0m\u001b[0mapply_if_callable\u001b[0m\u001b[0;34m(\u001b[0m\u001b[0mkey\u001b[0m\u001b[0;34m,\u001b[0m \u001b[0mself\u001b[0m\u001b[0;34m)\u001b[0m\u001b[0;34m\u001b[0m\u001b[0;34m\u001b[0m\u001b[0m\n\u001b[1;32m    870\u001b[0m         \u001b[0;32mtry\u001b[0m\u001b[0;34m:\u001b[0m\u001b[0;34m\u001b[0m\u001b[0;34m\u001b[0m\u001b[0m\n\u001b[0;32m--> 871\u001b[0;31m             \u001b[0mresult\u001b[0m \u001b[0;34m=\u001b[0m \u001b[0mself\u001b[0m\u001b[0;34m.\u001b[0m\u001b[0mindex\u001b[0m\u001b[0;34m.\u001b[0m\u001b[0mget_value\u001b[0m\u001b[0;34m(\u001b[0m\u001b[0mself\u001b[0m\u001b[0;34m,\u001b[0m \u001b[0mkey\u001b[0m\u001b[0;34m)\u001b[0m\u001b[0;34m\u001b[0m\u001b[0;34m\u001b[0m\u001b[0m\n\u001b[0m\u001b[1;32m    872\u001b[0m \u001b[0;34m\u001b[0m\u001b[0m\n\u001b[1;32m    873\u001b[0m             \u001b[0;32mif\u001b[0m \u001b[0;32mnot\u001b[0m \u001b[0mis_scalar\u001b[0m\u001b[0;34m(\u001b[0m\u001b[0mresult\u001b[0m\u001b[0;34m)\u001b[0m\u001b[0;34m:\u001b[0m\u001b[0;34m\u001b[0m\u001b[0;34m\u001b[0m\u001b[0m\n",
      "\u001b[0;31mKeyboardInterrupt\u001b[0m: "
     ]
    }
   ],
   "source": [
    "rose_best, classifica_best, classifica_q_best = main_model(N_campionati, struttura_rosa, team_names, teams, quotazioni, path_voti, N_squadre, valori_modificatore, fasce_modificatore, fasce_goal, formazioni)\n"
   ]
  },
  {
   "cell_type": "code",
   "execution_count": null,
   "metadata": {},
   "outputs": [],
   "source": [
    "classifica_q_best"
   ]
  },
  {
   "cell_type": "code",
   "execution_count": null,
   "metadata": {},
   "outputs": [],
   "source": [
    "rose_best"
   ]
  },
  {
   "cell_type": "code",
   "execution_count": null,
   "metadata": {},
   "outputs": [],
   "source": []
  }
 ],
 "metadata": {
  "kernelspec": {
   "display_name": "Python 3",
   "language": "python",
   "name": "python3"
  },
  "language_info": {
   "codemirror_mode": {
    "name": "ipython",
    "version": 3
   },
   "file_extension": ".py",
   "mimetype": "text/x-python",
   "name": "python",
   "nbconvert_exporter": "python",
   "pygments_lexer": "ipython3",
   "version": "3.7.6"
  }
 },
 "nbformat": 4,
 "nbformat_minor": 4
}
