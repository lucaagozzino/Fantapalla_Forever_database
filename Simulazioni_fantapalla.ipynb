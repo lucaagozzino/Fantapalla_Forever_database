{
 "cells": [
  {
   "cell_type": "code",
   "execution_count": 5,
   "metadata": {},
   "outputs": [],
   "source": [
    "#test github 2\n",
    "import numpy as np\n",
    "import pandas as pd\n",
    "from Utilities_fantapalla import main_model, names, styling_rows, ruoli, FC_colors"
   ]
  },
  {
   "cell_type": "code",
   "execution_count": 6,
   "metadata": {},
   "outputs": [],
   "source": [
    "quotazioni = pd.read_csv ('Quotazioni_Fantacalcio.csv')\n",
    "# il file quotazioni contiene la lista dei giocatori direttamente da fantacalcio.it, che non ha i dati (in .gitignore)\n",
    "# perfettamente aggiornati alcuni giocatori sono gia' fuori (tipo higuahin) o infortunati (tipo zaniolo), \n",
    "# quindi dobbiamo rimuovere a mano quelli che non ci interessano \n",
    "path_voti = 'Voti_giornate/'\n",
    "rows_to_skip=[0,1,2,3,4]\n",
    "# i voti sono quelli delle 38 giornate del campionato 2019/2020"
   ]
  },
  {
   "cell_type": "code",
   "execution_count": 7,
   "metadata": {},
   "outputs": [],
   "source": [
    "# struttura della rosa [por, dif, cen, att]\n",
    "struttura_rosa = np.array([3, 8, 8, 6])\n",
    "\n",
    "# quali formazioni sono permesse\n",
    "formazioni = {\n",
    "    '352': [1, 3, 5, 2],\n",
    "    '343': [1, 3, 4, 3],\n",
    "    '442': [1, 4, 4, 2],\n",
    "    '541': [1, 5, 4, 1],\n",
    "    '532': [1, 5, 3, 2],\n",
    "    '433': [1, 4, 3, 3]\n",
    "    #aggiungere tutte le altre formazioni\n",
    "}\n",
    "fasce_goal = np.array([66,  70,  84,  88,  92,  96, 100])\n",
    "fasce_modificatore = np.array([6. , 6.5, 7. , 7.5, 8. ])\n",
    "valori_modificatore = np.array([1, 3, 5, 6, 8])\n",
    "\n",
    "N_squadre = 8\n",
    "\n",
    "# quanti campionati simulare\n",
    "N_campionati = 100\n",
    "\n",
    "[teams, team_names] = names(N_squadre) # output ridondanti ma mi seccavo modificare il resto\n",
    "roles =  ruoli(struttura_rosa)"
   ]
  },
  {
   "cell_type": "code",
   "execution_count": null,
   "metadata": {},
   "outputs": [
    {
     "name": "stderr",
     "output_type": "stream",
     "text": [
      " 44% (44 of 100) |##########             | Elapsed Time: 0:14:26 ETA:   0:18:11"
     ]
    }
   ],
   "source": [
    "rose_best, classifica_best, classifica_q_best = main_model(N_campionati, struttura_rosa, team_names, teams, quotazioni, path_voti, N_squadre, valori_modificatore, fasce_modificatore, fasce_goal, formazioni)\n"
   ]
  },
  {
   "cell_type": "code",
   "execution_count": null,
   "metadata": {},
   "outputs": [],
   "source": [
    "classifica_q_best"
   ]
  },
  {
   "cell_type": "code",
   "execution_count": null,
   "metadata": {},
   "outputs": [],
   "source": [
    "rose_best"
   ]
  },
  {
   "cell_type": "code",
   "execution_count": 4,
   "metadata": {},
   "outputs": [],
   "source": [
    "#rose_best.to_pickle('rose_best.pkl')\n",
    "rose_best_pickle = pd.read_pickle('rose_best.pkl')"
   ]
  },
  {
   "cell_type": "code",
   "execution_count": null,
   "metadata": {},
   "outputs": [],
   "source": [
    "FC_colors(rose_best, struttura_rosa)"
   ]
  },
  {
   "cell_type": "code",
   "execution_count": null,
   "metadata": {},
   "outputs": [],
   "source": []
  }
 ],
 "metadata": {
  "kernelspec": {
   "display_name": "Python 3",
   "language": "python",
   "name": "python3"
  },
  "language_info": {
   "codemirror_mode": {
    "name": "ipython",
    "version": 3
   },
   "file_extension": ".py",
   "mimetype": "text/x-python",
   "name": "python",
   "nbconvert_exporter": "python",
   "pygments_lexer": "ipython3",
   "version": "3.7.6"
  }
 },
 "nbformat": 4,
 "nbformat_minor": 4
}
