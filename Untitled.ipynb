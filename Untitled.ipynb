{
 "cells": [
  {
   "cell_type": "code",
   "execution_count": 3,
   "metadata": {},
   "outputs": [],
   "source": [
    "import numpy as np\n",
    "import pandas as pd"
   ]
  },
  {
   "cell_type": "code",
   "execution_count": 23,
   "metadata": {},
   "outputs": [
    {
     "data": {
      "text/html": [
       "<style  type=\"text/css\" >\n",
       "    #T_aec78e52_f751_11ea_aa43_acde48001122row3_col2 {\n",
       "            background-color:  red;\n",
       "             color:  violet;\n",
       "        }</style><table id=\"T_aec78e52_f751_11ea_aa43_acde48001122\" ><thead>    <tr>        <th class=\"blank level0\" ></th>        <th class=\"col_heading level0 col0\" >A</th>        <th class=\"col_heading level0 col1\" >B</th>        <th class=\"col_heading level0 col2\" >C</th>    </tr></thead><tbody>\n",
       "                <tr>\n",
       "                        <th id=\"T_aec78e52_f751_11ea_aa43_acde48001122level0_row0\" class=\"row_heading level0 row0\" >0</th>\n",
       "                        <td id=\"T_aec78e52_f751_11ea_aa43_acde48001122row0_col0\" class=\"data row0 col0\" >1</td>\n",
       "                        <td id=\"T_aec78e52_f751_11ea_aa43_acde48001122row0_col1\" class=\"data row0 col1\" >11</td>\n",
       "                        <td id=\"T_aec78e52_f751_11ea_aa43_acde48001122row0_col2\" class=\"data row0 col2\" >111</td>\n",
       "            </tr>\n",
       "            <tr>\n",
       "                        <th id=\"T_aec78e52_f751_11ea_aa43_acde48001122level0_row1\" class=\"row_heading level0 row1\" >1</th>\n",
       "                        <td id=\"T_aec78e52_f751_11ea_aa43_acde48001122row1_col0\" class=\"data row1 col0\" >2</td>\n",
       "                        <td id=\"T_aec78e52_f751_11ea_aa43_acde48001122row1_col1\" class=\"data row1 col1\" >22</td>\n",
       "                        <td id=\"T_aec78e52_f751_11ea_aa43_acde48001122row1_col2\" class=\"data row1 col2\" >222</td>\n",
       "            </tr>\n",
       "            <tr>\n",
       "                        <th id=\"T_aec78e52_f751_11ea_aa43_acde48001122level0_row2\" class=\"row_heading level0 row2\" >2</th>\n",
       "                        <td id=\"T_aec78e52_f751_11ea_aa43_acde48001122row2_col0\" class=\"data row2 col0\" >3</td>\n",
       "                        <td id=\"T_aec78e52_f751_11ea_aa43_acde48001122row2_col1\" class=\"data row2 col1\" >33</td>\n",
       "                        <td id=\"T_aec78e52_f751_11ea_aa43_acde48001122row2_col2\" class=\"data row2 col2\" >333</td>\n",
       "            </tr>\n",
       "            <tr>\n",
       "                        <th id=\"T_aec78e52_f751_11ea_aa43_acde48001122level0_row3\" class=\"row_heading level0 row3\" >3</th>\n",
       "                        <td id=\"T_aec78e52_f751_11ea_aa43_acde48001122row3_col0\" class=\"data row3 col0\" >4</td>\n",
       "                        <td id=\"T_aec78e52_f751_11ea_aa43_acde48001122row3_col1\" class=\"data row3 col1\" >44</td>\n",
       "                        <td id=\"T_aec78e52_f751_11ea_aa43_acde48001122row3_col2\" class=\"data row3 col2\" >444</td>\n",
       "            </tr>\n",
       "            <tr>\n",
       "                        <th id=\"T_aec78e52_f751_11ea_aa43_acde48001122level0_row4\" class=\"row_heading level0 row4\" >4</th>\n",
       "                        <td id=\"T_aec78e52_f751_11ea_aa43_acde48001122row4_col0\" class=\"data row4 col0\" >5</td>\n",
       "                        <td id=\"T_aec78e52_f751_11ea_aa43_acde48001122row4_col1\" class=\"data row4 col1\" >55</td>\n",
       "                        <td id=\"T_aec78e52_f751_11ea_aa43_acde48001122row4_col2\" class=\"data row4 col2\" >555</td>\n",
       "            </tr>\n",
       "    </tbody></table>"
      ],
      "text/plain": [
       "<pandas.io.formats.style.Styler at 0x7fcd9b50cc10>"
      ]
     },
     "execution_count": 23,
     "metadata": {},
     "output_type": "execute_result"
    }
   ],
   "source": [
    "#Importing libraries\n",
    "import pandas as pd\n",
    "df = pd.DataFrame({'A':[1,2,3,4,5],      # Sample dataframe for testing purpose\n",
    "    'B':[11,22,33,44,55],\n",
    "    'C':[111,222,333,444,555]\n",
    "})\n",
    "df.head()\n",
    "# We want to color cell at <3,2>. Coloring the background red, and text color Violet\n",
    "# Custom function to color the desired cell\n",
    "def styling_specific_cell(x,row_idx,col_idx):\n",
    "    color = 'background-color: red; color: violet'\n",
    "    df_styler = pd.DataFrame('', index=x.index, columns=x.columns)\n",
    "    df_styler.iloc[row_idx, col_idx] = color\n",
    "    return df_styler\n",
    "idx_r = 3   # Row index of cell to color\n",
    "idx_c = 2   # Column index of cell to color \n",
    "# Pass the row and column index as kwargs\n",
    "df.style.apply(styling_specific_cell, row_idx = idx_r, col_idx = idx_c, axis = None)  # Axis set to None to work on entire dataframe"
   ]
  },
  {
   "cell_type": "code",
   "execution_count": 47,
   "metadata": {},
   "outputs": [],
   "source": [
    "def styling_specific_cell(x,row_idx,row_idx2, col_idx):\n",
    "    color = 'background-color: red; color: violet'\n",
    "    color2 = 'background-color: blue; color: violet'\n",
    "    df_styler = pd.DataFrame('', index=x.index, columns=x.columns)\n",
    "    df_styler.iloc[row_idx, col_idx] = color\n",
    "    df_styler.iloc[row_idx2, col_idx] = color2\n",
    "    return df_styler"
   ]
  },
  {
   "cell_type": "code",
   "execution_count": null,
   "metadata": {},
   "outputs": [],
   "source": [
    "def styling_specific_cell(x, row_idx, row_idx2):\n",
    "    color = 'background-color: red; color: violet'\n",
    "    color2 = 'background-color: blue; color: violet'\n",
    "    df_styler = pd.DataFrame('', index=x.index, columns=x.columns)\n",
    "    df_styler.iloc[row_idx, col_idx] = color\n",
    "    df_styler.iloc[row_idx2, col_idx] = color2\n",
    "    return df_styler"
   ]
  },
  {
   "cell_type": "code",
   "execution_count": 48,
   "metadata": {},
   "outputs": [
    {
     "data": {
      "text/html": [
       "<style  type=\"text/css\" >\n",
       "    #T_dd99ec7e_f752_11ea_aa43_acde48001122row3_col0 {\n",
       "            background-color:  red;\n",
       "             color:  violet;\n",
       "        }    #T_dd99ec7e_f752_11ea_aa43_acde48001122row3_col1 {\n",
       "            background-color:  red;\n",
       "             color:  violet;\n",
       "        }    #T_dd99ec7e_f752_11ea_aa43_acde48001122row3_col2 {\n",
       "            background-color:  red;\n",
       "             color:  violet;\n",
       "        }    #T_dd99ec7e_f752_11ea_aa43_acde48001122row4_col0 {\n",
       "            background-color:  blue;\n",
       "             color:  violet;\n",
       "        }    #T_dd99ec7e_f752_11ea_aa43_acde48001122row4_col1 {\n",
       "            background-color:  blue;\n",
       "             color:  violet;\n",
       "        }    #T_dd99ec7e_f752_11ea_aa43_acde48001122row4_col2 {\n",
       "            background-color:  blue;\n",
       "             color:  violet;\n",
       "        }</style><table id=\"T_dd99ec7e_f752_11ea_aa43_acde48001122\" ><thead>    <tr>        <th class=\"blank level0\" ></th>        <th class=\"col_heading level0 col0\" >A</th>        <th class=\"col_heading level0 col1\" >B</th>        <th class=\"col_heading level0 col2\" >C</th>    </tr></thead><tbody>\n",
       "                <tr>\n",
       "                        <th id=\"T_dd99ec7e_f752_11ea_aa43_acde48001122level0_row0\" class=\"row_heading level0 row0\" >0</th>\n",
       "                        <td id=\"T_dd99ec7e_f752_11ea_aa43_acde48001122row0_col0\" class=\"data row0 col0\" >1</td>\n",
       "                        <td id=\"T_dd99ec7e_f752_11ea_aa43_acde48001122row0_col1\" class=\"data row0 col1\" >11</td>\n",
       "                        <td id=\"T_dd99ec7e_f752_11ea_aa43_acde48001122row0_col2\" class=\"data row0 col2\" >111</td>\n",
       "            </tr>\n",
       "            <tr>\n",
       "                        <th id=\"T_dd99ec7e_f752_11ea_aa43_acde48001122level0_row1\" class=\"row_heading level0 row1\" >1</th>\n",
       "                        <td id=\"T_dd99ec7e_f752_11ea_aa43_acde48001122row1_col0\" class=\"data row1 col0\" >2</td>\n",
       "                        <td id=\"T_dd99ec7e_f752_11ea_aa43_acde48001122row1_col1\" class=\"data row1 col1\" >22</td>\n",
       "                        <td id=\"T_dd99ec7e_f752_11ea_aa43_acde48001122row1_col2\" class=\"data row1 col2\" >222</td>\n",
       "            </tr>\n",
       "            <tr>\n",
       "                        <th id=\"T_dd99ec7e_f752_11ea_aa43_acde48001122level0_row2\" class=\"row_heading level0 row2\" >2</th>\n",
       "                        <td id=\"T_dd99ec7e_f752_11ea_aa43_acde48001122row2_col0\" class=\"data row2 col0\" >3</td>\n",
       "                        <td id=\"T_dd99ec7e_f752_11ea_aa43_acde48001122row2_col1\" class=\"data row2 col1\" >33</td>\n",
       "                        <td id=\"T_dd99ec7e_f752_11ea_aa43_acde48001122row2_col2\" class=\"data row2 col2\" >333</td>\n",
       "            </tr>\n",
       "            <tr>\n",
       "                        <th id=\"T_dd99ec7e_f752_11ea_aa43_acde48001122level0_row3\" class=\"row_heading level0 row3\" >3</th>\n",
       "                        <td id=\"T_dd99ec7e_f752_11ea_aa43_acde48001122row3_col0\" class=\"data row3 col0\" >4</td>\n",
       "                        <td id=\"T_dd99ec7e_f752_11ea_aa43_acde48001122row3_col1\" class=\"data row3 col1\" >44</td>\n",
       "                        <td id=\"T_dd99ec7e_f752_11ea_aa43_acde48001122row3_col2\" class=\"data row3 col2\" >444</td>\n",
       "            </tr>\n",
       "            <tr>\n",
       "                        <th id=\"T_dd99ec7e_f752_11ea_aa43_acde48001122level0_row4\" class=\"row_heading level0 row4\" >4</th>\n",
       "                        <td id=\"T_dd99ec7e_f752_11ea_aa43_acde48001122row4_col0\" class=\"data row4 col0\" >5</td>\n",
       "                        <td id=\"T_dd99ec7e_f752_11ea_aa43_acde48001122row4_col1\" class=\"data row4 col1\" >55</td>\n",
       "                        <td id=\"T_dd99ec7e_f752_11ea_aa43_acde48001122row4_col2\" class=\"data row4 col2\" >555</td>\n",
       "            </tr>\n",
       "    </tbody></table>"
      ],
      "text/plain": [
       "<pandas.io.formats.style.Styler at 0x7fcd9ba3a250>"
      ]
     },
     "execution_count": 48,
     "metadata": {},
     "output_type": "execute_result"
    }
   ],
   "source": [
    "df.style.apply(styling_specific_cell, row_idx = idx_r, row_idx2 = idx_r+1, col_idx = range(3), axis = None)  # Axis set to None to work on entire dataframe"
   ]
  },
  {
   "cell_type": "code",
   "execution_count": 44,
   "metadata": {},
   "outputs": [
    {
     "data": {
      "text/html": [
       "<div>\n",
       "<style scoped>\n",
       "    .dataframe tbody tr th:only-of-type {\n",
       "        vertical-align: middle;\n",
       "    }\n",
       "\n",
       "    .dataframe tbody tr th {\n",
       "        vertical-align: top;\n",
       "    }\n",
       "\n",
       "    .dataframe thead th {\n",
       "        text-align: right;\n",
       "    }\n",
       "</style>\n",
       "<table border=\"1\" class=\"dataframe\">\n",
       "  <thead>\n",
       "    <tr style=\"text-align: right;\">\n",
       "      <th></th>\n",
       "      <th>A</th>\n",
       "      <th>B</th>\n",
       "      <th>C</th>\n",
       "    </tr>\n",
       "  </thead>\n",
       "  <tbody>\n",
       "    <tr>\n",
       "      <th>0</th>\n",
       "      <td>1</td>\n",
       "      <td>11</td>\n",
       "      <td>111</td>\n",
       "    </tr>\n",
       "    <tr>\n",
       "      <th>1</th>\n",
       "      <td>2</td>\n",
       "      <td>22</td>\n",
       "      <td>222</td>\n",
       "    </tr>\n",
       "    <tr>\n",
       "      <th>2</th>\n",
       "      <td>3</td>\n",
       "      <td>33</td>\n",
       "      <td>333</td>\n",
       "    </tr>\n",
       "    <tr>\n",
       "      <th>3</th>\n",
       "      <td>4</td>\n",
       "      <td>44</td>\n",
       "      <td>444</td>\n",
       "    </tr>\n",
       "    <tr>\n",
       "      <th>4</th>\n",
       "      <td>5</td>\n",
       "      <td>55</td>\n",
       "      <td>555</td>\n",
       "    </tr>\n",
       "  </tbody>\n",
       "</table>\n",
       "</div>"
      ],
      "text/plain": [
       "   A   B    C\n",
       "0  1  11  111\n",
       "1  2  22  222\n",
       "2  3  33  333\n",
       "3  4  44  444\n",
       "4  5  55  555"
      ]
     },
     "execution_count": 44,
     "metadata": {},
     "output_type": "execute_result"
    }
   ],
   "source": [
    "df"
   ]
  },
  {
   "cell_type": "code",
   "execution_count": null,
   "metadata": {},
   "outputs": [],
   "source": []
  }
 ],
 "metadata": {
  "kernelspec": {
   "display_name": "Python 3",
   "language": "python",
   "name": "python3"
  },
  "language_info": {
   "codemirror_mode": {
    "name": "ipython",
    "version": 3
   },
   "file_extension": ".py",
   "mimetype": "text/x-python",
   "name": "python",
   "nbconvert_exporter": "python",
   "pygments_lexer": "ipython3",
   "version": "3.7.6"
  }
 },
 "nbformat": 4,
 "nbformat_minor": 4
}
